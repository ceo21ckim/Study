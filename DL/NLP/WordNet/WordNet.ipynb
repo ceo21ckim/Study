{
 "cells": [
  {
   "cell_type": "code",
   "execution_count": 101,
   "source": [
    "from nltk.corpus import wordnet as wn\r\n",
    "\r\n",
    "def hypernyms(word):\r\n",
    "    current_node = wn.synsets(word)[0]\r\n",
    "    yield current_node \r\n",
    "\r\n",
    "    while True:\r\n",
    "        try:\r\n",
    "            current_node = current_node.hypernyms(word)[0]\r\n",
    "            yield current_node \r\n",
    "        except IndexError:\r\n",
    "            break"
   ],
   "outputs": [],
   "metadata": {}
  }
 ],
 "metadata": {
  "orig_nbformat": 4,
  "language_info": {
   "name": "python",
   "version": "3.8.5",
   "mimetype": "text/x-python",
   "codemirror_mode": {
    "name": "ipython",
    "version": 3
   },
   "pygments_lexer": "ipython3",
   "nbconvert_exporter": "python",
   "file_extension": ".py"
  },
  "kernelspec": {
   "name": "python3",
   "display_name": "Python 3.8.5 64-bit ('base': conda)"
  },
  "interpreter": {
   "hash": "96cf18f209edf6220e7043c3825950920f4c7ad96ff42ffae85e8b73f5a9541f"
  }
 },
 "nbformat": 4,
 "nbformat_minor": 2
}