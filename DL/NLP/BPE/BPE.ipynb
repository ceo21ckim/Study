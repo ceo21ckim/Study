{
 "cells": [
  {
   "cell_type": "code",
   "execution_count": 1,
   "source": [
    "import re, collections"
   ],
   "outputs": [],
   "metadata": {}
  },
  {
   "cell_type": "code",
   "execution_count": 3,
   "source": [
    "def get_stats(vocab):\r\n",
    "    pairs = collections.defaultdict(int)\r\n",
    "    for word, freq in vocab.items():\r\n",
    "        symbols = word.split()\r\n",
    "        for i in range(len(symbols) -1):\r\n",
    "            pairs[symbols[i], symbols[i+1]] += freq\r\n",
    "    return pairs \r\n",
    "\r\n",
    "def merge_vocab(pair, v_in):\r\n",
    "    v_out = {}\r\n",
    "    bigram = re.escape(' '.join(pair))\r\n",
    "    p = re.compile(r'(?<!\\S)' + bigram + r'(?!\\S)')\r\n",
    "    for word in v_in:\r\n",
    "        w_out = p.sub(''.join(pair), word)\r\n",
    "        v_out[w_out] = v_in[word]\r\n",
    "    return v_out\r\n",
    "\r\n",
    "vocab = {'l o w </w>' : 5, 'l o w e r </w>' : 2, 'n e w e s t </w>' : 6, 'w i d e s t </w>' : 3}\r\n",
    "\r\n",
    "num_merges = 10\r\n",
    "\r\n",
    "for i in range(num_merges):\r\n",
    "    pairs = get_stats(vocab)\r\n",
    "    best = max(pairs, key = pairs.get)\r\n",
    "    vocab = merge_vocab(best, vocab)\r\n",
    "    print(best)"
   ],
   "outputs": [
    {
     "output_type": "stream",
     "name": "stdout",
     "text": [
      "('e', 's')\n",
      "('es', 't')\n",
      "('est', '</w>')\n",
      "('l', 'o')\n",
      "('lo', 'w')\n",
      "('n', 'e')\n",
      "('ne', 'w')\n",
      "('new', 'est</w>')\n",
      "('low', '</w>')\n",
      "('w', 'i')\n"
     ]
    }
   ],
   "metadata": {}
  },
  {
   "cell_type": "code",
   "execution_count": null,
   "source": [],
   "outputs": [],
   "metadata": {}
  }
 ],
 "metadata": {
  "orig_nbformat": 4,
  "language_info": {
   "name": "python",
   "version": "3.7.11",
   "mimetype": "text/x-python",
   "codemirror_mode": {
    "name": "ipython",
    "version": 3
   },
   "pygments_lexer": "ipython3",
   "nbconvert_exporter": "python",
   "file_extension": ".py"
  },
  "kernelspec": {
   "name": "python3",
   "display_name": "Python 3.7.11 64-bit ('default': conda)"
  },
  "interpreter": {
   "hash": "c241ec60e7167152c8218504a6393589de3a2bb3e6995b097bc5c55e5bb99b8c"
  }
 },
 "nbformat": 4,
 "nbformat_minor": 2
}