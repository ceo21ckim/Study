{
 "cells": [
  {
   "cell_type": "code",
   "execution_count": null,
   "source": [
    "!pip install gensim # word2vec "
   ],
   "outputs": [],
   "metadata": {}
  },
  {
   "cell_type": "code",
   "execution_count": null,
   "source": [
    "!pip install konlpy # korea nlp"
   ],
   "outputs": [],
   "metadata": {}
  },
  {
   "cell_type": "code",
   "execution_count": null,
   "source": [
    "!pip install nltk # nlp module "
   ],
   "outputs": [],
   "metadata": {}
  },
  {
   "cell_type": "code",
   "execution_count": null,
   "source": [
    "import pandas as pd\r\n",
    "from konlpy.tag import Okt\r\n",
    "import wordcloud # wordcloud graph\r\n",
    "from wordcloud import WordCloud\r\n",
    "from gensim.models import Word2Vec\r\n",
    "import os, sys, re # re : regex"
   ],
   "outputs": [],
   "metadata": {}
  },
  {
   "cell_type": "code",
   "execution_count": null,
   "source": [
    "# setting path \r\n",
    "os.chdir('data path') # "
   ],
   "outputs": [],
   "metadata": {}
  },
  {
   "cell_type": "code",
   "execution_count": null,
   "source": [
    "# if data type is xlsx or xls , use pd.read_excel\r\n",
    "df = pd.read_csv('data.csv') # csv defualt encoding : utf-8, if error, use encoding = 'cp949'"
   ],
   "outputs": [],
   "metadata": {}
  },
  {
   "cell_type": "code",
   "execution_count": null,
   "source": [
    "# use regex \r\n",
    "# transform df \r\n",
    "# must be list\r\n",
    "\r\n",
    "# 1 if list\r\n",
    "result = []\r\n",
    "for i in range(len(li)):\r\n",
    "    result.append(re.sub('[^가-힣0-9]+', ' ', i))\r\n",
    "\r\n",
    "# 2 if df\r\n",
    "df = df.iloc[:,0].apply(lambda x: re.sub('[^가-힣0-9]+', ' ', x)) \r\n"
   ],
   "outputs": [],
   "metadata": {}
  },
  {
   "cell_type": "code",
   "execution_count": null,
   "source": [
    "# tokenize\r\n",
    "\r\n",
    "okt = Okt()\r\n",
    "\r\n",
    "sol = []\r\n",
    "for idx in result:\r\n",
    "    sol.append(okt.nouns(idx))"
   ],
   "outputs": [],
   "metadata": {}
  },
  {
   "cell_type": "code",
   "execution_count": null,
   "source": [
    "result_df = pd.DataFrame()\r\n",
    "result_df['tokens'] = sol "
   ],
   "outputs": [],
   "metadata": {}
  },
  {
   "cell_type": "code",
   "execution_count": null,
   "source": [
    "# hyperparameter are [window, size, min_count, iter]\r\n",
    "# window : 3 ~ 5\r\n",
    "# size : 150 ~ 300 / step : 50\r\n",
    "# iter = 200 300 / step : 50\r\n",
    "# min_count : 5\r\n",
    "# sg : 1 / if sg = 0 , CBOW / if sg = 1 , Skip-gram \r\n",
    "\r\n",
    "gen_model = Word2Vec(df['tokens'], window = 3, size = 200, min_count = 5, sg = 1, iter = 200)\r\n"
   ],
   "outputs": [],
   "metadata": {}
  },
  {
   "cell_type": "code",
   "execution_count": null,
   "source": [
    "# token : '택시', '버스', etc..\r\n",
    "df = gen.wv.most_similar(token, topn=30)\r\n"
   ],
   "outputs": [],
   "metadata": {}
  },
  {
   "cell_type": "code",
   "execution_count": null,
   "source": [
    "result = pd.DataFrame(df, columns = ['tokens', 'similar(%)']).reset_index(drop=True)\r\n",
    "result['similar(%)'] = result['similar(%)'].apply( lambda x: str(round(x*100, 2)) + '%')"
   ],
   "outputs": [],
   "metadata": {}
  }
 ],
 "metadata": {
  "orig_nbformat": 4,
  "language_info": {
   "name": "python"
  }
 },
 "nbformat": 4,
 "nbformat_minor": 2
}