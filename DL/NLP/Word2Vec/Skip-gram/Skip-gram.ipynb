{
 "cells": [
  {
   "cell_type": "code",
   "execution_count": 1,
   "source": [
    "import numpy as np "
   ],
   "outputs": [],
   "metadata": {}
  },
  {
   "cell_type": "code",
   "execution_count": 2,
   "source": [
    "input = np.array([[0, 1, 0, 0, 0, 0, 0]])\r\n",
    "\r\n",
    "output1 = np.array([[1, 0, 0, 0, 0, 0, 0]])\r\n",
    "output2 = np.array([[0, 0, 1, 0, 0, 0, 0]])\r\n"
   ],
   "outputs": [],
   "metadata": {}
  },
  {
   "cell_type": "code",
   "execution_count": 3,
   "source": [
    "w_input = np.random.randn(7, 3)\r\n",
    "h = np.matmul(input, w_input)"
   ],
   "outputs": [],
   "metadata": {}
  },
  {
   "cell_type": "code",
   "execution_count": 4,
   "source": [
    "print(h) # value of hidden layer"
   ],
   "outputs": [
    {
     "output_type": "stream",
     "name": "stdout",
     "text": [
      "[[0.12217734 0.5332095  0.81489867]]\n"
     ]
    }
   ],
   "metadata": {}
  },
  {
   "cell_type": "code",
   "execution_count": 5,
   "source": [
    "w_output = np.random.randn(3, 7)\r\n",
    "score = np.matmul(h, w_output)\r\n",
    "print( np.round(score, 4) )"
   ],
   "outputs": [
    {
     "output_type": "stream",
     "name": "stdout",
     "text": [
      "[[-0.8468  0.9658 -0.8381 -1.2009  0.401  -0.0254 -0.4979]]\n"
     ]
    }
   ],
   "metadata": {}
  },
  {
   "cell_type": "code",
   "execution_count": 6,
   "source": [
    "def softmax(x):\r\n",
    "    exp_x = np.exp(x)\r\n",
    "    sum_exp_x = np.sum(exp_x)\r\n",
    "    y = exp_x / sum_exp_x\r\n",
    "    return y \r\n",
    "\r\n",
    "def cross_entropy(y, t):\r\n",
    "    \"\"\"\r\n",
    "    y : prediction\r\n",
    "    t : target\r\n",
    "    \"\"\"\r\n",
    "    delta = 1e-7\r\n",
    "    return -np.sum(t * np.log(y + delta )) / y.shape[0]"
   ],
   "outputs": [],
   "metadata": {}
  },
  {
   "cell_type": "code",
   "execution_count": 7,
   "source": [
    "pred = softmax(score)\r\n",
    "print(np.round(pred, 4))"
   ],
   "outputs": [
    {
     "output_type": "stream",
     "name": "stdout",
     "text": [
      "[[0.0625 0.3826 0.063  0.0438 0.2175 0.142  0.0885]]\n"
     ]
    }
   ],
   "metadata": {}
  },
  {
   "cell_type": "code",
   "execution_count": 10,
   "source": [
    "# backpropagation \r\n",
    "ds1 = np.round(pred - output1, 4)\r\n",
    "ds2 = np.round(pred - output2, 4)\r\n",
    "ds = ds1 + ds2 \r\n",
    "print(ds)"
   ],
   "outputs": [
    {
     "output_type": "stream",
     "name": "stdout",
     "text": [
      "[[-0.875   0.7652 -0.874   0.0876  0.435   0.284   0.177 ]]\n"
     ]
    }
   ],
   "metadata": {}
  },
  {
   "cell_type": "code",
   "execution_count": 11,
   "source": [
    "da = np.dot(ds, w_output.T)\r\n",
    "print(np.round(da, 4))\r\n"
   ],
   "outputs": [
    {
     "output_type": "stream",
     "name": "stdout",
     "text": [
      "[[1.1303 2.6296 0.7928]]\n"
     ]
    }
   ],
   "metadata": {}
  },
  {
   "cell_type": "code",
   "execution_count": 12,
   "source": [
    "dw_input = np.outer(np.array([[0, 1, 0, 0, 0, 0, 0]]), da)\r\n",
    "print(np.round(dw_input, 4))"
   ],
   "outputs": [
    {
     "output_type": "stream",
     "name": "stdout",
     "text": [
      "[[0.     0.     0.    ]\n",
      " [1.1303 2.6296 0.7928]\n",
      " [0.     0.     0.    ]\n",
      " [0.     0.     0.    ]\n",
      " [0.     0.     0.    ]\n",
      " [0.     0.     0.    ]\n",
      " [0.     0.     0.    ]]\n"
     ]
    }
   ],
   "metadata": {}
  },
  {
   "cell_type": "code",
   "execution_count": 14,
   "source": [
    "learning_rate = 1 \r\n",
    "w_input_new = w_input - learning_rate * dw_input \r\n",
    "print(np.round(w_input_new, 4))"
   ],
   "outputs": [
    {
     "output_type": "stream",
     "name": "stdout",
     "text": [
      "[[ 1.0013  0.2433 -0.5551]\n",
      " [-1.0081 -2.0964  0.022 ]\n",
      " [ 0.7064  0.3355 -0.6917]\n",
      " [-0.4521  1.5181  0.1448]\n",
      " [-0.9517 -0.8468 -0.4522]\n",
      " [ 0.7172 -0.9039  0.9499]\n",
      " [ 1.191   1.5772 -0.12  ]]\n"
     ]
    }
   ],
   "metadata": {}
  },
  {
   "cell_type": "code",
   "execution_count": 16,
   "source": [
    "print(np.round(w_output, 4))"
   ],
   "outputs": [
    {
     "output_type": "stream",
     "name": "stdout",
     "text": [
      "[[-0.4248 -0.347  -0.6018 -1.1278  1.6537 -0.295  -0.2185]\n",
      " [-0.768   1.4394 -0.0234 -0.6345  2.0652 -0.3388  0.5037]\n",
      " [-0.4729  0.2954 -0.9229 -0.8895 -1.1072  0.2348 -0.9079]]\n"
     ]
    }
   ],
   "metadata": {}
  },
  {
   "cell_type": "code",
   "execution_count": null,
   "source": [],
   "outputs": [],
   "metadata": {}
  }
 ],
 "metadata": {
  "orig_nbformat": 4,
  "language_info": {
   "name": "python",
   "version": "3.8.5",
   "mimetype": "text/x-python",
   "codemirror_mode": {
    "name": "ipython",
    "version": 3
   },
   "pygments_lexer": "ipython3",
   "nbconvert_exporter": "python",
   "file_extension": ".py"
  },
  "kernelspec": {
   "name": "python3",
   "display_name": "Python 3.8.5 64-bit ('base': conda)"
  },
  "interpreter": {
   "hash": "96cf18f209edf6220e7043c3825950920f4c7ad96ff42ffae85e8b73f5a9541f"
  }
 },
 "nbformat": 4,
 "nbformat_minor": 2
}