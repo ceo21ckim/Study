{
 "cells": [
  {
   "cell_type": "code",
   "execution_count": 1,
   "source": [
    "import pandas as pd \r\n",
    "import numpy as np "
   ],
   "outputs": [],
   "metadata": {}
  },
  {
   "cell_type": "code",
   "execution_count": 5,
   "source": [
    "\r\n",
    "input1 = np.array([\r\n",
    "    [1, 0, 0, 0, 0, 0, 0]\r\n",
    "])\r\n",
    "\r\n",
    "\r\n",
    "input2 = np.array([\r\n",
    "    [0, 0, 1, 0, 0, 0, 0]\r\n",
    "])"
   ],
   "outputs": [],
   "metadata": {}
  },
  {
   "cell_type": "code",
   "execution_count": 6,
   "source": [
    "w_input = np.random.randn(7, 3) # setting random weight  ( hyperparameter )"
   ],
   "outputs": [],
   "metadata": {}
  },
  {
   "cell_type": "code",
   "execution_count": 10,
   "source": [
    "# h_1, h_2 는 단어의 임베딩 값이라고 보면된다. \r\n",
    "\r\n",
    "h_1 = np.matmul(input1, w_input) # value of hidden layer \r\n",
    "h_2 = np.matmul(input2, w_input) # np.matmul == np.dot \r\n",
    "\r\n",
    "h = ( h_1 + h_2 ) / 2"
   ],
   "outputs": [],
   "metadata": {}
  },
  {
   "cell_type": "code",
   "execution_count": 11,
   "source": [
    "print( h )"
   ],
   "outputs": [
    {
     "output_type": "stream",
     "name": "stdout",
     "text": [
      "[[0.82161687 0.24429476 0.19680842]]\n"
     ]
    }
   ],
   "metadata": {}
  },
  {
   "cell_type": "code",
   "execution_count": 12,
   "source": [
    "w_output = np.random.randn(3, 7)\r\n",
    "score = np.matmul(h, w_output)\r\n",
    "print(np.round(score, 4))"
   ],
   "outputs": [
    {
     "output_type": "stream",
     "name": "stdout",
     "text": [
      "[[ 0.976   1.3657  0.2943  0.785   1.1365 -0.4577 -0.0169]]\n"
     ]
    }
   ],
   "metadata": {}
  },
  {
   "cell_type": "code",
   "execution_count": 13,
   "source": [
    "def softmax(x):\r\n",
    "    exp_x = np.exp(x)\r\n",
    "    sum_exp_x = np.sum(exp_x)\r\n",
    "    y = exp_x / sum_exp_x\r\n",
    "    return y \r\n",
    "pred = softmax(score)\r\n",
    "print(np.round(pred, 4))"
   ],
   "outputs": [
    {
     "output_type": "stream",
     "name": "stdout",
     "text": [
      "[[0.1788 0.2641 0.0905 0.1477 0.21   0.0426 0.0663]]\n"
     ]
    }
   ],
   "metadata": {}
  },
  {
   "cell_type": "code",
   "execution_count": 18,
   "source": [
    "pred.argmax()"
   ],
   "outputs": [
    {
     "output_type": "execute_result",
     "data": {
      "text/plain": [
       "1"
      ]
     },
     "metadata": {},
     "execution_count": 18
    }
   ],
   "metadata": {}
  },
  {
   "cell_type": "code",
   "execution_count": 21,
   "source": [
    "# find loss function \r\n",
    "def cross_entropy(y, t):\r\n",
    "    \"\"\"\r\n",
    "    y : prediction\r\n",
    "    t : target\r\n",
    "    \"\"\"\r\n",
    "    delta = 1e-7\r\n",
    "    return -np.sum(t * np.log(y + delta )) / y.shape[0]\r\n",
    "\r\n",
    "cross_entropy(pred, [0, 1, 0, 0, 0, 0, 0])"
   ],
   "outputs": [
    {
     "output_type": "execute_result",
     "data": {
      "text/plain": [
       "1.3314970801088066"
      ]
     },
     "metadata": {},
     "execution_count": 21
    }
   ],
   "metadata": {}
  },
  {
   "cell_type": "code",
   "execution_count": 22,
   "source": [
    "# backpropagation \r\n",
    "ans = [0, 1, 0, 0, 0, 0, 0]\r\n",
    "ds = np.round(pred - ans, 4)\r\n",
    "print(ds)"
   ],
   "outputs": [
    {
     "output_type": "stream",
     "name": "stdout",
     "text": [
      "[[ 0.1788 -0.7359  0.0905  0.1477  0.21    0.0426  0.0663]]\n"
     ]
    }
   ],
   "metadata": {}
  },
  {
   "cell_type": "code",
   "execution_count": 23,
   "source": [
    "# calculation delta for w_output\r\n",
    "dw_output = np.outer(h, ds)\r\n",
    "print(np.round(dw_output, 4))"
   ],
   "outputs": [
    {
     "output_type": "stream",
     "name": "stdout",
     "text": [
      "[[ 0.1469 -0.6046  0.0744  0.1214  0.1725  0.035   0.0545]\n",
      " [ 0.0437 -0.1798  0.0221  0.0361  0.0513  0.0104  0.0162]\n",
      " [ 0.0352 -0.1448  0.0178  0.0291  0.0413  0.0084  0.013 ]]\n"
     ]
    }
   ],
   "metadata": {}
  },
  {
   "cell_type": "code",
   "execution_count": 24,
   "source": [
    "da = np.dot(ds, w_output.T)\r\n",
    "print(np.round(da, 4))"
   ],
   "outputs": [
    {
     "output_type": "stream",
     "name": "stdout",
     "text": [
      "[[-0.3525 -1.6069  1.0787]]\n"
     ]
    }
   ],
   "metadata": {}
  },
  {
   "cell_type": "code",
   "execution_count": 27,
   "source": [
    "dw_1 = np.round(np.outer(np.array([[1, 0, 0, 0, 0, 0, 0]]), (da/2)), 4)\r\n",
    "print(dw_1)"
   ],
   "outputs": [
    {
     "output_type": "stream",
     "name": "stdout",
     "text": [
      "[[-0.1763 -0.8034  0.5393]\n",
      " [-0.     -0.      0.    ]\n",
      " [-0.     -0.      0.    ]\n",
      " [-0.     -0.      0.    ]\n",
      " [-0.     -0.      0.    ]\n",
      " [-0.     -0.      0.    ]\n",
      " [-0.     -0.      0.    ]]\n"
     ]
    }
   ],
   "metadata": {}
  },
  {
   "cell_type": "code",
   "execution_count": 28,
   "source": [
    "dw_2 = np.round(np.outer(np.array([[0, 0, 1, 0, 0, 0, 0]]), (da/2)), 4)\r\n",
    "print(dw_2)"
   ],
   "outputs": [
    {
     "output_type": "stream",
     "name": "stdout",
     "text": [
      "[[-0.     -0.      0.    ]\n",
      " [-0.     -0.      0.    ]\n",
      " [-0.1763 -0.8034  0.5393]\n",
      " [-0.     -0.      0.    ]\n",
      " [-0.     -0.      0.    ]\n",
      " [-0.     -0.      0.    ]\n",
      " [-0.     -0.      0.    ]]\n"
     ]
    }
   ],
   "metadata": {}
  },
  {
   "cell_type": "code",
   "execution_count": 29,
   "source": [
    "learning_rate = 1\r\n",
    "w_input_new = w_input - learning_rate * dw_1 \r\n",
    "w_input_new = w_input_new - learning_rate * dw_2 \r\n",
    "print(np.round(w_input_new, 4)) # adjust weight"
   ],
   "outputs": [
    {
     "output_type": "stream",
     "name": "stdout",
     "text": [
      "[[-0.2844  1.0826 -0.2635]\n",
      " [ 0.14    0.3663  0.9033]\n",
      " [ 2.2802  1.0128 -0.4215]\n",
      " [ 1.0677  1.0181 -0.6038]\n",
      " [ 1.105  -1.6156 -1.2398]\n",
      " [-2.1194  0.5039  0.127 ]\n",
      " [ 0.7149 -1.0573  0.0853]]\n"
     ]
    }
   ],
   "metadata": {}
  },
  {
   "cell_type": "code",
   "execution_count": 30,
   "source": [
    "print(np.round(w_input, 4)) # origin weight"
   ],
   "outputs": [
    {
     "output_type": "stream",
     "name": "stdout",
     "text": [
      "[[-0.4607  0.2792  0.2758]\n",
      " [ 0.14    0.3663  0.9033]\n",
      " [ 2.1039  0.2094  0.1178]\n",
      " [ 1.0677  1.0181 -0.6038]\n",
      " [ 1.105  -1.6156 -1.2398]\n",
      " [-2.1194  0.5039  0.127 ]\n",
      " [ 0.7149 -1.0573  0.0853]]\n"
     ]
    }
   ],
   "metadata": {}
  },
  {
   "cell_type": "code",
   "execution_count": null,
   "source": [],
   "outputs": [],
   "metadata": {}
  }
 ],
 "metadata": {
  "orig_nbformat": 4,
  "language_info": {
   "name": "python",
   "version": "3.8.5",
   "mimetype": "text/x-python",
   "codemirror_mode": {
    "name": "ipython",
    "version": 3
   },
   "pygments_lexer": "ipython3",
   "nbconvert_exporter": "python",
   "file_extension": ".py"
  },
  "kernelspec": {
   "name": "python3",
   "display_name": "Python 3.8.5 64-bit ('base': conda)"
  },
  "interpreter": {
   "hash": "96cf18f209edf6220e7043c3825950920f4c7ad96ff42ffae85e8b73f5a9541f"
  }
 },
 "nbformat": 4,
 "nbformat_minor": 2
}