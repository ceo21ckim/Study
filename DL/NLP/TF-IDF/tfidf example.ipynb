{
 "cells": [
  {
   "cell_type": "code",
   "execution_count": 1,
   "source": [
    "import pandas as pd"
   ],
   "outputs": [],
   "metadata": {}
  },
  {
   "cell_type": "code",
   "execution_count": 2,
   "source": [
    "# term_frequency\r\n",
    "def get_term_frequency(document, word_dict=None):\r\n",
    "    if word_dict is None:\r\n",
    "        word_dict = {}\r\n",
    "    words = document.split()\r\n",
    "\r\n",
    "    for w in words:\r\n",
    "        word_dict[w] = 1 + (0 if word_dict.get(w) is None else word_dict[w])\r\n",
    "\r\n",
    "    return pd.Series(word_dict).sort_values(ascending = False)"
   ],
   "outputs": [],
   "metadata": {}
  },
  {
   "cell_type": "code",
   "execution_count": 3,
   "source": [
    "def get_document_frequency(documents):\r\n",
    "    dicts = []\r\n",
    "    vocab = set([])\r\n",
    "    df = {}\r\n",
    "\r\n",
    "    for d in documents:\r\n",
    "        tf = get_term_frequency(document = d)\r\n",
    "        dicts += [tf]\r\n",
    "        vocab = vocab | set(tf.keys())\r\n",
    "\r\n",
    "    for v in list(vocab):\r\n",
    "        df[v] = 0\r\n",
    "        for dict_d in dicts:\r\n",
    "            if dict_d.get(v) is not None:\r\n",
    "                df[v] += 1\r\n",
    "    return pd.Series(df).sort_values(ascending = False)"
   ],
   "outputs": [],
   "metadata": {}
  },
  {
   "cell_type": "code",
   "execution_count": 4,
   "source": [
    "from operator import itemgetter\r\n",
    "import numpy as np \r\n",
    "\r\n",
    "def get_tfidf(docs):\r\n",
    "    vocab = {}\r\n",
    "    tfs = []\r\n",
    "    for d in docs:\r\n",
    "        vocab = get_term_frequency(d, vocab)\r\n",
    "        tfs += [get_term_frequency(d)]\r\n",
    "\r\n",
    "    df = get_document_frequency(docs)\r\n",
    "\r\n",
    "    stats = []\r\n",
    "    for word, freq in vocab.items():\r\n",
    "        tfidfs = []\r\n",
    "        for idx in range(len(docs)):\r\n",
    "            if tfs[idx].get(word) is not None:\r\n",
    "                tfidfs += [tfs[idx][word] * np.log(len(docs) / df[word])]\r\n",
    "            else:\r\n",
    "                tfidfs += [0]\r\n",
    "\r\n",
    "        stats.append((word, freq, *tfidfs, max(tfidfs)))\r\n",
    "    \r\n",
    "    return pd.DataFrame(stats, columns = ['word', 'freq','doc1', 'doc2', 'doc3', 'max']).sort_values('max', ascending = False)\r\n"
   ],
   "outputs": [],
   "metadata": {}
  },
  {
   "cell_type": "code",
   "execution_count": null,
   "source": [
    "# get_tfidf([doc1, doc2, doc3])"
   ],
   "outputs": [],
   "metadata": {}
  }
 ],
 "metadata": {
  "orig_nbformat": 4,
  "language_info": {
   "name": "python",
   "version": "3.8.5",
   "mimetype": "text/x-python",
   "codemirror_mode": {
    "name": "ipython",
    "version": 3
   },
   "pygments_lexer": "ipython3",
   "nbconvert_exporter": "python",
   "file_extension": ".py"
  },
  "kernelspec": {
   "name": "python3",
   "display_name": "Python 3.8.5 64-bit ('base': conda)"
  },
  "interpreter": {
   "hash": "96cf18f209edf6220e7043c3825950920f4c7ad96ff42ffae85e8b73f5a9541f"
  }
 },
 "nbformat": 4,
 "nbformat_minor": 2
}