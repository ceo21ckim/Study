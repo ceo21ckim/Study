{
 "cells": [
  {
   "cell_type": "code",
   "execution_count": 14,
   "metadata": {},
   "outputs": [],
   "source": [
    "import scipy as sp\n",
    "import numpy as np\n",
    "import matplotlib.pyplot as plt\n",
    "from scipy.optimize import minimize"
   ]
  },
  {
   "cell_type": "code",
   "execution_count": 9,
   "metadata": {},
   "outputs": [],
   "source": [
    "def function(x):\n",
    "    return x[0]**2 + x[1]**2 +1\n",
    "Init_Point = np.array([3.,1.])"
   ]
  },
  {
   "cell_type": "code",
   "execution_count": 12,
   "metadata": {},
   "outputs": [
    {
     "name": "stdout",
     "output_type": "stream",
     "text": [
      "Optimization terminated successfully.\n",
      "         Current function value: 1.000000\n",
      "         Iterations: 1\n",
      "         Function evaluations: 9\n",
      "         Gradient evaluations: 3\n",
      "     fun: 1.0000000000000009\n",
      "     jac: array([5.96046448e-08, 2.98023224e-08])\n",
      " message: 'Optimization terminated successfully.'\n",
      "    nfev: 9\n",
      "     nit: 1\n",
      "    njev: 3\n",
      "  status: 0\n",
      " success: True\n",
      "       x: array([2.74227774e-08, 9.14092579e-09])\n"
     ]
    },
    {
     "name": "stderr",
     "output_type": "stream",
     "text": [
      "<ipython-input-12-cad52b911dbb>:1: OptimizeWarning: Unknown solver options: xtol\n",
      "  Optimum = minimize(function, Init_Point, method = 'CG', options = {'xtol': 1e-8, 'disp':True})\n"
     ]
    }
   ],
   "source": [
    "Optimum = minimize(function, Init_Point, method = 'CG', options = {'xtol': 1e-8, 'disp':True})\n",
    "print(Optimum)"
   ]
  },
  {
   "cell_type": "code",
   "execution_count": 25,
   "metadata": {},
   "outputs": [
    {
     "name": "stderr",
     "output_type": "stream",
     "text": [
      "C:\\Users\\EonKim\\anaconda3\\lib\\site-packages\\matplotlib\\backends\\backend_agg.py:238: RuntimeWarning: Glyph 8722 missing from current font.\n",
      "  font.set_text(s, 0.0, flags=flags)\n",
      "C:\\Users\\EonKim\\anaconda3\\lib\\site-packages\\matplotlib\\backends\\backend_agg.py:201: RuntimeWarning: Glyph 8722 missing from current font.\n",
      "  font.set_text(s, 0, flags=flags)\n"
     ]
    },
    {
     "data": {
      "image/png": "[encoded data removed]",
      "text/plain": [
       "<Figure size 432x288 with 1 Axes>"
      ]
     },
     "metadata": {
      "needs_background": "light"
     },
     "output_type": "display_data"
    }
   ],
   "source": [
    "def f1(x):\n",
    "    return (x - 2) ** 2 + 2\n",
    "plt.rcParams['font.family'] = 'NanumGothic'\n",
    "\n",
    "xx = np.linspace(-1, 4, 100)\n",
    "plt.plot(xx, f1(xx))\n",
    "plt.plot(2, 2, 'ro', markersize=10)\n",
    "plt.ylim(0, 10)\n",
    "plt.xlabel(\"x\")\n",
    "plt.ylabel(\"$f_1(x)$\")\n",
    "plt.title(\"1차원 목적함수\")\n",
    "plt.show()"
   ]
  },
  {
   "cell_type": "code",
   "execution_count": null,
   "metadata": {},
   "outputs": [],
   "source": []
  }
 ],
 "metadata": {
  "interpreter": {
   "hash": "9a957a1fea41707a244f264f295721eb09ec21d5be06b513cdb5f37b29d60cc5"
  },
  "kernelspec": {
   "display_name": "Python 3",
   "language": "python",
   "name": "python3"
  },
  "language_info": {
   "codemirror_mode": {
    "name": "ipython",
    "version": 3
   },
   "file_extension": ".py",
   "mimetype": "text/x-python",
   "name": "python",
   "nbconvert_exporter": "python",
   "pygments_lexer": "ipython3",
   "version": "3.8.5"
  }
 },
 "nbformat": 4,
 "nbformat_minor": 2
}