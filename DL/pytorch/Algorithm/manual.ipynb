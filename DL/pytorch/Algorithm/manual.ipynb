{
 "cells": [
  {
   "cell_type": "code",
   "execution_count": 1,
   "source": [
    "import torch\r\n",
    "import torch.nn as nn"
   ],
   "outputs": [],
   "metadata": {}
  },
  {
   "cell_type": "code",
   "execution_count": 21,
   "source": [
    "class MyLinear(nn.Module):\r\n",
    "\r\n",
    "    def __init__(self, input_size, output_size):\r\n",
    "        super(MyLinear, self).__init__()\r\n",
    "\r\n",
    "        self.linear = nn.Linear(input_size, output_size)\r\n",
    "\r\n",
    "    def forward(self, x):\r\n",
    "        y = self.linear(x)\r\n",
    "        return y "
   ],
   "outputs": [],
   "metadata": {}
  },
  {
   "cell_type": "code",
   "execution_count": 25,
   "source": [
    "objective = 100\r\n",
    "\r\n",
    "x = torch.FloatTensor(16, 10)\r\n",
    "linear = MyLinear(10, 5)\r\n",
    "y = linear(x)\r\n",
    "loss = pow((objective - y.sum()),2) # must be scalar\r\n",
    "loss.backward()\r\n"
   ],
   "outputs": [],
   "metadata": {}
  },
  {
   "cell_type": "code",
   "execution_count": 26,
   "source": [
    "# train() and eval()\r\n",
    "# 검증후 train()을 통해서 원래 상태로 되돌려줘야한다.\r\n",
    "linear.eval()\r\n",
    "\r\n",
    "linear.train()"
   ],
   "outputs": [
    {
     "output_type": "execute_result",
     "data": {
      "text/plain": [
       "MyLinear(\n",
       "  (linear): Linear(in_features=10, out_features=5, bias=True)\n",
       ")"
      ]
     },
     "metadata": {},
     "execution_count": 26
    }
   ],
   "metadata": {}
  },
  {
   "cell_type": "markdown",
   "source": [
    "Linear Regression example"
   ],
   "metadata": {}
  },
  {
   "cell_type": "code",
   "execution_count": 34,
   "source": [
    "import random \r\n",
    "\r\n",
    "import torch\r\n",
    "import torch.nn as nn \r\n",
    "\r\n",
    "class MyModel(nn.Module):\r\n",
    "\r\n",
    "    def __init__(self, input_size, output_size):\r\n",
    "\r\n",
    "        super(MyModel, self).__init__()\r\n",
    "\r\n",
    "        self.linear = nn.Linear(input_size, output_size)\r\n",
    "\r\n",
    "    def forward(self, x):\r\n",
    "        y = self.linear(x)\r\n",
    "        \r\n",
    "        return y\r\n",
    "\r\n",
    "\r\n",
    "def ground_truth(x):\r\n",
    "    return 3 * x[:, 0] + x[:, 1] - 2 * x[:, 2]\r\n",
    "\r\n",
    "def train(model, x, y, optim):\r\n",
    "    # initialize gradients in all parameters in module.\r\n",
    "    optim.zero_grad()\r\n",
    "\r\n",
    "    # feed-forward\r\n",
    "    y_hat = model(x)\r\n",
    "\r\n",
    "    # get error between answer and inferenced.\r\n",
    "    loss = (pow(y-y_hat, 2).sum() / x.size(0))\r\n",
    "\r\n",
    "    # back-propagation\r\n",
    "    loss.backward()\r\n",
    "\r\n",
    "    # one-step of gradient descent\r\n",
    "    optim.step()\r\n",
    "\r\n",
    "    return loss.data\r\n",
    "\r\n",
    "\r\n",
    "batch_size = 1\r\n",
    "n_epochs = 1000\r\n",
    "n_iter = 10000\r\n",
    "\r\n",
    "model = MyModel(3, 1)\r\n",
    "optim = torch.optim.SGD(model.parameters(), lr=1e-4, momentum=0.1)\r\n",
    "\r\n",
    "for epoch in range(n_epochs):\r\n",
    "    avg_loss = 0 \r\n",
    "\r\n",
    "    for i in range(n_iter):\r\n",
    "        x = torch.rand(batch_size, 3)\r\n",
    "        y = ground_truth(x.data)\r\n",
    "\r\n",
    "        loss = train(model, x, y, optim)\r\n",
    "\r\n",
    "        avg_loss += loss\r\n",
    "        avg_loss /= n_iter \r\n",
    "\r\n",
    "    x_valid = torch.FloatTensor([[.3, .2, .1]])\r\n",
    "    y_valid = ground_truth(x_valid.data)\r\n",
    "\r\n",
    "    model.eval()\r\n",
    "    y_hat = model(x_valid)\r\n",
    "    model.train()\r\n",
    "\r\n",
    "\r\n",
    "    # if ( epoch % 10 == 0 ):\r\n",
    "    #     print(f'epoch : {epoch+1} ; avg_loss : {avg_loss}, y_valid_data[0] : {y_valid.data[0]} ; x_valid_data[0,0] : {x_valid.data[0,0]} ')\r\n",
    "\r\n",
    "    print(avg_loss, y_valid.data[0], x_valid.data[0,0])\r\n",
    "    \r\n",
    "    if avg_loss < .001:\r\n",
    "        break \r\n"
   ],
   "outputs": [
    {
     "output_type": "stream",
     "name": "stdout",
     "text": [
      "tensor(0.0001) tensor(0.9000) tensor(0.3000)\n"
     ]
    }
   ],
   "metadata": {}
  },
  {
   "cell_type": "markdown",
   "source": [
    "1. nn.Module 클래스를 상속받아 forward 함수를 통해 모델 아키텍처 클래스 선언\r\n",
    "2. 해당 클래스 객체 생성\r\n",
    "3. SGD나 Adam 등의 optimizer 를 생성하고, 생성한 모델의 파라미터를 최적화 대상으로 등록\r\n",
    "4. 데이터로 미니배치를 구성하여 feed-forward 연산 그래프 생성\r\n",
    "5. 손실 함수를 통해 최종 결괏값과 손실값 계산\r\n",
    "6. 손실에 대해서 backward() 호출 -> 연산 그래프 상의 텐서들의 기울기가 채워짐\r\n",
    "7. 3번의 optimizer에서 step()을 호출하여 Gradient Descent 1 step 수행\r\n",
    "8. 4번으로 돌아가 수렴 조건이 만족할 때까지 반복 수행"
   ],
   "metadata": {}
  },
  {
   "cell_type": "markdown",
   "source": [],
   "metadata": {}
  }
 ],
 "metadata": {
  "orig_nbformat": 4,
  "language_info": {
   "name": "python",
   "version": "3.8.5",
   "mimetype": "text/x-python",
   "codemirror_mode": {
    "name": "ipython",
    "version": 3
   },
   "pygments_lexer": "ipython3",
   "nbconvert_exporter": "python",
   "file_extension": ".py"
  },
  "kernelspec": {
   "name": "python3",
   "display_name": "Python 3.8.5 64-bit ('base': conda)"
  },
  "interpreter": {
   "hash": "96cf18f209edf6220e7043c3825950920f4c7ad96ff42ffae85e8b73f5a9541f"
  }
 },
 "nbformat": 4,
 "nbformat_minor": 2
}