{
 "metadata": {
  "language_info": {
   "codemirror_mode": {
    "name": "ipython",
    "version": 3
   },
   "file_extension": ".py",
   "mimetype": "text/x-python",
   "name": "python",
   "nbconvert_exporter": "python",
   "pygments_lexer": "ipython3",
   "version": "3.9.2"
  },
  "orig_nbformat": 4,
  "kernelspec": {
   "name": "python3",
   "display_name": "Python 3.9.2 64-bit ('geo': conda)"
  },
  "interpreter": {
   "hash": "9a957a1fea41707a244f264f295721eb09ec21d5be06b513cdb5f37b29d60cc5"
  }
 },
 "nbformat": 4,
 "nbformat_minor": 2,
 "cells": [
  {
   "cell_type": "code",
   "execution_count": 1,
   "metadata": {},
   "outputs": [],
   "source": [
    "import pandas as pd\n",
    "import numpy as np\n",
    "from sklearn.datasets import load_digits\n",
    "from sklearn.preprocessing import LabelEncoder\n",
    "from sklearn.linear_model import LogisticRegression\n",
    "from sklearn.model_selection import train_test_split\n",
    "from sklearn.base import BaseEstimator\n",
    "from sklearn.metrics import f1_score, roc_auc_score, roc_curve, precision_recall_curve\n",
    "from sklearn.metrics import confusion_matrix, accuracy_score, recall_score, precision_score\n"
   ]
  },
  {
   "cell_type": "code",
   "execution_count": 2,
   "metadata": {},
   "outputs": [
    {
     "output_type": "execute_result",
     "data": {
      "text/plain": [
       "((1347, 64), (450, 64), (1347,), (450,))"
      ]
     },
     "metadata": {},
     "execution_count": 2
    }
   ],
   "source": [
    "class MyFakeClassifier(BaseEstimator):\n",
    "    def fit(self, X, y):\n",
    "        pass\n",
    "    def predict(self, X):\n",
    "        return np.zeros( (len(X), 1), dtype = 'bool')\n",
    "digits = load_digits()\n",
    "\n",
    "y = (digits.target == 7).astype('int')\n",
    "X_train, X_test, y_train, y_test = train_test_split(digits.data, y, random_state = 42)\n",
    "X_train.shape, X_test.shape, y_train.shape, y_test.shape"
   ]
  },
  {
   "cell_type": "code",
   "execution_count": 7,
   "metadata": {},
   "outputs": [
    {
     "output_type": "stream",
     "name": "stdout",
     "text": [
      "0    409\n1     41\ndtype: int64\n0.9088888888888889\n[[409   0]\n [ 41   0]]\n"
     ]
    }
   ],
   "source": [
    "clf = MyFakeClassifier()\n",
    "clf.fit(X_train, y_train)\n",
    "y_pred = clf.predict(X_test)\n",
    "\n",
    "print(pd.Series(y_test).value_counts(), accuracy_score(y_test, y_pred), confusion_matrix(y_test, y_pred), sep = '\\n')"
   ]
  },
  {
   "cell_type": "code",
   "execution_count": 4,
   "metadata": {},
   "outputs": [
    {
     "output_type": "execute_result",
     "data": {
      "text/plain": [
       "array([[409,   0],\n",
       "       [ 41,   0]], dtype=int64)"
      ]
     },
     "metadata": {},
     "execution_count": 4
    }
   ],
   "source": [
    "confusion_matrix(y_test, y_pred)"
   ]
  },
  {
   "cell_type": "code",
   "execution_count": 24,
   "metadata": {},
   "outputs": [],
   "source": [
    "titanic = pd.read_csv('titanic.csv')"
   ]
  },
  {
   "cell_type": "code",
   "execution_count": 25,
   "metadata": {},
   "outputs": [
    {
     "output_type": "execute_result",
     "data": {
      "text/plain": [
       "PassengerId      0\n",
       "Survived         0\n",
       "Pclass           0\n",
       "Name             0\n",
       "Sex              0\n",
       "Age            177\n",
       "SibSp            0\n",
       "Parch            0\n",
       "Ticket           0\n",
       "Fare             0\n",
       "Cabin          687\n",
       "Embarked         2\n",
       "dtype: int64"
      ]
     },
     "metadata": {},
     "execution_count": 25
    }
   ],
   "source": [
    "titanic.isnull().sum()"
   ]
  },
  {
   "cell_type": "code",
   "execution_count": 26,
   "metadata": {},
   "outputs": [
    {
     "output_type": "execute_result",
     "data": {
      "text/plain": [
       "((668, 7), (223, 7), (668,), (223,))"
      ]
     },
     "metadata": {},
     "execution_count": 26
    }
   ],
   "source": [
    "titanic.drop(['Name','Cabin', 'Ticket','Embarked'], axis = 1, inplace = True)\n",
    "titanic.fillna(0, inplace = True)\n",
    "\n",
    "#label encoding \n",
    "le = LabelEncoder()\n",
    "titanic['Sex'] = le.fit_transform(titanic['Sex'])\n",
    "\n",
    "\n",
    "\n",
    "feature_cols = titanic.columns.difference(['Survived'])\n",
    "y = titanic['Survived']\n",
    "x = titanic[feature_cols]\n",
    "x_train, x_test, y_train, y_test = train_test_split(x, y, random_state= 42)\n",
    "\n",
    "x_train.shape, x_test.shape, y_train.shape, y_test.shape"
   ]
  },
  {
   "cell_type": "code",
   "execution_count": 28,
   "metadata": {},
   "outputs": [
    {
     "output_type": "stream",
     "name": "stderr",
     "text": [
      "C:\\Users\\EonKim\\anaconda3\\envs\\geo\\lib\\site-packages\\sklearn\\linear_model\\_logistic.py:763: ConvergenceWarning: lbfgs failed to converge (status=1):\nSTOP: TOTAL NO. of ITERATIONS REACHED LIMIT.\n\nIncrease the number of iterations (max_iter) or scale the data as shown in:\n    https://scikit-learn.org/stable/modules/preprocessing.html\nPlease also refer to the documentation for alternative solver options:\n    https://scikit-learn.org/stable/modules/linear_model.html#logistic-regression\n  n_iter_i = _check_optimize_result(\n"
     ]
    }
   ],
   "source": [
    "logit = LogisticRegression()\n",
    "logit.fit(x_train, y_train)\n",
    "y_pred = logit.predict(x_test)"
   ]
  },
  {
   "cell_type": "code",
   "execution_count": 30,
   "metadata": {},
   "outputs": [
    {
     "output_type": "stream",
     "name": "stdout",
     "text": [
      "confusion matrix\n[[111  23]\n [ 28  61]]\nacc : 0.7713, precision : 0.7262, recall : 0.6854\n"
     ]
    }
   ],
   "source": [
    "\n",
    "def get_score(y_test, y_pred):\n",
    "    confusion = confusion_matrix(y_test, y_pred)\n",
    "    accuracy = accuracy_score(y_test, y_pred)\n",
    "    precision = precision_score(y_test, y_pred)\n",
    "    recall = recall_score(y_test, y_pred)\n",
    "    print('confusion matrix')\n",
    "    print(confusion)\n",
    "    print('acc : {0:.4f}, precision : {1:.4f}, recall : {2:.4f}'.format(accuracy, precision, recall))\n",
    "\n",
    "get_score(y_test, y_pred)"
   ]
  },
  {
   "source": [
    "- TN FN\n",
    "- FP TP "
   ],
   "cell_type": "markdown",
   "metadata": {}
  },
  {
   "cell_type": "code",
   "execution_count": 36,
   "metadata": {},
   "outputs": [
    {
     "output_type": "execute_result",
     "data": {
      "text/plain": [
       "array([[0.48, 0.52, 0.  ],\n",
       "       [0.86, 0.14, 0.  ],\n",
       "       [0.92, 0.08, 0.  ],\n",
       "       [0.04, 0.96, 1.  ],\n",
       "       [0.76, 0.24, 1.  ],\n",
       "       [0.07, 0.93, 1.  ],\n",
       "       [0.16, 0.84, 1.  ],\n",
       "       [0.81, 0.19, 0.  ],\n",
       "       [0.41, 0.59, 1.  ],\n",
       "       [0.08, 0.92, 1.  ],\n",
       "       [0.72, 0.28, 0.  ],\n",
       "       [0.94, 0.06, 0.  ],\n",
       "       [0.82, 0.18, 1.  ],\n",
       "       [0.79, 0.21, 0.  ],\n",
       "       [0.8 , 0.2 , 0.  ],\n",
       "       [0.07, 0.93, 1.  ],\n",
       "       [0.33, 0.67, 0.  ],\n",
       "       [0.35, 0.65, 1.  ],\n",
       "       [0.94, 0.06, 0.  ],\n",
       "       [0.93, 0.07, 0.  ],\n",
       "       [0.92, 0.08, 0.  ],\n",
       "       [0.32, 0.68, 0.  ],\n",
       "       [0.64, 0.36, 1.  ],\n",
       "       [0.97, 0.03, 0.  ],\n",
       "       [0.9 , 0.1 , 0.  ],\n",
       "       [0.89, 0.11, 0.  ],\n",
       "       [0.67, 0.33, 0.  ],\n",
       "       [0.94, 0.06, 0.  ],\n",
       "       [0.85, 0.15, 0.  ],\n",
       "       [0.35, 0.65, 1.  ],\n",
       "       [0.98, 0.02, 0.  ],\n",
       "       [0.28, 0.72, 1.  ],\n",
       "       [0.38, 0.62, 0.  ],\n",
       "       [0.52, 0.48, 1.  ],\n",
       "       [0.68, 0.32, 0.  ],\n",
       "       [0.84, 0.16, 0.  ],\n",
       "       [0.77, 0.23, 0.  ],\n",
       "       [0.52, 0.48, 1.  ],\n",
       "       [0.07, 0.93, 1.  ],\n",
       "       [0.99, 0.01, 0.  ],\n",
       "       [0.89, 0.11, 0.  ],\n",
       "       [0.62, 0.38, 0.  ],\n",
       "       [0.94, 0.06, 0.  ],\n",
       "       [0.87, 0.13, 0.  ],\n",
       "       [0.48, 0.52, 1.  ],\n",
       "       [0.93, 0.07, 0.  ],\n",
       "       [0.81, 0.19, 0.  ],\n",
       "       [0.98, 0.02, 0.  ],\n",
       "       [0.64, 0.36, 0.  ],\n",
       "       [0.4 , 0.6 , 0.  ],\n",
       "       [0.14, 0.86, 1.  ],\n",
       "       [0.03, 0.97, 1.  ],\n",
       "       [0.94, 0.06, 0.  ],\n",
       "       [0.38, 0.62, 0.  ],\n",
       "       [0.84, 0.16, 0.  ],\n",
       "       [0.03, 0.97, 1.  ],\n",
       "       [0.74, 0.26, 0.  ],\n",
       "       [0.08, 0.92, 1.  ],\n",
       "       [0.05, 0.95, 1.  ],\n",
       "       [0.42, 0.58, 1.  ],\n",
       "       [0.81, 0.19, 0.  ],\n",
       "       [0.06, 0.94, 1.  ],\n",
       "       [0.05, 0.95, 1.  ],\n",
       "       [0.92, 0.08, 0.  ],\n",
       "       [0.96, 0.04, 0.  ],\n",
       "       [0.11, 0.89, 1.  ],\n",
       "       [0.86, 0.14, 0.  ],\n",
       "       [0.34, 0.66, 0.  ],\n",
       "       [0.77, 0.23, 0.  ],\n",
       "       [0.  , 1.  , 1.  ],\n",
       "       [0.06, 0.94, 1.  ],\n",
       "       [0.24, 0.76, 1.  ],\n",
       "       [0.54, 0.46, 0.  ],\n",
       "       [0.  , 1.  , 1.  ],\n",
       "       [0.95, 0.05, 0.  ],\n",
       "       [0.91, 0.09, 0.  ],\n",
       "       [0.31, 0.69, 1.  ],\n",
       "       [0.07, 0.93, 1.  ],\n",
       "       [0.01, 0.99, 1.  ],\n",
       "       [0.4 , 0.6 , 1.  ],\n",
       "       [0.89, 0.11, 0.  ],\n",
       "       [0.06, 0.94, 1.  ],\n",
       "       [0.08, 0.92, 1.  ],\n",
       "       [0.94, 0.06, 0.  ],\n",
       "       [0.81, 0.19, 0.  ],\n",
       "       [0.94, 0.06, 0.  ],\n",
       "       [0.02, 0.98, 1.  ],\n",
       "       [0.03, 0.97, 1.  ],\n",
       "       [0.93, 0.07, 0.  ],\n",
       "       [0.97, 0.03, 0.  ],\n",
       "       [0.68, 0.32, 0.  ],\n",
       "       [0.78, 0.22, 0.  ],\n",
       "       [0.57, 0.43, 0.  ],\n",
       "       [0.92, 0.08, 0.  ],\n",
       "       [0.95, 0.05, 0.  ],\n",
       "       [0.75, 0.25, 0.  ],\n",
       "       [0.59, 0.41, 0.  ],\n",
       "       [0.8 , 0.2 , 0.  ],\n",
       "       [0.01, 0.99, 1.  ],\n",
       "       [0.73, 0.27, 0.  ],\n",
       "       [0.91, 0.09, 0.  ],\n",
       "       [0.98, 0.02, 0.  ],\n",
       "       [0.11, 0.89, 1.  ],\n",
       "       [0.87, 0.13, 0.  ],\n",
       "       [0.79, 0.21, 0.  ],\n",
       "       [0.48, 0.52, 0.  ],\n",
       "       [0.12, 0.88, 1.  ],\n",
       "       [0.78, 0.22, 0.  ],\n",
       "       [0.95, 0.05, 0.  ],\n",
       "       [0.59, 0.41, 0.  ],\n",
       "       [0.12, 0.88, 1.  ],\n",
       "       [0.95, 0.05, 0.  ],\n",
       "       [0.17, 0.83, 1.  ],\n",
       "       [0.43, 0.57, 0.  ],\n",
       "       [0.78, 0.22, 1.  ],\n",
       "       [0.97, 0.03, 0.  ],\n",
       "       [0.95, 0.05, 0.  ],\n",
       "       [0.67, 0.33, 0.  ],\n",
       "       [0.09, 0.91, 1.  ],\n",
       "       [0.85, 0.15, 1.  ],\n",
       "       [0.53, 0.47, 0.  ],\n",
       "       [0.01, 0.99, 1.  ],\n",
       "       [0.08, 0.92, 1.  ],\n",
       "       [0.56, 0.44, 0.  ],\n",
       "       [1.  , 0.  , 0.  ],\n",
       "       [0.37, 0.63, 0.  ],\n",
       "       [0.03, 0.97, 1.  ],\n",
       "       [0.81, 0.19, 0.  ],\n",
       "       [0.48, 0.52, 1.  ],\n",
       "       [0.96, 0.04, 0.  ],\n",
       "       [0.1 , 0.9 , 1.  ],\n",
       "       [0.72, 0.28, 0.  ],\n",
       "       [0.98, 0.02, 0.  ],\n",
       "       [0.33, 0.67, 1.  ],\n",
       "       [0.28, 0.72, 0.  ],\n",
       "       [0.62, 0.38, 1.  ],\n",
       "       [0.09, 0.91, 1.  ],\n",
       "       [0.7 , 0.3 , 0.  ],\n",
       "       [0.98, 0.02, 0.  ],\n",
       "       [0.72, 0.28, 1.  ],\n",
       "       [0.97, 0.03, 0.  ],\n",
       "       [0.03, 0.97, 1.  ],\n",
       "       [0.93, 0.07, 0.  ],\n",
       "       [0.72, 0.28, 0.  ],\n",
       "       [0.86, 0.14, 1.  ],\n",
       "       [0.1 , 0.9 , 1.  ],\n",
       "       [0.95, 0.05, 0.  ],\n",
       "       [0.52, 0.48, 0.  ],\n",
       "       [0.3 , 0.7 , 1.  ],\n",
       "       [0.97, 0.03, 0.  ],\n",
       "       [0.94, 0.06, 0.  ],\n",
       "       [0.85, 0.15, 0.  ],\n",
       "       [0.95, 0.05, 0.  ],\n",
       "       [0.47, 0.53, 1.  ],\n",
       "       [1.  , 0.  , 0.  ],\n",
       "       [1.  , 0.  , 0.  ],\n",
       "       [0.36, 0.64, 0.  ],\n",
       "       [0.22, 0.78, 1.  ],\n",
       "       [0.01, 0.99, 1.  ],\n",
       "       [0.49, 0.51, 1.  ],\n",
       "       [0.78, 0.22, 0.  ],\n",
       "       [0.74, 0.26, 0.  ],\n",
       "       [0.95, 0.05, 0.  ],\n",
       "       [0.13, 0.87, 1.  ],\n",
       "       [0.68, 0.32, 0.  ],\n",
       "       [0.89, 0.11, 0.  ],\n",
       "       [0.93, 0.07, 0.  ],\n",
       "       [0.09, 0.91, 1.  ],\n",
       "       [0.9 , 0.1 , 0.  ],\n",
       "       [0.86, 0.14, 0.  ],\n",
       "       [0.87, 0.13, 0.  ],\n",
       "       [0.08, 0.92, 1.  ],\n",
       "       [0.39, 0.61, 0.  ],\n",
       "       [0.39, 0.61, 1.  ],\n",
       "       [0.93, 0.07, 0.  ],\n",
       "       [0.99, 0.01, 0.  ],\n",
       "       [0.84, 0.16, 0.  ],\n",
       "       [0.1 , 0.9 , 1.  ],\n",
       "       [0.42, 0.58, 0.  ],\n",
       "       [0.67, 0.33, 0.  ],\n",
       "       [1.  , 0.  , 0.  ],\n",
       "       [0.46, 0.54, 0.  ],\n",
       "       [0.66, 0.34, 0.  ],\n",
       "       [0.69, 0.31, 1.  ],\n",
       "       [0.78, 0.22, 1.  ],\n",
       "       [0.4 , 0.6 , 0.  ],\n",
       "       [0.84, 0.16, 0.  ],\n",
       "       [0.69, 0.31, 0.  ],\n",
       "       [0.95, 0.05, 0.  ],\n",
       "       [0.07, 0.93, 1.  ],\n",
       "       [0.92, 0.08, 0.  ],\n",
       "       [0.86, 0.14, 0.  ],\n",
       "       [0.77, 0.23, 0.  ],\n",
       "       [0.99, 0.01, 0.  ],\n",
       "       [0.15, 0.85, 1.  ],\n",
       "       [0.  , 1.  , 1.  ],\n",
       "       [0.  , 1.  , 1.  ],\n",
       "       [0.98, 0.02, 0.  ],\n",
       "       [0.05, 0.95, 1.  ],\n",
       "       [0.8 , 0.2 , 0.  ],\n",
       "       [0.88, 0.12, 0.  ],\n",
       "       [0.48, 0.52, 1.  ],\n",
       "       [0.04, 0.96, 1.  ],\n",
       "       [0.86, 0.14, 1.  ],\n",
       "       [0.95, 0.05, 0.  ],\n",
       "       [0.49, 0.51, 1.  ],\n",
       "       [0.87, 0.13, 0.  ],\n",
       "       [0.52, 0.48, 0.  ],\n",
       "       [0.92, 0.08, 0.  ],\n",
       "       [0.93, 0.07, 0.  ],\n",
       "       [0.41, 0.59, 1.  ],\n",
       "       [0.72, 0.28, 0.  ],\n",
       "       [0.01, 0.99, 1.  ],\n",
       "       [0.99, 0.01, 0.  ],\n",
       "       [0.82, 0.18, 1.  ],\n",
       "       [0.77, 0.23, 0.  ],\n",
       "       [0.1 , 0.9 , 1.  ],\n",
       "       [0.9 , 0.1 , 0.  ],\n",
       "       [0.05, 0.95, 1.  ],\n",
       "       [0.98, 0.02, 0.  ],\n",
       "       [0.92, 0.08, 0.  ],\n",
       "       [0.06, 0.94, 1.  ],\n",
       "       [0.79, 0.21, 0.  ]])"
      ]
     },
     "metadata": {},
     "execution_count": 36
    }
   ],
   "source": [
    "from sklearn.ensemble import RandomForestClassifier\n",
    "rf = RandomForestClassifier()\n",
    "rf.fit(x_train, y_train)\n",
    "pred_proba = rf.predict_proba(x_test)\n",
    "result = np.concatenate([pred_proba, y_pred.reshape(-1, 1)], axis = 1)"
   ]
  },
  {
   "cell_type": "code",
   "execution_count": 37,
   "metadata": {},
   "outputs": [
    {
     "output_type": "stream",
     "name": "stdout",
     "text": [
      "confusion matrix\n[[54 80]\n [ 5 84]]\nacc : 0.6188, precision : 0.5122, recall : 0.9438\nconfusion matrix\n[[82 52]\n [ 9 80]]\nacc : 0.7265, precision : 0.6061, recall : 0.8989\nconfusion matrix\n[[101  33]\n [ 13  76]]\nacc : 0.7937, precision : 0.6972, recall : 0.8539\nconfusion matrix\n[[110  24]\n [ 17  72]]\nacc : 0.8161, precision : 0.7500, recall : 0.8090\nconfusion matrix\n[[114  20]\n [ 23  66]]\nacc : 0.8072, precision : 0.7674, recall : 0.7416\n"
     ]
    }
   ],
   "source": [
    "from sklearn.preprocessing import Binarizer\n",
    "for threshold in [0.1, 0.2, 0.3, 0.4, 0.5]:\n",
    "    success = pred_proba[:,-1].reshape(-1, 1)\n",
    "    binarizer = Binarizer(threshold = threshold).fit_transform(success)\n",
    "    binarizer\n",
    "    get_score(y_test, binarizer)"
   ]
  },
  {
   "source": [
    "- precision_recall_curve\n",
    "- output : precisions, recalls, thresholds"
   ],
   "cell_type": "markdown",
   "metadata": {}
  },
  {
   "cell_type": "code",
   "execution_count": 69,
   "metadata": {},
   "outputs": [],
   "source": [
    "precisions, recalls, thresholds = precision_recall_curve(y_pred, success)"
   ]
  },
  {
   "cell_type": "code",
   "execution_count": 70,
   "metadata": {},
   "outputs": [],
   "source": [
    "import matplotlib.pyplot as plt\n"
   ]
  },
  {
   "cell_type": "code",
   "execution_count": 72,
   "metadata": {},
   "outputs": [
    {
     "output_type": "display_data",
     "data": {
      "text/plain": "<Figure size 576x360 with 1 Axes>",
      "image/svg+xml": "<?xml version=\"1.0\" encoding=\"utf-8\" standalone=\"no\"?>\r\n<!DOCTYPE svg PUBLIC \"-//W3C//DTD SVG 1.1//EN\"\r\n  \"http://www.w3.org/Graphics/SVG/1.1/DTD/svg11.dtd\">\r\n<svg height=\"316.55625pt\" version=\"1.1\" viewBox=\"0 0 497.38125 316.55625\" width=\"497.38125pt\" xmlns=\"http://www.w3.org/2000/svg\" xmlns:xlink=\"http://www.w3.org/1999/xlink\">\r\n <metadata>\r\n  <rdf:RDF xmlns:cc=\"http://creativecommons.org/ns#\" xmlns:dc=\"http://purl.org/dc/elements/1.1/\" xmlns:rdf=\"http://www.w3.org/1999/02/22-rdf-syntax-ns#\">\r\n   <cc:Work>\r\n    <dc:type rdf:resource=\"http://purl.org/dc/dcmitype/StillImage\"/>\r\n    <dc:date>2021-06-20T14:31:18.813416</dc:date>\r\n    <dc:format>image/svg+xml</dc:format>\r\n    <dc:creator>\r\n     <cc:Agent>\r\n      <dc:title>Matplotlib v3.4.2, https://matplotlib.org/</dc:title>\r\n     </cc:Agent>\r\n    </dc:creator>\r\n   </cc:Work>\r\n  </rdf:RDF>\r\n </metadata>\r\n <defs>\r\n  <style type=\"text/css\">*{stroke-linecap:butt;stroke-linejoin:round;}</style>\r\n </defs>\r\n <g id=\"figure_1\">\r\n  <g id=\"patch_1\">\r\n   <path d=\"M 0 316.55625 \r\nL 497.38125 316.55625 \r\nL 497.38125 0 \r\nL 0 0 \r\nz\r\n\" style=\"fill:none;\"/>\r\n  </g>\r\n  <g id=\"axes_1\">\r\n   <g id=\"patch_2\">\r\n    <path d=\"M 43.78125 279 \r\nL 490.18125 279 \r\nL 490.18125 7.2 \r\nL 43.78125 7.2 \r\nz\r\n\" style=\"fill:#ffffff;\"/>\r\n   </g>\r\n   <g id=\"matplotlib.axis_1\">\r\n    <g id=\"xtick_1\">\r\n     <g id=\"line2d_1\">\r\n      <defs>\r\n       <path d=\"M 0 0 \r\nL 0 3.5 \r\n\" id=\"m6af1c5c620\" style=\"stroke:#000000;stroke-width:0.8;\"/>\r\n      </defs>\r\n      <g>\r\n       <use style=\"stroke:#000000;stroke-width:0.8;\" x=\"43.78125\" xlink:href=\"#m6af1c5c620\" y=\"279\"/>\r\n      </g>\r\n     </g>\r\n     <g id=\"text_1\">\r\n      <!-- 0.0 -->\r\n      <g transform=\"translate(35.829688 293.598437)scale(0.1 -0.1)\">\r\n       <defs>\r\n        <path d=\"M 2034 4250 \r\nQ 1547 4250 1301 3770 \r\nQ 1056 3291 1056 2328 \r\nQ 1056 1369 1301 889 \r\nQ 1547 409 2034 409 \r\nQ 2525 409 2770 889 \r\nQ 3016 1369 3016 2328 \r\nQ 3016 3291 2770 3770 \r\nQ 2525 4250 2034 4250 \r\nz\r\nM 2034 4750 \r\nQ 2819 4750 3233 4129 \r\nQ 3647 3509 3647 2328 \r\nQ 3647 1150 3233 529 \r\nQ 2819 -91 2034 -91 \r\nQ 1250 -91 836 529 \r\nQ 422 1150 422 2328 \r\nQ 422 3509 836 4129 \r\nQ 1250 4750 2034 4750 \r\nz\r\n\" id=\"DejaVuSans-30\" transform=\"scale(0.015625)\"/>\r\n        <path d=\"M 684 794 \r\nL 1344 794 \r\nL 1344 0 \r\nL 684 0 \r\nL 684 794 \r\nz\r\n\" id=\"DejaVuSans-2e\" transform=\"scale(0.015625)\"/>\r\n       </defs>\r\n       <use xlink:href=\"#DejaVuSans-30\"/>\r\n       <use x=\"63.623047\" xlink:href=\"#DejaVuSans-2e\"/>\r\n       <use x=\"95.410156\" xlink:href=\"#DejaVuSans-30\"/>\r\n      </g>\r\n     </g>\r\n    </g>\r\n    <g id=\"xtick_2\">\r\n     <g id=\"line2d_2\">\r\n      <g>\r\n       <use style=\"stroke:#000000;stroke-width:0.8;\" x=\"86.580866\" xlink:href=\"#m6af1c5c620\" y=\"279\"/>\r\n      </g>\r\n     </g>\r\n     <g id=\"text_2\">\r\n      <!-- 0.1 -->\r\n      <g transform=\"translate(78.629304 293.598437)scale(0.1 -0.1)\">\r\n       <defs>\r\n        <path d=\"M 794 531 \r\nL 1825 531 \r\nL 1825 4091 \r\nL 703 3866 \r\nL 703 4441 \r\nL 1819 4666 \r\nL 2450 4666 \r\nL 2450 531 \r\nL 3481 531 \r\nL 3481 0 \r\nL 794 0 \r\nL 794 531 \r\nz\r\n\" id=\"DejaVuSans-31\" transform=\"scale(0.015625)\"/>\r\n       </defs>\r\n       <use xlink:href=\"#DejaVuSans-30\"/>\r\n       <use x=\"63.623047\" xlink:href=\"#DejaVuSans-2e\"/>\r\n       <use x=\"95.410156\" xlink:href=\"#DejaVuSans-31\"/>\r\n      </g>\r\n     </g>\r\n    </g>\r\n    <g id=\"xtick_3\">\r\n     <g id=\"line2d_3\">\r\n      <g>\r\n       <use style=\"stroke:#000000;stroke-width:0.8;\" x=\"129.380483\" xlink:href=\"#m6af1c5c620\" y=\"279\"/>\r\n      </g>\r\n     </g>\r\n     <g id=\"text_3\">\r\n      <!-- 0.2 -->\r\n      <g transform=\"translate(121.42892 293.598437)scale(0.1 -0.1)\">\r\n       <defs>\r\n        <path d=\"M 1228 531 \r\nL 3431 531 \r\nL 3431 0 \r\nL 469 0 \r\nL 469 531 \r\nQ 828 903 1448 1529 \r\nQ 2069 2156 2228 2338 \r\nQ 2531 2678 2651 2914 \r\nQ 2772 3150 2772 3378 \r\nQ 2772 3750 2511 3984 \r\nQ 2250 4219 1831 4219 \r\nQ 1534 4219 1204 4116 \r\nQ 875 4013 500 3803 \r\nL 500 4441 \r\nQ 881 4594 1212 4672 \r\nQ 1544 4750 1819 4750 \r\nQ 2544 4750 2975 4387 \r\nQ 3406 4025 3406 3419 \r\nQ 3406 3131 3298 2873 \r\nQ 3191 2616 2906 2266 \r\nQ 2828 2175 2409 1742 \r\nQ 1991 1309 1228 531 \r\nz\r\n\" id=\"DejaVuSans-32\" transform=\"scale(0.015625)\"/>\r\n       </defs>\r\n       <use xlink:href=\"#DejaVuSans-30\"/>\r\n       <use x=\"63.623047\" xlink:href=\"#DejaVuSans-2e\"/>\r\n       <use x=\"95.410156\" xlink:href=\"#DejaVuSans-32\"/>\r\n      </g>\r\n     </g>\r\n    </g>\r\n    <g id=\"xtick_4\">\r\n     <g id=\"line2d_4\">\r\n      <g>\r\n       <use style=\"stroke:#000000;stroke-width:0.8;\" x=\"172.180099\" xlink:href=\"#m6af1c5c620\" y=\"279\"/>\r\n      </g>\r\n     </g>\r\n     <g id=\"text_4\">\r\n      <!-- 0.3 -->\r\n      <g transform=\"translate(164.228537 293.598437)scale(0.1 -0.1)\">\r\n       <defs>\r\n        <path d=\"M 2597 2516 \r\nQ 3050 2419 3304 2112 \r\nQ 3559 1806 3559 1356 \r\nQ 3559 666 3084 287 \r\nQ 2609 -91 1734 -91 \r\nQ 1441 -91 1130 -33 \r\nQ 819 25 488 141 \r\nL 488 750 \r\nQ 750 597 1062 519 \r\nQ 1375 441 1716 441 \r\nQ 2309 441 2620 675 \r\nQ 2931 909 2931 1356 \r\nQ 2931 1769 2642 2001 \r\nQ 2353 2234 1838 2234 \r\nL 1294 2234 \r\nL 1294 2753 \r\nL 1863 2753 \r\nQ 2328 2753 2575 2939 \r\nQ 2822 3125 2822 3475 \r\nQ 2822 3834 2567 4026 \r\nQ 2313 4219 1838 4219 \r\nQ 1578 4219 1281 4162 \r\nQ 984 4106 628 3988 \r\nL 628 4550 \r\nQ 988 4650 1302 4700 \r\nQ 1616 4750 1894 4750 \r\nQ 2613 4750 3031 4423 \r\nQ 3450 4097 3450 3541 \r\nQ 3450 3153 3228 2886 \r\nQ 3006 2619 2597 2516 \r\nz\r\n\" id=\"DejaVuSans-33\" transform=\"scale(0.015625)\"/>\r\n       </defs>\r\n       <use xlink:href=\"#DejaVuSans-30\"/>\r\n       <use x=\"63.623047\" xlink:href=\"#DejaVuSans-2e\"/>\r\n       <use x=\"95.410156\" xlink:href=\"#DejaVuSans-33\"/>\r\n      </g>\r\n     </g>\r\n    </g>\r\n    <g id=\"xtick_5\">\r\n     <g id=\"line2d_5\">\r\n      <g>\r\n       <use style=\"stroke:#000000;stroke-width:0.8;\" x=\"214.979716\" xlink:href=\"#m6af1c5c620\" y=\"279\"/>\r\n      </g>\r\n     </g>\r\n     <g id=\"text_5\">\r\n      <!-- 0.4 -->\r\n      <g transform=\"translate(207.028153 293.598437)scale(0.1 -0.1)\">\r\n       <defs>\r\n        <path d=\"M 2419 4116 \r\nL 825 1625 \r\nL 2419 1625 \r\nL 2419 4116 \r\nz\r\nM 2253 4666 \r\nL 3047 4666 \r\nL 3047 1625 \r\nL 3713 1625 \r\nL 3713 1100 \r\nL 3047 1100 \r\nL 3047 0 \r\nL 2419 0 \r\nL 2419 1100 \r\nL 313 1100 \r\nL 313 1709 \r\nL 2253 4666 \r\nz\r\n\" id=\"DejaVuSans-34\" transform=\"scale(0.015625)\"/>\r\n       </defs>\r\n       <use xlink:href=\"#DejaVuSans-30\"/>\r\n       <use x=\"63.623047\" xlink:href=\"#DejaVuSans-2e\"/>\r\n       <use x=\"95.410156\" xlink:href=\"#DejaVuSans-34\"/>\r\n      </g>\r\n     </g>\r\n    </g>\r\n    <g id=\"xtick_6\">\r\n     <g id=\"line2d_6\">\r\n      <g>\r\n       <use style=\"stroke:#000000;stroke-width:0.8;\" x=\"257.779332\" xlink:href=\"#m6af1c5c620\" y=\"279\"/>\r\n      </g>\r\n     </g>\r\n     <g id=\"text_6\">\r\n      <!-- 0.5 -->\r\n      <g transform=\"translate(249.82777 293.598437)scale(0.1 -0.1)\">\r\n       <defs>\r\n        <path d=\"M 691 4666 \r\nL 3169 4666 \r\nL 3169 4134 \r\nL 1269 4134 \r\nL 1269 2991 \r\nQ 1406 3038 1543 3061 \r\nQ 1681 3084 1819 3084 \r\nQ 2600 3084 3056 2656 \r\nQ 3513 2228 3513 1497 \r\nQ 3513 744 3044 326 \r\nQ 2575 -91 1722 -91 \r\nQ 1428 -91 1123 -41 \r\nQ 819 9 494 109 \r\nL 494 744 \r\nQ 775 591 1075 516 \r\nQ 1375 441 1709 441 \r\nQ 2250 441 2565 725 \r\nQ 2881 1009 2881 1497 \r\nQ 2881 1984 2565 2268 \r\nQ 2250 2553 1709 2553 \r\nQ 1456 2553 1204 2497 \r\nQ 953 2441 691 2322 \r\nL 691 4666 \r\nz\r\n\" id=\"DejaVuSans-35\" transform=\"scale(0.015625)\"/>\r\n       </defs>\r\n       <use xlink:href=\"#DejaVuSans-30\"/>\r\n       <use x=\"63.623047\" xlink:href=\"#DejaVuSans-2e\"/>\r\n       <use x=\"95.410156\" xlink:href=\"#DejaVuSans-35\"/>\r\n      </g>\r\n     </g>\r\n    </g>\r\n    <g id=\"xtick_7\">\r\n     <g id=\"line2d_7\">\r\n      <g>\r\n       <use style=\"stroke:#000000;stroke-width:0.8;\" x=\"300.578949\" xlink:href=\"#m6af1c5c620\" y=\"279\"/>\r\n      </g>\r\n     </g>\r\n     <g id=\"text_7\">\r\n      <!-- 0.6 -->\r\n      <g transform=\"translate(292.627386 293.598437)scale(0.1 -0.1)\">\r\n       <defs>\r\n        <path d=\"M 2113 2584 \r\nQ 1688 2584 1439 2293 \r\nQ 1191 2003 1191 1497 \r\nQ 1191 994 1439 701 \r\nQ 1688 409 2113 409 \r\nQ 2538 409 2786 701 \r\nQ 3034 994 3034 1497 \r\nQ 3034 2003 2786 2293 \r\nQ 2538 2584 2113 2584 \r\nz\r\nM 3366 4563 \r\nL 3366 3988 \r\nQ 3128 4100 2886 4159 \r\nQ 2644 4219 2406 4219 \r\nQ 1781 4219 1451 3797 \r\nQ 1122 3375 1075 2522 \r\nQ 1259 2794 1537 2939 \r\nQ 1816 3084 2150 3084 \r\nQ 2853 3084 3261 2657 \r\nQ 3669 2231 3669 1497 \r\nQ 3669 778 3244 343 \r\nQ 2819 -91 2113 -91 \r\nQ 1303 -91 875 529 \r\nQ 447 1150 447 2328 \r\nQ 447 3434 972 4092 \r\nQ 1497 4750 2381 4750 \r\nQ 2619 4750 2861 4703 \r\nQ 3103 4656 3366 4563 \r\nz\r\n\" id=\"DejaVuSans-36\" transform=\"scale(0.015625)\"/>\r\n       </defs>\r\n       <use xlink:href=\"#DejaVuSans-30\"/>\r\n       <use x=\"63.623047\" xlink:href=\"#DejaVuSans-2e\"/>\r\n       <use x=\"95.410156\" xlink:href=\"#DejaVuSans-36\"/>\r\n      </g>\r\n     </g>\r\n    </g>\r\n    <g id=\"xtick_8\">\r\n     <g id=\"line2d_8\">\r\n      <g>\r\n       <use style=\"stroke:#000000;stroke-width:0.8;\" x=\"343.378565\" xlink:href=\"#m6af1c5c620\" y=\"279\"/>\r\n      </g>\r\n     </g>\r\n     <g id=\"text_8\">\r\n      <!-- 0.7 -->\r\n      <g transform=\"translate(335.427003 293.598437)scale(0.1 -0.1)\">\r\n       <defs>\r\n        <path d=\"M 525 4666 \r\nL 3525 4666 \r\nL 3525 4397 \r\nL 1831 0 \r\nL 1172 0 \r\nL 2766 4134 \r\nL 525 4134 \r\nL 525 4666 \r\nz\r\n\" id=\"DejaVuSans-37\" transform=\"scale(0.015625)\"/>\r\n       </defs>\r\n       <use xlink:href=\"#DejaVuSans-30\"/>\r\n       <use x=\"63.623047\" xlink:href=\"#DejaVuSans-2e\"/>\r\n       <use x=\"95.410156\" xlink:href=\"#DejaVuSans-37\"/>\r\n      </g>\r\n     </g>\r\n    </g>\r\n    <g id=\"xtick_9\">\r\n     <g id=\"line2d_9\">\r\n      <g>\r\n       <use style=\"stroke:#000000;stroke-width:0.8;\" x=\"386.178182\" xlink:href=\"#m6af1c5c620\" y=\"279\"/>\r\n      </g>\r\n     </g>\r\n     <g id=\"text_9\">\r\n      <!-- 0.8 -->\r\n      <g transform=\"translate(378.226619 293.598437)scale(0.1 -0.1)\">\r\n       <defs>\r\n        <path d=\"M 2034 2216 \r\nQ 1584 2216 1326 1975 \r\nQ 1069 1734 1069 1313 \r\nQ 1069 891 1326 650 \r\nQ 1584 409 2034 409 \r\nQ 2484 409 2743 651 \r\nQ 3003 894 3003 1313 \r\nQ 3003 1734 2745 1975 \r\nQ 2488 2216 2034 2216 \r\nz\r\nM 1403 2484 \r\nQ 997 2584 770 2862 \r\nQ 544 3141 544 3541 \r\nQ 544 4100 942 4425 \r\nQ 1341 4750 2034 4750 \r\nQ 2731 4750 3128 4425 \r\nQ 3525 4100 3525 3541 \r\nQ 3525 3141 3298 2862 \r\nQ 3072 2584 2669 2484 \r\nQ 3125 2378 3379 2068 \r\nQ 3634 1759 3634 1313 \r\nQ 3634 634 3220 271 \r\nQ 2806 -91 2034 -91 \r\nQ 1263 -91 848 271 \r\nQ 434 634 434 1313 \r\nQ 434 1759 690 2068 \r\nQ 947 2378 1403 2484 \r\nz\r\nM 1172 3481 \r\nQ 1172 3119 1398 2916 \r\nQ 1625 2713 2034 2713 \r\nQ 2441 2713 2670 2916 \r\nQ 2900 3119 2900 3481 \r\nQ 2900 3844 2670 4047 \r\nQ 2441 4250 2034 4250 \r\nQ 1625 4250 1398 4047 \r\nQ 1172 3844 1172 3481 \r\nz\r\n\" id=\"DejaVuSans-38\" transform=\"scale(0.015625)\"/>\r\n       </defs>\r\n       <use xlink:href=\"#DejaVuSans-30\"/>\r\n       <use x=\"63.623047\" xlink:href=\"#DejaVuSans-2e\"/>\r\n       <use x=\"95.410156\" xlink:href=\"#DejaVuSans-38\"/>\r\n      </g>\r\n     </g>\r\n    </g>\r\n    <g id=\"xtick_10\">\r\n     <g id=\"line2d_10\">\r\n      <g>\r\n       <use style=\"stroke:#000000;stroke-width:0.8;\" x=\"428.977798\" xlink:href=\"#m6af1c5c620\" y=\"279\"/>\r\n      </g>\r\n     </g>\r\n     <g id=\"text_10\">\r\n      <!-- 0.9 -->\r\n      <g transform=\"translate(421.026236 293.598437)scale(0.1 -0.1)\">\r\n       <defs>\r\n        <path d=\"M 703 97 \r\nL 703 672 \r\nQ 941 559 1184 500 \r\nQ 1428 441 1663 441 \r\nQ 2288 441 2617 861 \r\nQ 2947 1281 2994 2138 \r\nQ 2813 1869 2534 1725 \r\nQ 2256 1581 1919 1581 \r\nQ 1219 1581 811 2004 \r\nQ 403 2428 403 3163 \r\nQ 403 3881 828 4315 \r\nQ 1253 4750 1959 4750 \r\nQ 2769 4750 3195 4129 \r\nQ 3622 3509 3622 2328 \r\nQ 3622 1225 3098 567 \r\nQ 2575 -91 1691 -91 \r\nQ 1453 -91 1209 -44 \r\nQ 966 3 703 97 \r\nz\r\nM 1959 2075 \r\nQ 2384 2075 2632 2365 \r\nQ 2881 2656 2881 3163 \r\nQ 2881 3666 2632 3958 \r\nQ 2384 4250 1959 4250 \r\nQ 1534 4250 1286 3958 \r\nQ 1038 3666 1038 3163 \r\nQ 1038 2656 1286 2365 \r\nQ 1534 2075 1959 2075 \r\nz\r\n\" id=\"DejaVuSans-39\" transform=\"scale(0.015625)\"/>\r\n       </defs>\r\n       <use xlink:href=\"#DejaVuSans-30\"/>\r\n       <use x=\"63.623047\" xlink:href=\"#DejaVuSans-2e\"/>\r\n       <use x=\"95.410156\" xlink:href=\"#DejaVuSans-39\"/>\r\n      </g>\r\n     </g>\r\n    </g>\r\n    <g id=\"xtick_11\">\r\n     <g id=\"line2d_11\">\r\n      <g>\r\n       <use style=\"stroke:#000000;stroke-width:0.8;\" x=\"471.777415\" xlink:href=\"#m6af1c5c620\" y=\"279\"/>\r\n      </g>\r\n     </g>\r\n     <g id=\"text_11\">\r\n      <!-- 1.0 -->\r\n      <g transform=\"translate(463.825852 293.598437)scale(0.1 -0.1)\">\r\n       <use xlink:href=\"#DejaVuSans-31\"/>\r\n       <use x=\"63.623047\" xlink:href=\"#DejaVuSans-2e\"/>\r\n       <use x=\"95.410156\" xlink:href=\"#DejaVuSans-30\"/>\r\n      </g>\r\n     </g>\r\n    </g>\r\n    <g id=\"text_12\">\r\n     <!-- Thresholds -->\r\n     <g transform=\"translate(239.738281 307.276562)scale(0.1 -0.1)\">\r\n      <defs>\r\n       <path d=\"M -19 4666 \r\nL 3928 4666 \r\nL 3928 4134 \r\nL 2272 4134 \r\nL 2272 0 \r\nL 1638 0 \r\nL 1638 4134 \r\nL -19 4134 \r\nL -19 4666 \r\nz\r\n\" id=\"DejaVuSans-54\" transform=\"scale(0.015625)\"/>\r\n       <path d=\"M 3513 2113 \r\nL 3513 0 \r\nL 2938 0 \r\nL 2938 2094 \r\nQ 2938 2591 2744 2837 \r\nQ 2550 3084 2163 3084 \r\nQ 1697 3084 1428 2787 \r\nQ 1159 2491 1159 1978 \r\nL 1159 0 \r\nL 581 0 \r\nL 581 4863 \r\nL 1159 4863 \r\nL 1159 2956 \r\nQ 1366 3272 1645 3428 \r\nQ 1925 3584 2291 3584 \r\nQ 2894 3584 3203 3211 \r\nQ 3513 2838 3513 2113 \r\nz\r\n\" id=\"DejaVuSans-68\" transform=\"scale(0.015625)\"/>\r\n       <path d=\"M 2631 2963 \r\nQ 2534 3019 2420 3045 \r\nQ 2306 3072 2169 3072 \r\nQ 1681 3072 1420 2755 \r\nQ 1159 2438 1159 1844 \r\nL 1159 0 \r\nL 581 0 \r\nL 581 3500 \r\nL 1159 3500 \r\nL 1159 2956 \r\nQ 1341 3275 1631 3429 \r\nQ 1922 3584 2338 3584 \r\nQ 2397 3584 2469 3576 \r\nQ 2541 3569 2628 3553 \r\nL 2631 2963 \r\nz\r\n\" id=\"DejaVuSans-72\" transform=\"scale(0.015625)\"/>\r\n       <path d=\"M 3597 1894 \r\nL 3597 1613 \r\nL 953 1613 \r\nQ 991 1019 1311 708 \r\nQ 1631 397 2203 397 \r\nQ 2534 397 2845 478 \r\nQ 3156 559 3463 722 \r\nL 3463 178 \r\nQ 3153 47 2828 -22 \r\nQ 2503 -91 2169 -91 \r\nQ 1331 -91 842 396 \r\nQ 353 884 353 1716 \r\nQ 353 2575 817 3079 \r\nQ 1281 3584 2069 3584 \r\nQ 2775 3584 3186 3129 \r\nQ 3597 2675 3597 1894 \r\nz\r\nM 3022 2063 \r\nQ 3016 2534 2758 2815 \r\nQ 2500 3097 2075 3097 \r\nQ 1594 3097 1305 2825 \r\nQ 1016 2553 972 2059 \r\nL 3022 2063 \r\nz\r\n\" id=\"DejaVuSans-65\" transform=\"scale(0.015625)\"/>\r\n       <path d=\"M 2834 3397 \r\nL 2834 2853 \r\nQ 2591 2978 2328 3040 \r\nQ 2066 3103 1784 3103 \r\nQ 1356 3103 1142 2972 \r\nQ 928 2841 928 2578 \r\nQ 928 2378 1081 2264 \r\nQ 1234 2150 1697 2047 \r\nL 1894 2003 \r\nQ 2506 1872 2764 1633 \r\nQ 3022 1394 3022 966 \r\nQ 3022 478 2636 193 \r\nQ 2250 -91 1575 -91 \r\nQ 1294 -91 989 -36 \r\nQ 684 19 347 128 \r\nL 347 722 \r\nQ 666 556 975 473 \r\nQ 1284 391 1588 391 \r\nQ 1994 391 2212 530 \r\nQ 2431 669 2431 922 \r\nQ 2431 1156 2273 1281 \r\nQ 2116 1406 1581 1522 \r\nL 1381 1569 \r\nQ 847 1681 609 1914 \r\nQ 372 2147 372 2553 \r\nQ 372 3047 722 3315 \r\nQ 1072 3584 1716 3584 \r\nQ 2034 3584 2315 3537 \r\nQ 2597 3491 2834 3397 \r\nz\r\n\" id=\"DejaVuSans-73\" transform=\"scale(0.015625)\"/>\r\n       <path d=\"M 1959 3097 \r\nQ 1497 3097 1228 2736 \r\nQ 959 2375 959 1747 \r\nQ 959 1119 1226 758 \r\nQ 1494 397 1959 397 \r\nQ 2419 397 2687 759 \r\nQ 2956 1122 2956 1747 \r\nQ 2956 2369 2687 2733 \r\nQ 2419 3097 1959 3097 \r\nz\r\nM 1959 3584 \r\nQ 2709 3584 3137 3096 \r\nQ 3566 2609 3566 1747 \r\nQ 3566 888 3137 398 \r\nQ 2709 -91 1959 -91 \r\nQ 1206 -91 779 398 \r\nQ 353 888 353 1747 \r\nQ 353 2609 779 3096 \r\nQ 1206 3584 1959 3584 \r\nz\r\n\" id=\"DejaVuSans-6f\" transform=\"scale(0.015625)\"/>\r\n       <path d=\"M 603 4863 \r\nL 1178 4863 \r\nL 1178 0 \r\nL 603 0 \r\nL 603 4863 \r\nz\r\n\" id=\"DejaVuSans-6c\" transform=\"scale(0.015625)\"/>\r\n       <path d=\"M 2906 2969 \r\nL 2906 4863 \r\nL 3481 4863 \r\nL 3481 0 \r\nL 2906 0 \r\nL 2906 525 \r\nQ 2725 213 2448 61 \r\nQ 2172 -91 1784 -91 \r\nQ 1150 -91 751 415 \r\nQ 353 922 353 1747 \r\nQ 353 2572 751 3078 \r\nQ 1150 3584 1784 3584 \r\nQ 2172 3584 2448 3432 \r\nQ 2725 3281 2906 2969 \r\nz\r\nM 947 1747 \r\nQ 947 1113 1208 752 \r\nQ 1469 391 1925 391 \r\nQ 2381 391 2643 752 \r\nQ 2906 1113 2906 1747 \r\nQ 2906 2381 2643 2742 \r\nQ 2381 3103 1925 3103 \r\nQ 1469 3103 1208 2742 \r\nQ 947 2381 947 1747 \r\nz\r\n\" id=\"DejaVuSans-64\" transform=\"scale(0.015625)\"/>\r\n      </defs>\r\n      <use xlink:href=\"#DejaVuSans-54\"/>\r\n      <use x=\"61.083984\" xlink:href=\"#DejaVuSans-68\"/>\r\n      <use x=\"124.462891\" xlink:href=\"#DejaVuSans-72\"/>\r\n      <use x=\"163.326172\" xlink:href=\"#DejaVuSans-65\"/>\r\n      <use x=\"224.849609\" xlink:href=\"#DejaVuSans-73\"/>\r\n      <use x=\"276.949219\" xlink:href=\"#DejaVuSans-68\"/>\r\n      <use x=\"340.328125\" xlink:href=\"#DejaVuSans-6f\"/>\r\n      <use x=\"401.509766\" xlink:href=\"#DejaVuSans-6c\"/>\r\n      <use x=\"429.292969\" xlink:href=\"#DejaVuSans-64\"/>\r\n      <use x=\"492.769531\" xlink:href=\"#DejaVuSans-73\"/>\r\n     </g>\r\n    </g>\r\n   </g>\r\n   <g id=\"matplotlib.axis_2\">\r\n    <g id=\"ytick_1\">\r\n     <g id=\"line2d_12\">\r\n      <defs>\r\n       <path d=\"M 0 0 \r\nL -3.5 0 \r\n\" id=\"m1f1b64d241\" style=\"stroke:#000000;stroke-width:0.8;\"/>\r\n      </defs>\r\n      <g>\r\n       <use style=\"stroke:#000000;stroke-width:0.8;\" x=\"43.78125\" xlink:href=\"#m1f1b64d241\" y=\"279\"/>\r\n      </g>\r\n     </g>\r\n     <g id=\"text_13\">\r\n      <!-- 0.0 -->\r\n      <g transform=\"translate(20.878125 282.799219)scale(0.1 -0.1)\">\r\n       <use xlink:href=\"#DejaVuSans-30\"/>\r\n       <use x=\"63.623047\" xlink:href=\"#DejaVuSans-2e\"/>\r\n       <use x=\"95.410156\" xlink:href=\"#DejaVuSans-30\"/>\r\n      </g>\r\n     </g>\r\n    </g>\r\n    <g id=\"ytick_2\">\r\n     <g id=\"line2d_13\">\r\n      <g>\r\n       <use style=\"stroke:#000000;stroke-width:0.8;\" x=\"43.78125\" xlink:href=\"#m1f1b64d241\" y=\"227.110909\"/>\r\n      </g>\r\n     </g>\r\n     <g id=\"text_14\">\r\n      <!-- 0.2 -->\r\n      <g transform=\"translate(20.878125 230.910128)scale(0.1 -0.1)\">\r\n       <use xlink:href=\"#DejaVuSans-30\"/>\r\n       <use x=\"63.623047\" xlink:href=\"#DejaVuSans-2e\"/>\r\n       <use x=\"95.410156\" xlink:href=\"#DejaVuSans-32\"/>\r\n      </g>\r\n     </g>\r\n    </g>\r\n    <g id=\"ytick_3\">\r\n     <g id=\"line2d_14\">\r\n      <g>\r\n       <use style=\"stroke:#000000;stroke-width:0.8;\" x=\"43.78125\" xlink:href=\"#m1f1b64d241\" y=\"175.221818\"/>\r\n      </g>\r\n     </g>\r\n     <g id=\"text_15\">\r\n      <!-- 0.4 -->\r\n      <g transform=\"translate(20.878125 179.021037)scale(0.1 -0.1)\">\r\n       <use xlink:href=\"#DejaVuSans-30\"/>\r\n       <use x=\"63.623047\" xlink:href=\"#DejaVuSans-2e\"/>\r\n       <use x=\"95.410156\" xlink:href=\"#DejaVuSans-34\"/>\r\n      </g>\r\n     </g>\r\n    </g>\r\n    <g id=\"ytick_4\">\r\n     <g id=\"line2d_15\">\r\n      <g>\r\n       <use style=\"stroke:#000000;stroke-width:0.8;\" x=\"43.78125\" xlink:href=\"#m1f1b64d241\" y=\"123.332727\"/>\r\n      </g>\r\n     </g>\r\n     <g id=\"text_16\">\r\n      <!-- 0.6 -->\r\n      <g transform=\"translate(20.878125 127.131946)scale(0.1 -0.1)\">\r\n       <use xlink:href=\"#DejaVuSans-30\"/>\r\n       <use x=\"63.623047\" xlink:href=\"#DejaVuSans-2e\"/>\r\n       <use x=\"95.410156\" xlink:href=\"#DejaVuSans-36\"/>\r\n      </g>\r\n     </g>\r\n    </g>\r\n    <g id=\"ytick_5\">\r\n     <g id=\"line2d_16\">\r\n      <g>\r\n       <use style=\"stroke:#000000;stroke-width:0.8;\" x=\"43.78125\" xlink:href=\"#m1f1b64d241\" y=\"71.443636\"/>\r\n      </g>\r\n     </g>\r\n     <g id=\"text_17\">\r\n      <!-- 0.8 -->\r\n      <g transform=\"translate(20.878125 75.242855)scale(0.1 -0.1)\">\r\n       <use xlink:href=\"#DejaVuSans-30\"/>\r\n       <use x=\"63.623047\" xlink:href=\"#DejaVuSans-2e\"/>\r\n       <use x=\"95.410156\" xlink:href=\"#DejaVuSans-38\"/>\r\n      </g>\r\n     </g>\r\n    </g>\r\n    <g id=\"ytick_6\">\r\n     <g id=\"line2d_17\">\r\n      <g>\r\n       <use style=\"stroke:#000000;stroke-width:0.8;\" x=\"43.78125\" xlink:href=\"#m1f1b64d241\" y=\"19.554545\"/>\r\n      </g>\r\n     </g>\r\n     <g id=\"text_18\">\r\n      <!-- 1.0 -->\r\n      <g transform=\"translate(20.878125 23.353764)scale(0.1 -0.1)\">\r\n       <use xlink:href=\"#DejaVuSans-31\"/>\r\n       <use x=\"63.623047\" xlink:href=\"#DejaVuSans-2e\"/>\r\n       <use x=\"95.410156\" xlink:href=\"#DejaVuSans-30\"/>\r\n      </g>\r\n     </g>\r\n    </g>\r\n    <g id=\"text_19\">\r\n     <!-- Precision and Recall -->\r\n     <g transform=\"translate(14.798438 192.909375)rotate(-90)scale(0.1 -0.1)\">\r\n      <defs>\r\n       <path d=\"M 1259 4147 \r\nL 1259 2394 \r\nL 2053 2394 \r\nQ 2494 2394 2734 2622 \r\nQ 2975 2850 2975 3272 \r\nQ 2975 3691 2734 3919 \r\nQ 2494 4147 2053 4147 \r\nL 1259 4147 \r\nz\r\nM 628 4666 \r\nL 2053 4666 \r\nQ 2838 4666 3239 4311 \r\nQ 3641 3956 3641 3272 \r\nQ 3641 2581 3239 2228 \r\nQ 2838 1875 2053 1875 \r\nL 1259 1875 \r\nL 1259 0 \r\nL 628 0 \r\nL 628 4666 \r\nz\r\n\" id=\"DejaVuSans-50\" transform=\"scale(0.015625)\"/>\r\n       <path d=\"M 3122 3366 \r\nL 3122 2828 \r\nQ 2878 2963 2633 3030 \r\nQ 2388 3097 2138 3097 \r\nQ 1578 3097 1268 2742 \r\nQ 959 2388 959 1747 \r\nQ 959 1106 1268 751 \r\nQ 1578 397 2138 397 \r\nQ 2388 397 2633 464 \r\nQ 2878 531 3122 666 \r\nL 3122 134 \r\nQ 2881 22 2623 -34 \r\nQ 2366 -91 2075 -91 \r\nQ 1284 -91 818 406 \r\nQ 353 903 353 1747 \r\nQ 353 2603 823 3093 \r\nQ 1294 3584 2113 3584 \r\nQ 2378 3584 2631 3529 \r\nQ 2884 3475 3122 3366 \r\nz\r\n\" id=\"DejaVuSans-63\" transform=\"scale(0.015625)\"/>\r\n       <path d=\"M 603 3500 \r\nL 1178 3500 \r\nL 1178 0 \r\nL 603 0 \r\nL 603 3500 \r\nz\r\nM 603 4863 \r\nL 1178 4863 \r\nL 1178 4134 \r\nL 603 4134 \r\nL 603 4863 \r\nz\r\n\" id=\"DejaVuSans-69\" transform=\"scale(0.015625)\"/>\r\n       <path d=\"M 3513 2113 \r\nL 3513 0 \r\nL 2938 0 \r\nL 2938 2094 \r\nQ 2938 2591 2744 2837 \r\nQ 2550 3084 2163 3084 \r\nQ 1697 3084 1428 2787 \r\nQ 1159 2491 1159 1978 \r\nL 1159 0 \r\nL 581 0 \r\nL 581 3500 \r\nL 1159 3500 \r\nL 1159 2956 \r\nQ 1366 3272 1645 3428 \r\nQ 1925 3584 2291 3584 \r\nQ 2894 3584 3203 3211 \r\nQ 3513 2838 3513 2113 \r\nz\r\n\" id=\"DejaVuSans-6e\" transform=\"scale(0.015625)\"/>\r\n       <path id=\"DejaVuSans-20\" transform=\"scale(0.015625)\"/>\r\n       <path d=\"M 2194 1759 \r\nQ 1497 1759 1228 1600 \r\nQ 959 1441 959 1056 \r\nQ 959 750 1161 570 \r\nQ 1363 391 1709 391 \r\nQ 2188 391 2477 730 \r\nQ 2766 1069 2766 1631 \r\nL 2766 1759 \r\nL 2194 1759 \r\nz\r\nM 3341 1997 \r\nL 3341 0 \r\nL 2766 0 \r\nL 2766 531 \r\nQ 2569 213 2275 61 \r\nQ 1981 -91 1556 -91 \r\nQ 1019 -91 701 211 \r\nQ 384 513 384 1019 \r\nQ 384 1609 779 1909 \r\nQ 1175 2209 1959 2209 \r\nL 2766 2209 \r\nL 2766 2266 \r\nQ 2766 2663 2505 2880 \r\nQ 2244 3097 1772 3097 \r\nQ 1472 3097 1187 3025 \r\nQ 903 2953 641 2809 \r\nL 641 3341 \r\nQ 956 3463 1253 3523 \r\nQ 1550 3584 1831 3584 \r\nQ 2591 3584 2966 3190 \r\nQ 3341 2797 3341 1997 \r\nz\r\n\" id=\"DejaVuSans-61\" transform=\"scale(0.015625)\"/>\r\n       <path d=\"M 2841 2188 \r\nQ 3044 2119 3236 1894 \r\nQ 3428 1669 3622 1275 \r\nL 4263 0 \r\nL 3584 0 \r\nL 2988 1197 \r\nQ 2756 1666 2539 1819 \r\nQ 2322 1972 1947 1972 \r\nL 1259 1972 \r\nL 1259 0 \r\nL 628 0 \r\nL 628 4666 \r\nL 2053 4666 \r\nQ 2853 4666 3247 4331 \r\nQ 3641 3997 3641 3322 \r\nQ 3641 2881 3436 2590 \r\nQ 3231 2300 2841 2188 \r\nz\r\nM 1259 4147 \r\nL 1259 2491 \r\nL 2053 2491 \r\nQ 2509 2491 2742 2702 \r\nQ 2975 2913 2975 3322 \r\nQ 2975 3731 2742 3939 \r\nQ 2509 4147 2053 4147 \r\nL 1259 4147 \r\nz\r\n\" id=\"DejaVuSans-52\" transform=\"scale(0.015625)\"/>\r\n      </defs>\r\n      <use xlink:href=\"#DejaVuSans-50\"/>\r\n      <use x=\"58.552734\" xlink:href=\"#DejaVuSans-72\"/>\r\n      <use x=\"97.416016\" xlink:href=\"#DejaVuSans-65\"/>\r\n      <use x=\"158.939453\" xlink:href=\"#DejaVuSans-63\"/>\r\n      <use x=\"213.919922\" xlink:href=\"#DejaVuSans-69\"/>\r\n      <use x=\"241.703125\" xlink:href=\"#DejaVuSans-73\"/>\r\n      <use x=\"293.802734\" xlink:href=\"#DejaVuSans-69\"/>\r\n      <use x=\"321.585938\" xlink:href=\"#DejaVuSans-6f\"/>\r\n      <use x=\"382.767578\" xlink:href=\"#DejaVuSans-6e\"/>\r\n      <use x=\"446.146484\" xlink:href=\"#DejaVuSans-20\"/>\r\n      <use x=\"477.933594\" xlink:href=\"#DejaVuSans-61\"/>\r\n      <use x=\"539.212891\" xlink:href=\"#DejaVuSans-6e\"/>\r\n      <use x=\"602.591797\" xlink:href=\"#DejaVuSans-64\"/>\r\n      <use x=\"666.068359\" xlink:href=\"#DejaVuSans-20\"/>\r\n      <use x=\"697.855469\" xlink:href=\"#DejaVuSans-52\"/>\r\n      <use x=\"762.837891\" xlink:href=\"#DejaVuSans-65\"/>\r\n      <use x=\"824.361328\" xlink:href=\"#DejaVuSans-63\"/>\r\n      <use x=\"879.341797\" xlink:href=\"#DejaVuSans-61\"/>\r\n      <use x=\"940.621094\" xlink:href=\"#DejaVuSans-6c\"/>\r\n      <use x=\"968.404297\" xlink:href=\"#DejaVuSans-6c\"/>\r\n     </g>\r\n    </g>\r\n   </g>\r\n   <g id=\"line2d_18\">\r\n    <path clip-path=\"url(#p122f74760e)\" d=\"M 103.700713 138.397302 \r\nL 107.980675 136.217938 \r\nL 112.260636 135.061083 \r\nL 120.82056 131.006466 \r\nL 125.100521 132.598636 \r\nL 129.380483 127.176364 \r\nL 133.660445 123.725826 \r\nL 137.940406 120.114799 \r\nL 142.220368 117.892742 \r\nL 146.50033 112.5225 \r\nL 150.780291 113.303743 \r\nL 155.060253 111.899538 \r\nL 159.340215 109.018495 \r\nL 163.620176 107.540395 \r\nL 172.180099 102.105372 \r\nL 176.460061 100.482485 \r\nL 180.740023 99.570433 \r\nL 185.019984 94.39458 \r\nL 189.299946 88.911251 \r\nL 197.859869 87.010364 \r\nL 206.419793 85.73961 \r\nL 219.259678 84.415909 \r\nL 227.819601 80.275822 \r\nL 232.099563 78.139003 \r\nL 240.659486 75.955731 \r\nL 244.939448 73.724476 \r\nL 249.219409 71.443636 \r\nL 262.059294 67.823467 \r\nL 266.339256 68.972727 \r\nL 270.619217 65.532221 \r\nL 274.899179 66.121678 \r\nL 287.739064 63.357025 \r\nL 292.019026 60.519617 \r\nL 296.298987 58.120762 \r\nL 300.578949 59.192045 \r\nL 304.858911 53.395257 \r\nL 309.138872 50.533107 \r\nL 313.418834 43.503357 \r\nL 317.698796 39.823722 \r\nL 321.978757 36.027273 \r\nL 326.258719 36.567362 \r\nL 330.53868 32.526818 \r\nL 334.818642 28.50094 \r\nL 339.098604 24.10622 \r\nL 343.378565 24.1875 \r\nL 351.938489 24.271736 \r\nL 369.058335 19.554545 \r\nL 377.618259 19.554545 \r\nL 399.018067 19.554545 \r\nL 403.298029 19.554545 \r\nL 407.57799 19.554545 \r\nL 411.857952 19.554545 \r\nL 416.137913 19.554545 \r\nL 420.417875 19.554545 \r\nL 424.697837 19.554545 \r\nL 428.977798 19.554545 \r\nL 433.25776 19.554545 \r\nL 437.537722 19.554545 \r\nL 441.817683 19.554545 \r\nL 446.097645 19.554545 \r\nL 450.377607 19.554545 \r\nL 454.657568 19.554545 \r\nL 458.93753 19.554545 \r\nL 463.217492 19.554545 \r\nL 467.497453 19.554545 \r\nL 471.777415 19.554545 \r\n\" style=\"fill:none;stroke:#1f77b4;stroke-dasharray:5.55,2.4;stroke-dashoffset:0;stroke-width:1.5;\"/>\r\n   </g>\r\n   <g id=\"line2d_19\">\r\n    <path clip-path=\"url(#p122f74760e)\" d=\"M 103.700713 19.554545 \r\nL 107.980675 25.731818 \r\nL 112.260636 28.820455 \r\nL 120.82056 28.820455 \r\nL 125.100521 34.997727 \r\nL 129.380483 34.997727 \r\nL 133.660445 34.997727 \r\nL 137.940406 34.997727 \r\nL 142.220368 41.175 \r\nL 146.50033 41.175 \r\nL 150.780291 44.263636 \r\nL 155.060253 44.263636 \r\nL 159.340215 44.263636 \r\nL 163.620176 44.263636 \r\nL 172.180099 47.352273 \r\nL 176.460061 47.352273 \r\nL 180.740023 50.440909 \r\nL 185.019984 50.440909 \r\nL 189.299946 50.440909 \r\nL 197.859869 50.440909 \r\nL 206.419793 53.529545 \r\nL 219.259678 56.618182 \r\nL 227.819601 56.618182 \r\nL 232.099563 56.618182 \r\nL 240.659486 56.618182 \r\nL 244.939448 56.618182 \r\nL 249.219409 56.618182 \r\nL 262.059294 62.795455 \r\nL 266.339256 68.972727 \r\nL 270.619217 78.238636 \r\nL 274.899179 81.327273 \r\nL 287.739064 81.327273 \r\nL 292.019026 81.327273 \r\nL 296.298987 84.415909 \r\nL 300.578949 90.593182 \r\nL 304.858911 93.681818 \r\nL 309.138872 96.770455 \r\nL 313.418834 96.770455 \r\nL 317.698796 96.770455 \r\nL 321.978757 96.770455 \r\nL 326.258719 102.947727 \r\nL 330.53868 102.947727 \r\nL 334.818642 106.036364 \r\nL 339.098604 106.036364 \r\nL 343.378565 109.125 \r\nL 351.938489 112.213636 \r\nL 369.058335 115.302273 \r\nL 377.618259 118.390909 \r\nL 399.018067 121.479545 \r\nL 403.298029 124.568182 \r\nL 407.57799 127.656818 \r\nL 411.857952 130.745455 \r\nL 416.137913 133.834091 \r\nL 420.417875 136.922727 \r\nL 424.697837 143.1 \r\nL 428.977798 149.277273 \r\nL 433.25776 161.631818 \r\nL 437.537722 170.897727 \r\nL 441.817683 186.340909 \r\nL 446.097645 201.784091 \r\nL 450.377607 214.138636 \r\nL 454.657568 226.493182 \r\nL 458.93753 232.670455 \r\nL 463.217492 248.113636 \r\nL 467.497453 251.202273 \r\nL 471.777415 266.645455 \r\n\" style=\"fill:none;stroke:#ff7f0e;stroke-linecap:square;stroke-width:1.5;\"/>\r\n   </g>\r\n   <g id=\"patch_3\">\r\n    <path d=\"M 43.78125 279 \r\nL 43.78125 7.2 \r\n\" style=\"fill:none;stroke:#000000;stroke-linecap:square;stroke-linejoin:miter;stroke-width:0.8;\"/>\r\n   </g>\r\n   <g id=\"patch_4\">\r\n    <path d=\"M 490.18125 279 \r\nL 490.18125 7.2 \r\n\" style=\"fill:none;stroke:#000000;stroke-linecap:square;stroke-linejoin:miter;stroke-width:0.8;\"/>\r\n   </g>\r\n   <g id=\"patch_5\">\r\n    <path d=\"M 43.78125 279 \r\nL 490.18125 279 \r\n\" style=\"fill:none;stroke:#000000;stroke-linecap:square;stroke-linejoin:miter;stroke-width:0.8;\"/>\r\n   </g>\r\n   <g id=\"patch_6\">\r\n    <path d=\"M 43.78125 7.2 \r\nL 490.18125 7.2 \r\n\" style=\"fill:none;stroke:#000000;stroke-linecap:square;stroke-linejoin:miter;stroke-width:0.8;\"/>\r\n   </g>\r\n   <g id=\"legend_1\">\r\n    <g id=\"patch_7\">\r\n     <path d=\"M 50.78125 274 \r\nL 127.889063 274 \r\nQ 129.889063 274 129.889063 272 \r\nL 129.889063 243.64375 \r\nQ 129.889063 241.64375 127.889063 241.64375 \r\nL 50.78125 241.64375 \r\nQ 48.78125 241.64375 48.78125 243.64375 \r\nL 48.78125 272 \r\nQ 48.78125 274 50.78125 274 \r\nz\r\n\" style=\"fill:#ffffff;opacity:0.8;stroke:#cccccc;stroke-linejoin:miter;\"/>\r\n    </g>\r\n    <g id=\"line2d_20\">\r\n     <path d=\"M 52.78125 249.742187 \r\nL 72.78125 249.742187 \r\n\" style=\"fill:none;stroke:#1f77b4;stroke-dasharray:5.55,2.4;stroke-dashoffset:0;stroke-width:1.5;\"/>\r\n    </g>\r\n    <g id=\"line2d_21\"/>\r\n    <g id=\"text_20\">\r\n     <!-- precision -->\r\n     <g transform=\"translate(80.78125 253.242187)scale(0.1 -0.1)\">\r\n      <defs>\r\n       <path d=\"M 1159 525 \r\nL 1159 -1331 \r\nL 581 -1331 \r\nL 581 3500 \r\nL 1159 3500 \r\nL 1159 2969 \r\nQ 1341 3281 1617 3432 \r\nQ 1894 3584 2278 3584 \r\nQ 2916 3584 3314 3078 \r\nQ 3713 2572 3713 1747 \r\nQ 3713 922 3314 415 \r\nQ 2916 -91 2278 -91 \r\nQ 1894 -91 1617 61 \r\nQ 1341 213 1159 525 \r\nz\r\nM 3116 1747 \r\nQ 3116 2381 2855 2742 \r\nQ 2594 3103 2138 3103 \r\nQ 1681 3103 1420 2742 \r\nQ 1159 2381 1159 1747 \r\nQ 1159 1113 1420 752 \r\nQ 1681 391 2138 391 \r\nQ 2594 391 2855 752 \r\nQ 3116 1113 3116 1747 \r\nz\r\n\" id=\"DejaVuSans-70\" transform=\"scale(0.015625)\"/>\r\n      </defs>\r\n      <use xlink:href=\"#DejaVuSans-70\"/>\r\n      <use x=\"63.476562\" xlink:href=\"#DejaVuSans-72\"/>\r\n      <use x=\"102.339844\" xlink:href=\"#DejaVuSans-65\"/>\r\n      <use x=\"163.863281\" xlink:href=\"#DejaVuSans-63\"/>\r\n      <use x=\"218.84375\" xlink:href=\"#DejaVuSans-69\"/>\r\n      <use x=\"246.626953\" xlink:href=\"#DejaVuSans-73\"/>\r\n      <use x=\"298.726562\" xlink:href=\"#DejaVuSans-69\"/>\r\n      <use x=\"326.509766\" xlink:href=\"#DejaVuSans-6f\"/>\r\n      <use x=\"387.691406\" xlink:href=\"#DejaVuSans-6e\"/>\r\n     </g>\r\n    </g>\r\n    <g id=\"line2d_22\">\r\n     <path d=\"M 52.78125 264.420312 \r\nL 72.78125 264.420312 \r\n\" style=\"fill:none;stroke:#ff7f0e;stroke-linecap:square;stroke-width:1.5;\"/>\r\n    </g>\r\n    <g id=\"line2d_23\"/>\r\n    <g id=\"text_21\">\r\n     <!-- recall -->\r\n     <g transform=\"translate(80.78125 267.920312)scale(0.1 -0.1)\">\r\n      <use xlink:href=\"#DejaVuSans-72\"/>\r\n      <use x=\"38.863281\" xlink:href=\"#DejaVuSans-65\"/>\r\n      <use x=\"100.386719\" xlink:href=\"#DejaVuSans-63\"/>\r\n      <use x=\"155.367188\" xlink:href=\"#DejaVuSans-61\"/>\r\n      <use x=\"216.646484\" xlink:href=\"#DejaVuSans-6c\"/>\r\n      <use x=\"244.429688\" xlink:href=\"#DejaVuSans-6c\"/>\r\n     </g>\r\n    </g>\r\n   </g>\r\n  </g>\r\n </g>\r\n <defs>\r\n  <clipPath id=\"p122f74760e\">\r\n   <rect height=\"271.8\" width=\"446.4\" x=\"43.78125\" y=\"7.2\"/>\r\n  </clipPath>\r\n </defs>\r\n</svg>\r\n",
      "image/png": "[encoded data removed]"
     },
     "metadata": {
      "needs_background": "light"
     }
    }
   ],
   "source": [
    "plt.figure(figsize = (8,5))\n",
    "plt.plot(thresholds, precisions[0:thresholds.shape[0]], linestyle = '--', label = 'precision' )\n",
    "plt.plot(thresholds, recalls[0:thresholds.shape[0]], label = 'recall')\n",
    "plt.xticks(np.arange(0,1.1,0.1))\n",
    "plt.xlabel('Thresholds') ; plt.ylabel('Precision and Recall')\n",
    "plt.legend()\n",
    "plt.show()"
   ]
  },
  {
   "cell_type": "code",
   "execution_count": 67,
   "metadata": {},
   "outputs": [
    {
     "output_type": "display_data",
     "data": {
      "text/plain": "<Figure size 432x288 with 1 Axes>",
      "image/svg+xml": "<?xml version=\"1.0\" encoding=\"utf-8\" standalone=\"no\"?>\r\n<!DOCTYPE svg PUBLIC \"-//W3C//DTD SVG 1.1//EN\"\r\n  \"http://www.w3.org/Graphics/SVG/1.1/DTD/svg11.dtd\">\r\n<svg height=\"262.19625pt\" version=\"1.1\" viewBox=\"0 0 385.78125 262.19625\" width=\"385.78125pt\" xmlns=\"http://www.w3.org/2000/svg\" xmlns:xlink=\"http://www.w3.org/1999/xlink\">\r\n <metadata>\r\n  <rdf:RDF xmlns:cc=\"http://creativecommons.org/ns#\" xmlns:dc=\"http://purl.org/dc/elements/1.1/\" xmlns:rdf=\"http://www.w3.org/1999/02/22-rdf-syntax-ns#\">\r\n   <cc:Work>\r\n    <dc:type rdf:resource=\"http://purl.org/dc/dcmitype/StillImage\"/>\r\n    <dc:date>2021-06-20T14:11:33.468331</dc:date>\r\n    <dc:format>image/svg+xml</dc:format>\r\n    <dc:creator>\r\n     <cc:Agent>\r\n      <dc:title>Matplotlib v3.4.2, https://matplotlib.org/</dc:title>\r\n     </cc:Agent>\r\n    </dc:creator>\r\n   </cc:Work>\r\n  </rdf:RDF>\r\n </metadata>\r\n <defs>\r\n  <style type=\"text/css\">*{stroke-linecap:butt;stroke-linejoin:round;}</style>\r\n </defs>\r\n <g id=\"figure_1\">\r\n  <g id=\"patch_1\">\r\n   <path d=\"M 0 262.19625 \r\nL 385.78125 262.19625 \r\nL 385.78125 0 \r\nL 0 0 \r\nz\r\n\" style=\"fill:none;\"/>\r\n  </g>\r\n  <g id=\"axes_1\">\r\n   <g id=\"patch_2\">\r\n    <path d=\"M 43.78125 224.64 \r\nL 378.58125 224.64 \r\nL 378.58125 7.2 \r\nL 43.78125 7.2 \r\nz\r\n\" style=\"fill:#ffffff;\"/>\r\n   </g>\r\n   <g id=\"matplotlib.axis_1\">\r\n    <g id=\"xtick_1\">\r\n     <g id=\"line2d_1\">\r\n      <defs>\r\n       <path d=\"M 0 0 \r\nL 0 3.5 \r\n\" id=\"mbd465da5d4\" style=\"stroke:#000000;stroke-width:0.8;\"/>\r\n      </defs>\r\n      <g>\r\n       <use style=\"stroke:#000000;stroke-width:0.8;\" x=\"58.999432\" xlink:href=\"#mbd465da5d4\" y=\"224.64\"/>\r\n      </g>\r\n     </g>\r\n     <g id=\"text_1\">\r\n      <!-- 0.0 -->\r\n      <g transform=\"translate(51.047869 239.238437)scale(0.1 -0.1)\">\r\n       <defs>\r\n        <path d=\"M 2034 4250 \r\nQ 1547 4250 1301 3770 \r\nQ 1056 3291 1056 2328 \r\nQ 1056 1369 1301 889 \r\nQ 1547 409 2034 409 \r\nQ 2525 409 2770 889 \r\nQ 3016 1369 3016 2328 \r\nQ 3016 3291 2770 3770 \r\nQ 2525 4250 2034 4250 \r\nz\r\nM 2034 4750 \r\nQ 2819 4750 3233 4129 \r\nQ 3647 3509 3647 2328 \r\nQ 3647 1150 3233 529 \r\nQ 2819 -91 2034 -91 \r\nQ 1250 -91 836 529 \r\nQ 422 1150 422 2328 \r\nQ 422 3509 836 4129 \r\nQ 1250 4750 2034 4750 \r\nz\r\n\" id=\"DejaVuSans-30\" transform=\"scale(0.015625)\"/>\r\n        <path d=\"M 684 794 \r\nL 1344 794 \r\nL 1344 0 \r\nL 684 0 \r\nL 684 794 \r\nz\r\n\" id=\"DejaVuSans-2e\" transform=\"scale(0.015625)\"/>\r\n       </defs>\r\n       <use xlink:href=\"#DejaVuSans-30\"/>\r\n       <use x=\"63.623047\" xlink:href=\"#DejaVuSans-2e\"/>\r\n       <use x=\"95.410156\" xlink:href=\"#DejaVuSans-30\"/>\r\n      </g>\r\n     </g>\r\n    </g>\r\n    <g id=\"xtick_2\">\r\n     <g id=\"line2d_2\">\r\n      <g>\r\n       <use style=\"stroke:#000000;stroke-width:0.8;\" x=\"119.872159\" xlink:href=\"#mbd465da5d4\" y=\"224.64\"/>\r\n      </g>\r\n     </g>\r\n     <g id=\"text_2\">\r\n      <!-- 0.2 -->\r\n      <g transform=\"translate(111.920597 239.238437)scale(0.1 -0.1)\">\r\n       <defs>\r\n        <path d=\"M 1228 531 \r\nL 3431 531 \r\nL 3431 0 \r\nL 469 0 \r\nL 469 531 \r\nQ 828 903 1448 1529 \r\nQ 2069 2156 2228 2338 \r\nQ 2531 2678 2651 2914 \r\nQ 2772 3150 2772 3378 \r\nQ 2772 3750 2511 3984 \r\nQ 2250 4219 1831 4219 \r\nQ 1534 4219 1204 4116 \r\nQ 875 4013 500 3803 \r\nL 500 4441 \r\nQ 881 4594 1212 4672 \r\nQ 1544 4750 1819 4750 \r\nQ 2544 4750 2975 4387 \r\nQ 3406 4025 3406 3419 \r\nQ 3406 3131 3298 2873 \r\nQ 3191 2616 2906 2266 \r\nQ 2828 2175 2409 1742 \r\nQ 1991 1309 1228 531 \r\nz\r\n\" id=\"DejaVuSans-32\" transform=\"scale(0.015625)\"/>\r\n       </defs>\r\n       <use xlink:href=\"#DejaVuSans-30\"/>\r\n       <use x=\"63.623047\" xlink:href=\"#DejaVuSans-2e\"/>\r\n       <use x=\"95.410156\" xlink:href=\"#DejaVuSans-32\"/>\r\n      </g>\r\n     </g>\r\n    </g>\r\n    <g id=\"xtick_3\">\r\n     <g id=\"line2d_3\">\r\n      <g>\r\n       <use style=\"stroke:#000000;stroke-width:0.8;\" x=\"180.744886\" xlink:href=\"#mbd465da5d4\" y=\"224.64\"/>\r\n      </g>\r\n     </g>\r\n     <g id=\"text_3\">\r\n      <!-- 0.4 -->\r\n      <g transform=\"translate(172.793324 239.238437)scale(0.1 -0.1)\">\r\n       <defs>\r\n        <path d=\"M 2419 4116 \r\nL 825 1625 \r\nL 2419 1625 \r\nL 2419 4116 \r\nz\r\nM 2253 4666 \r\nL 3047 4666 \r\nL 3047 1625 \r\nL 3713 1625 \r\nL 3713 1100 \r\nL 3047 1100 \r\nL 3047 0 \r\nL 2419 0 \r\nL 2419 1100 \r\nL 313 1100 \r\nL 313 1709 \r\nL 2253 4666 \r\nz\r\n\" id=\"DejaVuSans-34\" transform=\"scale(0.015625)\"/>\r\n       </defs>\r\n       <use xlink:href=\"#DejaVuSans-30\"/>\r\n       <use x=\"63.623047\" xlink:href=\"#DejaVuSans-2e\"/>\r\n       <use x=\"95.410156\" xlink:href=\"#DejaVuSans-34\"/>\r\n      </g>\r\n     </g>\r\n    </g>\r\n    <g id=\"xtick_4\">\r\n     <g id=\"line2d_4\">\r\n      <g>\r\n       <use style=\"stroke:#000000;stroke-width:0.8;\" x=\"241.617614\" xlink:href=\"#mbd465da5d4\" y=\"224.64\"/>\r\n      </g>\r\n     </g>\r\n     <g id=\"text_4\">\r\n      <!-- 0.6 -->\r\n      <g transform=\"translate(233.666051 239.238437)scale(0.1 -0.1)\">\r\n       <defs>\r\n        <path d=\"M 2113 2584 \r\nQ 1688 2584 1439 2293 \r\nQ 1191 2003 1191 1497 \r\nQ 1191 994 1439 701 \r\nQ 1688 409 2113 409 \r\nQ 2538 409 2786 701 \r\nQ 3034 994 3034 1497 \r\nQ 3034 2003 2786 2293 \r\nQ 2538 2584 2113 2584 \r\nz\r\nM 3366 4563 \r\nL 3366 3988 \r\nQ 3128 4100 2886 4159 \r\nQ 2644 4219 2406 4219 \r\nQ 1781 4219 1451 3797 \r\nQ 1122 3375 1075 2522 \r\nQ 1259 2794 1537 2939 \r\nQ 1816 3084 2150 3084 \r\nQ 2853 3084 3261 2657 \r\nQ 3669 2231 3669 1497 \r\nQ 3669 778 3244 343 \r\nQ 2819 -91 2113 -91 \r\nQ 1303 -91 875 529 \r\nQ 447 1150 447 2328 \r\nQ 447 3434 972 4092 \r\nQ 1497 4750 2381 4750 \r\nQ 2619 4750 2861 4703 \r\nQ 3103 4656 3366 4563 \r\nz\r\n\" id=\"DejaVuSans-36\" transform=\"scale(0.015625)\"/>\r\n       </defs>\r\n       <use xlink:href=\"#DejaVuSans-30\"/>\r\n       <use x=\"63.623047\" xlink:href=\"#DejaVuSans-2e\"/>\r\n       <use x=\"95.410156\" xlink:href=\"#DejaVuSans-36\"/>\r\n      </g>\r\n     </g>\r\n    </g>\r\n    <g id=\"xtick_5\">\r\n     <g id=\"line2d_5\">\r\n      <g>\r\n       <use style=\"stroke:#000000;stroke-width:0.8;\" x=\"302.490341\" xlink:href=\"#mbd465da5d4\" y=\"224.64\"/>\r\n      </g>\r\n     </g>\r\n     <g id=\"text_5\">\r\n      <!-- 0.8 -->\r\n      <g transform=\"translate(294.538778 239.238437)scale(0.1 -0.1)\">\r\n       <defs>\r\n        <path d=\"M 2034 2216 \r\nQ 1584 2216 1326 1975 \r\nQ 1069 1734 1069 1313 \r\nQ 1069 891 1326 650 \r\nQ 1584 409 2034 409 \r\nQ 2484 409 2743 651 \r\nQ 3003 894 3003 1313 \r\nQ 3003 1734 2745 1975 \r\nQ 2488 2216 2034 2216 \r\nz\r\nM 1403 2484 \r\nQ 997 2584 770 2862 \r\nQ 544 3141 544 3541 \r\nQ 544 4100 942 4425 \r\nQ 1341 4750 2034 4750 \r\nQ 2731 4750 3128 4425 \r\nQ 3525 4100 3525 3541 \r\nQ 3525 3141 3298 2862 \r\nQ 3072 2584 2669 2484 \r\nQ 3125 2378 3379 2068 \r\nQ 3634 1759 3634 1313 \r\nQ 3634 634 3220 271 \r\nQ 2806 -91 2034 -91 \r\nQ 1263 -91 848 271 \r\nQ 434 634 434 1313 \r\nQ 434 1759 690 2068 \r\nQ 947 2378 1403 2484 \r\nz\r\nM 1172 3481 \r\nQ 1172 3119 1398 2916 \r\nQ 1625 2713 2034 2713 \r\nQ 2441 2713 2670 2916 \r\nQ 2900 3119 2900 3481 \r\nQ 2900 3844 2670 4047 \r\nQ 2441 4250 2034 4250 \r\nQ 1625 4250 1398 4047 \r\nQ 1172 3844 1172 3481 \r\nz\r\n\" id=\"DejaVuSans-38\" transform=\"scale(0.015625)\"/>\r\n       </defs>\r\n       <use xlink:href=\"#DejaVuSans-30\"/>\r\n       <use x=\"63.623047\" xlink:href=\"#DejaVuSans-2e\"/>\r\n       <use x=\"95.410156\" xlink:href=\"#DejaVuSans-38\"/>\r\n      </g>\r\n     </g>\r\n    </g>\r\n    <g id=\"xtick_6\">\r\n     <g id=\"line2d_6\">\r\n      <g>\r\n       <use style=\"stroke:#000000;stroke-width:0.8;\" x=\"363.363068\" xlink:href=\"#mbd465da5d4\" y=\"224.64\"/>\r\n      </g>\r\n     </g>\r\n     <g id=\"text_6\">\r\n      <!-- 1.0 -->\r\n      <g transform=\"translate(355.411506 239.238437)scale(0.1 -0.1)\">\r\n       <defs>\r\n        <path d=\"M 794 531 \r\nL 1825 531 \r\nL 1825 4091 \r\nL 703 3866 \r\nL 703 4441 \r\nL 1819 4666 \r\nL 2450 4666 \r\nL 2450 531 \r\nL 3481 531 \r\nL 3481 0 \r\nL 794 0 \r\nL 794 531 \r\nz\r\n\" id=\"DejaVuSans-31\" transform=\"scale(0.015625)\"/>\r\n       </defs>\r\n       <use xlink:href=\"#DejaVuSans-31\"/>\r\n       <use x=\"63.623047\" xlink:href=\"#DejaVuSans-2e\"/>\r\n       <use x=\"95.410156\" xlink:href=\"#DejaVuSans-30\"/>\r\n      </g>\r\n     </g>\r\n    </g>\r\n    <g id=\"text_7\">\r\n     <!-- FPR -->\r\n     <g transform=\"translate(201.816406 252.916562)scale(0.1 -0.1)\">\r\n      <defs>\r\n       <path d=\"M 628 4666 \r\nL 3309 4666 \r\nL 3309 4134 \r\nL 1259 4134 \r\nL 1259 2759 \r\nL 3109 2759 \r\nL 3109 2228 \r\nL 1259 2228 \r\nL 1259 0 \r\nL 628 0 \r\nL 628 4666 \r\nz\r\n\" id=\"DejaVuSans-46\" transform=\"scale(0.015625)\"/>\r\n       <path d=\"M 1259 4147 \r\nL 1259 2394 \r\nL 2053 2394 \r\nQ 2494 2394 2734 2622 \r\nQ 2975 2850 2975 3272 \r\nQ 2975 3691 2734 3919 \r\nQ 2494 4147 2053 4147 \r\nL 1259 4147 \r\nz\r\nM 628 4666 \r\nL 2053 4666 \r\nQ 2838 4666 3239 4311 \r\nQ 3641 3956 3641 3272 \r\nQ 3641 2581 3239 2228 \r\nQ 2838 1875 2053 1875 \r\nL 1259 1875 \r\nL 1259 0 \r\nL 628 0 \r\nL 628 4666 \r\nz\r\n\" id=\"DejaVuSans-50\" transform=\"scale(0.015625)\"/>\r\n       <path d=\"M 2841 2188 \r\nQ 3044 2119 3236 1894 \r\nQ 3428 1669 3622 1275 \r\nL 4263 0 \r\nL 3584 0 \r\nL 2988 1197 \r\nQ 2756 1666 2539 1819 \r\nQ 2322 1972 1947 1972 \r\nL 1259 1972 \r\nL 1259 0 \r\nL 628 0 \r\nL 628 4666 \r\nL 2053 4666 \r\nQ 2853 4666 3247 4331 \r\nQ 3641 3997 3641 3322 \r\nQ 3641 2881 3436 2590 \r\nQ 3231 2300 2841 2188 \r\nz\r\nM 1259 4147 \r\nL 1259 2491 \r\nL 2053 2491 \r\nQ 2509 2491 2742 2702 \r\nQ 2975 2913 2975 3322 \r\nQ 2975 3731 2742 3939 \r\nQ 2509 4147 2053 4147 \r\nL 1259 4147 \r\nz\r\n\" id=\"DejaVuSans-52\" transform=\"scale(0.015625)\"/>\r\n      </defs>\r\n      <use xlink:href=\"#DejaVuSans-46\"/>\r\n      <use x=\"57.519531\" xlink:href=\"#DejaVuSans-50\"/>\r\n      <use x=\"117.822266\" xlink:href=\"#DejaVuSans-52\"/>\r\n     </g>\r\n    </g>\r\n   </g>\r\n   <g id=\"matplotlib.axis_2\">\r\n    <g id=\"ytick_1\">\r\n     <g id=\"line2d_7\">\r\n      <defs>\r\n       <path d=\"M 0 0 \r\nL -3.5 0 \r\n\" id=\"m5f2737a282\" style=\"stroke:#000000;stroke-width:0.8;\"/>\r\n      </defs>\r\n      <g>\r\n       <use style=\"stroke:#000000;stroke-width:0.8;\" x=\"43.78125\" xlink:href=\"#m5f2737a282\" y=\"214.756364\"/>\r\n      </g>\r\n     </g>\r\n     <g id=\"text_8\">\r\n      <!-- 0.0 -->\r\n      <g transform=\"translate(20.878125 218.555582)scale(0.1 -0.1)\">\r\n       <use xlink:href=\"#DejaVuSans-30\"/>\r\n       <use x=\"63.623047\" xlink:href=\"#DejaVuSans-2e\"/>\r\n       <use x=\"95.410156\" xlink:href=\"#DejaVuSans-30\"/>\r\n      </g>\r\n     </g>\r\n    </g>\r\n    <g id=\"ytick_2\">\r\n     <g id=\"line2d_8\">\r\n      <g>\r\n       <use style=\"stroke:#000000;stroke-width:0.8;\" x=\"43.78125\" xlink:href=\"#m5f2737a282\" y=\"175.221818\"/>\r\n      </g>\r\n     </g>\r\n     <g id=\"text_9\">\r\n      <!-- 0.2 -->\r\n      <g transform=\"translate(20.878125 179.021037)scale(0.1 -0.1)\">\r\n       <use xlink:href=\"#DejaVuSans-30\"/>\r\n       <use x=\"63.623047\" xlink:href=\"#DejaVuSans-2e\"/>\r\n       <use x=\"95.410156\" xlink:href=\"#DejaVuSans-32\"/>\r\n      </g>\r\n     </g>\r\n    </g>\r\n    <g id=\"ytick_3\">\r\n     <g id=\"line2d_9\">\r\n      <g>\r\n       <use style=\"stroke:#000000;stroke-width:0.8;\" x=\"43.78125\" xlink:href=\"#m5f2737a282\" y=\"135.687273\"/>\r\n      </g>\r\n     </g>\r\n     <g id=\"text_10\">\r\n      <!-- 0.4 -->\r\n      <g transform=\"translate(20.878125 139.486491)scale(0.1 -0.1)\">\r\n       <use xlink:href=\"#DejaVuSans-30\"/>\r\n       <use x=\"63.623047\" xlink:href=\"#DejaVuSans-2e\"/>\r\n       <use x=\"95.410156\" xlink:href=\"#DejaVuSans-34\"/>\r\n      </g>\r\n     </g>\r\n    </g>\r\n    <g id=\"ytick_4\">\r\n     <g id=\"line2d_10\">\r\n      <g>\r\n       <use style=\"stroke:#000000;stroke-width:0.8;\" x=\"43.78125\" xlink:href=\"#m5f2737a282\" y=\"96.152727\"/>\r\n      </g>\r\n     </g>\r\n     <g id=\"text_11\">\r\n      <!-- 0.6 -->\r\n      <g transform=\"translate(20.878125 99.951946)scale(0.1 -0.1)\">\r\n       <use xlink:href=\"#DejaVuSans-30\"/>\r\n       <use x=\"63.623047\" xlink:href=\"#DejaVuSans-2e\"/>\r\n       <use x=\"95.410156\" xlink:href=\"#DejaVuSans-36\"/>\r\n      </g>\r\n     </g>\r\n    </g>\r\n    <g id=\"ytick_5\">\r\n     <g id=\"line2d_11\">\r\n      <g>\r\n       <use style=\"stroke:#000000;stroke-width:0.8;\" x=\"43.78125\" xlink:href=\"#m5f2737a282\" y=\"56.618182\"/>\r\n      </g>\r\n     </g>\r\n     <g id=\"text_12\">\r\n      <!-- 0.8 -->\r\n      <g transform=\"translate(20.878125 60.417401)scale(0.1 -0.1)\">\r\n       <use xlink:href=\"#DejaVuSans-30\"/>\r\n       <use x=\"63.623047\" xlink:href=\"#DejaVuSans-2e\"/>\r\n       <use x=\"95.410156\" xlink:href=\"#DejaVuSans-38\"/>\r\n      </g>\r\n     </g>\r\n    </g>\r\n    <g id=\"ytick_6\">\r\n     <g id=\"line2d_12\">\r\n      <g>\r\n       <use style=\"stroke:#000000;stroke-width:0.8;\" x=\"43.78125\" xlink:href=\"#m5f2737a282\" y=\"17.083636\"/>\r\n      </g>\r\n     </g>\r\n     <g id=\"text_13\">\r\n      <!-- 1.0 -->\r\n      <g transform=\"translate(20.878125 20.882855)scale(0.1 -0.1)\">\r\n       <use xlink:href=\"#DejaVuSans-31\"/>\r\n       <use x=\"63.623047\" xlink:href=\"#DejaVuSans-2e\"/>\r\n       <use x=\"95.410156\" xlink:href=\"#DejaVuSans-30\"/>\r\n      </g>\r\n     </g>\r\n    </g>\r\n    <g id=\"text_14\">\r\n     <!-- TPR -->\r\n     <g transform=\"translate(14.798438 125.462969)rotate(-90)scale(0.1 -0.1)\">\r\n      <defs>\r\n       <path d=\"M -19 4666 \r\nL 3928 4666 \r\nL 3928 4134 \r\nL 2272 4134 \r\nL 2272 0 \r\nL 1638 0 \r\nL 1638 4134 \r\nL -19 4134 \r\nL -19 4666 \r\nz\r\n\" id=\"DejaVuSans-54\" transform=\"scale(0.015625)\"/>\r\n      </defs>\r\n      <use xlink:href=\"#DejaVuSans-54\"/>\r\n      <use x=\"61.083984\" xlink:href=\"#DejaVuSans-50\"/>\r\n      <use x=\"121.386719\" xlink:href=\"#DejaVuSans-52\"/>\r\n     </g>\r\n    </g>\r\n   </g>\r\n   <g id=\"line2d_13\">\r\n    <path clip-path=\"url(#p23efa67abd)\" d=\"M 58.999432 214.756364 \r\nL 58.999432 205.872196 \r\nL 61.270802 196.988029 \r\nL 61.270802 194.766987 \r\nL 63.542173 185.882819 \r\nL 63.542173 181.440735 \r\nL 63.542173 172.556568 \r\nL 68.084914 168.114484 \r\nL 68.084914 145.904065 \r\nL 68.084914 139.24094 \r\nL 68.084914 130.356772 \r\nL 70.356284 128.13573 \r\nL 70.356284 123.693647 \r\nL 70.356284 108.146353 \r\nL 70.356284 103.70427 \r\nL 70.356284 101.483228 \r\nL 72.627654 101.483228 \r\nL 72.627654 99.262186 \r\nL 72.627654 94.820102 \r\nL 74.899025 94.820102 \r\nL 77.170395 92.59906 \r\nL 77.170395 88.156977 \r\nL 81.713136 83.714893 \r\nL 88.527247 83.714893 \r\nL 90.798618 81.493851 \r\nL 90.798618 77.051767 \r\nL 90.798618 74.830725 \r\nL 93.069988 74.830725 \r\nL 93.069988 72.609683 \r\nL 102.15547 70.388641 \r\nL 104.42684 68.1676 \r\nL 108.969581 63.725516 \r\nL 111.240951 63.725516 \r\nL 111.240951 59.283432 \r\nL 113.512322 59.283432 \r\nL 113.512322 54.841348 \r\nL 118.055063 50.399265 \r\nL 120.326433 50.399265 \r\nL 127.140544 50.399265 \r\nL 129.411915 45.957181 \r\nL 133.954656 45.957181 \r\nL 136.226026 45.957181 \r\nL 145.311508 43.736139 \r\nL 147.582878 43.736139 \r\nL 149.854249 41.515097 \r\nL 152.125619 41.515097 \r\nL 152.125619 39.294055 \r\nL 158.93973 37.073013 \r\nL 170.296582 37.073013 \r\nL 177.110694 37.073013 \r\nL 181.653435 34.851971 \r\nL 193.010287 34.851971 \r\nL 197.553027 34.851971 \r\nL 204.367139 32.63093 \r\nL 211.18125 32.63093 \r\nL 222.538102 30.409888 \r\nL 229.352213 28.188846 \r\nL 231.623584 28.188846 \r\nL 240.709065 28.188846 \r\nL 247.523177 28.188846 \r\nL 252.065918 28.188846 \r\nL 283.865103 28.188846 \r\nL 299.764696 25.967804 \r\nL 315.664289 19.304678 \r\nL 320.20703 19.304678 \r\nL 331.563882 19.304678 \r\nL 347.463475 19.304678 \r\nL 354.277586 17.083636 \r\nL 363.363068 17.083636 \r\n\" style=\"fill:none;stroke:#1f77b4;stroke-linecap:square;stroke-width:1.5;\"/>\r\n   </g>\r\n   <g id=\"line2d_14\">\r\n    <path clip-path=\"url(#p23efa67abd)\" d=\"M 58.999432 214.756364 \r\nL 363.363068 17.083636 \r\n\" style=\"fill:none;stroke:#000000;stroke-dasharray:5.55,2.4;stroke-dashoffset:0;stroke-width:1.5;\"/>\r\n   </g>\r\n   <g id=\"patch_3\">\r\n    <path d=\"M 43.78125 224.64 \r\nL 43.78125 7.2 \r\n\" style=\"fill:none;stroke:#000000;stroke-linecap:square;stroke-linejoin:miter;stroke-width:0.8;\"/>\r\n   </g>\r\n   <g id=\"patch_4\">\r\n    <path d=\"M 378.58125 224.64 \r\nL 378.58125 7.2 \r\n\" style=\"fill:none;stroke:#000000;stroke-linecap:square;stroke-linejoin:miter;stroke-width:0.8;\"/>\r\n   </g>\r\n   <g id=\"patch_5\">\r\n    <path d=\"M 43.78125 224.64 \r\nL 378.58125 224.64 \r\n\" style=\"fill:none;stroke:#000000;stroke-linecap:square;stroke-linejoin:miter;stroke-width:0.8;\"/>\r\n   </g>\r\n   <g id=\"patch_6\">\r\n    <path d=\"M 43.78125 7.2 \r\nL 378.58125 7.2 \r\n\" style=\"fill:none;stroke:#000000;stroke-linecap:square;stroke-linejoin:miter;stroke-width:0.8;\"/>\r\n   </g>\r\n   <g id=\"legend_1\">\r\n    <g id=\"patch_7\">\r\n     <path d=\"M 50.78125 44.55625 \r\nL 124.178125 44.55625 \r\nQ 126.178125 44.55625 126.178125 42.55625 \r\nL 126.178125 14.2 \r\nQ 126.178125 12.2 124.178125 12.2 \r\nL 50.78125 12.2 \r\nQ 48.78125 12.2 48.78125 14.2 \r\nL 48.78125 42.55625 \r\nQ 48.78125 44.55625 50.78125 44.55625 \r\nz\r\n\" style=\"fill:#ffffff;opacity:0.8;stroke:#cccccc;stroke-linejoin:miter;\"/>\r\n    </g>\r\n    <g id=\"line2d_15\">\r\n     <path d=\"M 52.78125 20.298437 \r\nL 72.78125 20.298437 \r\n\" style=\"fill:none;stroke:#1f77b4;stroke-linecap:square;stroke-width:1.5;\"/>\r\n    </g>\r\n    <g id=\"line2d_16\"/>\r\n    <g id=\"text_15\">\r\n     <!-- ROC -->\r\n     <g transform=\"translate(80.78125 23.798437)scale(0.1 -0.1)\">\r\n      <defs>\r\n       <path d=\"M 2522 4238 \r\nQ 1834 4238 1429 3725 \r\nQ 1025 3213 1025 2328 \r\nQ 1025 1447 1429 934 \r\nQ 1834 422 2522 422 \r\nQ 3209 422 3611 934 \r\nQ 4013 1447 4013 2328 \r\nQ 4013 3213 3611 3725 \r\nQ 3209 4238 2522 4238 \r\nz\r\nM 2522 4750 \r\nQ 3503 4750 4090 4092 \r\nQ 4678 3434 4678 2328 \r\nQ 4678 1225 4090 567 \r\nQ 3503 -91 2522 -91 \r\nQ 1538 -91 948 565 \r\nQ 359 1222 359 2328 \r\nQ 359 3434 948 4092 \r\nQ 1538 4750 2522 4750 \r\nz\r\n\" id=\"DejaVuSans-4f\" transform=\"scale(0.015625)\"/>\r\n       <path d=\"M 4122 4306 \r\nL 4122 3641 \r\nQ 3803 3938 3442 4084 \r\nQ 3081 4231 2675 4231 \r\nQ 1875 4231 1450 3742 \r\nQ 1025 3253 1025 2328 \r\nQ 1025 1406 1450 917 \r\nQ 1875 428 2675 428 \r\nQ 3081 428 3442 575 \r\nQ 3803 722 4122 1019 \r\nL 4122 359 \r\nQ 3791 134 3420 21 \r\nQ 3050 -91 2638 -91 \r\nQ 1578 -91 968 557 \r\nQ 359 1206 359 2328 \r\nQ 359 3453 968 4101 \r\nQ 1578 4750 2638 4750 \r\nQ 3056 4750 3426 4639 \r\nQ 3797 4528 4122 4306 \r\nz\r\n\" id=\"DejaVuSans-43\" transform=\"scale(0.015625)\"/>\r\n      </defs>\r\n      <use xlink:href=\"#DejaVuSans-52\"/>\r\n      <use x=\"69.482422\" xlink:href=\"#DejaVuSans-4f\"/>\r\n      <use x=\"148.193359\" xlink:href=\"#DejaVuSans-43\"/>\r\n     </g>\r\n    </g>\r\n    <g id=\"line2d_17\">\r\n     <path d=\"M 52.78125 34.976562 \r\nL 72.78125 34.976562 \r\n\" style=\"fill:none;stroke:#000000;stroke-dasharray:5.55,2.4;stroke-dashoffset:0;stroke-width:1.5;\"/>\r\n    </g>\r\n    <g id=\"line2d_18\"/>\r\n    <g id=\"text_16\">\r\n     <!-- Random -->\r\n     <g transform=\"translate(80.78125 38.476562)scale(0.1 -0.1)\">\r\n      <defs>\r\n       <path d=\"M 2194 1759 \r\nQ 1497 1759 1228 1600 \r\nQ 959 1441 959 1056 \r\nQ 959 750 1161 570 \r\nQ 1363 391 1709 391 \r\nQ 2188 391 2477 730 \r\nQ 2766 1069 2766 1631 \r\nL 2766 1759 \r\nL 2194 1759 \r\nz\r\nM 3341 1997 \r\nL 3341 0 \r\nL 2766 0 \r\nL 2766 531 \r\nQ 2569 213 2275 61 \r\nQ 1981 -91 1556 -91 \r\nQ 1019 -91 701 211 \r\nQ 384 513 384 1019 \r\nQ 384 1609 779 1909 \r\nQ 1175 2209 1959 2209 \r\nL 2766 2209 \r\nL 2766 2266 \r\nQ 2766 2663 2505 2880 \r\nQ 2244 3097 1772 3097 \r\nQ 1472 3097 1187 3025 \r\nQ 903 2953 641 2809 \r\nL 641 3341 \r\nQ 956 3463 1253 3523 \r\nQ 1550 3584 1831 3584 \r\nQ 2591 3584 2966 3190 \r\nQ 3341 2797 3341 1997 \r\nz\r\n\" id=\"DejaVuSans-61\" transform=\"scale(0.015625)\"/>\r\n       <path d=\"M 3513 2113 \r\nL 3513 0 \r\nL 2938 0 \r\nL 2938 2094 \r\nQ 2938 2591 2744 2837 \r\nQ 2550 3084 2163 3084 \r\nQ 1697 3084 1428 2787 \r\nQ 1159 2491 1159 1978 \r\nL 1159 0 \r\nL 581 0 \r\nL 581 3500 \r\nL 1159 3500 \r\nL 1159 2956 \r\nQ 1366 3272 1645 3428 \r\nQ 1925 3584 2291 3584 \r\nQ 2894 3584 3203 3211 \r\nQ 3513 2838 3513 2113 \r\nz\r\n\" id=\"DejaVuSans-6e\" transform=\"scale(0.015625)\"/>\r\n       <path d=\"M 2906 2969 \r\nL 2906 4863 \r\nL 3481 4863 \r\nL 3481 0 \r\nL 2906 0 \r\nL 2906 525 \r\nQ 2725 213 2448 61 \r\nQ 2172 -91 1784 -91 \r\nQ 1150 -91 751 415 \r\nQ 353 922 353 1747 \r\nQ 353 2572 751 3078 \r\nQ 1150 3584 1784 3584 \r\nQ 2172 3584 2448 3432 \r\nQ 2725 3281 2906 2969 \r\nz\r\nM 947 1747 \r\nQ 947 1113 1208 752 \r\nQ 1469 391 1925 391 \r\nQ 2381 391 2643 752 \r\nQ 2906 1113 2906 1747 \r\nQ 2906 2381 2643 2742 \r\nQ 2381 3103 1925 3103 \r\nQ 1469 3103 1208 2742 \r\nQ 947 2381 947 1747 \r\nz\r\n\" id=\"DejaVuSans-64\" transform=\"scale(0.015625)\"/>\r\n       <path d=\"M 1959 3097 \r\nQ 1497 3097 1228 2736 \r\nQ 959 2375 959 1747 \r\nQ 959 1119 1226 758 \r\nQ 1494 397 1959 397 \r\nQ 2419 397 2687 759 \r\nQ 2956 1122 2956 1747 \r\nQ 2956 2369 2687 2733 \r\nQ 2419 3097 1959 3097 \r\nz\r\nM 1959 3584 \r\nQ 2709 3584 3137 3096 \r\nQ 3566 2609 3566 1747 \r\nQ 3566 888 3137 398 \r\nQ 2709 -91 1959 -91 \r\nQ 1206 -91 779 398 \r\nQ 353 888 353 1747 \r\nQ 353 2609 779 3096 \r\nQ 1206 3584 1959 3584 \r\nz\r\n\" id=\"DejaVuSans-6f\" transform=\"scale(0.015625)\"/>\r\n       <path d=\"M 3328 2828 \r\nQ 3544 3216 3844 3400 \r\nQ 4144 3584 4550 3584 \r\nQ 5097 3584 5394 3201 \r\nQ 5691 2819 5691 2113 \r\nL 5691 0 \r\nL 5113 0 \r\nL 5113 2094 \r\nQ 5113 2597 4934 2840 \r\nQ 4756 3084 4391 3084 \r\nQ 3944 3084 3684 2787 \r\nQ 3425 2491 3425 1978 \r\nL 3425 0 \r\nL 2847 0 \r\nL 2847 2094 \r\nQ 2847 2600 2669 2842 \r\nQ 2491 3084 2119 3084 \r\nQ 1678 3084 1418 2786 \r\nQ 1159 2488 1159 1978 \r\nL 1159 0 \r\nL 581 0 \r\nL 581 3500 \r\nL 1159 3500 \r\nL 1159 2956 \r\nQ 1356 3278 1631 3431 \r\nQ 1906 3584 2284 3584 \r\nQ 2666 3584 2933 3390 \r\nQ 3200 3197 3328 2828 \r\nz\r\n\" id=\"DejaVuSans-6d\" transform=\"scale(0.015625)\"/>\r\n      </defs>\r\n      <use xlink:href=\"#DejaVuSans-52\"/>\r\n      <use x=\"67.232422\" xlink:href=\"#DejaVuSans-61\"/>\r\n      <use x=\"128.511719\" xlink:href=\"#DejaVuSans-6e\"/>\r\n      <use x=\"191.890625\" xlink:href=\"#DejaVuSans-64\"/>\r\n      <use x=\"255.367188\" xlink:href=\"#DejaVuSans-6f\"/>\r\n      <use x=\"316.548828\" xlink:href=\"#DejaVuSans-6d\"/>\r\n     </g>\r\n    </g>\r\n   </g>\r\n  </g>\r\n </g>\r\n <defs>\r\n  <clipPath id=\"p23efa67abd\">\r\n   <rect height=\"217.44\" width=\"334.8\" x=\"43.78125\" y=\"7.2\"/>\r\n  </clipPath>\r\n </defs>\r\n</svg>\r\n",
      "image/png": "[encoded data removed]"
     },
     "metadata": {
      "needs_background": "light"
     }
    }
   ],
   "source": [
    "fprs, tprs, thresholds = roc_curve(y_test, success)\n",
    "\n",
    "plt.plot(fprs, tprs, label = 'ROC')\n",
    "plt.plot([0,1], [0,1], 'k--', label = 'Random')\n",
    "plt.xlabel('FPR') ; plt.ylabel('TPR')\n",
    "plt.legend()\n",
    "plt.show()"
   ]
  },
  {
   "cell_type": "code",
   "execution_count": null,
   "metadata": {},
   "outputs": [],
   "source": []
  }
 ]
}