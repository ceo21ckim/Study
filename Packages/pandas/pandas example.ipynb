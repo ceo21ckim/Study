{
 "cells": [
  {
   "cell_type": "code",
   "execution_count": 2,
   "source": [
    "import numpy as np \r\n",
    "import pandas as pd\r\n",
    "import os"
   ],
   "outputs": [],
   "metadata": {}
  },
  {
   "cell_type": "code",
   "execution_count": 13,
   "source": [
    "os.getcwd()"
   ],
   "outputs": [
    {
     "output_type": "execute_result",
     "data": {
      "text/plain": [
       "'c:\\\\Users\\\\EonKim\\\\Desktop\\\\경희대\\\\books\\\\python'"
      ]
     },
     "metadata": {},
     "execution_count": 13
    }
   ],
   "metadata": {}
  },
  {
   "cell_type": "code",
   "execution_count": 17,
   "source": [
    "aptsales = pd.read_csv('dataset\\\\apt_sales.csv', encoding = 'cp949')\r\n",
    "aptinfo = pd.read_csv('dataset\\\\apt_basicinfo.csv', encoding = 'cp949')\r\n",
    "housesales = pd.read_csv('dataset\\\\house_sales.csv', encoding = 'cp949')\r\n",
    "houseinfo = pd.read_csv('dataset\\\\house_basicinfo.csv', encoding = 'cp949')"
   ],
   "outputs": [],
   "metadata": {}
  },
  {
   "cell_type": "code",
   "execution_count": 26,
   "source": [
    "print(f'apt_sales shape : {aptsales.shape}')\r\n",
    "print(f'apt_info shape : {aptinfo.shape}')\r\n",
    "print(f'house_sales shape : {housesales.shape}')\r\n",
    "print(f'house_info shape : {houseinfo.shape}')"
   ],
   "outputs": [
    {
     "output_type": "stream",
     "name": "stdout",
     "text": [
      "apt_sales shape : (4776, 10)\n",
      "apt_info shape : (4776, 12)\n",
      "house_sales shape : (1322, 8)\n",
      "house_info shape : (1322, 11)\n"
     ]
    }
   ],
   "metadata": {}
  },
  {
   "cell_type": "markdown",
   "source": [
    "1. 단독주택 매매거래 정보를 사용하여 다음의 질문에 답하세요. 실행 가능한 코드를 제외한 \r\n",
    "답안은 반드시 주석으로 처리하여 오류가 발생하지 않아야 합니다\r\n"
   ],
   "metadata": {}
  },
  {
   "cell_type": "code",
   "execution_count": 34,
   "source": [
    "# (1) info( ) 함수를 사용하여 단독주택 매매거래 데이터에 총 몇 개의 변수가 저장되어 있는지 \r\n",
    "# 확인하고, 그 중 매매가격(salesPrice)은 몇 번째에 위치해 있는지 적으시오\r\n",
    "\r\n",
    "housesales.info()\r\n",
    "\r\n",
    "# 맨 마지막에 위치하고 있으며, 8번째에 위치하고 있습니다. "
   ],
   "outputs": [
    {
     "output_type": "stream",
     "name": "stdout",
     "text": [
      "<class 'pandas.core.frame.DataFrame'>\n",
      "RangeIndex: 1322 entries, 0 to 1321\n",
      "Data columns (total 8 columns):\n",
      " #   Column      Non-Null Count  Dtype \n",
      "---  ------      --------------  ----- \n",
      " 0   id          1322 non-null   int64 \n",
      " 1   si          1322 non-null   object\n",
      " 2   gu          1322 non-null   object\n",
      " 3   dong        1322 non-null   object\n",
      " 4   bunji       1322 non-null   object\n",
      " 5   yearSold    1322 non-null   int64 \n",
      " 6   daySold     1322 non-null   object\n",
      " 7   salesPrice  1322 non-null   int64 \n",
      "dtypes: int64(3), object(5)\n",
      "memory usage: 82.8+ KB\n"
     ]
    }
   ],
   "metadata": {}
  },
  {
   "cell_type": "code",
   "execution_count": 47,
   "source": [
    "# (2) rename( )함수를 사용하여 단독주택 데이터에 변수명을 si는 city로, gu는 district로 수정하세요.\r\n",
    "houseinfo.rename(columns = {'si' : 'city', 'gu' : 'district'}, inplace = True)\r\n",
    "housesales.rename(columns = {'si' : 'city', 'gu' : 'district'}, inplace = True)"
   ],
   "outputs": [],
   "metadata": {}
  },
  {
   "cell_type": "code",
   "execution_count": 62,
   "source": [
    "# (3) merge( )함수를 사용하여 단독주택 매매거래 데이터와 기본 정보를 id 변수를 기준으로 \r\n",
    "# 결합하고 이를 새로운 데이터 프레임으로 저장하는 코드를 적으시오. 데이터 프레임에 중복되는 변수는 제거하시기 바랍니다\r\n",
    "\r\n",
    "house = houseinfo.merge(housesales)\r\n",
    "# pd.merge(houseinfo, house.sales)"
   ],
   "outputs": [],
   "metadata": {}
  },
  {
   "cell_type": "code",
   "execution_count": 71,
   "source": [
    "# (4) 단위면적(landSize) 당 매매가격을 나타내는 새로운 파생변수가 포함된 데이터 프레임을 만드는 코드를 적으시오\r\n",
    "\r\n",
    "house['Price per landSize'] = np.round(house['salesPrice'] / house['landSize'],3)\r\n",
    "house.head()"
   ],
   "outputs": [
    {
     "output_type": "execute_result",
     "data": {
      "text/plain": [
       "   id   city district dong bunji type roadCondition  buildingSize  landSize  \\\n",
       "0   1  서울특별시      성북구  길음동   5**   단독          8m미만         19.83      46.0   \n",
       "1   2  서울특별시      성북구  길음동   5**   단독          8m미만         24.97      53.0   \n",
       "2   3  서울특별시      성북구  길음동   4**   단독             -         70.83      57.0   \n",
       "3   4  서울특별시      성북구  길음동   5**   단독          8m미만         51.00      60.0   \n",
       "4   5  서울특별시      성북구  길음동   5**   단독          8m미만         39.67      63.0   \n",
       "\n",
       "   yearBuilt   address  yearSold daySold  salesPrice  Price per landSize  \n",
       "0     1980.0     길음로1길    201801   11~20       32330             702.826  \n",
       "1     1985.0  동소문로43다길    201805   11~20       39500             745.283  \n",
       "2     1991.0   숭인로16가길    201802   21~28       59000            1035.088  \n",
       "3     1985.0     길음로5길    201801    1~10       52800             880.000  \n",
       "4     1940.0    길음로1가길    201803    1~10       38300             607.937  "
      ],
      "text/html": [
       "<div>\n",
       "<style scoped>\n",
       "    .dataframe tbody tr th:only-of-type {\n",
       "        vertical-align: middle;\n",
       "    }\n",
       "\n",
       "    .dataframe tbody tr th {\n",
       "        vertical-align: top;\n",
       "    }\n",
       "\n",
       "    .dataframe thead th {\n",
       "        text-align: right;\n",
       "    }\n",
       "</style>\n",
       "<table border=\"1\" class=\"dataframe\">\n",
       "  <thead>\n",
       "    <tr style=\"text-align: right;\">\n",
       "      <th></th>\n",
       "      <th>id</th>\n",
       "      <th>city</th>\n",
       "      <th>district</th>\n",
       "      <th>dong</th>\n",
       "      <th>bunji</th>\n",
       "      <th>type</th>\n",
       "      <th>roadCondition</th>\n",
       "      <th>buildingSize</th>\n",
       "      <th>landSize</th>\n",
       "      <th>yearBuilt</th>\n",
       "      <th>address</th>\n",
       "      <th>yearSold</th>\n",
       "      <th>daySold</th>\n",
       "      <th>salesPrice</th>\n",
       "      <th>Price per landSize</th>\n",
       "    </tr>\n",
       "  </thead>\n",
       "  <tbody>\n",
       "    <tr>\n",
       "      <th>0</th>\n",
       "      <td>1</td>\n",
       "      <td>서울특별시</td>\n",
       "      <td>성북구</td>\n",
       "      <td>길음동</td>\n",
       "      <td>5**</td>\n",
       "      <td>단독</td>\n",
       "      <td>8m미만</td>\n",
       "      <td>19.83</td>\n",
       "      <td>46.0</td>\n",
       "      <td>1980.0</td>\n",
       "      <td>길음로1길</td>\n",
       "      <td>201801</td>\n",
       "      <td>11~20</td>\n",
       "      <td>32330</td>\n",
       "      <td>702.826</td>\n",
       "    </tr>\n",
       "    <tr>\n",
       "      <th>1</th>\n",
       "      <td>2</td>\n",
       "      <td>서울특별시</td>\n",
       "      <td>성북구</td>\n",
       "      <td>길음동</td>\n",
       "      <td>5**</td>\n",
       "      <td>단독</td>\n",
       "      <td>8m미만</td>\n",
       "      <td>24.97</td>\n",
       "      <td>53.0</td>\n",
       "      <td>1985.0</td>\n",
       "      <td>동소문로43다길</td>\n",
       "      <td>201805</td>\n",
       "      <td>11~20</td>\n",
       "      <td>39500</td>\n",
       "      <td>745.283</td>\n",
       "    </tr>\n",
       "    <tr>\n",
       "      <th>2</th>\n",
       "      <td>3</td>\n",
       "      <td>서울특별시</td>\n",
       "      <td>성북구</td>\n",
       "      <td>길음동</td>\n",
       "      <td>4**</td>\n",
       "      <td>단독</td>\n",
       "      <td>-</td>\n",
       "      <td>70.83</td>\n",
       "      <td>57.0</td>\n",
       "      <td>1991.0</td>\n",
       "      <td>숭인로16가길</td>\n",
       "      <td>201802</td>\n",
       "      <td>21~28</td>\n",
       "      <td>59000</td>\n",
       "      <td>1035.088</td>\n",
       "    </tr>\n",
       "    <tr>\n",
       "      <th>3</th>\n",
       "      <td>4</td>\n",
       "      <td>서울특별시</td>\n",
       "      <td>성북구</td>\n",
       "      <td>길음동</td>\n",
       "      <td>5**</td>\n",
       "      <td>단독</td>\n",
       "      <td>8m미만</td>\n",
       "      <td>51.00</td>\n",
       "      <td>60.0</td>\n",
       "      <td>1985.0</td>\n",
       "      <td>길음로5길</td>\n",
       "      <td>201801</td>\n",
       "      <td>1~10</td>\n",
       "      <td>52800</td>\n",
       "      <td>880.000</td>\n",
       "    </tr>\n",
       "    <tr>\n",
       "      <th>4</th>\n",
       "      <td>5</td>\n",
       "      <td>서울특별시</td>\n",
       "      <td>성북구</td>\n",
       "      <td>길음동</td>\n",
       "      <td>5**</td>\n",
       "      <td>단독</td>\n",
       "      <td>8m미만</td>\n",
       "      <td>39.67</td>\n",
       "      <td>63.0</td>\n",
       "      <td>1940.0</td>\n",
       "      <td>길음로1가길</td>\n",
       "      <td>201803</td>\n",
       "      <td>1~10</td>\n",
       "      <td>38300</td>\n",
       "      <td>607.937</td>\n",
       "    </tr>\n",
       "  </tbody>\n",
       "</table>\n",
       "</div>"
      ]
     },
     "metadata": {},
     "execution_count": 71
    }
   ],
   "metadata": {}
  },
  {
   "cell_type": "code",
   "execution_count": 72,
   "source": [
    "# (5) describe( ) 함수를 사용하여 동대문구에 소재한 단독주택의 단위면적 당 매매가격 분포를 살펴보는 코드를 적으시오. \r\n",
    "\r\n",
    "house[ house['district'] == '동대문구' ]['Price per landSize'].describe() "
   ],
   "outputs": [
    {
     "output_type": "execute_result",
     "data": {
      "text/plain": [
       "count     627.000000\n",
       "mean      557.621900\n",
       "std       215.184696\n",
       "min         5.022000\n",
       "25%       441.832500\n",
       "50%       516.854000\n",
       "75%       618.993000\n",
       "max      2642.857000\n",
       "Name: Price per landSize, dtype: float64"
      ]
     },
     "metadata": {},
     "execution_count": 72
    }
   ],
   "metadata": {}
  },
  {
   "cell_type": "markdown",
   "source": [
    "2. 아파트 매매거래 정보를 사용하여 다음의 질문에 답하세요. 실행 가능한 코드를 제외한 답\r\n",
    "안은 반드시 주석으로 처리하여 오류가 발생하지 않아야 합니다"
   ],
   "metadata": {}
  },
  {
   "cell_type": "code",
   "execution_count": 73,
   "source": [
    "# (6) info( ) 함수를 사용하여 아파트 매매거래 데이터에 총 몇 개의 변수가 저장되어 있는지 \r\n",
    "# 확인하고, 그 중 매매가격(salesPrice)은 몇 번째에 위치해 있는지 적으시오.\r\n",
    "\r\n",
    "aptsales.info()\r\n",
    "# 마지막에 위치해 있습니다. "
   ],
   "outputs": [
    {
     "output_type": "stream",
     "name": "stdout",
     "text": [
      "<class 'pandas.core.frame.DataFrame'>\n",
      "RangeIndex: 4776 entries, 0 to 4775\n",
      "Data columns (total 10 columns):\n",
      " #   Column      Non-Null Count  Dtype \n",
      "---  ------      --------------  ----- \n",
      " 0   id          4776 non-null   int64 \n",
      " 1   si          4776 non-null   object\n",
      " 2   gu          4776 non-null   object\n",
      " 3   dong        4776 non-null   object\n",
      " 4   bunji       4776 non-null   object\n",
      " 5   mainBun     4776 non-null   int64 \n",
      " 6   subBun      4776 non-null   int64 \n",
      " 7   yearSold    4776 non-null   int64 \n",
      " 8   daySold     4776 non-null   object\n",
      " 9   salesPrice  4776 non-null   int64 \n",
      "dtypes: int64(5), object(5)\n",
      "memory usage: 373.2+ KB\n"
     ]
    }
   ],
   "metadata": {}
  },
  {
   "cell_type": "code",
   "execution_count": 75,
   "source": [
    "# (7) rename( ) 함수를 사용하여 단독주택 데이터에 변수명을 si는 city로, gu는 district로 수정하세요.\r\n",
    "\r\n",
    "aptsales.rename(columns = {'si' : 'city', 'gu' : 'district'}, inplace = True)\r\n",
    "aptinfo.rename(columns = {'si' : 'city', 'gu' : 'district'}, inplace = True)"
   ],
   "outputs": [],
   "metadata": {}
  },
  {
   "cell_type": "code",
   "execution_count": 80,
   "source": [
    "# (8) merge( ) 함수를 사용하여 아파트 매매거래 데이터와 기본 정보를 id 변수를 기준으로 결합하고 \r\n",
    "# 이를 새로운 데이터 프레임으로 저장하는 코드를 적으시오. 데이터 프레임에 중복되는 변수는 제거하시기 바랍니다\r\n",
    "\r\n",
    "apt_df = aptinfo.merge(aptsales)\r\n",
    "apt_df.info()"
   ],
   "outputs": [
    {
     "output_type": "stream",
     "name": "stdout",
     "text": [
      "<class 'pandas.core.frame.DataFrame'>\n",
      "Int64Index: 4776 entries, 0 to 4775\n",
      "Data columns (total 15 columns):\n",
      " #   Column         Non-Null Count  Dtype  \n",
      "---  ------         --------------  -----  \n",
      " 0   id             4776 non-null   int64  \n",
      " 1   city           4776 non-null   object \n",
      " 2   district       4776 non-null   object \n",
      " 3   dong           4776 non-null   object \n",
      " 4   bunji          4776 non-null   object \n",
      " 5   mainBun        4776 non-null   int64  \n",
      " 6   subBun         4776 non-null   int64  \n",
      " 7   apartmentName  4776 non-null   object \n",
      " 8   size           4776 non-null   float64\n",
      " 9   floor          4776 non-null   int64  \n",
      " 10  yearBuilt      4776 non-null   int64  \n",
      " 11  address        4772 non-null   object \n",
      " 12  yearSold       4776 non-null   int64  \n",
      " 13  daySold        4776 non-null   object \n",
      " 14  salesPrice     4776 non-null   int64  \n",
      "dtypes: float64(1), int64(7), object(7)\n",
      "memory usage: 597.0+ KB\n"
     ]
    }
   ],
   "metadata": {}
  },
  {
   "cell_type": "code",
   "execution_count": 83,
   "source": [
    "# (9) 단위면적(size) 당 매매가격을 나타내는 새로운 파생변수가 포함된 데이터 프레임을 만드는 코드를 적으시오. \r\n",
    "apt_df['Price per size'] = np.round(apt_df['salesPrice'] / apt_df['size'],3)\r\n",
    "apt_df.head()"
   ],
   "outputs": [
    {
     "output_type": "execute_result",
     "data": {
      "text/plain": [
       "   id   city district  dong bunji  mainBun  subBun apartmentName    size  \\\n",
       "0   1  서울특별시     동대문구  답십리동   111      111       0         답십리대우  114.94   \n",
       "1   2  서울특별시     동대문구  답십리동   111      111       0         답십리대우   59.76   \n",
       "2   3  서울특별시     동대문구  답십리동   111      111       0         답십리대우   59.76   \n",
       "3   4  서울특별시     동대문구  답십리동   111      111       0         답십리대우  114.94   \n",
       "4   5  서울특별시     동대문구  답십리동   111      111       0         답십리대우   59.76   \n",
       "\n",
       "   floor  yearBuilt  address  yearSold daySold  salesPrice  Price per size  \n",
       "0     11       2002  답십리로41길    201801    1~10       59000         513.311  \n",
       "1     17       2002  답십리로41길    201801    1~10       41500         694.444  \n",
       "2     17       2002  답십리로41길    201801   11~20       42000         702.811  \n",
       "3      5       2002  답십리로41길    201802    1~10       56000         487.211  \n",
       "4     22       2002  답십리로41길    201804    1~10       45000         753.012  "
      ],
      "text/html": [
       "<div>\n",
       "<style scoped>\n",
       "    .dataframe tbody tr th:only-of-type {\n",
       "        vertical-align: middle;\n",
       "    }\n",
       "\n",
       "    .dataframe tbody tr th {\n",
       "        vertical-align: top;\n",
       "    }\n",
       "\n",
       "    .dataframe thead th {\n",
       "        text-align: right;\n",
       "    }\n",
       "</style>\n",
       "<table border=\"1\" class=\"dataframe\">\n",
       "  <thead>\n",
       "    <tr style=\"text-align: right;\">\n",
       "      <th></th>\n",
       "      <th>id</th>\n",
       "      <th>city</th>\n",
       "      <th>district</th>\n",
       "      <th>dong</th>\n",
       "      <th>bunji</th>\n",
       "      <th>mainBun</th>\n",
       "      <th>subBun</th>\n",
       "      <th>apartmentName</th>\n",
       "      <th>size</th>\n",
       "      <th>floor</th>\n",
       "      <th>yearBuilt</th>\n",
       "      <th>address</th>\n",
       "      <th>yearSold</th>\n",
       "      <th>daySold</th>\n",
       "      <th>salesPrice</th>\n",
       "      <th>Price per size</th>\n",
       "    </tr>\n",
       "  </thead>\n",
       "  <tbody>\n",
       "    <tr>\n",
       "      <th>0</th>\n",
       "      <td>1</td>\n",
       "      <td>서울특별시</td>\n",
       "      <td>동대문구</td>\n",
       "      <td>답십리동</td>\n",
       "      <td>111</td>\n",
       "      <td>111</td>\n",
       "      <td>0</td>\n",
       "      <td>답십리대우</td>\n",
       "      <td>114.94</td>\n",
       "      <td>11</td>\n",
       "      <td>2002</td>\n",
       "      <td>답십리로41길</td>\n",
       "      <td>201801</td>\n",
       "      <td>1~10</td>\n",
       "      <td>59000</td>\n",
       "      <td>513.311</td>\n",
       "    </tr>\n",
       "    <tr>\n",
       "      <th>1</th>\n",
       "      <td>2</td>\n",
       "      <td>서울특별시</td>\n",
       "      <td>동대문구</td>\n",
       "      <td>답십리동</td>\n",
       "      <td>111</td>\n",
       "      <td>111</td>\n",
       "      <td>0</td>\n",
       "      <td>답십리대우</td>\n",
       "      <td>59.76</td>\n",
       "      <td>17</td>\n",
       "      <td>2002</td>\n",
       "      <td>답십리로41길</td>\n",
       "      <td>201801</td>\n",
       "      <td>1~10</td>\n",
       "      <td>41500</td>\n",
       "      <td>694.444</td>\n",
       "    </tr>\n",
       "    <tr>\n",
       "      <th>2</th>\n",
       "      <td>3</td>\n",
       "      <td>서울특별시</td>\n",
       "      <td>동대문구</td>\n",
       "      <td>답십리동</td>\n",
       "      <td>111</td>\n",
       "      <td>111</td>\n",
       "      <td>0</td>\n",
       "      <td>답십리대우</td>\n",
       "      <td>59.76</td>\n",
       "      <td>17</td>\n",
       "      <td>2002</td>\n",
       "      <td>답십리로41길</td>\n",
       "      <td>201801</td>\n",
       "      <td>11~20</td>\n",
       "      <td>42000</td>\n",
       "      <td>702.811</td>\n",
       "    </tr>\n",
       "    <tr>\n",
       "      <th>3</th>\n",
       "      <td>4</td>\n",
       "      <td>서울특별시</td>\n",
       "      <td>동대문구</td>\n",
       "      <td>답십리동</td>\n",
       "      <td>111</td>\n",
       "      <td>111</td>\n",
       "      <td>0</td>\n",
       "      <td>답십리대우</td>\n",
       "      <td>114.94</td>\n",
       "      <td>5</td>\n",
       "      <td>2002</td>\n",
       "      <td>답십리로41길</td>\n",
       "      <td>201802</td>\n",
       "      <td>1~10</td>\n",
       "      <td>56000</td>\n",
       "      <td>487.211</td>\n",
       "    </tr>\n",
       "    <tr>\n",
       "      <th>4</th>\n",
       "      <td>5</td>\n",
       "      <td>서울특별시</td>\n",
       "      <td>동대문구</td>\n",
       "      <td>답십리동</td>\n",
       "      <td>111</td>\n",
       "      <td>111</td>\n",
       "      <td>0</td>\n",
       "      <td>답십리대우</td>\n",
       "      <td>59.76</td>\n",
       "      <td>22</td>\n",
       "      <td>2002</td>\n",
       "      <td>답십리로41길</td>\n",
       "      <td>201804</td>\n",
       "      <td>1~10</td>\n",
       "      <td>45000</td>\n",
       "      <td>753.012</td>\n",
       "    </tr>\n",
       "  </tbody>\n",
       "</table>\n",
       "</div>"
      ]
     },
     "metadata": {},
     "execution_count": 83
    }
   ],
   "metadata": {}
  },
  {
   "cell_type": "code",
   "execution_count": 85,
   "source": [
    "# (10) describe( ) 함수를 사용하여 동대문구에 소재한 단독주택의 단위면적 당 매매가격 분포를 살펴보는 코드를 적으시오.\r\n",
    "apt_df[apt_df['district'] == '동대문구' ]['Price per size'].describe()"
   ],
   "outputs": [
    {
     "output_type": "execute_result",
     "data": {
      "text/plain": [
       "count    1699.000000\n",
       "mean      642.484417\n",
       "std       176.967880\n",
       "min       279.413000\n",
       "25%       518.304000\n",
       "50%       608.435000\n",
       "75%       717.104500\n",
       "max      1366.894000\n",
       "Name: Price per size, dtype: float64"
      ]
     },
     "metadata": {},
     "execution_count": 85
    }
   ],
   "metadata": {}
  },
  {
   "cell_type": "code",
   "execution_count": 94,
   "source": [
    "# (11) cut( ) 함수를 사용하여 salesPrice 변수 데이터를 4개 구간으로 나누고 구간에 따라 \r\n",
    "# “A”, “B”, “C”, “D” 값을 입력하고 저장하는 코드를 적으시오.\r\n",
    "\r\n",
    "apt_df['salesPrice labels'] = pd.cut(apt_df['salesPrice'], bins = 4, labels = ['A', 'B', 'C', 'D'])\r\n",
    "apt_df['salesPrice labels'].value_counts()"
   ],
   "outputs": [
    {
     "output_type": "execute_result",
     "data": {
      "text/plain": [
       "B    3390\n",
       "C     674\n",
       "A     652\n",
       "D      60\n",
       "Name: salesPrice labels, dtype: int64"
      ]
     },
     "metadata": {},
     "execution_count": 94
    }
   ],
   "metadata": {}
  },
  {
   "cell_type": "code",
   "execution_count": 103,
   "source": [
    "# (12) 건축 연도(yearBuilt)에 따라 더미변수를 나타내는 새로운 새로운 파생변수를 만들고 저장하는 코드를 적으시오. \r\n",
    "# (2000년 이전은 “0”으로 이후는 “1”로 입력하세요.)\r\n",
    "\r\n",
    "apt_df['yearBuilt dummy'] = apt_df['yearBuilt'].apply(lambda x: '1' if x >= 2000 else '0')"
   ],
   "outputs": [],
   "metadata": {}
  },
  {
   "cell_type": "markdown",
   "source": [
    "3. mpg 데이터를 이용하여 아래의 문제를 해결해 보세요. 실행 가능한 코드를 제외한 답안은 \r\n",
    "반드시 주석으로 처리하여 오류가 발생하지 않아야 합니다. mpg.csv 데이터에는 자동차에 대\r\n",
    "한 다양한 정보가 포함되어 있습니다. 데이터의 변수들은 아래와 같은 속성을 의미합니다."
   ],
   "metadata": {}
  },
  {
   "cell_type": "code",
   "execution_count": 105,
   "source": [
    "mpg = pd.read_csv('dataset\\\\mpg.csv', encoding = 'cp949')"
   ],
   "outputs": [],
   "metadata": {}
  },
  {
   "cell_type": "markdown",
   "source": [
    "- manufacturer : 제조 회사\r\n",
    "- model : 자동차 모델명\r\n",
    "- displ : 배기량(displacement)\r\n",
    "- year : 생산연도\r\n",
    "- cyl : 실린더 개수\r\n",
    "- trans : 변속기 종류(transmission)\r\n",
    "- drv : 구동 방식(drive wheel)\r\n",
    "- cty : 도시 연비(city)\r\n",
    "- hwy : 고속도로 연비(highway)\r\n",
    "- f1 : 연료 종류(fuel)\r\n",
    "- class : 자동차 종류"
   ],
   "metadata": {}
  },
  {
   "cell_type": "code",
   "execution_count": 125,
   "source": [
    "# (1) displ(배기량)이 4이하인 자동차와 5 이상인 자동차 중 어떤 자동차의 hwy(고속도로 연비)가 평균적으로 더 높은지 알아보는 코드를 적으시오.\r\n",
    "\r\n",
    "mpg[(mpg['displ'] >= 4) & (mpg['displ'] <= 5)].groupby('manufacturer').agg(['mean'])['hwy'].sort_values('mean').idxmax()[0]"
   ],
   "outputs": [
    {
     "output_type": "execute_result",
     "data": {
      "text/plain": [
       "'audi'"
      ]
     },
     "metadata": {},
     "execution_count": 125
    }
   ],
   "metadata": {}
  },
  {
   "cell_type": "code",
   "execution_count": 146,
   "source": [
    "# (2) “audi”와 “toyota” 중 어느 자동차 제조 회사의 cty(도시 연비)가 평균적으로 더 높은지 알아보는 코드를 적으시오.\r\n",
    "\r\n",
    "mpg.groupby('manufacturer').agg(['mean']).loc[['audi','toyota'],'cty']"
   ],
   "outputs": [
    {
     "output_type": "execute_result",
     "data": {
      "text/plain": [
       "                   mean\n",
       "manufacturer           \n",
       "audi          17.611111\n",
       "toyota        18.529412"
      ],
      "text/html": [
       "<div>\n",
       "<style scoped>\n",
       "    .dataframe tbody tr th:only-of-type {\n",
       "        vertical-align: middle;\n",
       "    }\n",
       "\n",
       "    .dataframe tbody tr th {\n",
       "        vertical-align: top;\n",
       "    }\n",
       "\n",
       "    .dataframe thead th {\n",
       "        text-align: right;\n",
       "    }\n",
       "</style>\n",
       "<table border=\"1\" class=\"dataframe\">\n",
       "  <thead>\n",
       "    <tr style=\"text-align: right;\">\n",
       "      <th></th>\n",
       "      <th>mean</th>\n",
       "    </tr>\n",
       "    <tr>\n",
       "      <th>manufacturer</th>\n",
       "      <th></th>\n",
       "    </tr>\n",
       "  </thead>\n",
       "  <tbody>\n",
       "    <tr>\n",
       "      <th>audi</th>\n",
       "      <td>17.611111</td>\n",
       "    </tr>\n",
       "    <tr>\n",
       "      <th>toyota</th>\n",
       "      <td>18.529412</td>\n",
       "    </tr>\n",
       "  </tbody>\n",
       "</table>\n",
       "</div>"
      ]
     },
     "metadata": {},
     "execution_count": 146
    }
   ],
   "metadata": {}
  },
  {
   "cell_type": "code",
   "execution_count": 149,
   "source": [
    "# (3) “chevrolet”, “ford”, “honda” 자동차의 고속도로 연비 평균을 알아보려고 합니다.\r\n",
    "# 이 회사들의 데이터를 추출한 후 hwy 전체 평균을 구하는 코드를 적으시오.\r\n",
    "\r\n",
    "mpg.groupby('manufacturer').agg(['mean']).loc[['chevrolet','ford','honda'], 'hwy']"
   ],
   "outputs": [
    {
     "output_type": "execute_result",
     "data": {
      "text/plain": [
       "                   mean\n",
       "manufacturer           \n",
       "chevrolet     21.894737\n",
       "ford          19.360000\n",
       "honda         32.555556"
      ],
      "text/html": [
       "<div>\n",
       "<style scoped>\n",
       "    .dataframe tbody tr th:only-of-type {\n",
       "        vertical-align: middle;\n",
       "    }\n",
       "\n",
       "    .dataframe tbody tr th {\n",
       "        vertical-align: top;\n",
       "    }\n",
       "\n",
       "    .dataframe thead th {\n",
       "        text-align: right;\n",
       "    }\n",
       "</style>\n",
       "<table border=\"1\" class=\"dataframe\">\n",
       "  <thead>\n",
       "    <tr style=\"text-align: right;\">\n",
       "      <th></th>\n",
       "      <th>mean</th>\n",
       "    </tr>\n",
       "    <tr>\n",
       "      <th>manufacturer</th>\n",
       "      <th></th>\n",
       "    </tr>\n",
       "  </thead>\n",
       "  <tbody>\n",
       "    <tr>\n",
       "      <th>chevrolet</th>\n",
       "      <td>21.894737</td>\n",
       "    </tr>\n",
       "    <tr>\n",
       "      <th>ford</th>\n",
       "      <td>19.360000</td>\n",
       "    </tr>\n",
       "    <tr>\n",
       "      <th>honda</th>\n",
       "      <td>32.555556</td>\n",
       "    </tr>\n",
       "  </tbody>\n",
       "</table>\n",
       "</div>"
      ]
     },
     "metadata": {},
     "execution_count": 149
    }
   ],
   "metadata": {}
  },
  {
   "cell_type": "code",
   "execution_count": 154,
   "source": [
    "# (4) mpg 데이터 중 일부만 추출해 분석에 활용하려고 합니다. \r\n",
    "# class(자동차 종류), cty(도시 여비) 변수를 추출해 새로운 데이터를 만드는 코드를 적으시오\r\n",
    "\r\n",
    "mpg_part = mpg.loc[:, ['class', 'cty']]\r\n",
    "mpg_part.head()"
   ],
   "outputs": [
    {
     "output_type": "execute_result",
     "data": {
      "text/plain": [
       "     class  cty\n",
       "0  compact   18\n",
       "1  compact   21\n",
       "2  compact   20\n",
       "3  compact   21\n",
       "4  compact   16"
      ],
      "text/html": [
       "<div>\n",
       "<style scoped>\n",
       "    .dataframe tbody tr th:only-of-type {\n",
       "        vertical-align: middle;\n",
       "    }\n",
       "\n",
       "    .dataframe tbody tr th {\n",
       "        vertical-align: top;\n",
       "    }\n",
       "\n",
       "    .dataframe thead th {\n",
       "        text-align: right;\n",
       "    }\n",
       "</style>\n",
       "<table border=\"1\" class=\"dataframe\">\n",
       "  <thead>\n",
       "    <tr style=\"text-align: right;\">\n",
       "      <th></th>\n",
       "      <th>class</th>\n",
       "      <th>cty</th>\n",
       "    </tr>\n",
       "  </thead>\n",
       "  <tbody>\n",
       "    <tr>\n",
       "      <th>0</th>\n",
       "      <td>compact</td>\n",
       "      <td>18</td>\n",
       "    </tr>\n",
       "    <tr>\n",
       "      <th>1</th>\n",
       "      <td>compact</td>\n",
       "      <td>21</td>\n",
       "    </tr>\n",
       "    <tr>\n",
       "      <th>2</th>\n",
       "      <td>compact</td>\n",
       "      <td>20</td>\n",
       "    </tr>\n",
       "    <tr>\n",
       "      <th>3</th>\n",
       "      <td>compact</td>\n",
       "      <td>21</td>\n",
       "    </tr>\n",
       "    <tr>\n",
       "      <th>4</th>\n",
       "      <td>compact</td>\n",
       "      <td>16</td>\n",
       "    </tr>\n",
       "  </tbody>\n",
       "</table>\n",
       "</div>"
      ]
     },
     "metadata": {},
     "execution_count": 154
    }
   ],
   "metadata": {}
  },
  {
   "cell_type": "code",
   "execution_count": 201,
   "source": [
    "# (5) 앞에서 추출한 데이터를 이용해 자동차 종류가 “suv”인 자동차와 “compact”인 자동차 \r\n",
    "# 중 어떤 자동차의 cty(도시 연비)가 더 높은 알아보는 코드를 적으시오\r\n",
    "\r\n",
    "# 1\r\n",
    "print(mpg_part[ (mpg_part['class'] == 'suv')].mean())\r\n",
    "print()\r\n",
    "print(mpg_part[mpg_part['class'] == 'compact'].mean())\r\n",
    "print()\r\n",
    "\r\n",
    "# 2\r\n",
    "mpg_part.groupby('class').mean().loc[['suv', 'compact'],:]"
   ],
   "outputs": [
    {
     "output_type": "stream",
     "name": "stdout",
     "text": [
      "cty    13.5\n",
      "dtype: float64\n",
      "\n",
      "cty    20.12766\n",
      "dtype: float64\n",
      "\n"
     ]
    },
    {
     "output_type": "execute_result",
     "data": {
      "text/plain": [
       "              cty\n",
       "class            \n",
       "suv      13.50000\n",
       "compact  20.12766"
      ],
      "text/html": [
       "<div>\n",
       "<style scoped>\n",
       "    .dataframe tbody tr th:only-of-type {\n",
       "        vertical-align: middle;\n",
       "    }\n",
       "\n",
       "    .dataframe tbody tr th {\n",
       "        vertical-align: top;\n",
       "    }\n",
       "\n",
       "    .dataframe thead th {\n",
       "        text-align: right;\n",
       "    }\n",
       "</style>\n",
       "<table border=\"1\" class=\"dataframe\">\n",
       "  <thead>\n",
       "    <tr style=\"text-align: right;\">\n",
       "      <th></th>\n",
       "      <th>cty</th>\n",
       "    </tr>\n",
       "    <tr>\n",
       "      <th>class</th>\n",
       "      <th></th>\n",
       "    </tr>\n",
       "  </thead>\n",
       "  <tbody>\n",
       "    <tr>\n",
       "      <th>suv</th>\n",
       "      <td>13.50000</td>\n",
       "    </tr>\n",
       "    <tr>\n",
       "      <th>compact</th>\n",
       "      <td>20.12766</td>\n",
       "    </tr>\n",
       "  </tbody>\n",
       "</table>\n",
       "</div>"
      ]
     },
     "metadata": {},
     "execution_count": 201
    }
   ],
   "metadata": {}
  },
  {
   "cell_type": "code",
   "execution_count": null,
   "source": [],
   "outputs": [],
   "metadata": {}
  }
 ],
 "metadata": {
  "orig_nbformat": 4,
  "language_info": {
   "name": "python",
   "version": "3.8.5",
   "mimetype": "text/x-python",
   "codemirror_mode": {
    "name": "ipython",
    "version": 3
   },
   "pygments_lexer": "ipython3",
   "nbconvert_exporter": "python",
   "file_extension": ".py"
  },
  "kernelspec": {
   "name": "python3",
   "display_name": "Python 3.8.5 64-bit ('base': conda)"
  },
  "interpreter": {
   "hash": "96cf18f209edf6220e7043c3825950920f4c7ad96ff42ffae85e8b73f5a9541f"
  }
 },
 "nbformat": 4,
 "nbformat_minor": 2
}