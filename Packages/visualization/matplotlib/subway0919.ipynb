{
 "cells": [
  {
   "cell_type": "code",
   "execution_count": 1,
   "source": [
    "import pandas as pd\r\n",
    "import numpy as np \r\n",
    "import matplotlib.pyplot as plt\r\n",
    "import seaborn as sns\r\n",
    "import folium\r\n",
    "import geopandas as gpd\r\n",
    "import os\r\n",
    "from folium import plugins\r\n",
    "import re\r\n",
    "import io\r\n",
    "import selenium\r\n",
    "from selenium import webdriver\r\n",
    "from PIL import Image\r\n",
    "import time\r\n",
    "from folium.plugins import MarkerCluster\r\n",
    "plt.rcParams['font.family'] = 'NanumGothic'"
   ],
   "outputs": [],
   "metadata": {}
  },
  {
   "cell_type": "code",
   "execution_count": 300,
   "source": [
    "chromedriver = 'chromedriver.exe'\r\n",
    "driver = webdriver.Chrome(chromedriver)"
   ],
   "outputs": [],
   "metadata": {}
  },
  {
   "cell_type": "code",
   "execution_count": 2,
   "source": [
    "path = r'C:\\Users\\EonKim\\Desktop\\github\\khu seminar'\r\n",
    "os.chdir(path)\r\n",
    "file = r'subway\\결과-201802\\결과-20180209\\20180209_환승인원(1시간 단위).csv'\r\n",
    "transfer = pd.read_csv(file, encoding = 'cp949')\r\n",
    "drop_col = ['조사일자', '출발역', '도착역']\r\n",
    "\r\n",
    "def drop_columns(dataframe, drop_col):\r\n",
    "    for col in drop_col:\r\n",
    "        del dataframe[col]\r\n",
    "    return dataframe\r\n",
    "\r\n",
    "transfer = drop_columns(transfer, drop_col)\r\n",
    "transfer = transfer.groupby('출발역명').sum()\r\n",
    "index = transfer.index.values.tolist()"
   ],
   "outputs": [],
   "metadata": {}
  },
  {
   "cell_type": "code",
   "execution_count": 242,
   "source": [
    "\r\n",
    "location = pd.read_csv('sub_location.csv',encoding = 'cp949', index_col = 0, header =0)\r\n",
    "transfer.merge(location, left_index=True, right_index = True).to_csv('subway_location_merge.csv', index = True)\r\n",
    "trans = transfer.merge(location, left_index=True, right_index = True)"
   ],
   "outputs": [],
   "metadata": {}
  },
  {
   "cell_type": "code",
   "execution_count": 243,
   "source": [
    "sub_c = pd.read_csv('subway\\지하철역 수.csv', encoding = 'cp949')\r\n",
    "sub_count = sub_c.iloc[:,[0,-1]]\r\n",
    "sub_count.columns = ['SGG_NM', '역개수']"
   ],
   "outputs": [],
   "metadata": {}
  },
  {
   "cell_type": "code",
   "execution_count": 244,
   "source": [
    "seoul = gpd.read_file('subway\\LARD_ADM_SECT_SGG_11.shp', encoding = 'euc-kr')"
   ],
   "outputs": [],
   "metadata": {}
  },
  {
   "cell_type": "code",
   "execution_count": null,
   "source": [
    "x_center = np.mean(trans.loc[:,'x'])\r\n",
    "y_center = np.mean(trans.loc[:,'y'])\r\n",
    "sub_location = np.array(trans.loc[:,['x','y']]).tolist()\r\n",
    "\r\n",
    "m = folium.Map(\r\n",
    "    location = [x_center, y_center],\r\n",
    "    zoom_start = 11)\r\n",
    "folium.Choropleth(\r\n",
    "    seoul,\r\n",
    "    fill_color = 'white',\r\n",
    "    fill_opacity = 0.5\r\n",
    ").add_to(m)\r\n",
    "for x, y in sub_location:\r\n",
    "    folium.CircleMarker(\r\n",
    "        location = [x, y],\r\n",
    "        radius = 2,\r\n",
    "        color = 'Red'\r\n",
    "    ).add_to(m)\r\n",
    "# m.save('subway_location.html')\r\n",
    "m"
   ],
   "outputs": [],
   "metadata": {}
  },
  {
   "cell_type": "code",
   "execution_count": 350,
   "source": [
    "x_center, y_center"
   ],
   "outputs": [
    {
     "output_type": "execute_result",
     "data": {
      "text/plain": [
       "(37.52255396703297, 126.9737072967033)"
      ]
     },
     "metadata": {},
     "execution_count": 350
    }
   ],
   "metadata": {}
  },
  {
   "cell_type": "code",
   "execution_count": 245,
   "source": [
    "sub_c.iloc[:,1].fillna('0', inplace =True)"
   ],
   "outputs": [],
   "metadata": {}
  },
  {
   "cell_type": "code",
   "execution_count": 246,
   "source": [
    "sub_c['해당역(호선)'] = sub_c.iloc[:,1].apply(lambda x: re.sub('(\\(){1}(\\d){1}(/)?((\\d){1})?\\)', '', x))"
   ],
   "outputs": [],
   "metadata": {}
  },
  {
   "cell_type": "code",
   "execution_count": 247,
   "source": [
    "sub_c.iloc[1,1] += '서울역'\r\n",
    "# sub_c.iloc[2,1] += '서울역'"
   ],
   "outputs": [],
   "metadata": {}
  },
  {
   "cell_type": "code",
   "execution_count": 248,
   "source": [
    "subway = []\r\n",
    "for sub in sub_c.iloc[:,1]:\r\n",
    "    subway.extend(sub.replace(' ','').split('/'))\r\n",
    "\r\n",
    "index = []\r\n",
    "for idx in transfer.index:\r\n",
    "    if idx in subway:\r\n",
    "        index.append(idx)"
   ],
   "outputs": [],
   "metadata": {}
  },
  {
   "cell_type": "code",
   "execution_count": 249,
   "source": [
    "transfer = transfer.loc[index,:].copy()"
   ],
   "outputs": [],
   "metadata": {}
  },
  {
   "cell_type": "code",
   "execution_count": 250,
   "source": [
    "index = []\r\n",
    "for i in range(len(transfer.index)):\r\n",
    "    for j in range(len(sub_c)):\r\n",
    "        find = set(sub_c.iloc[j,1].replace(' ','').split('/'))\r\n",
    "        if transfer.index[i] in find:\r\n",
    "            index.append(sub_c.iloc[j,0])\r\n",
    "transfer['행정구역'] = index"
   ],
   "outputs": [],
   "metadata": {}
  },
  {
   "cell_type": "code",
   "execution_count": 251,
   "source": [
    "transfer['SGG_NM'] = index"
   ],
   "outputs": [],
   "metadata": {}
  },
  {
   "cell_type": "code",
   "execution_count": 257,
   "source": [
    "population = transfer.groupby('행정구역').sum()"
   ],
   "outputs": [],
   "metadata": {}
  },
  {
   "cell_type": "code",
   "execution_count": 274,
   "source": [
    "population.columns = list(np.arange(4, 24)) + list(np.arange(4))\r\n",
    "population['SGG_NM'] = population.index "
   ],
   "outputs": [],
   "metadata": {}
  },
  {
   "cell_type": "code",
   "execution_count": 285,
   "source": [
    "for i in range(24):\r\n",
    "    m = folium.Map(\r\n",
    "    location = [x_center, y_center],\r\n",
    "    zoom_start = 11\r\n",
    "    )\r\n",
    "    folium.Choropleth(\r\n",
    "        geo_data = seoul,\r\n",
    "        data = population,\r\n",
    "        columns = ('SGG_NM', i),\r\n",
    "        key_on = 'properties.SGG_NM',\r\n",
    "        fill_color = 'OrRd',\r\n",
    "        legend_name = f'{i}시 환승인원'\r\n",
    "    ).add_to(m) \r\n",
    "    m.save(f'{i}시 환승인원.html')\r\n"
   ],
   "outputs": [],
   "metadata": {}
  },
  {
   "cell_type": "code",
   "execution_count": 331,
   "source": [
    "pop = transfer.groupby('행정구역').sum().sum(axis = 1)\r\n",
    "pop['SGG_NM'] = population.index \r\n",
    "pop1 = pd.DataFrame(pop, columns = ['count'])\r\n",
    "pop1['SGG_NM'] = population.index"
   ],
   "outputs": [],
   "metadata": {}
  },
  {
   "cell_type": "code",
   "execution_count": null,
   "source": [],
   "outputs": [],
   "metadata": {}
  },
  {
   "cell_type": "code",
   "execution_count": 311,
   "source": [
    "for i in range(24):\r\n",
    "    file_name = f'\\{i}시 환승인원.html'\r\n",
    "    file = r'C:\\Users\\EonKim\\Desktop\\github\\khu seminar\\subway\\image\\환승인원' + file_name\r\n",
    "    browser = webdriver.Chrome('chromedriver.exe')\r\n",
    "    browser.get(file)\r\n",
    "    time.sleep(4)\r\n",
    "    browser.save_screenshot(f'{i}시 환승인원.png')\r\n",
    "    browser.quit()"
   ],
   "outputs": [],
   "metadata": {}
  },
  {
   "cell_type": "code",
   "execution_count": 349,
   "source": [
    "m = folium.Map(\r\n",
    "    location = [x_center, y_center],\r\n",
    "    zoom_start = 11\r\n",
    ")\r\n",
    "folium.Choropleth(\r\n",
    "    geo_data = seoul,\r\n",
    "    data = pop1,\r\n",
    "    columns = ('SGG_NM','count'),\r\n",
    "    key_on = 'properties.SGG_NM',\r\n",
    "    fill_color = 'OrRd',\r\n",
    "    legend_name = '환승 인원'\r\n",
    ").add_to(m)\r\n",
    "# m.save('지하철역 수.html')\r\n",
    "m.save('전체환승인원.html')"
   ],
   "outputs": [],
   "metadata": {}
  },
  {
   "cell_type": "code",
   "execution_count": null,
   "source": [],
   "outputs": [],
   "metadata": {}
  }
 ],
 "metadata": {
  "orig_nbformat": 4,
  "language_info": {
   "name": "python",
   "version": "3.7.10",
   "mimetype": "text/x-python",
   "codemirror_mode": {
    "name": "ipython",
    "version": 3
   },
   "pygments_lexer": "ipython3",
   "nbconvert_exporter": "python",
   "file_extension": ".py"
  },
  "kernelspec": {
   "name": "python3",
   "display_name": "Python 3.7.10 64-bit ('default': conda)"
  },
  "interpreter": {
   "hash": "c241ec60e7167152c8218504a6393589de3a2bb3e6995b097bc5c55e5bb99b8c"
  }
 },
 "nbformat": 4,
 "nbformat_minor": 2
}