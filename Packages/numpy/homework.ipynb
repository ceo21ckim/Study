{
 "cells": [
  {
   "cell_type": "code",
   "execution_count": null,
   "source": [
    "import numpy as np "
   ],
   "outputs": [],
   "metadata": {}
  },
  {
   "cell_type": "code",
   "execution_count": 2,
   "source": [
    "# 1번\r\n",
    "# array([[[0., 0., 0., 0.],\r\n",
    "#         [2., 0., 0., 0.],\r\n",
    "#         [0., 0., 0., 1.]],\r\n",
    "#        [[0., 0., 0., 0.],\r\n",
    "#         [0., 0., 0., 0.],\r\n",
    "#         [2., 0., 0., 1.]]])\r\n",
    "\r\n",
    "# 3차원출력\r\n"
   ],
   "outputs": [],
   "metadata": {}
  },
  {
   "cell_type": "code",
   "execution_count": 27,
   "source": [
    "a = np.arange(1,25).reshape(2, 3, -1)\r\n",
    "a"
   ],
   "outputs": [
    {
     "output_type": "execute_result",
     "data": {
      "text/plain": [
       "array([[[ 1,  2,  3,  4],\n",
       "        [ 5,  6,  7,  8],\n",
       "        [ 9, 10, 11, 12]],\n",
       "\n",
       "       [[13, 14, 15, 16],\n",
       "        [17, 18, 19, 20],\n",
       "        [21, 22, 23, 24]]])"
      ]
     },
     "metadata": {},
     "execution_count": 27
    }
   ],
   "metadata": {}
  },
  {
   "cell_type": "code",
   "execution_count": null,
   "source": [
    "# 2번\r\n",
    "# result = np.where(cond, xarr, yarr)\r\n",
    "# result \r\n",
    "\r\n",
    "#3번\r\n",
    "# 1~5점까지 점수를 배열 100개 생성\r\n",
    "# 3점 이상이면 1 \r\n",
    "# 3점 이하면 0"
   ],
   "outputs": [],
   "metadata": {}
  },
  {
   "cell_type": "code",
   "execution_count": 28,
   "source": [
    "a = np.zeros((8,8))\r\n",
    "a = np.pad(a, pad_width = 1, mode = 'constant', constant_values = 1)\r\n",
    "np.where(a == 1, a, 10)"
   ],
   "outputs": [
    {
     "output_type": "execute_result",
     "data": {
      "text/plain": [
       "array([[ 1.,  1.,  1.,  1.,  1.,  1.,  1.,  1.,  1.,  1.],\n",
       "       [ 1., 10., 10., 10., 10., 10., 10., 10., 10.,  1.],\n",
       "       [ 1., 10., 10., 10., 10., 10., 10., 10., 10.,  1.],\n",
       "       [ 1., 10., 10., 10., 10., 10., 10., 10., 10.,  1.],\n",
       "       [ 1., 10., 10., 10., 10., 10., 10., 10., 10.,  1.],\n",
       "       [ 1., 10., 10., 10., 10., 10., 10., 10., 10.,  1.],\n",
       "       [ 1., 10., 10., 10., 10., 10., 10., 10., 10.,  1.],\n",
       "       [ 1., 10., 10., 10., 10., 10., 10., 10., 10.,  1.],\n",
       "       [ 1., 10., 10., 10., 10., 10., 10., 10., 10.,  1.],\n",
       "       [ 1.,  1.,  1.,  1.,  1.,  1.,  1.,  1.,  1.,  1.]])"
      ]
     },
     "metadata": {},
     "execution_count": 28
    }
   ],
   "metadata": {}
  },
  {
   "cell_type": "code",
   "execution_count": 26,
   "source": [
    "a = np.random.randint(1, 5, 100)\r\n",
    "np.where(a >= 3, 1, 0)"
   ],
   "outputs": [
    {
     "output_type": "execute_result",
     "data": {
      "text/plain": [
       "array([0, 1, 1, 0, 1, 1, 0, 0, 0, 1, 1, 0, 0, 0, 1, 1, 0, 1, 1, 1, 1, 0,\n",
       "       1, 0, 1, 0, 0, 1, 0, 0, 1, 0, 1, 0, 0, 1, 0, 1, 0, 1, 0, 0, 1, 0,\n",
       "       0, 1, 0, 0, 1, 0, 0, 1, 0, 0, 1, 1, 0, 1, 0, 1, 0, 0, 1, 0, 0, 0,\n",
       "       1, 1, 1, 0, 1, 0, 1, 0, 1, 1, 0, 0, 0, 1, 1, 1, 1, 1, 1, 0, 1, 1,\n",
       "       1, 1, 1, 0, 0, 0, 0, 1, 1, 1, 0, 0])"
      ]
     },
     "metadata": {},
     "execution_count": 26
    }
   ],
   "metadata": {}
  },
  {
   "cell_type": "code",
   "execution_count": null,
   "source": [],
   "outputs": [],
   "metadata": {}
  }
 ],
 "metadata": {
  "orig_nbformat": 4,
  "language_info": {
   "name": "python",
   "version": "3.8.5",
   "mimetype": "text/x-python",
   "codemirror_mode": {
    "name": "ipython",
    "version": 3
   },
   "pygments_lexer": "ipython3",
   "nbconvert_exporter": "python",
   "file_extension": ".py"
  },
  "kernelspec": {
   "name": "python3",
   "display_name": "Python 3.8.5 64-bit ('base': conda)"
  },
  "interpreter": {
   "hash": "96cf18f209edf6220e7043c3825950920f4c7ad96ff42ffae85e8b73f5a9541f"
  }
 },
 "nbformat": 4,
 "nbformat_minor": 2
}