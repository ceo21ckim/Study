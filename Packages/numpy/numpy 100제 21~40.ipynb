{
 "cells": [
  {
   "cell_type": "code",
   "execution_count": 1,
   "source": [
    "import numpy as np "
   ],
   "outputs": [],
   "metadata": {}
  },
  {
   "cell_type": "code",
   "execution_count": 14,
   "source": [
    "# 21.Create a checkerboard 8x8 matrix using the tile function.\r\n",
    "\r\n",
    "# 1\r\n",
    "print(np.tile([0,1]*4 + [1,0]*4, 4).reshape((8,8)))\r\n",
    "\r\n",
    "print()\r\n",
    "# 2\r\n",
    "print(np.tile( np.array([[0,1],[1,0]]), (4, 4)))"
   ],
   "outputs": [
    {
     "output_type": "stream",
     "name": "stdout",
     "text": [
      "[[0 1 0 1 0 1 0 1]\n",
      " [1 0 1 0 1 0 1 0]\n",
      " [0 1 0 1 0 1 0 1]\n",
      " [1 0 1 0 1 0 1 0]\n",
      " [0 1 0 1 0 1 0 1]\n",
      " [1 0 1 0 1 0 1 0]\n",
      " [0 1 0 1 0 1 0 1]\n",
      " [1 0 1 0 1 0 1 0]]\n",
      "\n",
      "[[0 1 0 1 0 1 0 1]\n",
      " [1 0 1 0 1 0 1 0]\n",
      " [0 1 0 1 0 1 0 1]\n",
      " [1 0 1 0 1 0 1 0]\n",
      " [0 1 0 1 0 1 0 1]\n",
      " [1 0 1 0 1 0 1 0]\n",
      " [0 1 0 1 0 1 0 1]\n",
      " [1 0 1 0 1 0 1 0]]\n"
     ]
    }
   ],
   "metadata": {}
  },
  {
   "cell_type": "code",
   "execution_count": 20,
   "source": [
    "# 22.Normalize a 5x5 random matrix \r\n",
    "# 1\r\n",
    "print(np.random.normal( size = (5, 5)) )\r\n",
    "\r\n",
    "print()\r\n",
    "# 2 \r\n",
    "Z = np.random.random((5, 5))\r\n",
    "result = (Z - np.mean(Z)) / (np.std(Z))\r\n",
    "print( result )"
   ],
   "outputs": [
    {
     "output_type": "stream",
     "name": "stdout",
     "text": [
      "[[-0.79462942  0.5986757   1.19436649  1.16458378 -0.09469886]\n",
      " [ 0.1843041  -0.06187181  0.02499756  1.09528011 -2.03784795]\n",
      " [-1.32874518 -0.46189788  1.52575559 -0.13962421  0.76224024]\n",
      " [-0.06823425  0.35173493 -0.63027133 -0.57792982  0.59516559]\n",
      " [ 0.44856921 -0.98746939 -0.4407096   0.53111209 -0.14467817]]\n",
      "[[-0.19944028  1.38946849  0.50755712 -0.51634786 -0.80628475]\n",
      " [ 0.12842329  1.61790591  1.00755709  0.41463371 -0.45140773]\n",
      " [ 0.92030712  0.21785392 -0.74738924 -1.17257851  0.92674885]\n",
      " [-1.33109054  0.90164258 -1.34097852  1.52313757 -0.09067032]\n",
      " [-1.28930388  1.47921919 -1.26763623 -1.30841822 -0.51290877]]\n"
     ]
    }
   ],
   "metadata": {}
  },
  {
   "cell_type": "code",
   "execution_count": 22,
   "source": [
    "# 23.Create a custom dtype that describe a color as four unsigned bytes (RGBA)\r\n",
    "\r\n",
    "color = np.dtype(\r\n",
    "    [('r', np.ubyte),\r\n",
    "     ('g', np.ubyte),\r\n",
    "     ('b', np.ubyte),\r\n",
    "     ('a', np.ubyte)])\r\n",
    "\r\n",
    "color"
   ],
   "outputs": [
    {
     "output_type": "execute_result",
     "data": {
      "text/plain": [
       "dtype([('r', 'u1'), ('g', 'u1'), ('b', 'u1'), ('a', 'u1')])"
      ]
     },
     "metadata": {},
     "execution_count": 22
    }
   ],
   "metadata": {}
  },
  {
   "cell_type": "code",
   "execution_count": 28,
   "source": [
    "# 24.Multiply a 5x3 matrix by a 3x2 matrix (real matrix product)\r\n",
    "A, B = np.ones((5, 3)), np.ones((3, 2))\r\n",
    "\r\n",
    "# 1\r\n",
    "A.dot(B)\r\n",
    "\r\n",
    "# 2\r\n",
    "np.dot(A, B)\r\n",
    "\r\n",
    "# 3\r\n",
    "A @ B"
   ],
   "outputs": [
    {
     "output_type": "execute_result",
     "data": {
      "text/plain": [
       "array([[3., 3.],\n",
       "       [3., 3.],\n",
       "       [3., 3.],\n",
       "       [3., 3.],\n",
       "       [3., 3.]])"
      ]
     },
     "metadata": {},
     "execution_count": 28
    }
   ],
   "metadata": {}
  },
  {
   "cell_type": "code",
   "execution_count": null,
   "source": [],
   "outputs": [],
   "metadata": {}
  }
 ],
 "metadata": {
  "orig_nbformat": 4,
  "language_info": {
   "name": "python",
   "version": "3.8.5",
   "mimetype": "text/x-python",
   "codemirror_mode": {
    "name": "ipython",
    "version": 3
   },
   "pygments_lexer": "ipython3",
   "nbconvert_exporter": "python",
   "file_extension": ".py"
  },
  "kernelspec": {
   "name": "python3",
   "display_name": "Python 3.8.5 64-bit ('base': conda)"
  },
  "interpreter": {
   "hash": "96cf18f209edf6220e7043c3825950920f4c7ad96ff42ffae85e8b73f5a9541f"
  }
 },
 "nbformat": 4,
 "nbformat_minor": 2
}