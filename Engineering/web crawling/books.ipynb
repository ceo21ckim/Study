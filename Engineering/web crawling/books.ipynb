{
 "cells": [
  {
   "cell_type": "code",
   "execution_count": 1,
   "source": [
    "import requests \r\n",
    "from bs4 import BeautifulSoup"
   ],
   "outputs": [],
   "metadata": {}
  },
  {
   "cell_type": "code",
   "execution_count": 48,
   "source": [
    "title = []\r\n",
    "writer = []\r\n",
    "page_num = 1\r\n",
    "while True:\r\n",
    "    url = f'https://www.hanbit.co.kr/store/books/category_list.html?page={page_num}&cate_cd=001'\r\n",
    "    res = requests.get(url)\r\n",
    "    html = res.text\r\n",
    "    soup = BeautifulSoup(html, 'html.parser')\r\n",
    "    tit = soup.find_all('p', class_='book_tit')\r\n",
    "    writ = soup.find_all('p', class_='book_writer')\r\n",
    "    if tit == []:\r\n",
    "        break\r\n",
    "    for i in range(len(tit)):\r\n",
    "        title.append(tit[i].text)\r\n",
    "        writer.append(writ[i].text)\r\n",
    "    page_num += 1\r\n",
    "books = pd.DataFrame()\r\n",
    "books['title'] = title \r\n",
    "books['writer'] = writer"
   ],
   "outputs": [],
   "metadata": {}
  },
  {
   "cell_type": "code",
   "execution_count": 62,
   "source": [
    "import re "
   ],
   "outputs": [],
   "metadata": {}
  },
  {
   "cell_type": "code",
   "execution_count": null,
   "source": [],
   "outputs": [],
   "metadata": {}
  }
 ],
 "metadata": {
  "orig_nbformat": 4,
  "language_info": {
   "name": "python",
   "version": "3.8.5",
   "mimetype": "text/x-python",
   "codemirror_mode": {
    "name": "ipython",
    "version": 3
   },
   "pygments_lexer": "ipython3",
   "nbconvert_exporter": "python",
   "file_extension": ".py"
  },
  "kernelspec": {
   "name": "python3",
   "display_name": "Python 3.8.5 64-bit ('base': conda)"
  },
  "interpreter": {
   "hash": "96cf18f209edf6220e7043c3825950920f4c7ad96ff42ffae85e8b73f5a9541f"
  }
 },
 "nbformat": 4,
 "nbformat_minor": 2
}