{
 "cells": [
  {
   "cell_type": "code",
   "execution_count": 1,
   "source": [
    "# 최고의 집합\r\n",
    "# 합이 s가 되는 집합들 중에서 가장 큰 집합\r\n",
    "\r\n",
    "n = 2\r\n",
    "s = 9\r\n",
    "def solution(n,s):\r\n",
    "    if n > s :\r\n",
    "        return [-1]\r\n",
    "    elif s % 2 == 0 :\r\n",
    "        result = [s//2]*2\r\n",
    "        return result\r\n",
    "    else:\r\n",
    "        result = [s//2, s//2+1]\r\n",
    "        return result"
   ],
   "outputs": [
    {
     "output_type": "execute_result",
     "data": {
      "text/plain": [
       "[4, 5]"
      ]
     },
     "metadata": {},
     "execution_count": 1
    }
   ],
   "metadata": {}
  },
  {
   "cell_type": "code",
   "execution_count": null,
   "source": [],
   "outputs": [],
   "metadata": {}
  }
 ],
 "metadata": {
  "orig_nbformat": 4,
  "language_info": {
   "name": "python",
   "version": "3.7.10",
   "mimetype": "text/x-python",
   "codemirror_mode": {
    "name": "ipython",
    "version": 3
   },
   "pygments_lexer": "ipython3",
   "nbconvert_exporter": "python",
   "file_extension": ".py"
  },
  "kernelspec": {
   "name": "python3",
   "display_name": "Python 3.7.10 64-bit ('default': conda)"
  },
  "interpreter": {
   "hash": "c241ec60e7167152c8218504a6393589de3a2bb3e6995b097bc5c55e5bb99b8c"
  }
 },
 "nbformat": 4,
 "nbformat_minor": 2
}