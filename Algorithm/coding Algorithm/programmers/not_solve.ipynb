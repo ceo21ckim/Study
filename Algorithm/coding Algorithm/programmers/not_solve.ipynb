{
 "cells": [
  {
   "cell_type": "code",
   "execution_count": 2,
   "source": [
    "# level1 - 체육복\r\n",
    "n = 5\r\n",
    "lost = [2, 4]\r\n",
    "reserve = [1, 3, 5]\r\n",
    "\r\n",
    "def solution(n, lost, reserve):\r\n",
    "    set_reserve = set(reserve) - set(lost)\r\n",
    "    set_lost = set(lost) - set(reserve)\r\n",
    "\r\n",
    "    for idx in set_reserve:\r\n",
    "        if idx-1 in set_lost:\r\n",
    "            set_lost.remove(idx-1)\r\n",
    "        elif idx+1 in set_lost:\r\n",
    "            set_lost.remove(idx+1)\r\n",
    "    return n - len(set_lost)"
   ],
   "outputs": [],
   "metadata": {}
  },
  {
   "cell_type": "code",
   "execution_count": 6,
   "source": [
    "# level1 - 예산\r\n",
    "d = [1, 3, 2, 5, 4]\r\n",
    "budget = 9\r\n",
    "def solution(d, budget):\r\n",
    "    d.sort()\r\n",
    "    answer = 0\r\n",
    "    for idx in d:\r\n",
    "        if idx <= budget:\r\n",
    "            budget -= idx\r\n",
    "            answer += 1\r\n",
    "    return answer"
   ],
   "outputs": [
    {
     "output_type": "stream",
     "name": "stdout",
     "text": [
      "3\n"
     ]
    }
   ],
   "metadata": {}
  },
  {
   "cell_type": "code",
   "execution_count": null,
   "source": [],
   "outputs": [],
   "metadata": {}
  }
 ],
 "metadata": {
  "orig_nbformat": 4,
  "language_info": {
   "name": "python",
   "version": "3.9.2",
   "mimetype": "text/x-python",
   "codemirror_mode": {
    "name": "ipython",
    "version": 3
   },
   "pygments_lexer": "ipython3",
   "nbconvert_exporter": "python",
   "file_extension": ".py"
  },
  "kernelspec": {
   "name": "python3",
   "display_name": "Python 3.9.2 64-bit ('geo': conda)"
  },
  "interpreter": {
   "hash": "9a957a1fea41707a244f264f295721eb09ec21d5be06b513cdb5f37b29d60cc5"
  }
 },
 "nbformat": 4,
 "nbformat_minor": 2
}