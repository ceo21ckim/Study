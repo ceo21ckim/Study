{
 "cells": [
  {
   "cell_type": "code",
   "execution_count": 24,
   "source": [
    "# 로또의 최고 순위와 최저 순위\r\n",
    "def solution(lottos, win_nums):\r\n",
    "    masking = lottos.count(0)\r\n",
    "    count = 0\r\n",
    "    for idx in lottos:\r\n",
    "        if idx in win_nums:\r\n",
    "            count += 1\r\n",
    "    high_rank = (6 if (7 - count - masking) >= 6 else 7 - count - masking)\r\n",
    "    low_rank = (6 if (7 - count >= 6) else 7 - count)\r\n",
    "    answer = [high_rank, low_rank]\r\n",
    "    return answer"
   ],
   "outputs": [],
   "metadata": {}
  },
  {
   "cell_type": "code",
   "execution_count": 229,
   "source": [
    "# 신규 아이디 추천\r\n",
    "import re \r\n",
    "def solution(new_id):\r\n",
    "    # 1\r\n",
    "    new_id = new_id.lower()\r\n",
    "    # 2\r\n",
    "    new_id = re.sub('[^0-9a-z\\-\\_\\.]+','',new_id)\r\n",
    "    new_id = list(new_id)   \r\n",
    "    #3\r\n",
    "    for i in range(len(new_id)-1, -1, -1):\r\n",
    "        if i != 0:\r\n",
    "            if (new_id[i] == '.') & (new_id[i] == new_id[i-1]):\r\n",
    "                new_id.pop(i)\r\n",
    "    # 4\r\n",
    "    if new_id[-1] == '.':\r\n",
    "        new_id.pop(-1)\r\n",
    "    if new_id == []:\r\n",
    "        pass\r\n",
    "    else:\r\n",
    "        if new_id[0] == '.':\r\n",
    "            new_id.pop(0)\r\n",
    "    # 5\r\n",
    "    if new_id == [] :\r\n",
    "        new_id.append('a')\r\n",
    "    # 6\r\n",
    "    if len(new_id) >= 16:\r\n",
    "        new_id = new_id[:15]\r\n",
    "        if new_id[-1] == '.':\r\n",
    "            new_id.pop(-1)         \r\n",
    "    # 7 \r\n",
    "    if len(new_id) <= 2:\r\n",
    "        while len(new_id) < 3:\r\n",
    "            new_id += new_id[-1]\r\n",
    "    answer = ''.join(new_id)\r\n",
    "    return answer"
   ],
   "outputs": [],
   "metadata": {}
  },
  {
   "cell_type": "code",
   "execution_count": 268,
   "source": [
    "# 숫자 문자열과 영단어\r\n",
    "def solution(s):\r\n",
    "    num = ['0', '1', '2', '3', '4', '5', '6', '7', '8', '9']\r\n",
    "    word = ['zero', 'one', 'two', 'three', 'four', 'five', 'six', 'seven', 'eight', 'nine']\r\n",
    "    vocab = dict(zip(num, word))\r\n",
    "    for key, value in vocab.items():\r\n",
    "        if value in s:\r\n",
    "            s = s.replace(value, key)\r\n",
    "    return int(s)"
   ],
   "outputs": [],
   "metadata": {}
  },
  {
   "cell_type": "code",
   "execution_count": 275,
   "source": [
    "# 숫자 문자열과 영단어 (2)\r\n",
    "def solution(s):\r\n",
    "    value = ['zero', 'one', 'two', 'three', 'four', 'five', 'six', 'seven', 'eight', 'nine']\r\n",
    "    for num, word in enumerate(value):\r\n",
    "        if word in s:\r\n",
    "            s = s.replace(word, str(num))\r\n",
    "    return int(s)"
   ],
   "outputs": [],
   "metadata": {}
  },
  {
   "cell_type": "code",
   "execution_count": null,
   "source": [
    "def solution(numbers, hand):\r\n",
    "    left, right = [1, 3, 7], [3, 6, 9]\r\n",
    "    \r\n",
    "    answer = ''\r\n",
    "    return answer"
   ],
   "outputs": [],
   "metadata": {}
  },
  {
   "cell_type": "code",
   "execution_count": 321,
   "source": [
    "def solution(numbers, hand):\r\n",
    "    answer = ''\r\n",
    "    for i in range(len(numbers)):\r\n",
    "        if i != len(numbers)-1 :\r\n",
    "            if numbers[i] % 3 == 0 :\r\n",
    "                answer += 'R'\r\n",
    "                right = numbers[i]\r\n",
    "            elif numbers[i] in [1, 4, 7]:\r\n",
    "                answer += 'L'\r\n",
    "                left = numbers[i]\r\n",
    "            elif (abs(numbers[i]-left)) < (abs(numbers[i] - right)):\r\n",
    "                answer += 'L'\r\n",
    "            elif (abs(numbers[i]-left)) > (abs(numbers[i] - right)):\r\n",
    "                answer += 'R'\r\n",
    "            else:\r\n",
    "                if hand == 'right':\r\n",
    "                    answer += 'R'\r\n",
    "                else:\r\n",
    "                    answer += 'L'\r\n",
    "    return answer\r\n"
   ],
   "outputs": [],
   "metadata": {}
  },
  {
   "cell_type": "code",
   "execution_count": 323,
   "source": [
    "numbers = [7, 0, 8, 2, 8, 3, 1, 5, 7, 6, 2]\r\n",
    "hand = \"left\"\r\n",
    "solution(numbers, hand)"
   ],
   "outputs": [
    {
     "output_type": "execute_result",
     "data": {
      "text/plain": [
       "'LRLRLRLRLR'"
      ]
     },
     "metadata": {},
     "execution_count": 323
    }
   ],
   "metadata": {}
  },
  {
   "cell_type": "code",
   "execution_count": null,
   "source": [],
   "outputs": [],
   "metadata": {}
  }
 ],
 "metadata": {
  "orig_nbformat": 4,
  "language_info": {
   "name": "python",
   "version": "3.8.5",
   "mimetype": "text/x-python",
   "codemirror_mode": {
    "name": "ipython",
    "version": 3
   },
   "pygments_lexer": "ipython3",
   "nbconvert_exporter": "python",
   "file_extension": ".py"
  },
  "kernelspec": {
   "name": "python3",
   "display_name": "Python 3.8.5 64-bit ('base': conda)"
  },
  "interpreter": {
   "hash": "96cf18f209edf6220e7043c3825950920f4c7ad96ff42ffae85e8b73f5a9541f"
  }
 },
 "nbformat": 4,
 "nbformat_minor": 2
}