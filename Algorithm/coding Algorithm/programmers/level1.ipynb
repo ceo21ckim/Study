{
 "cells": [
  {
   "cell_type": "code",
   "execution_count": 24,
   "source": [
    "# 로또의 최고 순위와 최저 순위\r\n",
    "def solution(lottos, win_nums):\r\n",
    "    masking = lottos.count(0)\r\n",
    "    count = 0\r\n",
    "    for idx in lottos:\r\n",
    "        if idx in win_nums:\r\n",
    "            count += 1\r\n",
    "    high_rank = (6 if (7 - count - masking) >= 6 else 7 - count - masking)\r\n",
    "    low_rank = (6 if (7 - count >= 6) else 7 - count)\r\n",
    "    answer = [high_rank, low_rank]\r\n",
    "    return answer"
   ],
   "outputs": [],
   "metadata": {}
  },
  {
   "cell_type": "code",
   "execution_count": 229,
   "source": [
    "# 신규 아이디 추천\r\n",
    "import re \r\n",
    "def solution(new_id):\r\n",
    "    # 1\r\n",
    "    new_id = new_id.lower()\r\n",
    "    # 2\r\n",
    "    new_id = re.sub('[^0-9a-z\\-\\_\\.]+','',new_id)\r\n",
    "    new_id = list(new_id)   \r\n",
    "    #3\r\n",
    "    for i in range(len(new_id)-1, -1, -1):\r\n",
    "        if i != 0:\r\n",
    "            if (new_id[i] == '.') & (new_id[i] == new_id[i-1]):\r\n",
    "                new_id.pop(i)\r\n",
    "    # 4\r\n",
    "    if new_id[-1] == '.':\r\n",
    "        new_id.pop(-1)\r\n",
    "    if new_id == []:\r\n",
    "        pass\r\n",
    "    else:\r\n",
    "        if new_id[0] == '.':\r\n",
    "            new_id.pop(0)\r\n",
    "    # 5\r\n",
    "    if new_id == [] :\r\n",
    "        new_id.append('a')\r\n",
    "    # 6\r\n",
    "    if len(new_id) >= 16:\r\n",
    "        new_id = new_id[:15]\r\n",
    "        if new_id[-1] == '.':\r\n",
    "            new_id.pop(-1)         \r\n",
    "    # 7 \r\n",
    "    if len(new_id) <= 2:\r\n",
    "        while len(new_id) < 3:\r\n",
    "            new_id += new_id[-1]\r\n",
    "    answer = ''.join(new_id)\r\n",
    "    return answer"
   ],
   "outputs": [],
   "metadata": {}
  },
  {
   "cell_type": "code",
   "execution_count": 268,
   "source": [
    "# 숫자 문자열과 영단어\r\n",
    "def solution(s):\r\n",
    "    num = ['0', '1', '2', '3', '4', '5', '6', '7', '8', '9']\r\n",
    "    word = ['zero', 'one', 'two', 'three', 'four', 'five', 'six', 'seven', 'eight', 'nine']\r\n",
    "    vocab = dict(zip(num, word))\r\n",
    "    for key, value in vocab.items():\r\n",
    "        if value in s:\r\n",
    "            s = s.replace(value, key)\r\n",
    "    return int(s)"
   ],
   "outputs": [],
   "metadata": {}
  },
  {
   "cell_type": "code",
   "execution_count": 275,
   "source": [
    "# 숫자 문자열과 영단어 (2)\r\n",
    "def solution(s):\r\n",
    "    value = ['zero', 'one', 'two', 'three', 'four', 'five', 'six', 'seven', 'eight', 'nine']\r\n",
    "    for num, word in enumerate(value):\r\n",
    "        if word in s:\r\n",
    "            s = s.replace(word, str(num))\r\n",
    "    return int(s)"
   ],
   "outputs": [],
   "metadata": {}
  },
  {
   "cell_type": "code",
   "execution_count": null,
   "source": [
    "def solution(numbers, hand):\r\n",
    "    left, right = [1, 3, 7], [3, 6, 9]\r\n",
    "    \r\n",
    "    answer = ''\r\n",
    "    return answer"
   ],
   "outputs": [],
   "metadata": {}
  },
  {
   "cell_type": "code",
   "execution_count": 321,
   "source": [
    "def solution(numbers, hand):\r\n",
    "    answer = ''\r\n",
    "    for i in range(len(numbers)):\r\n",
    "        if i != len(numbers)-1 :\r\n",
    "            if numbers[i] % 3 == 0 :\r\n",
    "                answer += 'R'\r\n",
    "                right = numbers[i]\r\n",
    "            elif numbers[i] in [1, 4, 7]:\r\n",
    "                answer += 'L'\r\n",
    "                left = numbers[i]\r\n",
    "            elif (abs(numbers[i]-left)) < (abs(numbers[i] - right)):\r\n",
    "                answer += 'L'\r\n",
    "            elif (abs(numbers[i]-left)) > (abs(numbers[i] - right)):\r\n",
    "                answer += 'R'\r\n",
    "            else:\r\n",
    "                if hand == 'right':\r\n",
    "                    answer += 'R'\r\n",
    "                else:\r\n",
    "                    answer += 'L'\r\n",
    "    return answer\r\n"
   ],
   "outputs": [],
   "metadata": {}
  },
  {
   "cell_type": "code",
   "execution_count": null,
   "source": [
    "def solution(numbers, hand):\r\n",
    "    left, right = [1, 3, 7], [3, 6, 9]\r\n",
    "    \r\n",
    "    answer = ''\r\n",
    "    return answer"
   ],
   "outputs": [],
   "metadata": {}
  },
  {
   "cell_type": "code",
   "execution_count": 4,
   "source": [
    "# 내적\r\n",
    "\r\n",
    "# 1\r\n",
    "import numpy as np \r\n",
    "def solution(a, b):\r\n",
    "    answer = np.sum(np.array(a) * np.array(b))\r\n",
    "    return int(answer)\r\n",
    "\r\n",
    "# 2\r\n",
    "def solution(a, b):\r\n",
    "    return sum([a[i] * b[i] for i in range(len(a))])\r\n",
    "\r\n",
    "# 3\r\n",
    "def solution(a, b):\r\n",
    "    return sum([x * y for x, y in zip(a, b)])"
   ],
   "outputs": [
    {
     "output_type": "execute_result",
     "data": {
      "text/plain": [
       "3"
      ]
     },
     "metadata": {},
     "execution_count": 4
    }
   ],
   "metadata": {}
  },
  {
   "cell_type": "code",
   "execution_count": 28,
   "source": [
    "# 음양 더하기\r\n",
    "def solution(absolutes, signs):\r\n",
    "    answer = 0\r\n",
    "    for x, y in zip(absolutes, signs):\r\n",
    "        if y == True:\r\n",
    "            answer += x \r\n",
    "        elif y == False:\r\n",
    "            answer -= x\r\n",
    "    return answer"
   ],
   "outputs": [
    {
     "output_type": "stream",
     "name": "stdout",
     "text": [
      "4\n",
      "-3\n",
      "9\n"
     ]
    }
   ],
   "metadata": {}
  },
  {
   "cell_type": "code",
   "execution_count": 27,
   "source": [
    "# K번째 수 \r\n",
    "def solution(array, commands):\r\n",
    "    answer = []\r\n",
    "    for com in commands:\r\n",
    "        i, j, k = com\r\n",
    "        answer += [sorted(array[i-1:j])[k-1]]\r\n",
    "    return answer"
   ],
   "outputs": [
    {
     "output_type": "execute_result",
     "data": {
      "text/plain": [
       "9"
      ]
     },
     "metadata": {},
     "execution_count": 27
    }
   ],
   "metadata": {}
  },
  {
   "cell_type": "code",
   "execution_count": 34,
   "source": [
    "# 실패율 X\r\n",
    "# 스테이지에 도달했으나 아직 클리어하지 못한 플레이어의 수 / 스테이지에 도달한 플레이어 수\r\n",
    "\r\n",
    "# 전체 스테이지 수 : N\r\n",
    "# 게임을 이용하는 사용자가 현재 멈춰있는 스테이지의 번호가 담긴 배열 : stages\r\n",
    "\r\n",
    "\r\n",
    "\r\n"
   ],
   "outputs": [
    {
     "output_type": "execute_result",
     "data": {
      "text/plain": [
       "[1, 4, 6, 7, 7]"
      ]
     },
     "metadata": {},
     "execution_count": 34
    }
   ],
   "metadata": {}
  },
  {
   "cell_type": "code",
   "execution_count": 96,
   "source": [
    "# 예산 X\r\n",
    "d = [1, 3, 2, 5, 4]\r\n",
    "budget = 9\r\n",
    "import numpy as np \r\n",
    "def solution(d, budget):\r\n",
    "    answer = []\r\n",
    "    for n in range(1,len(d)+1):\r\n",
    "        for _ in range(n*2):\r\n",
    "            test = np.random.choice(d, n, replace = False )\r\n",
    "            if sum(test) <= budget:\r\n",
    "                answer.append(len(test))\r\n",
    "    return max(answer)\r\n"
   ],
   "outputs": [],
   "metadata": {}
  },
  {
   "cell_type": "code",
   "execution_count": 3,
   "source": [
    "from itertools import combinations"
   ],
   "outputs": [],
   "metadata": {}
  },
  {
   "cell_type": "code",
   "execution_count": 51,
   "source": [
    "# 예산\r\n",
    "def solution(d, budget):\r\n",
    "    d.sort()\r\n",
    "    result = []\r\n",
    "    for idx in d:\r\n",
    "        if sum(result)+idx <= budget:\r\n",
    "            result += [idx]\r\n",
    "            print(result)\r\n",
    "    return len(result)\r\n"
   ],
   "outputs": [],
   "metadata": {}
  },
  {
   "cell_type": "code",
   "execution_count": 99,
   "source": [
    "# 두 개 뽑아서 더하기\r\n",
    "def solution(numbers):\r\n",
    "    answer = []\r\n",
    "    for i in range(len(numbers)):\r\n",
    "        for j in range(len(numbers)):\r\n",
    "            if i != j :\r\n",
    "                answer.append(numbers[i] + numbers[j])\r\n",
    "    answer = list(set(answer))\r\n",
    "    answer = sorted(answer)\r\n",
    "    return answer"
   ],
   "outputs": [],
   "metadata": {}
  },
  {
   "cell_type": "code",
   "execution_count": 4,
   "source": [
    "# 문자열 내 p와 y의 개수\r\n",
    "def solution(s):\r\n",
    "    s = s.lower()\r\n",
    "    if s.count('p') == s.count('y'):\r\n",
    "        return True\r\n",
    "    else:\r\n",
    "        return False"
   ],
   "outputs": [
    {
     "output_type": "stream",
     "name": "stdout",
     "text": [
      "2 2\n"
     ]
    }
   ],
   "metadata": {}
  },
  {
   "cell_type": "code",
   "execution_count": null,
   "source": [
    "# 약수의 개수와 덧셈\r\n",
    "def solution(left, right):\r\n",
    "    answer = 0\r\n",
    "    for num in range(left, right+1):\r\n",
    "        count = 0 \r\n",
    "        for i in range(1, num+1):\r\n",
    "            if num % i == 0 :\r\n",
    "                count += 1\r\n",
    "        if count % 2 == 0 :\r\n",
    "            answer += num\r\n",
    "        else:\r\n",
    "            answer -= num\r\n",
    "    return answer"
   ],
   "outputs": [],
   "metadata": {}
  },
  {
   "cell_type": "code",
   "execution_count": 8,
   "source": [
    "# 문자열을 정수로 바꾸기\r\n",
    "def solution(s):\r\n",
    "    answer = int(s)\r\n",
    "    return answer"
   ],
   "outputs": [
    {
     "output_type": "execute_result",
     "data": {
      "text/plain": [
       "-1234"
      ]
     },
     "metadata": {},
     "execution_count": 8
    }
   ],
   "metadata": {}
  },
  {
   "cell_type": "code",
   "execution_count": 9,
   "source": [
    "# 가운데 글자 가져오기\r\n",
    "def solution(s):\r\n",
    "    center = int(len(s) / 2)\r\n",
    "    if len(s) % 2 == 0:\r\n",
    "        answer = s[center-1] + s[center]\r\n",
    "    else:\r\n",
    "        answer = s[center]\r\n",
    "    return answer"
   ],
   "outputs": [
    {
     "output_type": "execute_result",
     "data": {
      "text/plain": [
       "3"
      ]
     },
     "metadata": {},
     "execution_count": 9
    }
   ],
   "metadata": {}
  },
  {
   "cell_type": "code",
   "execution_count": 12,
   "source": [
    "# 약수의 합\r\n",
    "\r\n",
    "# 1\r\n",
    "def solution(n):\r\n",
    "    answer = 0\r\n",
    "    for idx in range(1,n+1):\r\n",
    "        if n % idx == 0:\r\n",
    "            answer += idx\r\n",
    "    return answer\r\n",
    "\r\n",
    "\r\n",
    "# 2\r\n",
    "def solution(n):\r\n",
    "    return sum([idx for idx in range(1,n+1) if n % idx == 0 ])"
   ],
   "outputs": [
    {
     "output_type": "execute_result",
     "data": {
      "text/plain": [
       "1"
      ]
     },
     "metadata": {},
     "execution_count": 12
    }
   ],
   "metadata": {}
  },
  {
   "cell_type": "code",
   "execution_count": 23,
   "source": [
    "def solution(arr):\r\n",
    "    drop_list = []\r\n",
    "    for i in range(len(arr)-1):\r\n",
    "        if arr[i] == arr[i+1]:\r\n",
    "            drop_list.append(i)\r\n",
    "    for drop in drop_list[::-1]:\r\n",
    "        arr.pop(drop)\r\n",
    "    return arr"
   ],
   "outputs": [
    {
     "output_type": "execute_result",
     "data": {
      "text/plain": [
       "[1, 3, 0, 1]"
      ]
     },
     "metadata": {},
     "execution_count": 23
    }
   ],
   "metadata": {}
  },
  {
   "cell_type": "code",
   "execution_count": 9,
   "source": [
    "# 체육복\r\n",
    "\r\n",
    "def solution(n, lost, reserve):\r\n",
    "    answer = n - len(lost)\r\n",
    "    for i in range(len(reserve)):\r\n",
    "        if lost == []:\r\n",
    "            break \r\n",
    "        if reserve[i] in lost:\r\n",
    "            lost.remove(reserve[i])\r\n",
    "            answer += 1\r\n",
    "        elif reserve[i]-1 in lost:\r\n",
    "            lost.remove(reserve[i]-1)\r\n",
    "            answer += 1\r\n",
    "        elif reserve[i]+1 in lost:\r\n",
    "            lost.remove(reserve[i]+1)\r\n",
    "            answer += 1\r\n",
    "    return answer\r\n"
   ],
   "outputs": [],
   "metadata": {}
  },
  {
   "cell_type": "code",
   "execution_count": 109,
   "source": [
    "n = 5\r\n",
    "lost =[2, 4]\r\n",
    "reserve = [1, 3, 5]\r\n",
    "def solution(n, lost, reserve):\r\n",
    "    answer = n - len(lost)\r\n",
    "    reserve.sort()\r\n",
    "    lost.sort()\r\n",
    "    for i in range(len(lost)):\r\n",
    "        if (lost == []) or (reserve == []):\r\n",
    "            return answer\r\n",
    "        elif lost[i] in reserve:\r\n",
    "            reserve.remove(lost[i])\r\n",
    "            answer += 1\r\n",
    "        elif (lost[i]-1) in reserve:\r\n",
    "            reserve.remove(lost[i]-1)\r\n",
    "            answer += 1\r\n",
    "        elif (lost[i]+1) in reserve:\r\n",
    "            reserve.remove(lost[i]+1)\r\n",
    "            answer += 1\r\n",
    "    return answer\r\n"
   ],
   "outputs": [
    {
     "output_type": "stream",
     "name": "stdout",
     "text": [
      "5\n"
     ]
    }
   ],
   "metadata": {}
  },
  {
   "cell_type": "code",
   "execution_count": 118,
   "source": [
    "n = 5\r\n",
    "lost =[2, 4]\r\n",
    "reserve = [1, 3, 5]\r\n",
    "# set 도 리무브가 된다.\r\n",
    "def solution(n, lost, reserve):\r\n",
    "    set_reserve = set(reserve) - set(lost)\r\n",
    "    set_lost = set(lost) - set(reserve)\r\n",
    "    for idx in set_reserve:\r\n",
    "        if idx-1 in set_lost:\r\n",
    "            set_lost.remove(idx-1)\r\n",
    "        elif idx+1 in set_lost:\r\n",
    "            set_lost.remove(idx+1)\r\n",
    "    return n - len(set_lost)\r\n"
   ],
   "outputs": [
    {
     "output_type": "execute_result",
     "data": {
      "text/plain": [
       "5"
      ]
     },
     "metadata": {},
     "execution_count": 118
    }
   ],
   "metadata": {}
  },
  {
   "cell_type": "code",
   "execution_count": 114,
   "source": [],
   "outputs": [
    {
     "output_type": "execute_result",
     "data": {
      "text/plain": [
       "{1, 3}"
      ]
     },
     "metadata": {},
     "execution_count": 114
    }
   ],
   "metadata": {}
  },
  {
   "cell_type": "code",
   "execution_count": 69,
   "source": [
    "# 부족한 금액 계산하기\r\n",
    "# 이용료 price\r\n",
    "# 놀이기구 N 번 이용시 price * N\r\n",
    "# e.g. 처음 이용 100, 두번째 200, 세번째 300\r\n",
    "# 놀이기구 count 번 타게 되면 현재 금액에서 얼마나 모자란가?\r\n",
    "\r\n",
    "def solution(price, money, count):\r\n",
    "    result = 0\r\n",
    "    for n in range(1, count+1):\r\n",
    "        result += price * n\r\n",
    "    if result <= money :\r\n",
    "        return 0\r\n",
    "    else:\r\n",
    "        return int(result - money)\r\n"
   ],
   "outputs": [
    {
     "output_type": "execute_result",
     "data": {
      "text/plain": [
       "10"
      ]
     },
     "metadata": {},
     "execution_count": 69
    }
   ],
   "metadata": {}
  },
  {
   "cell_type": "code",
   "execution_count": 2,
   "source": [
    "# 상호 평가\r\n",
    "import numpy as np \r\n",
    "\r\n",
    "scores = [[100,90,98,88,65],[50,45,99,85,77],[47,88,95,80,67],[61,57,100,80,65],[24,90,94,75,65]]\r\n",
    "scores = list(np.array(scores).T)\r\n",
    "\r\n",
    "result = []\r\n",
    "for i in range(len(scores)):\r\n",
    "    if (min(scores[i]) == scores[i][i])  | (scores[i].count(scores[i][i]) != 1):\r\n",
    "        result.append(sum(scores[i]) / 5)\r\n",
    "    else:\r\n",
    "        result.append((sum(scores[i]) - scores[i][i]) / 4)\r\n",
    "\r\n"
   ],
   "outputs": [
    {
     "output_type": "error",
     "ename": "AttributeError",
     "evalue": "'numpy.ndarray' object has no attribute 'count'",
     "traceback": [
      "\u001b[1;31m---------------------------------------------------------------------------\u001b[0m",
      "\u001b[1;31mAttributeError\u001b[0m                            Traceback (most recent call last)",
      "\u001b[1;32m<ipython-input-2-fcb02dec3215>\u001b[0m in \u001b[0;36m<module>\u001b[1;34m\u001b[0m\n\u001b[0;32m      7\u001b[0m \u001b[0mresult\u001b[0m \u001b[1;33m=\u001b[0m \u001b[1;33m[\u001b[0m\u001b[1;33m]\u001b[0m\u001b[1;33m\u001b[0m\u001b[1;33m\u001b[0m\u001b[0m\n\u001b[0;32m      8\u001b[0m \u001b[1;32mfor\u001b[0m \u001b[0mi\u001b[0m \u001b[1;32min\u001b[0m \u001b[0mrange\u001b[0m\u001b[1;33m(\u001b[0m\u001b[0mlen\u001b[0m\u001b[1;33m(\u001b[0m\u001b[0mscores\u001b[0m\u001b[1;33m)\u001b[0m\u001b[1;33m)\u001b[0m\u001b[1;33m:\u001b[0m\u001b[1;33m\u001b[0m\u001b[1;33m\u001b[0m\u001b[0m\n\u001b[1;32m----> 9\u001b[1;33m     \u001b[1;32mif\u001b[0m \u001b[1;33m(\u001b[0m\u001b[0mmin\u001b[0m\u001b[1;33m(\u001b[0m\u001b[0mscores\u001b[0m\u001b[1;33m[\u001b[0m\u001b[0mi\u001b[0m\u001b[1;33m]\u001b[0m\u001b[1;33m)\u001b[0m \u001b[1;33m==\u001b[0m \u001b[0mscores\u001b[0m\u001b[1;33m[\u001b[0m\u001b[0mi\u001b[0m\u001b[1;33m]\u001b[0m\u001b[1;33m[\u001b[0m\u001b[0mi\u001b[0m\u001b[1;33m]\u001b[0m\u001b[1;33m)\u001b[0m  \u001b[1;33m|\u001b[0m \u001b[1;33m(\u001b[0m\u001b[0mscores\u001b[0m\u001b[1;33m[\u001b[0m\u001b[0mi\u001b[0m\u001b[1;33m]\u001b[0m\u001b[1;33m.\u001b[0m\u001b[0mcount\u001b[0m\u001b[1;33m(\u001b[0m\u001b[0mscores\u001b[0m\u001b[1;33m[\u001b[0m\u001b[0mi\u001b[0m\u001b[1;33m]\u001b[0m\u001b[1;33m[\u001b[0m\u001b[0mi\u001b[0m\u001b[1;33m]\u001b[0m\u001b[1;33m)\u001b[0m \u001b[1;33m!=\u001b[0m \u001b[1;36m1\u001b[0m\u001b[1;33m)\u001b[0m\u001b[1;33m:\u001b[0m\u001b[1;33m\u001b[0m\u001b[1;33m\u001b[0m\u001b[0m\n\u001b[0m\u001b[0;32m     10\u001b[0m         \u001b[0mresult\u001b[0m\u001b[1;33m.\u001b[0m\u001b[0mappend\u001b[0m\u001b[1;33m(\u001b[0m\u001b[0msum\u001b[0m\u001b[1;33m(\u001b[0m\u001b[0mscores\u001b[0m\u001b[1;33m[\u001b[0m\u001b[0mi\u001b[0m\u001b[1;33m]\u001b[0m\u001b[1;33m)\u001b[0m \u001b[1;33m/\u001b[0m \u001b[1;36m5\u001b[0m\u001b[1;33m)\u001b[0m\u001b[1;33m\u001b[0m\u001b[1;33m\u001b[0m\u001b[0m\n\u001b[0;32m     11\u001b[0m     \u001b[1;32melse\u001b[0m\u001b[1;33m:\u001b[0m\u001b[1;33m\u001b[0m\u001b[1;33m\u001b[0m\u001b[0m\n",
      "\u001b[1;31mAttributeError\u001b[0m: 'numpy.ndarray' object has no attribute 'count'"
     ]
    }
   ],
   "metadata": {}
  },
  {
   "cell_type": "code",
   "execution_count": 24,
   "source": [
    "# 상호 평가 \r\n",
    "import numpy as np \r\n",
    "scores = np.array([[100,90,98,88,65],[50,45,99,85,77],[47,88,95,80,67],[61,57,100,80,65],[24,90,94,75,65]]).T.tolist()\r\n",
    "\r\n",
    "import numpy as np\r\n",
    "def solution(scores):\r\n",
    "    scores = np.array(scores).T.tolist()\r\n",
    "    result = []\r\n",
    "    answer = ''\r\n",
    "    for i in range(len(scores)):\r\n",
    "        if (scores[i][i] == min(scores[i])) and (scores[i].count(scores[i][i]) != 1) :\r\n",
    "            result += [sum(scores[i]) / 5]\r\n",
    "        else:\r\n",
    "            result += [(sum(scores[i]) -scores[i][i]) / 4]\r\n",
    "    for idx in result:\r\n",
    "        if idx >= 90 :\r\n",
    "            answer += 'A'\r\n",
    "        elif idx >=80 :\r\n",
    "            answer += 'B'\r\n",
    "        elif idx >= 70 :\r\n",
    "            answer += 'C'\r\n",
    "        elif idx >= 50 :\r\n",
    "            answer += 'D'\r\n",
    "        elif idx < 50 :\r\n",
    "            answer += 'F'\r\n",
    "    return answer \r\n",
    "answer"
   ],
   "outputs": [
    {
     "output_type": "stream",
     "name": "stdout",
     "text": [
      "[45.5] #2\n",
      "[45.5, 81.25] #2\n",
      "[45.5, 81.25, 97.75] #2\n",
      "[45.5, 81.25, 97.75, 82.0] #2\n",
      "[45.5, 81.25, 97.75, 82.0, 67.8] #1\n"
     ]
    },
    {
     "output_type": "execute_result",
     "data": {
      "text/plain": [
       "'FBABD'"
      ]
     },
     "metadata": {},
     "execution_count": 24
    }
   ],
   "metadata": {}
  },
  {
   "cell_type": "code",
   "execution_count": null,
   "source": [
    "# 문자열 다루기 기본\r\n",
    "\r\n",
    "def solution(s):\r\n",
    "    if (len(s) ==4) or (len(s)==6):\r\n",
    "        try :\r\n",
    "            int(s)\r\n",
    "            return True\r\n",
    "        except:\r\n",
    "            return False\r\n",
    "    else:\r\n",
    "        return False\r\n"
   ],
   "outputs": [],
   "metadata": {}
  },
  {
   "cell_type": "code",
   "execution_count": 21,
   "source": [
    "# 평균 구하기 \r\n",
    "def solution(arr):\r\n",
    "    return sum(arr) /len(arr)"
   ],
   "outputs": [
    {
     "output_type": "error",
     "ename": "AttributeError",
     "evalue": "'list' object has no attribute 'shape'",
     "traceback": [
      "\u001b[1;31m---------------------------------------------------------------------------\u001b[0m",
      "\u001b[1;31mAttributeError\u001b[0m                            Traceback (most recent call last)",
      "\u001b[1;32m<ipython-input-21-5c8816b9fcc8>\u001b[0m in \u001b[0;36m<module>\u001b[1;34m\u001b[0m\n\u001b[1;32m----> 1\u001b[1;33m \u001b[0mscores\u001b[0m\u001b[1;33m.\u001b[0m\u001b[0mshape\u001b[0m\u001b[1;33m\u001b[0m\u001b[1;33m\u001b[0m\u001b[0m\n\u001b[0m",
      "\u001b[1;31mAttributeError\u001b[0m: 'list' object has no attribute 'shape'"
     ]
    }
   ],
   "metadata": {}
  },
  {
   "cell_type": "code",
   "execution_count": 26,
   "source": [
    "# 행렬의 덧셈\r\n",
    "\r\n",
    "# 1\r\n",
    "import numpy as np \r\n",
    "def solution(arr1, arr2):\r\n",
    "    return np.array(arr1) + np.array(arr2)\r\n",
    "\r\n",
    "\r\n",
    "# 2\r\n",
    "\r\n",
    "def solution(arr1, arr2):\r\n",
    "    return [[k + g for k,g in zip(i,j)] for i,j in zip(arr1, arr2)]"
   ],
   "outputs": [],
   "metadata": {}
  },
  {
   "cell_type": "code",
   "execution_count": 39,
   "source": [
    "# 최대공약수와 최소공배수\r\n",
    "import math \r\n",
    "def solution(n,m):\r\n",
    "    li = math.gcd(n, m)\r\n",
    "    return [li, m * n // li]\r\n"
   ],
   "outputs": [
    {
     "output_type": "execute_result",
     "data": {
      "text/plain": [
       "3"
      ]
     },
     "metadata": {},
     "execution_count": 39
    }
   ],
   "metadata": {}
  },
  {
   "cell_type": "code",
   "execution_count": null,
   "source": [
    "# 핸드폰 번호 가리기\r\n",
    "def solution(pn):\r\n",
    "    return '*' * (len(pn)-4) + pn[-4:]"
   ],
   "outputs": [],
   "metadata": {}
  },
  {
   "cell_type": "code",
   "execution_count": 54,
   "source": [
    "def solution(n):\r\n",
    "    if n**(1/2) == (n / int(n**(1/2))) :\r\n",
    "        return pow(int(n**(1/2)) + 1,2)\r\n",
    "    else:\r\n",
    "        return -1"
   ],
   "outputs": [
    {
     "output_type": "stream",
     "name": "stdout",
     "text": [
      "121\n"
     ]
    }
   ],
   "metadata": {}
  },
  {
   "cell_type": "code",
   "execution_count": 53,
   "source": [
    "# x만큼 간격이 있는 n개의 숫자\r\n",
    "def solution(x, n):\r\n",
    "    answer = []\r\n",
    "    for i in range(1, n+1):\r\n",
    "        answer += [i*x]\r\n",
    "    return answer"
   ],
   "outputs": [
    {
     "output_type": "execute_result",
     "data": {
      "text/plain": [
       "1"
      ]
     },
     "metadata": {},
     "execution_count": 53
    }
   ],
   "metadata": {}
  },
  {
   "cell_type": "code",
   "execution_count": null,
   "source": [
    "# 짝수와 홀수\r\n",
    "def solution(n):\r\n",
    "    if n % 2 == 0 :\r\n",
    "        return 'Even'\r\n",
    "    else:\r\n",
    "        return 'Odd'"
   ],
   "outputs": [],
   "metadata": {}
  },
  {
   "cell_type": "code",
   "execution_count": 59,
   "source": [
    "# 하샤드 수\r\n",
    "def solution(x):\r\n",
    "    x = str(x)\r\n",
    "    total = 0\r\n",
    "    for i in x:\r\n",
    "        total += int(i)\r\n",
    "\r\n",
    "    if int(x) % total == 0 :\r\n",
    "        return True \r\n",
    "    else:\r\n",
    "        return False\r\n"
   ],
   "outputs": [
    {
     "output_type": "execute_result",
     "data": {
      "text/plain": [
       "False"
      ]
     },
     "metadata": {},
     "execution_count": 59
    }
   ],
   "metadata": {}
  },
  {
   "cell_type": "code",
   "execution_count": 60,
   "source": [
    "# 직사각형 별찍기\r\n",
    "\r\n",
    "# 1\r\n",
    "a, b = map(int, input().strip().split(' '))\r\n",
    "for _ in range(b):\r\n",
    "    print('*' * a)\r\n",
    "\r\n",
    "\r\n",
    "# 2\r\n",
    "answer = ('*' * a + '\\n') * b\r\n",
    "print(answer)"
   ],
   "outputs": [],
   "metadata": {}
  },
  {
   "cell_type": "code",
   "execution_count": 65,
   "source": [
    "# 제일 작은 수 제거하기\r\n",
    "def solution(arr):\r\n",
    "    if len(arr) != 1:\r\n",
    "        arr.remove(min(arr))\r\n",
    "        return arr\r\n",
    "    else:\r\n",
    "        return [-1]\r\n",
    "    "
   ],
   "outputs": [],
   "metadata": {}
  },
  {
   "cell_type": "code",
   "execution_count": 74,
   "source": [
    "# 자연수 뒤집어 배열로 만들기\r\n",
    "\r\n",
    "# 1\r\n",
    "def solution(n):\r\n",
    "    n = str(n)\r\n",
    "    return [int(i) for i in n[::-1]]\r\n",
    "\r\n",
    "# 2\r\n",
    "def solution(n):\r\n",
    "    return [int(i) for i in str(n)[::-1]]"
   ],
   "outputs": [],
   "metadata": {}
  },
  {
   "cell_type": "code",
   "execution_count": 85,
   "source": [
    "# 정수 내림차순으로 배치하기\r\n",
    "\r\n",
    "# 1\r\n",
    "def solution(n):\r\n",
    "    li = sorted([i for i in str(n)])\r\n",
    "    return int(''.join(li)[::-1])\r\n",
    "\r\n",
    "\r\n",
    "# 2\r\n",
    "def solution(n):\r\n",
    "    li = [str(n)]\r\n",
    "    li.sort(reverse=True)\r\n",
    "    return int(''.join(li))"
   ],
   "outputs": [],
   "metadata": {}
  },
  {
   "cell_type": "code",
   "execution_count": null,
   "source": [
    "# 콜라츠 추측\r\n",
    "def solution(n):\r\n",
    "    count = 0 \r\n",
    "    while count <= 500 :\r\n",
    "        if n == 1:\r\n",
    "            return count\r\n",
    "        if n % 2 == 0 :\r\n",
    "            n //= 2\r\n",
    "            count += 1\r\n",
    "        else:\r\n",
    "            n *= 3\r\n",
    "            n += 1\r\n",
    "            count += 1\r\n",
    "    return -1"
   ],
   "outputs": [],
   "metadata": {}
  },
  {
   "cell_type": "code",
   "execution_count": 98,
   "source": [
    "# 이상한 문자 만들기\r\n",
    "s = 'try hello world'\r\n",
    "def solution(s):\r\n",
    "    li = s.split(' ')\r\n",
    "    answer = []\r\n",
    "    for idx in li:\r\n",
    "        st = ''\r\n",
    "        for i in range(len(idx)):\r\n",
    "            if i % 2 == 0 :\r\n",
    "                st += idx[i].upper()\r\n",
    "            else:\r\n",
    "                st += idx[i].lower()\r\n",
    "        answer += [st]\r\n",
    "    return ' '.join(answer)"
   ],
   "outputs": [],
   "metadata": {}
  },
  {
   "cell_type": "code",
   "execution_count": 106,
   "source": [
    "# 자릿수 더하기\r\n",
    "def solution(n):\r\n",
    "    return sum([int(i) for i in str(n)])\r\n"
   ],
   "outputs": [
    {
     "output_type": "execute_result",
     "data": {
      "text/plain": [
       "'FdEfMlIfMdFfNa A'"
      ]
     },
     "metadata": {},
     "execution_count": 106
    }
   ],
   "metadata": {}
  },
  {
   "cell_type": "code",
   "execution_count": null,
   "source": [
    "# 수박수박수박수박수박수?\r\n",
    "def solution(n):\r\n",
    "    li = '수박'*n \r\n",
    "    return li[:n]"
   ],
   "outputs": [],
   "metadata": {}
  },
  {
   "cell_type": "code",
   "execution_count": null,
   "source": [
    "# 소수 찾기 \r\n",
    "def solution(n):\r\n",
    "    che = [i for i in range(2,n+1)]\r\n",
    "    for i in range(2, n+1):\r\n",
    "        \r\n"
   ],
   "outputs": [],
   "metadata": {}
  },
  {
   "cell_type": "code",
   "execution_count": null,
   "source": [
    "# 나누어 떨어지는 숫자 배열\r\n",
    "def solution(arr, divisor):\r\n",
    "    answer = []\r\n",
    "    for idx in arr:\r\n",
    "        if idx % divisor == 0 :\r\n",
    "            answer += [idx]\r\n",
    "    if answer == []:\r\n",
    "        return [-1]\r\n",
    "    else:\r\n",
    "        return sorted(answer)"
   ],
   "outputs": [],
   "metadata": {}
  },
  {
   "cell_type": "code",
   "execution_count": null,
   "source": [
    "# 문자열 내림차순으로 배치하기\r\n",
    "def solution(s):\r\n",
    "    answer = sorted(list(s), reverse = True )\r\n",
    "    return ''.join(answer)"
   ],
   "outputs": [],
   "metadata": {}
  },
  {
   "cell_type": "code",
   "execution_count": 109,
   "source": [
    "# 서울에서 김서방 찾기 \r\n",
    "seoul = ['jane', 'kim']"
   ],
   "outputs": [],
   "metadata": {}
  },
  {
   "cell_type": "code",
   "execution_count": 121,
   "source": [
    "def solution(seoul):\r\n",
    "    for i, j in enumerate(seoul):\r\n",
    "        if j == 'Kim':\r\n",
    "            return f'김서방은 {i}에 있다'"
   ],
   "outputs": [],
   "metadata": {}
  },
  {
   "cell_type": "code",
   "execution_count": 120,
   "source": [
    "def solution(s, n):\r\n",
    "    answer = ''\r\n",
    "    for i in s:\r\n",
    "        if i == ' ':\r\n",
    "            answer += ' '\r\n",
    "        else:\r\n",
    "            if \r\n",
    "            answer += chr(ord(i) + n)\r\n",
    "    return answer "
   ],
   "outputs": [
    {
     "output_type": "execute_result",
     "data": {
      "text/plain": [
       "'b'"
      ]
     },
     "metadata": {},
     "execution_count": 120
    }
   ],
   "metadata": {}
  },
  {
   "cell_type": "code",
   "execution_count": 130,
   "source": [
    "# 폰켓몬\r\n",
    "def solution(nums):\r\n",
    "    return min(len(nums)//2, len(set(nums)))"
   ],
   "outputs": [
    {
     "output_type": "execute_result",
     "data": {
      "text/plain": [
       "3"
      ]
     },
     "metadata": {},
     "execution_count": 130
    }
   ],
   "metadata": {}
  },
  {
   "cell_type": "code",
   "execution_count": 169,
   "source": [
    "# 4주차\r\n",
    "table = [\"SI JAVA JAVASCRIPT SQL PYTHON C#\", \"CONTENTS JAVASCRIPT JAVA PYTHON SQL C++\", \"HARDWARE C C++ PYTHON JAVA JAVASCRIPT\", \"PORTAL JAVA JAVASCRIPT PYTHON KOTLIN PHP\", \"GAME C++ C# JAVASCRIPT C JAVA\"]\r\n",
    "re = list(map(lambda x: x.split(), table))\r\n",
    "re"
   ],
   "outputs": [
    {
     "output_type": "execute_result",
     "data": {
      "text/plain": [
       "[['SI', 'JAVA', 'JAVASCRIPT', 'SQL', 'PYTHON', 'C#'],\n",
       " ['CONTENTS', 'JAVASCRIPT', 'JAVA', 'PYTHON', 'SQL', 'C++'],\n",
       " ['HARDWARE', 'C', 'C++', 'PYTHON', 'JAVA', 'JAVASCRIPT'],\n",
       " ['PORTAL', 'JAVA', 'JAVASCRIPT', 'PYTHON', 'KOTLIN', 'PHP'],\n",
       " ['GAME', 'C++', 'C#', 'JAVASCRIPT', 'C', 'JAVA']]"
      ]
     },
     "metadata": {},
     "execution_count": 169
    }
   ],
   "metadata": {}
  },
  {
   "cell_type": "code",
   "execution_count": 7,
   "source": [
    "# 문자열 내 마음대로 정렬하기\r\n",
    "string = ['sun', 'bed', 'car']    \r\n",
    "string.sort(key = lambda x : x[1])\r\n",
    "\r\n",
    "\r\n",
    "def solution(strings, n):\r\n",
    "    strings.sort(key = lambda x: x[n:n+1])\r\n",
    "    return strings"
   ],
   "outputs": [],
   "metadata": {}
  },
  {
   "cell_type": "code",
   "execution_count": 9,
   "source": [
    "# 같은 숫자는 싫어\r\n",
    "\r\n",
    "\r\n",
    "def solution(arr):\r\n",
    "    answer = []\r\n",
    "    for i in range(len(arr)-1):\r\n",
    "        if arr[i] != arr[i+1]:\r\n",
    "            answer.append(arr[i])\r\n",
    "    answer.append(arr[-1])\r\n",
    "    return answer\r\n"
   ],
   "outputs": [],
   "metadata": {}
  },
  {
   "cell_type": "code",
   "execution_count": null,
   "source": [
    "# 두 정수 사이의 합\r\n",
    "\r\n",
    "# 1\r\n",
    "def solution(a, b):\r\n",
    "    start = min(a, b)\r\n",
    "    end = max(a, b)\r\n",
    "    answer = 0\r\n",
    "    if start == end:\r\n",
    "        return end\r\n",
    "    else:\r\n",
    "        i = 0\r\n",
    "        while i <= (end-start):\r\n",
    "            answer += start + i \r\n",
    "            i += 1\r\n",
    "    return answer\r\n",
    "\r\n",
    "\r\n",
    "# 2\r\n",
    "def solution(a, b):\r\n",
    "    st = min(a, b)\r\n",
    "    ed = max(a, b)\r\n",
    "    return sum(range(st, ed+1))"
   ],
   "outputs": [],
   "metadata": {}
  },
  {
   "cell_type": "code",
   "execution_count": 11,
   "source": [
    "# 완주하지 못한 선수\r\n",
    "part = [\"mislav\", \"stanko\", \"mislav\", \"ana\"]\r\n",
    "comp = [\"stanko\", \"ana\", \"mislav\"]\r\n",
    "\r\n",
    "comp_li = []\r\n",
    "for p in part:\r\n",
    "    if p in comp:\r\n",
    "        comp_li.append(p)\r\n"
   ],
   "outputs": [
    {
     "output_type": "execute_result",
     "data": {
      "text/plain": [
       "['mislav', 'stanko', 'mislav', 'ana']"
      ]
     },
     "metadata": {},
     "execution_count": 11
    }
   ],
   "metadata": {}
  },
  {
   "cell_type": "code",
   "execution_count": 1,
   "source": [
    "# 없는 숫자 더하기\r\n",
    "def solution(numbers):\r\n",
    "    result = 0 \r\n",
    "    for i in range(10):\r\n",
    "        if i not in numbers:\r\n",
    "            result += i\r\n",
    "    return result\r\n",
    "\r\n",
    "\r\n",
    "def solution(numbers):\r\n",
    "    return sum(range(10)) - sum(numbers)"
   ],
   "outputs": [],
   "metadata": {}
  },
  {
   "cell_type": "code",
   "execution_count": null,
   "source": [
    "# 복서 정렬하기\r\n",
    "w =[50, 82, 75, 120]\r\n",
    "f = ['NLWL', 'WNLL', 'LWNW', 'WWLN']\r\n",
    "\r\n",
    "\r\n",
    "\r\n"
   ],
   "outputs": [],
   "metadata": {}
  }
 ],
 "metadata": {
  "orig_nbformat": 4,
  "language_info": {
   "name": "python",
   "version": "3.9.2",
   "mimetype": "text/x-python",
   "codemirror_mode": {
    "name": "ipython",
    "version": 3
   },
   "pygments_lexer": "ipython3",
   "nbconvert_exporter": "python",
   "file_extension": ".py"
  },
  "kernelspec": {
   "name": "python3",
   "display_name": "Python 3.9.2 64-bit ('geo': conda)"
  },
  "interpreter": {
   "hash": "9a957a1fea41707a244f264f295721eb09ec21d5be06b513cdb5f37b29d60cc5"
  }
 },
 "nbformat": 4,
 "nbformat_minor": 2
}