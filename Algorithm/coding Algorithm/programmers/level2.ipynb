{
 "cells": [
  {
   "cell_type": "code",
   "execution_count": 62,
   "source": [
    "def mini(li, idx):\r\n",
    "    li.remove(idx)\r\n",
    "    return li \r\n",
    "\r\n",
    "def solution(pb):\r\n",
    "    for idx in pb:\r\n",
    "        i = pb.index(idx)\r\n",
    "        sub = mini(pb, idx)\r\n",
    "        for idx2 in sub:\r\n",
    "            if idx in idx2:\r\n",
    "                return False\r\n",
    "\r\n",
    "        # if idx in sub:\r\n",
    "        #     print(idx, sub, '#2')\r\n",
    "        #     return False\r\n",
    "        sub.insert(i, idx)\r\n",
    "    return True\r\n"
   ],
   "outputs": [],
   "metadata": {}
  },
  {
   "cell_type": "code",
   "execution_count": null,
   "source": [
    "def solution(pb):\r\n",
    "    pb.sort()\r\n",
    "    for i in range(len(pb)-1):\r\n",
    "        if pb[i] in pb[i+1][:len(pb[i])]:\r\n",
    "            return False \r\n",
    "    return True\r\n"
   ],
   "outputs": [],
   "metadata": {}
  },
  {
   "cell_type": "code",
   "execution_count": 71,
   "source": [
    "# 행렬의 곱셈\r\n",
    "import numpy as np \r\n",
    "def solution(arr1, arr2):\r\n",
    "    arr1 = np.array(arr1)\r\n",
    "    arr2 = np.array(arr2)\r\n",
    "    return arr1.dot(arr2).tolist()"
   ],
   "outputs": [
    {
     "output_type": "execute_result",
     "data": {
      "text/plain": [
       "array([[15, 15],\n",
       "       [15, 15],\n",
       "       [15, 15]])"
      ]
     },
     "metadata": {},
     "execution_count": 71
    }
   ],
   "metadata": {}
  },
  {
   "cell_type": "code",
   "execution_count": null,
   "source": [
    "# 큰 수 만들기\r\n",
    "def solution(s):\r\n",
    "    li = s.split()"
   ],
   "outputs": [],
   "metadata": {}
  },
  {
   "cell_type": "code",
   "execution_count": 14,
   "source": [
    "def solution(s):\r\n",
    "    li = list(map(int,s.split()))\r\n",
    "    mi = str(min(li))\r\n",
    "    ma = str(max(li))\r\n",
    "    answer = mi + ' ' + ma\r\n",
    "    return answer"
   ],
   "outputs": [],
   "metadata": {}
  },
  {
   "cell_type": "code",
   "execution_count": 9,
   "source": [
    "#가장 큰 수 \r\n",
    "def solution(n):\r\n",
    "    n = [3, 30, 34, 5, 9]\r\n",
    "    n = [str(x) for x in n]\r\n",
    "    n.sort(reverse=True)\r\n",
    "    result = ''\r\n",
    "    for i in range(len(n)-1):\r\n",
    "        if n[i][-1] == '0':\r\n",
    "            a = n[i+1]\r\n",
    "            n[i+1] = n[i]\r\n",
    "            n[i] = a\r\n",
    "    for i in n: result += i\r\n",
    "    return result"
   ],
   "outputs": [],
   "metadata": {}
  },
  {
   "cell_type": "code",
   "execution_count": 81,
   "source": [
    "from math import gcd \r\n",
    "# N개의 최소공배수\r\n",
    "def solution(arr):\r\n",
    "    while 1:\r\n",
    "        if len(arr) == 1:\r\n",
    "            break\r\n",
    "        arr[0] = arr[0] * arr[1] // gcd(arr[0], arr[1])\r\n",
    "        del arr[1]\r\n",
    "    return arr[0]"
   ],
   "outputs": [],
   "metadata": {}
  },
  {
   "cell_type": "code",
   "execution_count": 82,
   "source": [
    "# H-Index\r\n",
    "citation = [3, 0, 6, 1, 5]\r\n",
    "citation.sort(reverse=True)\r\n",
    "def solution(citation):\r\n",
    "    n = len(citation)\r\n",
    "    result = 0 \r\n",
    "    for i in range(n):\r\n",
    "        if i+1 <= citation[i]:\r\n",
    "            result = i + 1\r\n",
    "        else:\r\n",
    "            return result\r\n",
    "    return result"
   ],
   "outputs": [],
   "metadata": {}
  },
  {
   "cell_type": "code",
   "execution_count": 87,
   "source": [
    "# 다음 큰 숫자\r\n",
    "# bin : 이진수\r\n",
    "# oct : 8진수\r\n",
    "# hex : 16진수\r\n",
    "\r\n",
    "def solution(n):\r\n",
    "    result = n\r\n",
    "    while 1:\r\n",
    "        n1 = bin(n).count('1')\r\n",
    "        result += 1\r\n",
    "        n2 = bin(result).count('1')\r\n",
    "        if n1 == n2:\r\n",
    "            return result"
   ],
   "outputs": [
    {
     "output_type": "execute_result",
     "data": {
      "text/plain": [
       "4"
      ]
     },
     "metadata": {},
     "execution_count": 87
    }
   ],
   "metadata": {}
  },
  {
   "cell_type": "code",
   "execution_count": 94,
   "source": [
    "# 숫자의 표현\r\n",
    "def solution(n):\r\n",
    "    answer = []\r\n",
    "    for i in range(1,n+1):\r\n",
    "        result = 0\r\n",
    "        num = i\r\n",
    "        while 1:\r\n",
    "            result += num\r\n",
    "            if result >= n:\r\n",
    "                answer.append(result)\r\n",
    "                break\r\n",
    "            num += 1\r\n",
    "    return answer.count(n)"
   ],
   "outputs": [],
   "metadata": {}
  },
  {
   "cell_type": "code",
   "execution_count": 140,
   "source": [
    "# 최솟값 만들기\r\n",
    "# 1\r\n",
    "def solution(a, b):\r\n",
    "    a.sort()\r\n",
    "    b.sort(reverse=True)\r\n",
    "    result = 0\r\n",
    "    for i in range(len(a)):\r\n",
    "        result += a[i] * b[i]\r\n",
    "    return result\r\n",
    "\r\n",
    "# 2\r\n",
    "sum(a*b for a, b in zip(sorted(a), sorted(b, reverse=True)))"
   ],
   "outputs": [],
   "metadata": {}
  },
  {
   "cell_type": "code",
   "execution_count": 15,
   "source": [
    "# 올바른 괄호\r\n",
    "from collections import deque\r\n",
    "def solution(s):\r\n",
    "    answer = True\r\n",
    "    q = deque()\r\n",
    "\r\n",
    "    for i in s:\r\n",
    "        if i=='(':\r\n",
    "            q.append(i)\r\n",
    "        else:\r\n",
    "            if len(q)==0 or q.pop()==')':\r\n",
    "                return False\r\n",
    "\r\n",
    "    if len(q)!=0:\r\n",
    "        return False\r\n",
    "    \r\n",
    "    return True\r\n",
    " "
   ],
   "outputs": [],
   "metadata": {}
  },
  {
   "cell_type": "code",
   "execution_count": 100,
   "source": [
    "# 삭제하고 정렬하는 시간이 있기에 시간초과\r\n",
    "# 짝지어 제거하기\r\n",
    "\r\n",
    "def solution(s):\r\n",
    "    i = 0\r\n",
    "    while i < len(s) -1:\r\n",
    "        if s[i] == s[i+1]:\r\n",
    "            s = s[0:i] + s[i+2:]\r\n",
    "            i = 0\r\n",
    "        else:\r\n",
    "            i += 1\r\n",
    "    if s == '': return 1 \r\n",
    "    else : return 0"
   ],
   "outputs": [],
   "metadata": {}
  },
  {
   "cell_type": "code",
   "execution_count": 95,
   "source": [
    "# stack\r\n",
    "def solution(s): \r\n",
    "    stack = []\r\n",
    "    for i in s:\r\n",
    "        if len(stack) == 0: stack.append(i)\r\n",
    "        elif stack[-1] == i: stack.pop()\r\n",
    "        else: stack.append(i)\r\n",
    "    if len(stack) == 0: return 1\r\n",
    "    else: return 0 "
   ],
   "outputs": [],
   "metadata": {}
  },
  {
   "cell_type": "code",
   "execution_count": 12,
   "source": [
    "# 방문 길이\r\n",
    "dir = \"ULURRDLLU\"\r\n",
    "dir_set = list(set(dir))\r\n",
    "dic = dict({})\r\n",
    "\r\n",
    "for idx in dir:\r\n",
    "    dic[idx] = dir.count(idx)\r\n",
    "\r\n",
    "# R = L / U = D\r\n",
    "\r\n",
    "x = dic['R'] - dic['L']\r\n",
    "y = dic['U'] - dic['D']\r\n",
    "\r\n",
    "x,y "
   ],
   "outputs": [
    {
     "output_type": "execute_result",
     "data": {
      "text/plain": [
       "(-1, 2)"
      ]
     },
     "metadata": {},
     "execution_count": 12
    }
   ],
   "metadata": {}
  },
  {
   "cell_type": "code",
   "execution_count": null,
   "source": [],
   "outputs": [],
   "metadata": {}
  }
 ],
 "metadata": {
  "orig_nbformat": 4,
  "language_info": {
   "name": "python",
   "version": "3.9.2",
   "mimetype": "text/x-python",
   "codemirror_mode": {
    "name": "ipython",
    "version": 3
   },
   "pygments_lexer": "ipython3",
   "nbconvert_exporter": "python",
   "file_extension": ".py"
  },
  "kernelspec": {
   "name": "python3",
   "display_name": "Python 3.9.2 64-bit ('geo': conda)"
  },
  "interpreter": {
   "hash": "9a957a1fea41707a244f264f295721eb09ec21d5be06b513cdb5f37b29d60cc5"
  }
 },
 "nbformat": 4,
 "nbformat_minor": 2
}