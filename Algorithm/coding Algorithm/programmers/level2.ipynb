{
 "cells": [
  {
   "cell_type": "code",
   "execution_count": 62,
   "source": [
    "def mini(li, idx):\r\n",
    "    li.remove(idx)\r\n",
    "    return li \r\n",
    "\r\n",
    "def solution(pb):\r\n",
    "    for idx in pb:\r\n",
    "        i = pb.index(idx)\r\n",
    "        sub = mini(pb, idx)\r\n",
    "        for idx2 in sub:\r\n",
    "            if idx in idx2:\r\n",
    "                return False\r\n",
    "\r\n",
    "        # if idx in sub:\r\n",
    "        #     print(idx, sub, '#2')\r\n",
    "        #     return False\r\n",
    "        sub.insert(i, idx)\r\n",
    "    return True\r\n"
   ],
   "outputs": [],
   "metadata": {}
  },
  {
   "cell_type": "code",
   "execution_count": null,
   "source": [
    "def solution(pb):\r\n",
    "    pb.sort()\r\n",
    "    for i in range(len(pb)-1):\r\n",
    "        if pb[i] in pb[i+1][:len(pb[i])]:\r\n",
    "            return False \r\n",
    "    return True\r\n"
   ],
   "outputs": [],
   "metadata": {}
  },
  {
   "cell_type": "code",
   "execution_count": 71,
   "source": [
    "# 행렬의 곱셈\r\n",
    "import numpy as np \r\n",
    "def solution(arr1, arr2):\r\n",
    "    arr1 = np.array(arr1)\r\n",
    "    arr2 = np.array(arr2)\r\n",
    "    return arr1.dot(arr2).tolist()"
   ],
   "outputs": [
    {
     "output_type": "execute_result",
     "data": {
      "text/plain": [
       "array([[15, 15],\n",
       "       [15, 15],\n",
       "       [15, 15]])"
      ]
     },
     "metadata": {},
     "execution_count": 71
    }
   ],
   "metadata": {}
  },
  {
   "cell_type": "code",
   "execution_count": 72,
   "source": [
    "s = \"{{2},{2,1},{2,1,3},{2,1,3,4}}\""
   ],
   "outputs": [],
   "metadata": {}
  },
  {
   "cell_type": "code",
   "execution_count": 97,
   "source": [
    "s = \"{{1,2,3},{2,1},{1,2,4,3},{2}}\"\r\n",
    "s = list(map(lambda x: x.split(','),s[2:-2].split('},{')))"
   ],
   "outputs": [],
   "metadata": {}
  },
  {
   "cell_type": "code",
   "execution_count": 101,
   "source": [
    "s.sort(reverse=True)"
   ],
   "outputs": [],
   "metadata": {}
  },
  {
   "cell_type": "code",
   "execution_count": 102,
   "source": [
    "s"
   ],
   "outputs": [
    {
     "output_type": "execute_result",
     "data": {
      "text/plain": [
       "[['2', '1'], ['2'], ['1', '2', '4', '3'], ['1', '2', '3']]"
      ]
     },
     "metadata": {},
     "execution_count": 102
    }
   ],
   "metadata": {}
  },
  {
   "cell_type": "code",
   "execution_count": null,
   "source": [],
   "outputs": [],
   "metadata": {}
  }
 ],
 "metadata": {
  "orig_nbformat": 4,
  "language_info": {
   "name": "python",
   "version": "3.8.5",
   "mimetype": "text/x-python",
   "codemirror_mode": {
    "name": "ipython",
    "version": 3
   },
   "pygments_lexer": "ipython3",
   "nbconvert_exporter": "python",
   "file_extension": ".py"
  },
  "kernelspec": {
   "name": "python3",
   "display_name": "Python 3.8.5 64-bit ('base': conda)"
  },
  "interpreter": {
   "hash": "96cf18f209edf6220e7043c3825950920f4c7ad96ff42ffae85e8b73f5a9541f"
  }
 },
 "nbformat": 4,
 "nbformat_minor": 2
}