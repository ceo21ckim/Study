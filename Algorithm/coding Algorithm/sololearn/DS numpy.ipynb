{
 "cells": [
  {
   "cell_type": "code",
   "execution_count": 1,
   "source": [
    "# numpy \r\n",
    "# Numpy(Numerical Python) is a Python library used to work with numerical data.\r\n",
    "# Numpy includes functions and structures that can perform a wide variety of mathematical operations.\r\n",
    "# To start using NumPy, we fires need to import it;\r\n",
    "import numpy as np "
   ],
   "outputs": [],
   "metadata": {}
  },
  {
   "cell_type": "code",
   "execution_count": 2,
   "source": [
    "x = np.array([[1, 2, 3], [4, 5, 6], [7, 8, 9]])\r\n",
    "print(x[1][2])"
   ],
   "outputs": [
    {
     "output_type": "stream",
     "name": "stdout",
     "text": [
      "6\n"
     ]
    }
   ],
   "metadata": {}
  },
  {
   "cell_type": "code",
   "execution_count": 6,
   "source": [
    "x = np.array([[1, 2, 3], [4, 5, 6], [7, 8, 9]])\r\n",
    "# ndim returns the number of dimensions of the array/\r\n",
    "print(x.ndim)\r\n",
    "\r\n",
    "# size return the total number of elements of the array.\r\n",
    "print(x.size)\r\n",
    "\r\n",
    "# shape returns a tuple of integers that indicate the number of elements stored along each dimension of the array.\r\n",
    "print(x.shape)"
   ],
   "outputs": [
    {
     "output_type": "stream",
     "name": "stdout",
     "text": [
      "2\n",
      "9\n",
      "(3, 3)\n"
     ]
    }
   ],
   "metadata": {}
  },
  {
   "cell_type": "code",
   "execution_count": 9,
   "source": [
    "x = np.array([2, 1, 3])\r\n",
    "print(x)\r\n",
    "\r\n",
    "# add an element\r\n",
    "x = np.append(x, 4)\r\n",
    "print(x)\r\n",
    "\r\n",
    "# delete at index\r\n",
    "x = np.delete(x, 0)\r\n",
    "print(x)\r\n",
    "\r\n",
    "# sort the array\r\n",
    "x = np.sort(x)\r\n",
    "print(x)"
   ],
   "outputs": [
    {
     "output_type": "stream",
     "name": "stdout",
     "text": [
      "[2 1 3]\n",
      "[2 1 3 4]\n",
      "[1 3 4]\n",
      "[1 3 4]\n"
     ]
    }
   ],
   "metadata": {}
  },
  {
   "cell_type": "code",
   "execution_count": 11,
   "source": [
    "# np.arange() allows you to create an array that contains a range of evenly spaced intervals (similar to a Python range);\r\n",
    "np.arange(2, 10, 3)"
   ],
   "outputs": [
    {
     "output_type": "execute_result",
     "data": {
      "text/plain": [
       "array([2, 5, 8])"
      ]
     },
     "metadata": {},
     "execution_count": 11
    }
   ],
   "metadata": {}
  },
  {
   "cell_type": "code",
   "execution_count": 12,
   "source": [
    "# What is the output of this code?\r\n",
    "\r\n",
    "x = np.arange(2, 8, 2)\r\n",
    "x = np.append(x, x.size)\r\n",
    "x = np.sort(x)\r\n",
    "print(x[1])"
   ],
   "outputs": [
    {
     "output_type": "stream",
     "name": "stdout",
     "text": [
      "3\n"
     ]
    }
   ],
   "metadata": {}
  },
  {
   "cell_type": "code",
   "execution_count": 13,
   "source": [
    "# Reshape\r\n",
    "# Recall that shape refers to the number of rows and columns in the array.\r\n",
    "# For example, let's consider the following array;\r\n",
    "# we can change our 1-dim array to an array with 3 rows and 2 columns;\r\n",
    "x = np.arange(1, 7)\r\n",
    "z = x.reshape(3, 2)\r\n",
    "z"
   ],
   "outputs": [
    {
     "output_type": "execute_result",
     "data": {
      "text/plain": [
       "array([[1, 2],\n",
       "       [3, 4],\n",
       "       [5, 6]])"
      ]
     },
     "metadata": {},
     "execution_count": 13
    }
   ],
   "metadata": {}
  },
  {
   "cell_type": "code",
   "execution_count": 15,
   "source": [
    "# Reshape can also do the opposite: take a 2-dim array and make a 1-dim array from it;\r\n",
    "x = np.array([[1, 2], [3, 4], [5, 6]])\r\n",
    "z = x.reshape(6) # x.flatten()\r\n",
    "z"
   ],
   "outputs": [
    {
     "output_type": "execute_result",
     "data": {
      "text/plain": [
       "array([1, 2, 3, 4, 5, 6])"
      ]
     },
     "metadata": {},
     "execution_count": 15
    }
   ],
   "metadata": {}
  },
  {
   "cell_type": "code",
   "execution_count": 17,
   "source": [
    "# Indexing and Slicing\r\n",
    "# NumPy arrays can be indexed and sliced the same way that Python lists are.\r\n",
    "x = np.arange(1, 10)\r\n",
    "print(x[0:2])\r\n",
    "print(x[5:])\r\n",
    "print(x[:2])\r\n",
    "print(x[-3:])"
   ],
   "outputs": [
    {
     "output_type": "stream",
     "name": "stdout",
     "text": [
      "[1 2]\n",
      "[6 7 8 9]\n",
      "[1 2]\n",
      "[7 8 9]\n"
     ]
    }
   ],
   "metadata": {}
  },
  {
   "cell_type": "code",
   "execution_count": 18,
   "source": [
    "# Conditions\r\n",
    "# You can provide a condition as the index to select the elements that fulfill the given condition.\r\n",
    "x = np.arange(1, 10)\r\n",
    "print(x[x<4])"
   ],
   "outputs": [
    {
     "output_type": "stream",
     "name": "stdout",
     "text": [
      "[1 2 3]\n"
     ]
    }
   ],
   "metadata": {}
  },
  {
   "cell_type": "code",
   "execution_count": 19,
   "source": [
    "print(x[(x>5) & (x%2==0)])"
   ],
   "outputs": [
    {
     "output_type": "stream",
     "name": "stdout",
     "text": [
      "[6 8]\n"
     ]
    }
   ],
   "metadata": {}
  },
  {
   "cell_type": "code",
   "execution_count": 20,
   "source": [
    "# Operations\r\n",
    "# It is easy to perform basic mathematical operations with arrays.\r\n",
    "# For example, to find the sum of all elements, we use the sum() function;\r\n",
    "\r\n",
    "x = np.arange(1, 10)\r\n",
    "print(x.sum())"
   ],
   "outputs": [
    {
     "output_type": "stream",
     "name": "stdout",
     "text": [
      "45\n"
     ]
    }
   ],
   "metadata": {}
  },
  {
   "cell_type": "code",
   "execution_count": null,
   "source": [
    "# Similarly, min() and max() can be used to get the smallest and largest elements.\r\n",
    "# We can also perform operations between the array and a single number.\r\n",
    "# For example, we can multiply all elements by 2:\r\n",
    "x = np.arange(1, 10)\r\n",
    "y = x*2"
   ],
   "outputs": [],
   "metadata": {}
  },
  {
   "cell_type": "code",
   "execution_count": 21,
   "source": [
    "# Remember the summary statistics we learned in the previous module? Those included mean, median, variance and standard deviation.\r\n",
    "# NumPy arrays have built-in functions to return those values.\r\n",
    "x = np.array([14, 18, 19, 24, 26, 33, 42, 55, 67])\r\n",
    "print(np.mean(x))\r\n",
    "print(np.median(x))\r\n",
    "print(np.var(x))\r\n",
    "print(np.std(x))"
   ],
   "outputs": [
    {
     "output_type": "stream",
     "name": "stdout",
     "text": [
      "33.111111111111114\n",
      "26.0\n",
      "292.5432098765432\n",
      "17.10389458212787\n"
     ]
    }
   ],
   "metadata": {}
  },
  {
   "cell_type": "code",
   "execution_count": null,
   "source": [
    "# What is the output?\r\n",
    "x = np.arange(3, 9)\r\n",
    "z = x.reshape(2, 3)\r\n",
    "print(z[1][1])\r\n"
   ],
   "outputs": [],
   "metadata": {}
  },
  {
   "cell_type": "code",
   "execution_count": 22,
   "source": [
    "# House Prices\r\n",
    "# You are given an array that represents house prices.\r\n",
    "# Calculate and output the percentage of houses that are within one standard deviation from the mean.\r\n",
    "# multiplicate 100\r\n",
    "data = np.array([\r\n",
    "    150000, 125000, 320000, 540000, 200000, 120000, 160000, 230000, \r\n",
    "    280000, 290000, 300000, 500000, 420000, 100000, 150000, 280000]\r\n",
    "    )\r\n"
   ],
   "outputs": [],
   "metadata": {}
  },
  {
   "cell_type": "code",
   "execution_count": 31,
   "source": [
    "# sol\r\n",
    "\r\n",
    "mean = np.mean(data)\r\n",
    "std = np.std(data)\r\n",
    "\r\n",
    "answer = data[(data < (mean+std)) & (data > (mean-std))]\r\n",
    "print(len(answer) / len(data) * 100)"
   ],
   "outputs": [
    {
     "output_type": "stream",
     "name": "stdout",
     "text": [
      "0.625\n"
     ]
    }
   ],
   "metadata": {}
  },
  {
   "cell_type": "code",
   "execution_count": 28,
   "source": [],
   "outputs": [
    {
     "output_type": "execute_result",
     "data": {
      "text/plain": [
       "390366.199846448"
      ]
     },
     "metadata": {},
     "execution_count": 28
    }
   ],
   "metadata": {}
  },
  {
   "cell_type": "code",
   "execution_count": null,
   "source": [],
   "outputs": [],
   "metadata": {}
  }
 ],
 "metadata": {
  "orig_nbformat": 4,
  "language_info": {
   "name": "python",
   "version": "3.7.10",
   "mimetype": "text/x-python",
   "codemirror_mode": {
    "name": "ipython",
    "version": 3
   },
   "pygments_lexer": "ipython3",
   "nbconvert_exporter": "python",
   "file_extension": ".py"
  },
  "kernelspec": {
   "name": "python3",
   "display_name": "Python 3.7.10 64-bit ('default': conda)"
  },
  "interpreter": {
   "hash": "c241ec60e7167152c8218504a6393589de3a2bb3e6995b097bc5c55e5bb99b8c"
  }
 },
 "nbformat": 4,
 "nbformat_minor": 2
}