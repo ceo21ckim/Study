{
 "cells": [
  {
   "cell_type": "code",
   "execution_count": null,
   "source": [
    "# Generally, Python code is also much shorter compared to other programming languages.\r\n",
    "# Python is easy to learn.\r\n",
    "# The syntax is easy to read and understand.\r\n",
    "# There are many useful libraries to perform computations and other operations."
   ],
   "outputs": [],
   "metadata": {}
  },
  {
   "cell_type": "code",
   "execution_count": null,
   "source": [
    "# Let's check your Python knowledge!\r\n",
    "# What is the output of this code?\r\n",
    "x = []\r\n",
    "for a in range(4):\r\n",
    "    x.append(a**2)\r\n",
    "\r\n",
    "print(x[2])"
   ],
   "outputs": [],
   "metadata": {}
  },
  {
   "cell_type": "code",
   "execution_count": 2,
   "source": [
    "# 2\r\n",
    "# Statistics\r\n",
    "# Data Science uses various techiques and methods to extract knowledge and insights from data.\r\n",
    "# Let's dive into some basics of sattistics first. These concepts form the main Building blocks of data analysis.\r\n",
    "# As an example dataset, let's consider the prices of a group of products;\r\n",
    "\r\n",
    "x = [18, 24, 67, 55, 42, 14, 19, 26, 33]\r\n",
    "print( 'mean : %d' % (sum(x)/ len(x)))"
   ],
   "outputs": [
    {
     "output_type": "stream",
     "name": "stdout",
     "text": [
      "mean : 33\n"
     ]
    }
   ],
   "metadata": {}
  },
  {
   "cell_type": "code",
   "execution_count": null,
   "source": [
    "# Standard Deviation \r\n",
    "# The Standard Deviation is a measure of how spread out our data is.\r\n",
    "# To Calculate it, we first need to calculate a value called Variance: Which is the average of the squared diffrences from the mean.\r\n",
    "\r\n",
    "# What would be the standard deviation for a dataset containing the same value?\r\n",
    "[2, 2, 2, 2]"
   ],
   "outputs": [],
   "metadata": {}
  },
  {
   "cell_type": "code",
   "execution_count": 4,
   "source": [
    "# what is the standard deviation for the following data?\r\n",
    "data = [8, 8, 8, 8, 8]"
   ],
   "outputs": [],
   "metadata": {}
  },
  {
   "cell_type": "code",
   "execution_count": null,
   "source": [
    "# Basketball Players\r\n",
    "\r\n",
    "# The given code includes a list of heights for various basketball players.\r\n",
    "# You need to calculate and output how many players are in the range of one standard deviation from the mean.\r\n",
    "players = [180, 172, 178, 185, 190, 195, 192, 200, 210, 190]"
   ],
   "outputs": [],
   "metadata": {}
  },
  {
   "cell_type": "code",
   "execution_count": null,
   "source": [
    "# sol \r\n"
   ],
   "outputs": [],
   "metadata": {}
  }
 ],
 "metadata": {
  "orig_nbformat": 4,
  "language_info": {
   "name": "python",
   "version": "3.7.10",
   "mimetype": "text/x-python",
   "codemirror_mode": {
    "name": "ipython",
    "version": 3
   },
   "pygments_lexer": "ipython3",
   "nbconvert_exporter": "python",
   "file_extension": ".py"
  },
  "kernelspec": {
   "name": "python3",
   "display_name": "Python 3.7.10 64-bit ('default': conda)"
  },
  "interpreter": {
   "hash": "c241ec60e7167152c8218504a6393589de3a2bb3e6995b097bc5c55e5bb99b8c"
  }
 },
 "nbformat": 4,
 "nbformat_minor": 2
}