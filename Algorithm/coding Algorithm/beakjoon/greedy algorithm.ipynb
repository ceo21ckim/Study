{
 "cells": [
  {
   "cell_type": "markdown",
   "metadata": {},
   "source": [
    "### greedy algorithm"
   ]
  },
  {
   "cell_type": "markdown",
   "metadata": {},
   "source": [
    "- // == 몫, % 나머지"
   ]
  },
  {
   "cell_type": "markdown",
   "metadata": {},
   "source": [
    "#### 설탕배달"
   ]
  },
  {
   "cell_type": "code",
   "execution_count": 21,
   "metadata": {},
   "outputs": [
    {
     "name": "stdout",
     "output_type": "stream",
     "text": [
      "13\n",
      "3\n"
     ]
    }
   ],
   "source": [
    "# 2839\n",
    "n = int(input())\n",
    "result = 0 \n",
    "while True :\n",
    "    if n % 5 == 0 :\n",
    "        result += (n // 5)\n",
    "        print(result)\n",
    "        break\n",
    "    n -= 3\n",
    "    result += 1\n",
    "    if n < -1 :\n",
    "        print(-1)\n",
    "        break"
   ]
  },
  {
   "cell_type": "markdown",
   "metadata": {},
   "source": [
    "#### ATM"
   ]
  },
  {
   "cell_type": "code",
   "execution_count": 51,
   "metadata": {},
   "outputs": [
    {
     "name": "stdout",
     "output_type": "stream",
     "text": [
      "5\n",
      "3 1 4 3 2\n",
      "32\n"
     ]
    }
   ],
   "source": [
    "# 11399\n",
    "n = int(input())\n",
    "time = list(map(int,input().split()))\n",
    "result = 0 \n",
    "time.sort()\n",
    "while n > 0 :\n",
    "    for i in range(1,n+1):\n",
    "        result += sum(time[:i])\n",
    "        n -= 1\n",
    "print(result)"
   ]
  },
  {
   "cell_type": "markdown",
   "metadata": {},
   "source": [
    "#### 동전 0"
   ]
  },
  {
   "cell_type": "code",
   "execution_count": 104,
   "metadata": {
    "collapsed": true
   },
   "outputs": [
    {
     "name": "stdout",
     "output_type": "stream",
     "text": [
      "10 4200\n",
      "1\n",
      "5\n",
      "10\n",
      "50\n",
      "100\n",
      "500\n",
      "1000\n",
      "5000\n",
      "10000\n",
      "50000\n",
      "6\n"
     ]
    }
   ],
   "source": [
    "# 11047\n",
    "n, k = map(int,input().split())\n",
    "M = [int(input()) for _ in range(n)]\n",
    "num = 0\n",
    "a = 0\n",
    "for i in range(1,len(M)+1):\n",
    "    value = M[-i]\n",
    "    if k >= value :\n",
    "        a = k//value\n",
    "        k -= a*value\n",
    "        num += a\n",
    "print(num)"
   ]
  },
  {
   "cell_type": "code",
   "execution_count": null,
   "metadata": {},
   "outputs": [],
   "source": []
  }
 ],
 "metadata": {
  "kernelspec": {
   "display_name": "Python 3",
   "language": "python",
   "name": "python3"
  },
  "language_info": {
   "codemirror_mode": {
    "name": "ipython",
    "version": 3
   },
   "file_extension": ".py",
   "mimetype": "text/x-python",
   "name": "python",
   "nbconvert_exporter": "python",
   "pygments_lexer": "ipython3",
   "version": "3.8.5"
  }
 },
 "nbformat": 4,
 "nbformat_minor": 4
}
