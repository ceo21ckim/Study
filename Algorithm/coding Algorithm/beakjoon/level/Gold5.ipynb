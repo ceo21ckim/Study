{
 "cells": [
  {
   "cell_type": "code",
   "execution_count": null,
   "source": [
    "# 1011 Fly me to the Alpha Centauri\r\n",
    "\r\n",
    "n = int(input())\r\n",
    "\r\n",
    "term = 1\r\n",
    "k = 0 \r\n",
    "times = 0\r\n",
    "for _ in range(n):\r\n",
    "    x, y = map(int,input().split())\r\n",
    "    \r\n",
    "    if ( y - k ) < 1 :\r\n",
    "\r\n",
    "\r\n",
    "\r\n"
   ],
   "outputs": [],
   "metadata": {}
  }
 ],
 "metadata": {
  "orig_nbformat": 4,
  "language_info": {
   "name": "python"
  }
 },
 "nbformat": 4,
 "nbformat_minor": 2
}