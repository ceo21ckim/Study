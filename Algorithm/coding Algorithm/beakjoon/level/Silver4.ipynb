{
 "cells": [
  {
   "cell_type": "code",
   "execution_count": 4,
   "source": [
    "# 2108 통계학\r\n",
    "# N = odd number \r\n",
    "\r\n",
    "N = int(input())\r\n",
    "\r\n",
    "li = [int(input()) for _ in range(N)]\r\n",
    "\r\n",
    "print(f'{ int(sum(li)/N)}')\r\n",
    "print(f'{int((len(li)+1) / 2)}')"
   ],
   "outputs": [
    {
     "output_type": "stream",
     "name": "stdout",
     "text": [
      "2\n"
     ]
    }
   ],
   "metadata": {}
  },
  {
   "cell_type": "code",
   "execution_count": 29,
   "source": [
    "# 9012 괄호\r\n",
    "n = int(input())\r\n",
    "\r\n",
    "\r\n",
    "for _ in range(n):\r\n",
    "    x = list(input())\r\n",
    "    sum = 0 \r\n",
    "    for i in x:\r\n",
    "        if i in '(':\r\n",
    "            sum += 1\r\n",
    "        if i in ')':\r\n",
    "            sum -= 1\r\n",
    "        if sum < 0 :\r\n",
    "            print('NO')\r\n",
    "            break\r\n",
    "\r\n",
    "    if sum > 0 :\r\n",
    "        print('NO') \r\n",
    "    if sum == 0 :\r\n",
    "        print('YES')\r\n",
    "    "
   ],
   "outputs": [
    {
     "output_type": "stream",
     "name": "stdout",
     "text": [
      "NO\n",
      "NO\n",
      "NO\n"
     ]
    }
   ],
   "metadata": {}
  },
  {
   "cell_type": "code",
   "execution_count": 25,
   "source": [
    "n = int(input())\r\n",
    "\r\n",
    "for _ in range(n):\r\n",
    "    x = input()\r\n",
    "    while '()' in x :\r\n",
    "        x = x.replace('()','')\r\n",
    "\r\n",
    "    if len(x) != 0 :\r\n",
    "        print('NO')\r\n",
    "    else:\r\n",
    "        print('YES')"
   ],
   "outputs": [
    {
     "output_type": "execute_result",
     "data": {
      "text/plain": [
       "['(', '(']"
      ]
     },
     "metadata": {},
     "execution_count": 25
    }
   ],
   "metadata": {}
  }
 ],
 "metadata": {
  "orig_nbformat": 4,
  "language_info": {
   "name": "python",
   "version": "3.8.5",
   "mimetype": "text/x-python",
   "codemirror_mode": {
    "name": "ipython",
    "version": 3
   },
   "pygments_lexer": "ipython3",
   "nbconvert_exporter": "python",
   "file_extension": ".py"
  },
  "kernelspec": {
   "name": "python3",
   "display_name": "Python 3.8.5 64-bit ('base': conda)"
  },
  "interpreter": {
   "hash": "96cf18f209edf6220e7043c3825950920f4c7ad96ff42ffae85e8b73f5a9541f"
  }
 },
 "nbformat": 4,
 "nbformat_minor": 2
}