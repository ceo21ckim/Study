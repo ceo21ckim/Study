{
 "cells": [
  {
   "cell_type": "code",
   "execution_count": 13,
   "source": [
    "# 1427 소트인사이드\r\n",
    "# 배열을 정렬하는 것은 쉽다. 수가 주어지면, 그 수의 각 자리수를 내림차순으로 정렬해보자.\r\n",
    "\r\n",
    "n = input()\r\n",
    "li = []\r\n",
    "for i in n :\r\n",
    "    li.append(i)\r\n",
    "li.sort(reverse = True)\r\n",
    "print(''.join(li))\r\n"
   ],
   "outputs": [
    {
     "output_type": "stream",
     "name": "stdout",
     "text": [
      "4321\n"
     ]
    }
   ],
   "metadata": {}
  },
  {
   "cell_type": "code",
   "execution_count": 35,
   "source": [
    "# 1934 최소공배수\r\n",
    "# 1\r\n",
    "import math\r\n",
    "n = int(input())\r\n",
    "for _ in range(n):\r\n",
    "    a, b = map(int,input().split())\r\n",
    "    gcd = math.gcd(a, b)\r\n",
    "    print( (a * b) // gcd )\r\n",
    "    "
   ],
   "outputs": [
    {
     "output_type": "stream",
     "name": "stdout",
     "text": [
      "45000.0\n",
      "30.0\n",
      "221.0\n"
     ]
    }
   ],
   "metadata": {}
  },
  {
   "cell_type": "code",
   "execution_count": null,
   "source": [
    "# 2\r\n",
    "def GCD(A,B):\r\n",
    "    if A%B == 0:\r\n",
    "        return B\r\n",
    "    else:\r\n",
    "        return GCD(B,A%B)\r\n",
    "        \r\n",
    "def LCM(A,B):\r\n",
    "    return A*B//GCD(A,B)\r\n",
    "\r\n",
    "T = int(input())\r\n",
    "result = []\r\n",
    "for i in range(T):\r\n",
    "    a,b = map(int,input().split())\r\n",
    "    if a<b:\r\n",
    "        a,b = b,a\r\n",
    "    result.append(LCM(a,b))\r\n",
    "\r\n",
    "for i in range(T):\r\n",
    "    print(result[i])"
   ],
   "outputs": [],
   "metadata": {}
  },
  {
   "cell_type": "code",
   "execution_count": 18,
   "source": [
    "# 1789 수들의 합\r\n",
    "\r\n",
    "s = int(input())\r\n",
    "n = 1\r\n",
    "while n*(n+1) /2 <= s:\r\n",
    "    n +=1\r\n",
    "print(n-1)"
   ],
   "outputs": [
    {
     "output_type": "stream",
     "name": "stdout",
     "text": [
      "19\n"
     ]
    }
   ],
   "metadata": {}
  },
  {
   "cell_type": "code",
   "execution_count": null,
   "source": [],
   "outputs": [],
   "metadata": {}
  }
 ],
 "metadata": {
  "orig_nbformat": 4,
  "language_info": {
   "name": "python",
   "version": "3.8.5",
   "mimetype": "text/x-python",
   "codemirror_mode": {
    "name": "ipython",
    "version": 3
   },
   "pygments_lexer": "ipython3",
   "nbconvert_exporter": "python",
   "file_extension": ".py"
  },
  "kernelspec": {
   "name": "python3",
   "display_name": "Python 3.8.5 64-bit ('base': conda)"
  },
  "interpreter": {
   "hash": "96cf18f209edf6220e7043c3825950920f4c7ad96ff42ffae85e8b73f5a9541f"
  }
 },
 "nbformat": 4,
 "nbformat_minor": 2
}