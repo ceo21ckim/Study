{
 "cells": [
  {
   "cell_type": "code",
   "execution_count": 1,
   "source": [
    "# 1008\r\n",
    "A, B = map(int, input().split())\r\n",
    "print( A / B)"
   ],
   "outputs": [
    {
     "output_type": "stream",
     "name": "stdout",
     "text": [
      "0.3333333333333333\n"
     ]
    }
   ],
   "metadata": {}
  },
  {
   "cell_type": "code",
   "execution_count": 17,
   "source": [
    "# 1297\r\n",
    "D, H, W = map(int, input().split())\r\n",
    "\r\n",
    "r = D / ((H**2 + W**2)**0.5)\r\n",
    "print(int(H*r), int(W*r))"
   ],
   "outputs": [
    {
     "output_type": "stream",
     "name": "stdout",
     "text": [
      "26 44\n"
     ]
    }
   ],
   "metadata": {}
  },
  {
   "cell_type": "code",
   "execution_count": 19,
   "source": [
    "# 1330 두 수 비교하기\r\n",
    "a, b = map(int, input().split())\r\n",
    "if a > b : print('>')\r\n",
    "elif a < b : print('<')\r\n",
    "else: print('==')\r\n"
   ],
   "outputs": [
    {
     "output_type": "stream",
     "name": "stdout",
     "text": [
      "<\n"
     ]
    }
   ],
   "metadata": {}
  },
  {
   "cell_type": "code",
   "execution_count": 33,
   "source": [
    "# 1712 손익분기점\r\n",
    "a, b, c = map(int,input().split())\r\n",
    "\r\n",
    "if b >= c:\r\n",
    "    print(-1)\r\n",
    "else:\r\n",
    "    print(a // (c-b) + 1)\r\n"
   ],
   "outputs": [
    {
     "output_type": "stream",
     "name": "stdout",
     "text": [
      "-1\n"
     ]
    }
   ],
   "metadata": {}
  },
  {
   "cell_type": "code",
   "execution_count": 34,
   "source": [
    "# 2420 사파리 월드\r\n",
    "n, m = map(int, input().split())\r\n",
    "print( abs(n-m) )"
   ],
   "outputs": [
    {
     "output_type": "stream",
     "name": "stdout",
     "text": [
      "7\n"
     ]
    }
   ],
   "metadata": {}
  },
  {
   "cell_type": "code",
   "execution_count": 38,
   "source": [
    "# 2480 주사위 세개 \r\n",
    "a, b, c = map(int, input().split())\r\n",
    "if a == b == c :\r\n",
    "    print(10000 + a * 1000)\r\n",
    "elif a == b or a == c :\r\n",
    "    print( 1000 + a * 100)\r\n",
    "elif b == c:\r\n",
    "    print( 1000 + b * 100 )\r\n",
    "else:\r\n",
    "    print( max(a, b, c) * 100 )"
   ],
   "outputs": [
    {
     "output_type": "stream",
     "name": "stdout",
     "text": [
      "600\n"
     ]
    }
   ],
   "metadata": {}
  },
  {
   "cell_type": "code",
   "execution_count": 50,
   "source": [
    "# 2525 오븐 시계 \r\n",
    "a, b = map(int, input().split()) \r\n",
    "c = int(input())\r\n",
    "m = b + c\r\n",
    "div = m // 60 \r\n",
    "if m >= 60 :\r\n",
    "    a += div \r\n",
    "    m -= 60*div \r\n",
    "    print(a % 24, m )\r\n",
    "\r\n",
    "else:\r\n",
    "    print(a, m)\r\n"
   ],
   "outputs": [
    {
     "output_type": "stream",
     "name": "stdout",
     "text": [
      "0 13\n"
     ]
    }
   ],
   "metadata": {}
  },
  {
   "cell_type": "code",
   "execution_count": 59,
   "source": [
    "# 2530 인공지능 시계\r\n",
    "hour, mint, sec = map(int, input().split())\r\n",
    "time = int(input())\r\n",
    "sec += time \r\n",
    "sec_div = sec // 60\r\n",
    "if sec >= 60 :\r\n",
    "    mint += sec_div \r\n",
    "    sec %= 60\r\n",
    "    mint_div = mint // 60 \r\n",
    "    if mint >= 60 :\r\n",
    "        hour += mint_div \r\n",
    "        mint %= 60\r\n",
    "        print( hour % 24 , mint, sec)\r\n",
    "    else: \r\n",
    "        print( hour, mint, sec) \r\n",
    "else:\r\n",
    "    print(hour, mint, sec)\r\n"
   ],
   "outputs": [
    {
     "output_type": "stream",
     "name": "stdout",
     "text": [
      "19 21 0\n"
     ]
    }
   ],
   "metadata": {}
  },
  {
   "cell_type": "code",
   "execution_count": 64,
   "source": [
    "# 2588\r\n",
    "a, b = [input() for i in range(2)]\r\n",
    "a = int(a)\r\n",
    "n1 = a * int(b[-1])\r\n",
    "n2 = a * int(b[1])\r\n",
    "n3 = a * int(b[0])\r\n",
    "n4 = a * int(b)\r\n",
    "print( n1, n2, n3, n4, sep = '\\n')"
   ],
   "outputs": [
    {
     "output_type": "stream",
     "name": "stdout",
     "text": [
      "2360\n",
      "3776\n",
      "1416\n",
      "181720\n"
     ]
    }
   ],
   "metadata": {}
  },
  {
   "cell_type": "code",
   "execution_count": 69,
   "source": [
    "# 2588\r\n",
    "a, b = int(input()), input()\r\n",
    "for i in range(1,4):\r\n",
    "    print(a * int(b[-i]))\r\n",
    "print( a * int(b))\r\n"
   ],
   "outputs": [
    {
     "output_type": "stream",
     "name": "stdout",
     "text": [
      "2360\n",
      "3776\n",
      "1416\n",
      "181720\n"
     ]
    }
   ],
   "metadata": {}
  },
  {
   "cell_type": "code",
   "execution_count": 77,
   "source": [
    "# 2752\r\n",
    "for i in sorted(list(map(int, input().split()))): print(i)"
   ],
   "outputs": [
    {
     "output_type": "stream",
     "name": "stdout",
     "text": [
      "1\n",
      "2\n",
      "3\n"
     ]
    }
   ],
   "metadata": {}
  },
  {
   "cell_type": "code",
   "execution_count": 85,
   "source": [
    "# 5596 시험 점수\r\n",
    "S = sum(list(map(int, input().split())))\r\n",
    "T = sum(list(map(int, input().split())))\r\n",
    "print(S) if S >= T else print(T)"
   ],
   "outputs": [
    {
     "output_type": "stream",
     "name": "stdout",
     "text": [
      "320\n"
     ]
    }
   ],
   "metadata": {}
  },
  {
   "cell_type": "code",
   "execution_count": 87,
   "source": [
    "# 10039\r\n",
    "li = [int(input()) for _ in range(5)]\r\n",
    "for i in range(5):\r\n",
    "    if li[i] < 40 :\r\n",
    "        li[i] = 40\r\n",
    "print(int(sum(li) / 5))"
   ],
   "outputs": [
    {
     "output_type": "stream",
     "name": "stdout",
     "text": [
      "68\n"
     ]
    }
   ],
   "metadata": {}
  },
  {
   "cell_type": "code",
   "execution_count": 90,
   "source": [
    "# 14681 사분면 고르기\r\n",
    "x, y = [int(input()) for _ in range(2)]\r\n",
    "\r\n",
    "if x > 0 and y > 0 : print(1) \r\n",
    "elif x < 0 and y > 0 : print(2)\r\n",
    "elif x < 0 and y < 0 : print(3)\r\n",
    "else: print(4)"
   ],
   "outputs": [
    {
     "output_type": "stream",
     "name": "stdout",
     "text": [
      "4\n"
     ]
    }
   ],
   "metadata": {}
  },
  {
   "cell_type": "code",
   "execution_count": 43,
   "source": [
    "# 5532 방학 숙제\r\n",
    "# 방학 총 기간 : L\r\n",
    "# 수학 남은 페이지 B, 국어 A \r\n",
    "# 하루에 풀 수 있는 양 국어 C, 수학 D\r\n",
    "\r\n",
    "\r\n",
    "l, a, b, c, d = [int(input()) for _ in range(5)]\r\n",
    "result = []\r\n",
    "i = 1\r\n",
    "while True :\r\n",
    "    if (b-d*i) <= 0 :\r\n",
    "        result.append(i)\r\n",
    "        break \r\n",
    "        if (a-c*i) <= 0 :\r\n",
    "            result.append(i)\r\n",
    "    else:\r\n",
    "        i += 1\r\n",
    "print(l - i)\r\n"
   ],
   "outputs": [
    {
     "output_type": "stream",
     "name": "stdout",
     "text": [
      "5\n"
     ]
    }
   ],
   "metadata": {}
  },
  {
   "cell_type": "code",
   "execution_count": 34,
   "source": [
    "import math\r\n",
    "l, a, b, c, d = [int(input()) for _ in range(5)]\r\n",
    "\r\n",
    "re1 = math.ceil(a / c)\r\n",
    "re2 = math.ceil(b / d)\r\n",
    "\r\n",
    "print(l - max(re1, re2))"
   ],
   "outputs": [
    {
     "output_type": "stream",
     "name": "stdout",
     "text": [
      "7\n"
     ]
    }
   ],
   "metadata": {}
  }
 ],
 "metadata": {
  "orig_nbformat": 4,
  "language_info": {
   "name": "python",
   "version": "3.8.5",
   "mimetype": "text/x-python",
   "codemirror_mode": {
    "name": "ipython",
    "version": 3
   },
   "pygments_lexer": "ipython3",
   "nbconvert_exporter": "python",
   "file_extension": ".py"
  },
  "kernelspec": {
   "name": "python3",
   "display_name": "Python 3.8.5 64-bit ('base': conda)"
  },
  "interpreter": {
   "hash": "96cf18f209edf6220e7043c3825950920f4c7ad96ff42ffae85e8b73f5a9541f"
  }
 },
 "nbformat": 4,
 "nbformat_minor": 2
}