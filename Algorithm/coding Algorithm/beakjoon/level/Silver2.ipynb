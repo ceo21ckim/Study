{
 "cells": [
  {
   "cell_type": "code",
   "execution_count": 1,
   "source": [
    "# 1931 회의실 배정\r\n",
    "# 한 개의 회의실이 있는데 이를 사용하고자 하는 N개의 회의에 대하여 회의실 사용표를 만들려고 한다. \r\n",
    "# 각 회의 I에 대해 시작시간과 끝나는 시간이 주어져 있고, 각 회의가 겹치지 않게 하면서 회의실을 사용할 수 있는 회의의 최대 개수를 찾아보자. \r\n",
    "# 단, 회의는 한번 시작하면 중간에 중단될 수 없으며 한 회의가 끝나는 것과 동시에 다음 회의가 시작될 수 있다. \r\n",
    "# 회의의 시작시간과 끝나는 시간이 같을 수도 있다. 이 경우에는 시작하자마자 끝나는 것으로 생각하면 된다.\r\n",
    "\r\n",
    "\r\n",
    "n = int(input())\r\n",
    "\r\n",
    "li = []\r\n",
    "for _ in range(n):\r\n",
    "    a, b = map(int,input().split())\r\n",
    "    li.append([a,b])\r\n",
    "\r\n",
    "li.sort()\r\n",
    "\r\n",
    "result = []\r\n",
    "for i in range(n):\r\n",
    "    a = li[i][1]\r\n",
    "    count = 1 \r\n",
    "    for j in range(n):\r\n",
    "        b = li[j][0]\r\n",
    "        if b >= a :\r\n",
    "            count += 1\r\n",
    "            a = li[j][1]\r\n",
    "        if count != 0 :\r\n",
    "            result.append(count)\r\n",
    "\r\n",
    "\r\n",
    "print(max(result))\r\n"
   ],
   "outputs": [],
   "metadata": {}
  },
  {
   "cell_type": "code",
   "execution_count": 20,
   "source": [
    "n = int(input())\r\n",
    "\r\n",
    "li = []\r\n",
    "for _ in range(n):\r\n",
    "    a, b = map(int,input().split())\r\n",
    "    li.append([a,b])\r\n",
    "\r\n",
    "li.sort()\r\n",
    "\r\n",
    "a = [i for i in li]\r\n",
    "result = []\r\n",
    "for i in li:\r\n",
    "    a = i[1]\r\n",
    "    count = 1 \r\n",
    "    for j in li:\r\n",
    "        b = j[0]\r\n",
    "        if b >= a :\r\n",
    "            count += 1\r\n",
    "            a = j[1]\r\n",
    "        if count != 0 :\r\n",
    "            result.append(count)\r\n",
    "\r\n",
    "print(max(result))\r\n"
   ],
   "outputs": [],
   "metadata": {}
  },
  {
   "cell_type": "code",
   "execution_count": 27,
   "source": [
    "a = [i[1] for i in li]\r\n",
    "a"
   ],
   "outputs": [
    {
     "output_type": "execute_result",
     "data": {
      "text/plain": [
       "[6, 4, 13, 5, 8, 7, 9, 10, 11, 12, 14]"
      ]
     },
     "metadata": {},
     "execution_count": 27
    }
   ],
   "metadata": {}
  },
  {
   "cell_type": "code",
   "execution_count": 37,
   "source": [
    "for i in range(n):\r\n",
    "    if a[i] in b:\r\n",
    "        print(a[i])"
   ],
   "outputs": [
    {
     "output_type": "stream",
     "name": "stdout",
     "text": [
      "6\n",
      "5\n",
      "8\n",
      "12\n"
     ]
    }
   ],
   "metadata": {}
  },
  {
   "cell_type": "code",
   "execution_count": 33,
   "source": [
    "b = [i[0] for i in li]\r\n",
    "b"
   ],
   "outputs": [
    {
     "output_type": "execute_result",
     "data": {
      "text/plain": [
       "[0, 1, 2, 3, 3, 5, 5, 6, 8, 8, 12]"
      ]
     },
     "metadata": {},
     "execution_count": 33
    }
   ],
   "metadata": {}
  },
  {
   "cell_type": "code",
   "execution_count": null,
   "source": [],
   "outputs": [],
   "metadata": {}
  }
 ],
 "metadata": {
  "orig_nbformat": 4,
  "language_info": {
   "name": "python",
   "version": "3.8.5",
   "mimetype": "text/x-python",
   "codemirror_mode": {
    "name": "ipython",
    "version": 3
   },
   "pygments_lexer": "ipython3",
   "nbconvert_exporter": "python",
   "file_extension": ".py"
  },
  "kernelspec": {
   "name": "python3",
   "display_name": "Python 3.8.5 64-bit ('base': conda)"
  },
  "interpreter": {
   "hash": "96cf18f209edf6220e7043c3825950920f4c7ad96ff42ffae85e8b73f5a9541f"
  }
 },
 "nbformat": 4,
 "nbformat_minor": 2
}