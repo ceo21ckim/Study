{
 "metadata": {
  "language_info": {
   "codemirror_mode": {
    "name": "ipython",
    "version": 3
   },
   "file_extension": ".py",
   "mimetype": "text/x-python",
   "name": "python",
   "nbconvert_exporter": "python",
   "pygments_lexer": "ipython3",
   "version": "3.8.5"
  },
  "orig_nbformat": 4,
  "kernelspec": {
   "name": "python3",
   "display_name": "Python 3.8.5 64-bit ('base': conda)"
  },
  "interpreter": {
   "hash": "96cf18f209edf6220e7043c3825950920f4c7ad96ff42ffae85e8b73f5a9541f"
  }
 },
 "nbformat": 4,
 "nbformat_minor": 2,
 "cells": [
  {
   "cell_type": "code",
   "execution_count": 5,
   "source": [
    "# 1271 엄청난 부자2\r\n",
    "N, M = map(int, input().split())\r\n",
    "print(N // M, N % M, sep = '\\n')\r\n"
   ],
   "outputs": [
    {
     "output_type": "stream",
     "name": "stdout",
     "text": [
      "10\n",
      "0\n"
     ]
    }
   ],
   "metadata": {}
  },
  {
   "cell_type": "code",
   "execution_count": 20,
   "source": [
    "# 1550 16진수\r\n",
    "print(int(input(),16))"
   ],
   "outputs": [
    {
     "output_type": "stream",
     "name": "stdout",
     "text": [
      "10\n"
     ]
    }
   ],
   "metadata": {}
  },
  {
   "cell_type": "code",
   "execution_count": 23,
   "source": [
    "# 2338 긴자리 계산\r\n",
    "A, B = int(input()), int(input())\r\n",
    "print(A+B, A-B, A*B, sep = '\\n')"
   ],
   "outputs": [
    {
     "output_type": "stream",
     "name": "stdout",
     "text": [
      "0\n",
      "2\n",
      "-1\n"
     ]
    }
   ],
   "metadata": {}
  },
  {
   "cell_type": "code",
   "execution_count": 30,
   "source": [
    "# 2475 검증수\r\n",
    "li = list(map(int, input().split()))\r\n",
    "result = 0 \r\n",
    "for i in li:\r\n",
    "    result += i**2\r\n",
    "print(result % 10) \r\n"
   ],
   "outputs": [
    {
     "output_type": "stream",
     "name": "stdout",
     "text": [
      "6\n"
     ]
    }
   ],
   "metadata": {}
  },
  {
   "cell_type": "code",
   "execution_count": 9,
   "source": [
    "# 2558 A+B-2\r\n",
    "li = [int(input()) for i in range(2)]\r\n",
    "print(sum(li))"
   ],
   "outputs": [
    {
     "output_type": "stream",
     "name": "stdout",
     "text": [
      "8\n"
     ]
    }
   ],
   "metadata": {}
  },
  {
   "cell_type": "code",
   "execution_count": 3,
   "source": [
    "# 2845 \r\n",
    "a, b = map(int,input().split())\r\n",
    "li = list(map(int,input().split()))\r\n",
    "\r\n",
    "total = a * b\r\n",
    "\r\n",
    "for i in li:\r\n",
    "    print(i - total, end = ' ')"
   ],
   "outputs": [
    {
     "output_type": "stream",
     "name": "stdout",
     "text": [
      "-1 1 900 -100 -3 "
     ]
    }
   ],
   "metadata": {}
  },
  {
   "cell_type": "code",
   "execution_count": 16,
   "source": [
    "# 2914 저작권\r\n",
    "a, b = map(int, input().split())\r\n",
    "\r\n",
    "print( a * ( b -1 ) + 1)"
   ],
   "outputs": [
    {
     "output_type": "stream",
     "name": "stdout",
     "text": [
      "875\n"
     ]
    }
   ],
   "metadata": {}
  },
  {
   "cell_type": "code",
   "execution_count": 23,
   "source": [
    "# 3003 킹1, 퀸1, 룩2, 비숍2, 나이트2, 폰8\r\n",
    "\r\n",
    "li = list(map(int, input().split()))\r\n",
    "need = [1, 1, 2, 2, 2, 8]\r\n",
    "for i in range(6):\r\n",
    "    print( need[i] - li[i] , end = ' ')"
   ],
   "outputs": [
    {
     "output_type": "stream",
     "name": "stdout",
     "text": [
      "-1 0 0 1 0 7 "
     ]
    }
   ],
   "metadata": {}
  },
  {
   "cell_type": "code",
   "execution_count": 24,
   "source": [
    "# 3003 킹1, 퀸1, 룩2, 비숍2, 나이트2, 폰8\r\n",
    "\r\n",
    "li = list(map(int, input().split()))\r\n",
    "need = [1, 1, 2, 2, 2, 8]\r\n",
    "for i, n in enumerate(li):\r\n",
    "    print(need[i] - n , end = ' ')\r\n"
   ],
   "outputs": [
    {
     "output_type": "stream",
     "name": "stdout",
     "text": [
      "-1 0 0 1 0 7 "
     ]
    }
   ],
   "metadata": {}
  },
  {
   "cell_type": "code",
   "execution_count": 26,
   "source": [
    "# 3046 R^{2}\r\n",
    "r1, s = map(int, input().split())\r\n",
    "print( 2*s - r1)"
   ],
   "outputs": [
    {
     "output_type": "stream",
     "name": "stdout",
     "text": [
      "2\n"
     ]
    }
   ],
   "metadata": {}
  },
  {
   "cell_type": "code",
   "execution_count": 35,
   "source": [
    "# 5337 웰컴\r\n",
    "print('.  .   .')\r\n",
    "print('|  | _ | _. _ ._ _  _')\r\n",
    "print('|/\\\\|(/.|(_.(_)[ | )(/.')"
   ],
   "outputs": [
    {
     "output_type": "stream",
     "name": "stdout",
     "text": [
      ".  .   .\n",
      "|  | _ | _. _ ._ _  _\n",
      "|/\\|(/.|(_.(_)[ | )(/.\n"
     ]
    }
   ],
   "metadata": {}
  },
  {
   "cell_type": "code",
   "execution_count": 39,
   "source": [
    "# 5338 마이크로 소프트 로고\r\n",
    "print('       _.-;;-._')\r\n",
    "print(\"'-..-'|   ||   |\")\r\n",
    "print(\"'-..-'|_.-;;-._|\")\r\n",
    "print(\"'-..-'|   ||   |\")\r\n",
    "print(\"'-..-'|_.-''-._|\")"
   ],
   "outputs": [
    {
     "output_type": "stream",
     "name": "stdout",
     "text": [
      "       _.-;;-._\n",
      "'-..-'|   ||   |\n",
      "'-..-'|_.-;;-._|\n",
      "'-..-'|   ||   |\n",
      "'-..-'|_.-''-._|\n"
     ]
    }
   ],
   "metadata": {}
  },
  {
   "cell_type": "code",
   "execution_count": 40,
   "source": [
    "# 5339 콜센터\r\n",
    "print('     /~\\\\')\r\n",
    "print('    ( oo|')\r\n",
    "print('    _\\\\=/_')\r\n",
    "print('   /  _  \\\\')\r\n",
    "print('  //|/.\\|\\\\\\\\')\r\n",
    "print(' ||  \\\\ /  ||')\r\n",
    "print('============')\r\n",
    "print('|          |')\r\n",
    "print('|          |')\r\n",
    "print('|          |')"
   ],
   "outputs": [
    {
     "output_type": "stream",
     "name": "stdout",
     "text": [
      "     /~\\\n",
      "    ( oo|\n",
      "    _\\=/_\n",
      "   /  _  \\\n",
      "  //|/.\\|\\\\\n",
      " ||  \\ /  ||\n",
      "============\n",
      "|          |\n",
      "|          |\n",
      "|          |\n"
     ]
    }
   ],
   "metadata": {}
  },
  {
   "cell_type": "code",
   "execution_count": 43,
   "source": [
    "# 5522 카드 게임\r\n",
    "A = [int(input()) for i in range(5)]\r\n",
    "print(sum(A))"
   ],
   "outputs": [
    {
     "output_type": "stream",
     "name": "stdout",
     "text": [
      "210\n"
     ]
    }
   ],
   "metadata": {}
  },
  {
   "cell_type": "code",
   "execution_count": 46,
   "source": [
    "# 5554 심부름 가는 길\r\n",
    "A = [int(input()) for i in range(4)]\r\n",
    "print(sum(A) // 60, sum(A) % 60, sep = '\\n')"
   ],
   "outputs": [
    {
     "output_type": "stream",
     "name": "stdout",
     "text": [
      "44\n",
      "2\n"
     ]
    }
   ],
   "metadata": {}
  },
  {
   "cell_type": "code",
   "execution_count": 51,
   "source": [
    "# 6749 Next in line\r\n",
    "Y, M = [int(input()) for i in range(2)]\r\n",
    "d = M - Y \r\n",
    "print( M + d)"
   ],
   "outputs": [
    {
     "output_type": "stream",
     "name": "stdout",
     "text": [
      "18\n"
     ]
    }
   ],
   "metadata": {}
  },
  {
   "cell_type": "code",
   "execution_count": 52,
   "source": [
    "# 7287 ?\r\n",
    "print(63)\r\n",
    "print('ponben')"
   ],
   "outputs": [
    {
     "output_type": "stream",
     "name": "stdout",
     "text": [
      "63\n",
      "ponben\n"
     ]
    }
   ],
   "metadata": {}
  },
  {
   "cell_type": "code",
   "execution_count": 53,
   "source": [
    "# 8370 Plane\r\n",
    "n1, k1, n2, k2 = map(int, input().split())\r\n",
    "print( n1*k1 + n2 * k2)"
   ],
   "outputs": [
    {
     "output_type": "stream",
     "name": "stdout",
     "text": [
      "70\n"
     ]
    }
   ],
   "metadata": {}
  },
  {
   "cell_type": "code",
   "execution_count": 55,
   "source": [
    "# 8393 합\r\n",
    "n = int(input())\r\n",
    "result = 0\r\n",
    "for i in range(1,n+1):\r\n",
    "    result += i \r\n",
    "print(result)"
   ],
   "outputs": [
    {
     "output_type": "stream",
     "name": "stdout",
     "text": [
      "6\n"
     ]
    }
   ],
   "metadata": {}
  },
  {
   "cell_type": "code",
   "execution_count": 60,
   "source": [
    "print('2021-07-21')"
   ],
   "outputs": [
    {
     "output_type": "stream",
     "name": "stdout",
     "text": [
      "2021-07-21\n"
     ]
    }
   ],
   "metadata": {}
  },
  {
   "cell_type": "code",
   "execution_count": 61,
   "source": [
    "# 10926\r\n",
    "print(input() + '??!')"
   ],
   "outputs": [
    {
     "output_type": "stream",
     "name": "stdout",
     "text": [
      "joonas??!\n"
     ]
    }
   ],
   "metadata": {}
  },
  {
   "cell_type": "code",
   "execution_count": 68,
   "source": [
    "# 11283\r\n",
    "print(ord(input()) - ord('가')+1)"
   ],
   "outputs": [
    {
     "output_type": "execute_result",
     "data": {
      "text/plain": [
       "1"
      ]
     },
     "metadata": {},
     "execution_count": 68
    }
   ],
   "metadata": {}
  },
  {
   "cell_type": "code",
   "execution_count": null,
   "source": [],
   "outputs": [],
   "metadata": {}
  }
 ]
}