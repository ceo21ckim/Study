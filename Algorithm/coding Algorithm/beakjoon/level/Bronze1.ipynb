{
 "cells": [
  {
   "cell_type": "code",
   "execution_count": 20,
   "source": [
    "# 1357 뒤집힌 덧셈\r\n",
    "# 어떤 수 X가 주어졌을 때, X의 모든 자리수가 역순이 된 수를 얻을 수 있다. \r\n",
    "# Rev(X)를 X의 모든 자리수를 역순으로 만드는 함수라고 하자. 예를 들어, X=123일 때, Rev(X) = 321이다. 그리고, X=100일 때, Rev(X) = 1이다.\r\n",
    "\r\n",
    "# 두 양의 정수 X와 Y가 주어졌을 때, Rev(Rev(X) + Rev(Y))를 구하는 프로그램을 작성하시오\r\n",
    "\r\n",
    "x, y = input().split()\r\n",
    "\r\n",
    "def Rev(num):\r\n",
    "    return num[::-1]\r\n",
    "\r\n",
    "def Revsum(x, y):\r\n",
    "    a, b = int(Rev(x)), int(Rev(y))\r\n",
    "    result = Rev(str(a + b))\r\n",
    "    return int(result)\r\n",
    "\r\n",
    "print(Revsum(x, y))\r\n"
   ],
   "outputs": [
    {
     "output_type": "stream",
     "name": "stdout",
     "text": [
      "223\n"
     ]
    }
   ],
   "metadata": {}
  },
  {
   "cell_type": "code",
   "execution_count": 52,
   "source": [
    "# 1834 나머지와 몫이 같은 수\r\n",
    "# N으로 나누었을 때 나머지와 몫이 같은 모든 자연수의 합을 구하는 프로그램을 작성하시오.\r\n",
    "# 예를 들어 N=3일 때, 나머지와 몫이 모두 같은 자연수는 4와 8 두 개가 있으므로, 그 합은 12이다.\r\n",
    "\r\n",
    "# 1\r\n",
    "N = int(input())\r\n",
    "li = 0\r\n",
    "for i in range(1, N**2):\r\n",
    "    x = i // N \r\n",
    "    y = i % N \r\n",
    "    if x == y :\r\n",
    "        li += i \r\n",
    "print(li)"
   ],
   "outputs": [
    {
     "output_type": "stream",
     "name": "stdout",
     "text": [
      "12\n"
     ]
    }
   ],
   "metadata": {}
  },
  {
   "cell_type": "code",
   "execution_count": 67,
   "source": [
    "# 2\r\n",
    "n = int(input())\r\n",
    "li = 0 \r\n",
    "for i in range(n+1, n**2, n+1):\r\n",
    "    li += i \r\n",
    "print(li)"
   ],
   "outputs": [
    {
     "output_type": "stream",
     "name": "stdout",
     "text": [
      "12\n"
     ]
    }
   ],
   "metadata": {}
  },
  {
   "cell_type": "code",
   "execution_count": 77,
   "source": [
    "# 2750 수 정렬하기 \r\n",
    "# N개의 수가 주어졌을 때, 이를 오름차순으로 정렬하는 프로그램을 작성하시오\r\n",
    "\r\n",
    "n = int(input())\r\n",
    "\r\n",
    "li = [int(input()) for _ in range(n)]\r\n",
    "li.sort()\r\n",
    "for i in li:\r\n",
    "    print(i)"
   ],
   "outputs": [
    {
     "output_type": "stream",
     "name": "stdout",
     "text": [
      "1\n",
      "2\n",
      "3\n",
      "4\n",
      "5\n"
     ]
    }
   ],
   "metadata": {}
  },
  {
   "cell_type": "code",
   "execution_count": 109,
   "source": [
    "# 2839 설탕 배달 greedy algorithm\r\n",
    "# 3kg, 5kg\r\n",
    "\r\n",
    "# 1\r\n",
    "n = int(input())\r\n",
    "result = 0 \r\n",
    "while 1:\r\n",
    "    if n % 5 == 0 :\r\n",
    "        result += n // 5\r\n",
    "        print(result)\r\n",
    "        break\r\n",
    "    n -= 3\r\n",
    "    result += 1\r\n",
    "    if n < -1 :\r\n",
    "        print(-1)\r\n",
    "        break\r\n",
    "\r\n"
   ],
   "outputs": [
    {
     "output_type": "stream",
     "name": "stdout",
     "text": [
      "-1\n"
     ]
    }
   ],
   "metadata": {}
  },
  {
   "cell_type": "code",
   "execution_count": 116,
   "source": [
    "# 2\r\n",
    "n = int(input())\r\n",
    "result = 0 \r\n",
    "while True :\r\n",
    "    if n % 5 == 0 :\r\n",
    "        result += n // 5\r\n",
    "        print(result)\r\n",
    "        break\r\n",
    "    else:\r\n",
    "        n -= 3\r\n",
    "        result += 1\r\n",
    "        if n < 0 :\r\n",
    "            print(-1)\r\n",
    "            break \r\n",
    "\r\n",
    "    "
   ],
   "outputs": [
    {
     "output_type": "stream",
     "name": "stdout",
     "text": [
      "3\n"
     ]
    }
   ],
   "metadata": {}
  },
  {
   "cell_type": "code",
   "execution_count": null,
   "source": [
    "# 2869 달팽이는 올라가고 싶다."
   ],
   "outputs": [],
   "metadata": {}
  }
 ],
 "metadata": {
  "orig_nbformat": 4,
  "language_info": {
   "name": "python",
   "version": "3.8.5",
   "mimetype": "text/x-python",
   "codemirror_mode": {
    "name": "ipython",
    "version": 3
   },
   "pygments_lexer": "ipython3",
   "nbconvert_exporter": "python",
   "file_extension": ".py"
  },
  "kernelspec": {
   "name": "python3",
   "display_name": "Python 3.8.5 64-bit ('base': conda)"
  },
  "interpreter": {
   "hash": "96cf18f209edf6220e7043c3825950920f4c7ad96ff42ffae85e8b73f5a9541f"
  }
 },
 "nbformat": 4,
 "nbformat_minor": 2
}