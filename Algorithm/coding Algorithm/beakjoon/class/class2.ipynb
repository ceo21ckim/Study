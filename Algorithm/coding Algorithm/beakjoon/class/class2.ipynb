{
 "cells": [
  {
   "cell_type": "code",
   "execution_count": 9,
   "source": [
    "# 1181\r\n",
    "# 길이별로 먼저 sort\r\n",
    "# 길이가 같다면 ? 알파벳 순으로"
   ],
   "outputs": [
    {
     "output_type": "execute_result",
     "data": {
      "text/plain": [
       "['no', 'it', 'im', 'but']"
      ]
     },
     "metadata": {},
     "execution_count": 9
    }
   ],
   "metadata": {}
  },
  {
   "cell_type": "code",
   "execution_count": 29,
   "source": [
    "N = int(input())\r\n",
    "li = list(set([input() for _ in range(N)]))\r\n",
    "\r\n",
    "set_li = []\r\n",
    "for i in range(len(li)):\r\n",
    "    set_li.append((len(li[i]), li[i]))\r\n",
    "set_li.sort()\r\n",
    "for i in set_li:\r\n",
    "    print(i[1])"
   ],
   "outputs": [
    {
     "output_type": "stream",
     "name": "stdout",
     "text": [
      "i\n",
      "im\n",
      "it\n",
      "no\n",
      "but\n",
      "more\n",
      "wait\n",
      "wont\n",
      "yours\n",
      "cannot\n",
      "hesitate\n"
     ]
    }
   ],
   "metadata": {}
  },
  {
   "cell_type": "code",
   "execution_count": 56,
   "source": [
    "# 1259 팰린드롬수\r\n",
    "li = []\r\n",
    "while 1:\r\n",
    "    a = input()\r\n",
    "    if a == '0' :\r\n",
    "        break\r\n",
    "    li.append(a)\r\n",
    "\r\n",
    "for x in li :\r\n",
    "    left, right = [], []\r\n",
    "    for i in range(len(x) // 2):\r\n",
    "        left.append(x[i])\r\n",
    "        right.append(x[-i-1])\r\n",
    "    if left == right :\r\n",
    "        print('yes')\r\n",
    "    else:\r\n",
    "        print('no')\r\n",
    "        \r\n"
   ],
   "outputs": [
    {
     "output_type": "stream",
     "name": "stdout",
     "text": [
      "yes\n",
      "no\n",
      "yes\n"
     ]
    }
   ],
   "metadata": {}
  },
  {
   "cell_type": "code",
   "execution_count": 59,
   "source": [
    "while 1:\r\n",
    "    num = input()\r\n",
    "    if num == '0' :\r\n",
    "        break \r\n",
    "    if num == num[::-1] :\r\n",
    "        print('yes')\r\n",
    "    else:\r\n",
    "        print('no')\r\n"
   ],
   "outputs": [
    {
     "output_type": "stream",
     "name": "stdout",
     "text": [
      "yes\n",
      "no\n",
      "yes\n"
     ]
    }
   ],
   "metadata": {}
  },
  {
   "cell_type": "code",
   "execution_count": 69,
   "source": [
    "# 1436\r\n",
    "N = int(input())\r\n",
    "print( '666' ) if N == 1 else print( str(N-1) + '666'  )"
   ],
   "outputs": [
    {
     "output_type": "stream",
     "name": "stdout",
     "text": [
      "9666\n"
     ]
    }
   ],
   "metadata": {}
  },
  {
   "cell_type": "code",
   "execution_count": 17,
   "source": [
    "# 2108 통계학\r\n",
    "\r\n",
    "N = int(input())\r\n",
    "li = [int(input()) for _ in range(N)]\r\n",
    "\r\n",
    "li2 = []\r\n",
    "for i in li:\r\n",
    "    li2.append((li.count(i), i))\r\n",
    "li2.sort()\r\n",
    "\r\n",
    "print( f'{sum(li)/N:.0f}')\r\n",
    "\r\n",
    "print( sorted(li)[round(N/2)])\r\n",
    "if len(li2) <= 2:\r\n",
    "    print(li2[-1][1])\r\n",
    "else:\r\n",
    "    print(li2[-2][1])\r\n",
    "\r\n",
    "print( max(li) - min(li))"
   ],
   "outputs": [
    {
     "output_type": "stream",
     "name": "stdout",
     "text": [
      "-2\n",
      "-2\n",
      "-1\n",
      "2\n"
     ]
    }
   ],
   "metadata": {}
  },
  {
   "cell_type": "code",
   "execution_count": 6,
   "source": [
    "# 2775 부녀회장이 될테야\r\n",
    "t = int(input())\r\n",
    "i = 1\r\n",
    "result = []\r\n",
    "while i <= t:\r\n",
    "    k = int(input())\r\n",
    "    n = int(input())\r\n",
    "    li = [i for i in range(1, n+1)]\r\n",
    "    for x in range(k):\r\n",
    "        for i in range(1, n):\r\n",
    "            li[x] += li[x-1]\r\n",
    "    print(li[-1])\r\n",
    "    i += 1\r\n"
   ],
   "outputs": [
    {
     "output_type": "stream",
     "name": "stdout",
     "text": [
      "3\n"
     ]
    }
   ],
   "metadata": {}
  },
  {
   "cell_type": "code",
   "execution_count": null,
   "source": [],
   "outputs": [],
   "metadata": {}
  }
 ],
 "metadata": {
  "orig_nbformat": 4,
  "language_info": {
   "name": "python",
   "version": "3.8.5",
   "mimetype": "text/x-python",
   "codemirror_mode": {
    "name": "ipython",
    "version": 3
   },
   "pygments_lexer": "ipython3",
   "nbconvert_exporter": "python",
   "file_extension": ".py"
  },
  "kernelspec": {
   "name": "python3",
   "display_name": "Python 3.8.5 64-bit ('base': conda)"
  },
  "interpreter": {
   "hash": "96cf18f209edf6220e7043c3825950920f4c7ad96ff42ffae85e8b73f5a9541f"
  }
 },
 "nbformat": 4,
 "nbformat_minor": 2
}