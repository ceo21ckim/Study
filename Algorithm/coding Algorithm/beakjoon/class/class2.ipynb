{
 "cells": [
  {
   "cell_type": "code",
   "execution_count": 9,
   "source": [
    "# 1181\r\n",
    "# 길이별로 먼저 sort\r\n",
    "# 길이가 같다면 ? 알파벳 순으로"
   ],
   "outputs": [
    {
     "output_type": "execute_result",
     "data": {
      "text/plain": [
       "['no', 'it', 'im', 'but']"
      ]
     },
     "metadata": {},
     "execution_count": 9
    }
   ],
   "metadata": {}
  },
  {
   "cell_type": "code",
   "execution_count": 29,
   "source": [
    "N = int(input())\r\n",
    "li = list(set([input() for _ in range(N)]))\r\n",
    "\r\n",
    "set_li = []\r\n",
    "for i in range(len(li)):\r\n",
    "    set_li.append((len(li[i]), li[i]))\r\n",
    "set_li.sort()\r\n",
    "for i in set_li:\r\n",
    "    print(i[1])"
   ],
   "outputs": [
    {
     "output_type": "stream",
     "name": "stdout",
     "text": [
      "i\n",
      "im\n",
      "it\n",
      "no\n",
      "but\n",
      "more\n",
      "wait\n",
      "wont\n",
      "yours\n",
      "cannot\n",
      "hesitate\n"
     ]
    }
   ],
   "metadata": {}
  },
  {
   "cell_type": "code",
   "execution_count": 56,
   "source": [
    "# 1259 팰린드롬수\r\n",
    "li = []\r\n",
    "while 1:\r\n",
    "    a = input()\r\n",
    "    if a == '0' :\r\n",
    "        break\r\n",
    "    li.append(a)\r\n",
    "\r\n",
    "for x in li :\r\n",
    "    left, right = [], []\r\n",
    "    for i in range(len(x) // 2):\r\n",
    "        left.append(x[i])\r\n",
    "        right.append(x[-i-1])\r\n",
    "    if left == right :\r\n",
    "        print('yes')\r\n",
    "    else:\r\n",
    "        print('no')\r\n",
    "        \r\n"
   ],
   "outputs": [
    {
     "output_type": "stream",
     "name": "stdout",
     "text": [
      "yes\n",
      "no\n",
      "yes\n"
     ]
    }
   ],
   "metadata": {}
  },
  {
   "cell_type": "code",
   "execution_count": 59,
   "source": [
    "while 1:\r\n",
    "    num = input()\r\n",
    "    if num == '0' :\r\n",
    "        break \r\n",
    "    if num == num[::-1] :\r\n",
    "        print('yes')\r\n",
    "    else:\r\n",
    "        print('no')\r\n"
   ],
   "outputs": [
    {
     "output_type": "stream",
     "name": "stdout",
     "text": [
      "yes\n",
      "no\n",
      "yes\n"
     ]
    }
   ],
   "metadata": {}
  },
  {
   "cell_type": "code",
   "execution_count": 17,
   "source": [
    "# 2108 통계학\r\n",
    "\r\n",
    "N = int(input())\r\n",
    "li = [int(input()) for _ in range(N)]\r\n",
    "\r\n",
    "li2 = []\r\n",
    "for i in li:\r\n",
    "    li2.append((li.count(i), i))\r\n",
    "li2.sort()\r\n",
    "\r\n",
    "print( f'{sum(li)/N:.0f}')\r\n",
    "\r\n",
    "print( sorted(li)[round(N/2)])\r\n",
    "if len(li2) <= 2:\r\n",
    "    print(li2[-1][1])\r\n",
    "else:\r\n",
    "    print(li2[-2][1])\r\n",
    "\r\n",
    "print( max(li) - min(li))"
   ],
   "outputs": [
    {
     "output_type": "stream",
     "name": "stdout",
     "text": [
      "-2\n",
      "-2\n",
      "-1\n",
      "2\n"
     ]
    }
   ],
   "metadata": {}
  },
  {
   "cell_type": "code",
   "execution_count": 6,
   "source": [
    "# 2775 부녀회장이 될테야\r\n",
    "t = int(input())\r\n",
    "i = 1\r\n",
    "result = []\r\n",
    "while i <= t:\r\n",
    "    k = int(input())\r\n",
    "    n = int(input())\r\n",
    "    li = [i for i in range(1, n+1)]\r\n",
    "    for x in range(k):\r\n",
    "        for i in range(1, n):\r\n",
    "            li[x] += li[x-1]\r\n",
    "    print(li[-1])\r\n",
    "    i += 1\r\n"
   ],
   "outputs": [
    {
     "output_type": "stream",
     "name": "stdout",
     "text": [
      "3\n"
     ]
    }
   ],
   "metadata": {}
  },
  {
   "cell_type": "code",
   "execution_count": 4,
   "source": [
    "# 4153 직각삼각형\r\n",
    "while True:\r\n",
    "    li = list(map(int, input().split()))\r\n",
    "    li.sort()\r\n",
    "    a, b, c = li[0], li[1], li[-1]\r\n",
    "    L = a**2 + b**2\r\n",
    "    R = c**2\r\n",
    "    if a == 0 and b == 0 and c == 0 :\r\n",
    "        break \r\n",
    "    elif  L == R :\r\n",
    "        print('right')\r\n",
    "    else:\r\n",
    "        print('wrong')\r\n"
   ],
   "outputs": [
    {
     "output_type": "stream",
     "name": "stdout",
     "text": [
      "right\n",
      "wrong\n",
      "right\n"
     ]
    }
   ],
   "metadata": {}
  },
  {
   "cell_type": "code",
   "execution_count": 20,
   "source": [
    "# 11050 이항 계수 1\r\n",
    "n, k = map(int, input().split())\r\n",
    "upper, under = 1, 1\r\n",
    "for i in range(k):\r\n",
    "    upper *= n - i \r\n",
    "    under *= k - i \r\n",
    "result = int(upper / under) \r\n",
    "print( result )"
   ],
   "outputs": [
    {
     "output_type": "stream",
     "name": "stdout",
     "text": [
      "10\n"
     ]
    }
   ],
   "metadata": {}
  },
  {
   "cell_type": "code",
   "execution_count": 31,
   "source": [
    "# 10250 ACM 호텔\r\n",
    "T = int(input())\r\n",
    "for _ in range(T):\r\n",
    "    h, w, n = map(int,input().split())\r\n",
    "    y = n % h\r\n",
    "    x = n // h + 1\r\n",
    "    if y == 0 :\r\n",
    "        x -= 1\r\n",
    "        y = h\r\n",
    "    print( y * 100 + x)\r\n"
   ],
   "outputs": [
    {
     "output_type": "stream",
     "name": "stdout",
     "text": [
      "402\n",
      "1203\n"
     ]
    }
   ],
   "metadata": {}
  },
  {
   "cell_type": "code",
   "execution_count": 41,
   "source": [
    "# 11650 좌표 정렬하기 \r\n",
    "N = int(input())\r\n",
    "li = []\r\n",
    "for _ in range(N):\r\n",
    "    a, b = map(int, input().split())\r\n",
    "    li.append( (a, b) )\r\n",
    "li.sort()\r\n",
    "for a,b in li:\r\n",
    "    print(a, b)"
   ],
   "outputs": [
    {
     "output_type": "stream",
     "name": "stdout",
     "text": [
      "1 -1\n",
      "1 1\n",
      "2 2\n",
      "3 3\n",
      "3 4\n"
     ]
    }
   ],
   "metadata": {}
  },
  {
   "cell_type": "code",
   "execution_count": 45,
   "source": [
    "# 11651 좌표 정렬하기 2\r\n",
    "N = int(input())\r\n",
    "li = []\r\n",
    "for _ in range(N):\r\n",
    "    a, b = map(int,input().split())\r\n",
    "    li.append( [b, a])\r\n",
    "li.sort()\r\n",
    "for a, b in li:\r\n",
    "    print( b, a)\r\n"
   ],
   "outputs": [
    {
     "output_type": "stream",
     "name": "stdout",
     "text": [
      "1 -1\n",
      "1 2\n",
      "2 2\n",
      "3 3\n",
      "0 4\n"
     ]
    }
   ],
   "metadata": {}
  },
  {
   "cell_type": "code",
   "execution_count": null,
   "source": [
    "# 10816 숫자 카드 2 X\r\n",
    "n = int(input())\r\n",
    "N = list(map(int, input().split()))\r\n",
    "\r\n",
    "m = int(input())\r\n",
    "M = list(map(int, input().split()))\r\n",
    "\r\n"
   ],
   "outputs": [],
   "metadata": {}
  },
  {
   "cell_type": "code",
   "execution_count": 46,
   "source": [
    "# 10989 수 정렬하기 3 --- false \r\n",
    "# sys.stdin.readline() 을 사용해서 시간을 줄였다. \r\n",
    "# 처음 리스트에서 반복문을 돌면서 값이 0이 아닐 경우 해당 숫자만큼 출력.\r\n",
    "import sys \r\n",
    "N = int(input())\r\n",
    "check_list = [0] * 10001\r\n",
    "\r\n",
    "for i in range(N):\r\n",
    "    input_num = int(sys.stdin.readline())\r\n",
    "\r\n",
    "    check_list[input_num] = check_list[input_num] + 1\r\n",
    "\r\n",
    "for i in range(10001):\r\n",
    "    if check_list[i] != 0:\r\n",
    "        for j in range(check_list[i]):\r\n",
    "            print(i)"
   ],
   "outputs": [],
   "metadata": {}
  },
  {
   "cell_type": "code",
   "execution_count": 47,
   "source": [
    "li"
   ],
   "outputs": [
    {
     "output_type": "execute_result",
     "data": {
      "text/plain": [
       "[5, 2, 3, 1, 4, 2, 3, 5, 1, 7]"
      ]
     },
     "metadata": {},
     "execution_count": 47
    }
   ],
   "metadata": {}
  },
  {
   "cell_type": "code",
   "execution_count": null,
   "source": [],
   "outputs": [],
   "metadata": {}
  }
 ],
 "metadata": {
  "orig_nbformat": 4,
  "language_info": {
   "name": "python",
   "version": "3.8.5",
   "mimetype": "text/x-python",
   "codemirror_mode": {
    "name": "ipython",
    "version": 3
   },
   "pygments_lexer": "ipython3",
   "nbconvert_exporter": "python",
   "file_extension": ".py"
  },
  "kernelspec": {
   "name": "python3",
   "display_name": "Python 3.8.5 64-bit ('base': conda)"
  },
  "interpreter": {
   "hash": "96cf18f209edf6220e7043c3825950920f4c7ad96ff42ffae85e8b73f5a9541f"
  }
 },
 "nbformat": 4,
 "nbformat_minor": 2
}