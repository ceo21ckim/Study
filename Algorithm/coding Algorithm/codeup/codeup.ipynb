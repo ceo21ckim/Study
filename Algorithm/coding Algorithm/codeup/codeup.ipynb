{
 "cells": [
  {
   "cell_type": "markdown",
   "metadata": {},
   "source": [
    "#### codeup python 기초 100제"
   ]
  },
  {
   "cell_type": "code",
   "execution_count": 1,
   "metadata": {},
   "outputs": [
    {
     "name": "stdout",
     "output_type": "stream",
     "text": [
      "Hello\n",
      "Wolrd\n"
     ]
    }
   ],
   "source": [
    "# 6003\n",
    "print(\"Hello\\nWorld\")"
   ]
  },
  {
   "cell_type": "code",
   "execution_count": 3,
   "metadata": {},
   "outputs": [
    {
     "name": "stdout",
     "output_type": "stream",
     "text": [
      "'Hello'\n"
     ]
    }
   ],
   "source": [
    "# 6004\n",
    "print(\"'Hello'\")"
   ]
  },
  {
   "cell_type": "code",
   "execution_count": 4,
   "metadata": {},
   "outputs": [
    {
     "name": "stdout",
     "output_type": "stream",
     "text": [
      "\"Hello World\"\n"
     ]
    }
   ],
   "source": [
    "# 6005\n",
    "print('\"Hello World\"')"
   ]
  },
  {
   "cell_type": "code",
   "execution_count": 12,
   "metadata": {},
   "outputs": [
    {
     "name": "stdout",
     "output_type": "stream",
     "text": [
      "\"!@#$%^&*()'\n"
     ]
    }
   ],
   "source": [
    "# 6006\n",
    "print('\"!@#$%^&*()\\'')"
   ]
  },
  {
   "cell_type": "code",
   "execution_count": 23,
   "metadata": {},
   "outputs": [
    {
     "name": "stdout",
     "output_type": "stream",
     "text": [
      "\"C:\\Download\\'hello'.py\"\n"
     ]
    }
   ],
   "source": [
    "# 6007\n",
    "print('\"C:\\Download\\\\''\\'hello\\'.py\"')"
   ]
  },
  {
   "cell_type": "code",
   "execution_count": 26,
   "metadata": {},
   "outputs": [
    {
     "name": "stdout",
     "output_type": "stream",
     "text": [
      "print(\"Hello\\nWorld\")\n"
     ]
    }
   ],
   "source": [
    "# 6008\n",
    "print(r'print(\"Hello\\nWorld\")')"
   ]
  },
  {
   "cell_type": "code",
   "execution_count": 27,
   "metadata": {},
   "outputs": [
    {
     "name": "stdout",
     "output_type": "stream",
     "text": [
      "a\n",
      "a\n"
     ]
    }
   ],
   "source": [
    "# 6009\n",
    "c = input()\n",
    "print(c)"
   ]
  },
  {
   "cell_type": "code",
   "execution_count": 30,
   "metadata": {},
   "outputs": [
    {
     "name": "stdout",
     "output_type": "stream",
     "text": [
      "10\n",
      "10\n"
     ]
    }
   ],
   "source": [
    "# 6010\n",
    "c = int(input())\n",
    "print(c)"
   ]
  },
  {
   "cell_type": "code",
   "execution_count": 31,
   "metadata": {},
   "outputs": [
    {
     "name": "stdout",
     "output_type": "stream",
     "text": [
      "1.3\n",
      "1.3\n"
     ]
    }
   ],
   "source": [
    "# 6011\n",
    "f = float(input())\n",
    "print(f)"
   ]
  },
  {
   "cell_type": "code",
   "execution_count": 33,
   "metadata": {},
   "outputs": [
    {
     "name": "stdout",
     "output_type": "stream",
     "text": [
      "3\n",
      "5\n",
      "3\n",
      "5\n"
     ]
    }
   ],
   "source": [
    "# 6012\n",
    "a = input()\n",
    "b = input()\n",
    "print(a,'\\n',b,sep=\"\")"
   ]
  },
  {
   "cell_type": "code",
   "execution_count": 34,
   "metadata": {},
   "outputs": [
    {
     "name": "stdout",
     "output_type": "stream",
     "text": [
      "d\n",
      "e\n",
      "e\n",
      "d\n"
     ]
    }
   ],
   "source": [
    "# 6013\n",
    "a = input()\n",
    "b = input()\n",
    "print(b,'\\n',a,sep=\"\")"
   ]
  },
  {
   "cell_type": "code",
   "execution_count": 35,
   "metadata": {},
   "outputs": [
    {
     "name": "stdout",
     "output_type": "stream",
     "text": [
      "10\n",
      "10\n",
      "10\n",
      "10\n"
     ]
    }
   ],
   "source": [
    "# 6014\n",
    "a = input()\n",
    "print(a,'\\n',\n",
    "      a,'\\n',\n",
    "      a, sep = \"\")"
   ]
  },
  {
   "cell_type": "code",
   "execution_count": 38,
   "metadata": {},
   "outputs": [
    {
     "name": "stdout",
     "output_type": "stream",
     "text": [
      "10 5\n",
      "10\n",
      "5\n"
     ]
    }
   ],
   "source": [
    "# 6015\n",
    "a, b = input().split(\" \")\n",
    "print(a)\n",
    "print(b)"
   ]
  },
  {
   "cell_type": "code",
   "execution_count": 40,
   "metadata": {},
   "outputs": [
    {
     "name": "stdout",
     "output_type": "stream",
     "text": [
      "d e\n",
      "e d\n"
     ]
    }
   ],
   "source": [
    "# 6016\n",
    "c1, c2 = input().split()\n",
    "print(c2,c1)"
   ]
  },
  {
   "cell_type": "code",
   "execution_count": 41,
   "metadata": {},
   "outputs": [
    {
     "name": "stdout",
     "output_type": "stream",
     "text": [
      "computer\n",
      "computer computer computer\n"
     ]
    }
   ],
   "source": [
    "# 6017\n",
    "s = input()\n",
    "print(s,s,s)"
   ]
  },
  {
   "cell_type": "code",
   "execution_count": 46,
   "metadata": {},
   "outputs": [
    {
     "name": "stdout",
     "output_type": "stream",
     "text": [
      "6:15\n",
      "6:15\n"
     ]
    }
   ],
   "source": [
    "# 6018\n",
    "a,b = input().split(\":\")\n",
    "print(a,b,sep=\":\")"
   ]
  },
  {
   "cell_type": "code",
   "execution_count": 47,
   "metadata": {},
   "outputs": [
    {
     "name": "stdout",
     "output_type": "stream",
     "text": [
      "2020.3.4\n",
      "4-3-2020\n"
     ]
    }
   ],
   "source": [
    "# 6019\n",
    "a,b,c = input().split(\".\")\n",
    "print(c,b,a,sep=\"-\")"
   ]
  },
  {
   "cell_type": "code",
   "execution_count": 50,
   "metadata": {
    "scrolled": true
   },
   "outputs": [
    {
     "name": "stdout",
     "output_type": "stream",
     "text": [
      "960824-1692119\n",
      "9608241692119\n"
     ]
    }
   ],
   "source": [
    "# 6020\n",
    "a,b = input().split(\"-\")\n",
    "print(a,b,sep=\"\")"
   ]
  },
  {
   "cell_type": "code",
   "execution_count": 128,
   "metadata": {},
   "outputs": [
    {
     "name": "stdout",
     "output_type": "stream",
     "text": [
      "About\n",
      "A\n",
      "b\n",
      "o\n",
      "u\n",
      "t\n"
     ]
    }
   ],
   "source": [
    "# 6021\n",
    "a = input()\n",
    "for i in range(len(a)):\n",
    "    print(a[i])"
   ]
  },
  {
   "cell_type": "code",
   "execution_count": 139,
   "metadata": {},
   "outputs": [
    {
     "name": "stdout",
     "output_type": "stream",
     "text": [
      "200304\n",
      "20 03 04\n"
     ]
    }
   ],
   "source": [
    "# 6022\n",
    "a = input()\n",
    "print(a[0:2],a[2:4],a[4:6],sep = \" \")"
   ]
  },
  {
   "cell_type": "code",
   "execution_count": 140,
   "metadata": {},
   "outputs": [
    {
     "name": "stdout",
     "output_type": "stream",
     "text": [
      "17:23:57\n",
      "23\n"
     ]
    }
   ],
   "source": [
    "# 6023\n",
    "a,b,c = input().split(\":\")\n",
    "print(b)"
   ]
  },
  {
   "cell_type": "code",
   "execution_count": 141,
   "metadata": {},
   "outputs": [
    {
     "name": "stdout",
     "output_type": "stream",
     "text": [
      "hello world\n",
      "helloworld\n"
     ]
    }
   ],
   "source": [
    "# 6024\n",
    "a,b = input().split(\" \")\n",
    "print(a,b,sep=\"\")"
   ]
  },
  {
   "cell_type": "code",
   "execution_count": 150,
   "metadata": {},
   "outputs": [
    {
     "name": "stdout",
     "output_type": "stream",
     "text": [
      "123 -123\n",
      "0\n"
     ]
    }
   ],
   "source": [
    "# 6025\n",
    "a,b = input().split(\" \")\n",
    "print(int(a)+int(b))"
   ]
  },
  {
   "cell_type": "code",
   "execution_count": 152,
   "metadata": {},
   "outputs": [
    {
     "name": "stdout",
     "output_type": "stream",
     "text": [
      "0.1\n",
      "0.9\n",
      "1.0\n"
     ]
    }
   ],
   "source": [
    "# 6026\n",
    "a = float(input())\n",
    "b = float(input())\n",
    "print(a+b)"
   ]
  },
  {
   "cell_type": "markdown",
   "metadata": {},
   "source": [
    "참고\n",
    "10진수 형태로 입력받고\n",
    "%x로 출력하면 16진수(hexadecimal) 소문자로 출력된다.\n",
    "(%o로 출력하면 8진수(octal) 문자열로 출력된다.)\n",
    "\n",
    "10진법은 한 자리에 10개(0 1 2 3 4 5 6 7 8 9)의 문자를 사용하고,\n",
    "16진법은 영문 소문자를 사용하는 경우에 한 자리에 16개(0 1 2 3 4 5 6 7 8 9 a b c d e f)의 문자를 사용한다.\n",
    "16진수 a는 10진수의 10, b는 11, c는 12 ... 와 같다."
   ]
  },
  {
   "cell_type": "code",
   "execution_count": 155,
   "metadata": {},
   "outputs": [
    {
     "name": "stdout",
     "output_type": "stream",
     "text": [
      "100\n",
      "144\n"
     ]
    }
   ],
   "source": [
    "# 6027\n",
    "a = input()\n",
    "n = int(a)\n",
    "print('%x'% n)"
   ]
  },
  {
   "cell_type": "code",
   "execution_count": 157,
   "metadata": {},
   "outputs": [
    {
     "name": "stdout",
     "output_type": "stream",
     "text": [
      "255\n",
      "FF\n"
     ]
    }
   ],
   "source": [
    "# 6028\n",
    "a = input()\n",
    "n = int(a)\n",
    "print('%X'% n)"
   ]
  },
  {
   "cell_type": "code",
   "execution_count": 159,
   "metadata": {},
   "outputs": [
    {
     "name": "stdout",
     "output_type": "stream",
     "text": [
      "f\n",
      "17\n"
     ]
    }
   ],
   "source": [
    "# 6029\n",
    "a = input()\n",
    "n = int(a, 16)      #입력된 a를 16진수로 인식해 변수 n에 저장\n",
    "print('%o' % n)  #n에 저장되어있는 값을 8진수(octal) 형태 문자열로 출력"
   ]
  },
  {
   "cell_type": "markdown",
   "metadata": {},
   "source": [
    "영문자 1개를 입력받아 10진수 유니코드(Unicode) 값으로 출력해보자."
   ]
  },
  {
   "cell_type": "markdown",
   "metadata": {},
   "source": [
    "참고\n",
    "n = ord(input())  #입력받은 문자를 10진수 유니코드 값으로 변환한 후, n에 저장한다.\n",
    "\n",
    "ord( ) 는 어떤 문자의 순서 위치(ordinal position) 값을 의미한다.  \n",
    "실제로 각각의 문자들에는 연속된 정수 값이 순서에 따라 부여 되어 있다. A:65, B:66, C:67 .... \n",
    "ord(c) : 문자 c 를 10진수로 변환한 값 \n",
    "\n",
    "컴퓨터로 저장되고 처리되는 모든 데이터들은 2진수 형태로 정수화 되어야 하는데,\n",
    "컴퓨터에 문자를 저장하는 방법으로 아스키코드(ASCII Code)나 유니코드(Unicode)가 자주 사용된다.\n",
    "\n",
    "예를 들어, 영문 대문자 'A'는 10진수 값 65 로 표현하고, \n",
    "2진수(binary digit) 값 1000001 로 바꾸어 컴퓨터 내부에 저장한다. \n",
    "\n",
    "유니코드(unicode)는 세계 여러 나라의 문자를 공통된 코드 값으로 저장할 때 사용하는 표준 코드이다."
   ]
  },
  {
   "cell_type": "code",
   "execution_count": 160,
   "metadata": {},
   "outputs": [
    {
     "name": "stdout",
     "output_type": "stream",
     "text": [
      "A\n",
      "65\n"
     ]
    }
   ],
   "source": [
    "# 6030\n",
    "n = ord(input())\n",
    "print(n)"
   ]
  },
  {
   "cell_type": "markdown",
   "metadata": {},
   "source": [
    "chr( )는 정수값->문자, ord( )는 문자->정수값 형태로 바꿔주는 서로 반대 방향으로 바꾸어 주는 기능을 한다."
   ]
  },
  {
   "cell_type": "code",
   "execution_count": 163,
   "metadata": {},
   "outputs": [
    {
     "name": "stdout",
     "output_type": "stream",
     "text": [
      "11\n",
      "\u000b",
      "\n"
     ]
    }
   ],
   "source": [
    "# 6031\n",
    "a = int(input())\n",
    "print(chr(a))"
   ]
  },
  {
   "cell_type": "code",
   "execution_count": 164,
   "metadata": {},
   "outputs": [
    {
     "name": "stdout",
     "output_type": "stream",
     "text": [
      "-5\n",
      "5\n"
     ]
    }
   ],
   "source": [
    "# 6032\n",
    "a = int(input())\n",
    "print(-a)"
   ]
  },
  {
   "cell_type": "code",
   "execution_count": 179,
   "metadata": {},
   "outputs": [
    {
     "name": "stdout",
     "output_type": "stream",
     "text": [
      "a\n",
      "b\n"
     ]
    }
   ],
   "source": [
    "# 6033\n",
    "n = input()\n",
    "n1 = ord(n)\n",
    "print(chr(n1+1))"
   ]
  },
  {
   "cell_type": "code",
   "execution_count": 182,
   "metadata": {},
   "outputs": [
    {
     "name": "stdout",
     "output_type": "stream",
     "text": [
      "123 -123\n",
      "246\n"
     ]
    }
   ],
   "source": [
    "# 6034\n",
    "a, b = input().split(\" \")\n",
    "print(int(a)-int(b))"
   ]
  },
  {
   "cell_type": "code",
   "execution_count": 185,
   "metadata": {},
   "outputs": [
    {
     "name": "stdout",
     "output_type": "stream",
     "text": [
      "0.5 2.0\n",
      "1.0\n"
     ]
    }
   ],
   "source": [
    "# 6035\n",
    "a,b = input().split()\n",
    "print(float(a)*float(b))"
   ]
  },
  {
   "cell_type": "markdown",
   "metadata": {},
   "source": [
    "문자열 * 정수 또는 정수 * 문자열은 그 문자열을 여러 번 반복한 문자열을 만들어 준다."
   ]
  },
  {
   "cell_type": "code",
   "execution_count": 188,
   "metadata": {},
   "outputs": [
    {
     "name": "stdout",
     "output_type": "stream",
     "text": [
      "love 3\n",
      "lovelovelove\n"
     ]
    }
   ],
   "source": [
    "# 6036\n",
    "a, b = input().split()\n",
    "print(int(b)*a)"
   ]
  },
  {
   "cell_type": "code",
   "execution_count": 189,
   "metadata": {},
   "outputs": [
    {
     "name": "stdout",
     "output_type": "stream",
     "text": [
      "3\n",
      "I love CS\n",
      "I love CSI love CSI love CS\n"
     ]
    }
   ],
   "source": [
    "# 6037\n",
    "a = int(input())\n",
    "b = input()\n",
    "print(a*b)"
   ]
  },
  {
   "cell_type": "code",
   "execution_count": 191,
   "metadata": {},
   "outputs": [
    {
     "name": "stdout",
     "output_type": "stream",
     "text": [
      "2 10\n",
      "1024\n"
     ]
    }
   ],
   "source": [
    "# 6038\n",
    "a, b = input().split()\n",
    "print(int(a)**int(b))"
   ]
  },
  {
   "cell_type": "code",
   "execution_count": 192,
   "metadata": {},
   "outputs": [
    {
     "name": "stdout",
     "output_type": "stream",
     "text": [
      "4.0 0.5\n",
      "2.0\n"
     ]
    }
   ],
   "source": [
    "# 6039\n",
    "a, b = input().split()\n",
    "print(float(a)**float(b))"
   ]
  },
  {
   "cell_type": "markdown",
   "metadata": {},
   "source": [
    "a//b 와 같이 작성하면, a를 b로 나눈 몫(quotient)을 계산해준다."
   ]
  },
  {
   "cell_type": "code",
   "execution_count": 197,
   "metadata": {},
   "outputs": [
    {
     "name": "stdout",
     "output_type": "stream",
     "text": [
      "10 3\n",
      "3\n"
     ]
    }
   ],
   "source": [
    "# 6040\n",
    "a, b = input().split()\n",
    "print(int(a)//int(b))"
   ]
  },
  {
   "cell_type": "code",
   "execution_count": 199,
   "metadata": {},
   "outputs": [
    {
     "name": "stdout",
     "output_type": "stream",
     "text": [
      "10 3\n",
      "1\n"
     ]
    }
   ],
   "source": [
    "# 6041\n",
    "a, b = input().split()\n",
    "print(int(a)%int(b))"
   ]
  },
  {
   "cell_type": "code",
   "execution_count": 200,
   "metadata": {},
   "outputs": [
    {
     "name": "stdout",
     "output_type": "stream",
     "text": [
      "3.141592\n",
      "3.14\n"
     ]
    }
   ],
   "source": [
    "# 6042\n",
    "a = float(input())\n",
    "print(round(a,2))"
   ]
  },
  {
   "cell_type": "markdown",
   "metadata": {},
   "source": [
    "예) 소숫점 셋째 자리에서 반올림하여 둘째 자리 까지 출력해야 하는 경우 --> print('%.2f'%n)     #n은 출력할 실수 변수"
   ]
  },
  {
   "cell_type": "code",
   "execution_count": 208,
   "metadata": {},
   "outputs": [
    {
     "name": "stdout",
     "output_type": "stream",
     "text": [
      "10.0 0.00001\n",
      "1000000.000\n"
     ]
    }
   ],
   "source": [
    "# 6043\n",
    "f1, f2 = input().split()\n",
    "n = float(f1)/float(f2)\n",
    "print('%.3f'%n)"
   ]
  },
  {
   "cell_type": "code",
   "execution_count": 211,
   "metadata": {},
   "outputs": [
    {
     "name": "stdout",
     "output_type": "stream",
     "text": [
      "10 3\n",
      "13\n",
      "7\n",
      "30\n",
      "3\n",
      "1\n",
      "3.33\n"
     ]
    }
   ],
   "source": [
    "# 6044\n",
    "a, b = input().split()\n",
    "print(int(a) + int(b),\n",
    "      int(a) - int(b),\n",
    "      int(a) * int(b),\n",
    "      int(a) // int(b),\n",
    "      int(a) % int(b),\n",
    "      round(int(a) / int(b),2), sep = \"\\n\")"
   ]
  },
  {
   "cell_type": "code",
   "execution_count": 220,
   "metadata": {},
   "outputs": [
    {
     "name": "stdout",
     "output_type": "stream",
     "text": [
      "1 2 3\n",
      "6 2.000\n"
     ]
    }
   ],
   "source": [
    "# 6045\n",
    "a, b, c = input().split()\n",
    "n = int(a) + int(b) + int(c)\n",
    "print(n, '%.2f'%(n/3))"
   ]
  },
  {
   "cell_type": "markdown",
   "metadata": {},
   "source": [
    "n = 10\n",
    "- print(n<<1)  #10을 2배 한 값인 20 이 출력된다.\n",
    "- print(n>>1)  #10을 반으로 나눈 값인 5 가 출력된다.\n",
    "- print(n<<2)  #10을 4배 한 값인 40 이 출력된다.\n",
    "- print(n>>2)  #10을 반으로 나눈 후 다시 반으로 나눈 값인 2 가 출력된다."
   ]
  },
  {
   "cell_type": "code",
   "execution_count": 222,
   "metadata": {},
   "outputs": [
    {
     "name": "stdout",
     "output_type": "stream",
     "text": [
      "1024\n",
      "2048\n"
     ]
    }
   ],
   "source": [
    "# 6046\n",
    "a = input()\n",
    "print(2*int(a))"
   ]
  },
  {
   "cell_type": "code",
   "execution_count": 223,
   "metadata": {},
   "outputs": [
    {
     "name": "stdout",
     "output_type": "stream",
     "text": [
      "10\n",
      "20\n"
     ]
    }
   ],
   "source": [
    "a = input()\n",
    "print(int(a)<<1) # 비트단위쉬프트연산자 << >> 지정한 비트 수 만큼 밀어주면 2 or 1/2씩 증감"
   ]
  },
  {
   "cell_type": "markdown",
   "metadata": {},
   "source": [
    "a 를 2^b배 만큼 곱한 값을 출력한다."
   ]
  },
  {
   "cell_type": "code",
   "execution_count": 225,
   "metadata": {},
   "outputs": [
    {
     "name": "stdout",
     "output_type": "stream",
     "text": [
      "2 3\n",
      "16\n"
     ]
    }
   ],
   "source": [
    "# 6047 \n",
    "a , b = input().split()\n",
    "print(int(a)<<int(b))"
   ]
  },
  {
   "cell_type": "code",
   "execution_count": 229,
   "metadata": {},
   "outputs": [
    {
     "name": "stdout",
     "output_type": "stream",
     "text": [
      "9 1\n",
      "False\n"
     ]
    }
   ],
   "source": [
    "# 6048\n",
    "a, b = input().split()\n",
    "if int(a) < int(b) :\n",
    "    print(\"True\")\n",
    "else :\n",
    "    print(\"False\")"
   ]
  },
  {
   "cell_type": "code",
   "execution_count": 232,
   "metadata": {},
   "outputs": [
    {
     "name": "stdout",
     "output_type": "stream",
     "text": [
      "0 0\n",
      "True\n"
     ]
    }
   ],
   "source": [
    "# 6049\n",
    "a, b = input().split()\n",
    "a, b = int(a), int(b)\n",
    "if a == b :\n",
    "    print(\"True\")\n",
    "else :\n",
    "    print(\"False\")"
   ]
  },
  {
   "cell_type": "code",
   "execution_count": 233,
   "metadata": {},
   "outputs": [
    {
     "name": "stdout",
     "output_type": "stream",
     "text": [
      "0 -1\n",
      "False\n"
     ]
    }
   ],
   "source": [
    "# 6050\n",
    "a, b = input().split()\n",
    "a, b = int(a), int(b)\n",
    "if a <= b :\n",
    "    print(\"True\")\n",
    "else :\n",
    "    print(\"False\")"
   ]
  },
  {
   "cell_type": "code",
   "execution_count": 235,
   "metadata": {},
   "outputs": [
    {
     "name": "stdout",
     "output_type": "stream",
     "text": [
      "0 0\n",
      "False\n"
     ]
    }
   ],
   "source": [
    "# 6051\n",
    "a, b = input().split()\n",
    "a, b = int(a), int(b)\n",
    "if a != b :\n",
    "    print(\"True\")\n",
    "else :\n",
    "    print(\"False\")"
   ]
  },
  {
   "cell_type": "markdown",
   "metadata": {},
   "source": [
    "- bool( ) 을 이용하면 입력된 식이나 값을 평가해 불 형의 값(True 또는 False)을 출력해준다.\n",
    "- 식이나 값을 계산해서 결과값이 만들어지는 것을 평가(evaluate)라고 한다. \n",
    "\n",
    "- python 언어에서 정수값 0은 False(거짓)로 평가되고, 그 외의 값들은 모두 True(참)로 평가된다."
   ]
  },
  {
   "cell_type": "code",
   "execution_count": 241,
   "metadata": {},
   "outputs": [
    {
     "name": "stdout",
     "output_type": "stream",
     "text": [
      "0\n",
      "False\n",
      "0\n",
      "False\n"
     ]
    }
   ],
   "source": [
    "# 6052\n",
    "a = int(input())\n",
    "if a == 0 :\n",
    "    print(\"False\") \n",
    "else : \n",
    "    print(\"True\")\n",
    "    \n",
    "n = int(input())\n",
    "print(bool(n))"
   ]
  },
  {
   "cell_type": "code",
   "execution_count": null,
   "metadata": {},
   "outputs": [],
   "source": [
    "# 6053\n",
    "a = bool(int(input()))\n",
    "print(not a) #not 을 사용하면 boolean index 를 바꿀 수 있다. default : 0 == False , 1 == True \n"
   ]
  },
  {
   "cell_type": "code",
   "execution_count": 249,
   "metadata": {},
   "outputs": [
    {
     "name": "stdout",
     "output_type": "stream",
     "text": [
      "1 0\n",
      "False\n",
      "True\n"
     ]
    }
   ],
   "source": [
    "# 6054\n",
    "a, b = map(int,input().split())\n",
    "print(bool(a) and bool(b)) # intersection "
   ]
  },
  {
   "cell_type": "code",
   "execution_count": null,
   "metadata": {},
   "outputs": [],
   "source": [
    "# 6055\n",
    "a, b = map(int,input().split())\n",
    "print(bool(a) or bool(b))"
   ]
  },
  {
   "cell_type": "code",
   "execution_count": 257,
   "metadata": {},
   "outputs": [
    {
     "name": "stdout",
     "output_type": "stream",
     "text": [
      "0 1\n",
      "True\n"
     ]
    }
   ],
   "source": [
    "# 6056\n",
    "a, b = map(int,input().split())\n",
    "\n",
    "if bool(a) != bool(b):\n",
    "    print(\"True\")\n",
    "else :\n",
    "    print(\"False\")\n",
    "    \n",
    "    \n",
    "# c = bool(int(a))\n",
    "# d = bool(int(b))\n",
    "# print((c and (not d)) or ((not c) and d))"
   ]
  },
  {
   "cell_type": "code",
   "execution_count": null,
   "metadata": {},
   "outputs": [],
   "source": [
    "# 6057\n",
    "a, b = map(int,input().split())\n",
    "\n",
    "if bool(a) == bool(b):\n",
    "    print(\"True\")\n",
    "else :\n",
    "    print(\"False\")"
   ]
  },
  {
   "cell_type": "code",
   "execution_count": 274,
   "metadata": {},
   "outputs": [
    {
     "name": "stdout",
     "output_type": "stream",
     "text": [
      "1 1\n",
      "False\n"
     ]
    }
   ],
   "source": [
    "# 6058\n",
    "a, b = map(int,input().split())\n",
    "if bool(a) == False :\n",
    "    if bool(b) == False :\n",
    "        print(True)\n",
    "    else :\n",
    "        print(False)\n",
    "else :\n",
    "    print(False)\n",
    "    \n",
    "# a,b=map(int,input().split())\n",
    "# print(bool(a)==bool(b)==False)"
   ]
  },
  {
   "cell_type": "markdown",
   "metadata": {},
   "source": [
    "- ~n = -n - 1\n",
    "- -n = ~n + 1 과 같은 관계로 표현할 수 있다."
   ]
  },
  {
   "cell_type": "markdown",
   "metadata": {},
   "source": [
    "** 비트단위(bitwise) 연산자는,\n",
    "~(bitwise not), &(bitwise and), |(bitwise or), ^(bitwise xor),\n",
    "<<(bitwise left shift), >>(bitwise right shift)\n",
    "가 있다."
   ]
  },
  {
   "cell_type": "code",
   "execution_count": 277,
   "metadata": {},
   "outputs": [
    {
     "name": "stdout",
     "output_type": "stream",
     "text": [
      "10\n",
      "-11\n"
     ]
    }
   ],
   "source": [
    "# 6059\n",
    "a = int(input())\n",
    "print(~a)"
   ]
  },
  {
   "cell_type": "markdown",
   "metadata": {},
   "source": [
    "두 정수를 비트단위(bitwise)로 and 계산을 수행한 결과를 10진수로 출력한다."
   ]
  },
  {
   "cell_type": "code",
   "execution_count": 278,
   "metadata": {},
   "outputs": [
    {
     "name": "stdout",
     "output_type": "stream",
     "text": [
      "3 5\n",
      "1\n"
     ]
    }
   ],
   "source": [
    "# 6060\n",
    "a, b =  map(int,input().split())\n",
    "print(a & b)"
   ]
  },
  {
   "cell_type": "markdown",
   "metadata": {},
   "source": [
    "- 예를 들어 3과 5가 입력되었을 때를 살펴보면\n",
    "- 3      : 00000000 00000000 00000000 00000011\n",
    "- 5      : 00000000 00000000 00000000 00000101\n",
    "- 3 | 5 : 00000000 00000000 00000000 00000111\n",
    "- 이 된다."
   ]
  },
  {
   "cell_type": "code",
   "execution_count": 279,
   "metadata": {},
   "outputs": [
    {
     "name": "stdout",
     "output_type": "stream",
     "text": [
      "3 5\n",
      "7\n"
     ]
    }
   ],
   "source": [
    "# 6061\n",
    "a, b =  map(int,input().split())\n",
    "print(a | b)"
   ]
  },
  {
   "cell_type": "markdown",
   "metadata": {},
   "source": [
    "- 3       : 00000000 00000000 00000000 00000011\n",
    "- 5       : 00000000 00000000 00000000 00000101\n",
    "- 3 ^ 5 : 00000000 00000000 00000000 00000110\n",
    "이 된다."
   ]
  },
  {
   "cell_type": "code",
   "execution_count": 280,
   "metadata": {},
   "outputs": [
    {
     "name": "stdout",
     "output_type": "stream",
     "text": [
      "3 5\n",
      "6\n"
     ]
    }
   ],
   "source": [
    "# 6062 xor 연산\n",
    "a, b =  map(int,input().split())\n",
    "print(a ^ b)"
   ]
  },
  {
   "cell_type": "code",
   "execution_count": 281,
   "metadata": {},
   "outputs": [
    {
     "name": "stdout",
     "output_type": "stream",
     "text": [
      "123 456\n",
      "456\n"
     ]
    }
   ],
   "source": [
    "# 6063\n",
    "a, b = map(int, input().split())\n",
    "if a > b : \n",
    "    print(a)\n",
    "else :\n",
    "    print(b)"
   ]
  },
  {
   "cell_type": "code",
   "execution_count": 286,
   "metadata": {},
   "outputs": [
    {
     "name": "stdout",
     "output_type": "stream",
     "text": [
      "1 2 3\n",
      "1\n",
      "1\n"
     ]
    }
   ],
   "source": [
    "# 6063\n",
    "a, b, c = map(int, input().split())\n",
    "print(min(a,b,c))\n",
    "\n",
    "\n",
    "a, b, c = map(int, input().split())\n",
    "if a < c:\n",
    "    if a < b : \n",
    "        print(a)\n",
    "    else :\n",
    "        print(b)\n",
    "elif b < c : \n",
    "    if a < b :\n",
    "        print(a)\n",
    "    else :\n",
    "        print(b)\n",
    "else :\n",
    "    print(c)"
   ]
  },
  {
   "cell_type": "code",
   "execution_count": 289,
   "metadata": {},
   "outputs": [
    {
     "name": "stdout",
     "output_type": "stream",
     "text": [
      "1 2 4\n",
      "2\n",
      "4\n"
     ]
    }
   ],
   "source": [
    "# 6065\n",
    "a, b, c = map(int,input().split())\n",
    "if a % 2 == 0:\n",
    "    print(a)\n",
    "if b % 2 == 0:\n",
    "    print(b)\n",
    "if c % 2 == 0:\n",
    "    print(c)"
   ]
  },
  {
   "cell_type": "code",
   "execution_count": 290,
   "metadata": {},
   "outputs": [
    {
     "name": "stdout",
     "output_type": "stream",
     "text": [
      "1 2 8\n",
      "odd\n",
      "even\n",
      "even\n"
     ]
    }
   ],
   "source": [
    "# 6066\n",
    "a, b, c = map(int, input().split())\n",
    "if a % 2 == 0 :\n",
    "    print(\"even\")\n",
    "else :\n",
    "    print(\"odd\")\n",
    "if b % 2 == 0 :\n",
    "    print(\"even\")\n",
    "else :\n",
    "    print(\"odd\")\n",
    "if c % 2 == 0 :\n",
    "    print(\"even\")\n",
    "else :\n",
    "    print(\"odd\")\n",
    "    \n"
   ]
  },
  {
   "cell_type": "code",
   "execution_count": 294,
   "metadata": {},
   "outputs": [
    {
     "name": "stdout",
     "output_type": "stream",
     "text": [
      "6\n",
      "C\n"
     ]
    }
   ],
   "source": [
    "# 6067\n",
    "a = int(input())\n",
    "if a<0 and a%2 == 0:\n",
    "    print('A')\n",
    "elif a<0 and a%2 != 0:\n",
    "    print('B')\n",
    "elif a>0 and a%2 == 0:\n",
    "    print('C')\n",
    "elif a>0 and a%2 != 0:\n",
    "    print('D')"
   ]
  },
  {
   "cell_type": "code",
   "execution_count": 3,
   "metadata": {},
   "outputs": [
    {
     "name": "stdout",
     "output_type": "stream",
     "text": [
      "9\n",
      "D\n"
     ]
    }
   ],
   "source": [
    "# 6068\n",
    "a = int(input())\n",
    "if a > 90 :\n",
    "    print(\"A\")\n",
    "elif a > 69 :\n",
    "    print(\"B\")\n",
    "elif a > 39 :\n",
    "    print(\"C\")\n",
    "else :\n",
    "    print(\"D\")"
   ]
  },
  {
   "cell_type": "code",
   "execution_count": 7,
   "metadata": {},
   "outputs": [
    {
     "name": "stdout",
     "output_type": "stream",
     "text": [
      "B\n",
      "good!!\n"
     ]
    }
   ],
   "source": [
    "# 6069\n",
    "a = input()\n",
    "\n",
    "if a == \"A\":\n",
    "    print(\"best!!!\")\n",
    "elif a == \"B\":\n",
    "    print(\"good!!\")\n",
    "elif a == \"C\":\n",
    "    print(\"run!\")\n",
    "elif a == \"D\":\n",
    "    print(\"slowly~\")\n",
    "else :\n",
    "    print(\"what?\")"
   ]
  },
  {
   "cell_type": "code",
   "execution_count": 16,
   "metadata": {},
   "outputs": [
    {
     "name": "stdout",
     "output_type": "stream",
     "text": [
      "5\n",
      "spring\n"
     ]
    }
   ],
   "source": [
    "# 6070\n",
    "\n",
    "a = int(input())\n",
    "\n",
    "if a // 3 == 1 :\n",
    "    print(\"spring\")\n",
    "elif a // 3 == 2 :\n",
    "    print(\"summer\")\n",
    "elif a // 3 == 3 :\n",
    "    print(\"fall\")\n",
    "else :\n",
    "    print(\"winter\")"
   ]
  },
  {
   "cell_type": "code",
   "execution_count": 33,
   "metadata": {},
   "outputs": [
    {
     "name": "stdout",
     "output_type": "stream",
     "text": [
      "5\n",
      "5\n",
      "0\n"
     ]
    }
   ],
   "source": [
    "# 6071\n",
    "n = 1      \n",
    "while n!=0 :\n",
    "    n = int(input())\n",
    "    if n!=0 :\n",
    "        print(n)"
   ]
  },
  {
   "cell_type": "code",
   "execution_count": 31,
   "metadata": {},
   "outputs": [
    {
     "name": "stdout",
     "output_type": "stream",
     "text": [
      "5\n",
      "5\n",
      "4\n",
      "3\n",
      "2\n",
      "1\n"
     ]
    }
   ],
   "source": [
    "# 6072\n",
    "n = int(input())\n",
    "while n > 0  :\n",
    "    print(n)\n",
    "    n = n -1\n",
    "    "
   ]
  },
  {
   "cell_type": "code",
   "execution_count": 35,
   "metadata": {},
   "outputs": [
    {
     "name": "stdout",
     "output_type": "stream",
     "text": [
      "5\n",
      "4\n",
      "3\n",
      "2\n",
      "1\n",
      "0\n"
     ]
    }
   ],
   "source": [
    "# 6073\n",
    "n = int(input())\n",
    "while n > 0 :\n",
    "    n = n-1\n",
    "    print(n)\n",
    "    "
   ]
  },
  {
   "cell_type": "code",
   "execution_count": 59,
   "metadata": {},
   "outputs": [
    {
     "name": "stdout",
     "output_type": "stream",
     "text": [
      "f\n",
      "a b c d e f "
     ]
    }
   ],
   "source": [
    "# 6074\n",
    "n = ord(input())\n",
    "t = ord('a')\n",
    "while n >= t :\n",
    "    print(chr(t), end=\" \")\n",
    "    t += 1"
   ]
  },
  {
   "cell_type": "code",
   "execution_count": 61,
   "metadata": {},
   "outputs": [
    {
     "name": "stdout",
     "output_type": "stream",
     "text": [
      "4\n",
      "0\n",
      "1\n",
      "2\n",
      "3\n",
      "4\n"
     ]
    }
   ],
   "source": [
    "# 6075\n",
    "n = int(input())\n",
    "t = int(0)\n",
    "while n >= t :\n",
    "    print(t)\n",
    "    t += 1"
   ]
  },
  {
   "cell_type": "code",
   "execution_count": 63,
   "metadata": {},
   "outputs": [
    {
     "name": "stdout",
     "output_type": "stream",
     "text": [
      "5\n",
      "0\n",
      "1\n",
      "2\n",
      "3\n",
      "4\n",
      "5\n"
     ]
    }
   ],
   "source": [
    "# 6076\n",
    "n = int(input())\n",
    "i = 0\n",
    "while n > i-1 :\n",
    "    print(i)\n",
    "    i += 1\n",
    "    \n",
    "# n = int(input())\n",
    "# for i in range(n+1) :\n",
    "#     print(i)"
   ]
  },
  {
   "cell_type": "code",
   "execution_count": 69,
   "metadata": {},
   "outputs": [
    {
     "name": "stdout",
     "output_type": "stream",
     "text": [
      "5\n",
      "6\n"
     ]
    }
   ],
   "source": [
    "# 6077\n",
    "n = int(input())\n",
    "data = 0\n",
    "for i in range(1, n+1):\n",
    "    if i % 2 == 0 :\n",
    "        data += i\n",
    "print(data)"
   ]
  },
  {
   "cell_type": "code",
   "execution_count": 73,
   "metadata": {},
   "outputs": [
    {
     "name": "stdout",
     "output_type": "stream",
     "text": [
      "x\n",
      "x\n",
      "d\n",
      "d\n",
      "d\n",
      "d\n",
      "f\n",
      "f\n",
      "a\n",
      "a\n",
      "q\n",
      "q\n"
     ]
    }
   ],
   "source": [
    "# 6078\n",
    "n = 1\n",
    "while n != 'q' :\n",
    "    n = input()\n",
    "    print(n)"
   ]
  },
  {
   "cell_type": "code",
   "execution_count": 38,
   "metadata": {},
   "outputs": [
    {
     "name": "stdout",
     "output_type": "stream",
     "text": [
      "55\n",
      "10\n"
     ]
    }
   ],
   "source": [
    "# 6079\n",
    "n = int(input())\n",
    "data = 0\n",
    "for i in range(1,n+1) :\n",
    "    if data < n :\n",
    "        data += i\n",
    "    else :\n",
    "        print(i-1)\n",
    "        break"
   ]
  },
  {
   "cell_type": "code",
   "execution_count": 44,
   "metadata": {},
   "outputs": [
    {
     "name": "stdout",
     "output_type": "stream",
     "text": [
      "2 3\n",
      "1 1\n",
      "1 2\n",
      "1 3\n",
      "2 1\n",
      "2 2\n",
      "2 3\n"
     ]
    }
   ],
   "source": [
    "### 6080\n",
    "n, m = map(int, input().split())\n",
    "for n in range(1,n+1):\n",
    "    for m in range(1,m+1):\n",
    "        print(n,m)"
   ]
  },
  {
   "cell_type": "code",
   "execution_count": 49,
   "metadata": {},
   "outputs": [
    {
     "name": "stdout",
     "output_type": "stream",
     "text": [
      "B\n",
      "B*1=B\n",
      "B*2=16\n",
      "B*3=21\n",
      "B*4=2C\n",
      "B*5=37\n",
      "B*6=42\n",
      "B*7=4D\n",
      "B*8=58\n",
      "B*9=63\n",
      "B*A=6E\n",
      "B*B=79\n",
      "B*C=84\n",
      "B*D=8F\n",
      "B*E=9A\n",
      "B*F=A5\n"
     ]
    }
   ],
   "source": [
    "# 6081\n",
    "n = int(input(),16)\n",
    "for i in range(1,16):\n",
    "    print('%X'%n, '*%X'%i, '=%X'%(n*i), sep='')"
   ]
  },
  {
   "cell_type": "code",
   "execution_count": 138,
   "metadata": {},
   "outputs": [
    {
     "name": "stdout",
     "output_type": "stream",
     "text": [
      "13\n",
      "1 2 X 4 5 X 7 8 X 10 11 12 X "
     ]
    }
   ],
   "source": [
    "# 6082\n",
    "n = int(input())\n",
    "for i in range(1, n + 1):\n",
    "    x = 0\n",
    "    y = str(i)\n",
    "    for j in range(len(y)):\n",
    "        if y[j] in ['3','6','9'] :\n",
    "            x += 1\n",
    "    if x == 0 :\n",
    "        print(i, end = ' ')\n",
    "    else:\n",
    "        print('X', end = ' ')"
   ]
  },
  {
   "cell_type": "code",
   "execution_count": 2,
   "metadata": {},
   "outputs": [
    {
     "name": "stdout",
     "output_type": "stream",
     "text": [
      "2 2 2\n",
      "0 0 0\n",
      "0 0 1\n",
      "0 1 0\n",
      "0 1 1\n",
      "1 0 0\n",
      "1 0 1\n",
      "1 1 0\n",
      "1 1 1\n",
      "8\n"
     ]
    }
   ],
   "source": [
    "# 6083\n",
    "from itertools import product\n",
    "r,g,b=map(int,input().split())\n",
    "r= list(range(r))\n",
    "g= list(range(g))\n",
    "b= list(range(b))\n",
    "\n",
    "a = list((product(r,g,b)))\n",
    "for x, y, z in a :\n",
    "    print(x, y, z)\n",
    "print(len(r)*len(g)*len(b))"
   ]
  },
  {
   "cell_type": "code",
   "execution_count": 1,
   "metadata": {},
   "outputs": [
    {
     "name": "stdout",
     "output_type": "stream",
     "text": [
      "2 2 2\n",
      "0 0 0 \n",
      "0 0 1 \n",
      "0 1 0 \n",
      "0 1 1 \n",
      "1 0 0 \n",
      "1 0 1 \n",
      "1 1 0 \n",
      "1 1 1 \n",
      "8\n"
     ]
    }
   ],
   "source": [
    "# 6083\n",
    "from itertools import product\n",
    "r,g,b=map(int,input().split())\n",
    "r= list(range(r))\n",
    "g= list(range(g))\n",
    "b= list(range(b))\n",
    "\n",
    "a = list((product(r,g,b)))\n",
    "for i in range(len(a)):\n",
    "    for j in range(3):\n",
    "        print(a[i][j], end  = ' ')\n",
    "    print()\n",
    "print(len(r)*len(g)*len(b))"
   ]
  },
  {
   "cell_type": "code",
   "execution_count": 21,
   "metadata": {},
   "outputs": [
    {
     "name": "stdout",
     "output_type": "stream",
     "text": [
      "2 2 2\n",
      "0 0 0\n",
      "0 0 1\n",
      "0 1 0\n",
      "0 1 1\n",
      "1 0 0\n",
      "1 0 1\n",
      "1 1 0\n",
      "1 1 1\n",
      "8\n"
     ]
    }
   ],
   "source": [
    "r,g,b=map(int,input().split())\n",
    "for i in range(r):\n",
    "    for j in range(g):\n",
    "        for k in range(b):\n",
    "            print(i, j, k , end = '\\n', sep = ' ')\n",
    "print(r*b*g)"
   ]
  },
  {
   "cell_type": "code",
   "execution_count": 44,
   "metadata": {},
   "outputs": [
    {
     "data": {
      "text/plain": [
       "[(range(0, 2), range(0, 2)),\n",
       " (range(0, 2), range(0, 2)),\n",
       " (range(0, 2), range(0, 2))]"
      ]
     },
     "execution_count": 44,
     "metadata": {},
     "output_type": "execute_result"
    }
   ],
   "source": [
    "\n",
    "def comb2(arr):\n",
    "    result = []\n",
    "    for i in range(len(arr)):\n",
    "        for j in arr[i + 1:]:\n",
    "            result.append((arr[i], j))\n",
    "    return result\n",
    "comb2(data)"
   ]
  },
  {
   "cell_type": "code",
   "execution_count": 42,
   "metadata": {},
   "outputs": [
    {
     "name": "stdout",
     "output_type": "stream",
     "text": [
      "2 2 2\n"
     ]
    }
   ],
   "source": [
    "data = []\n",
    "r,g,b = map(int,input().split())\n",
    "r, g, b = range(r), range(g), range(b)\n"
   ]
  },
  {
   "cell_type": "code",
   "execution_count": 43,
   "metadata": {},
   "outputs": [
    {
     "data": {
      "text/plain": [
       "[range(0, 2), range(0, 2), range(0, 2)]"
      ]
     },
     "execution_count": 43,
     "metadata": {},
     "output_type": "execute_result"
    }
   ],
   "source": [
    "data"
   ]
  },
  {
   "cell_type": "code",
   "execution_count": 35,
   "metadata": {},
   "outputs": [
    {
     "name": "stdout",
     "output_type": "stream",
     "text": [
      "2 2 2\n"
     ]
    },
    {
     "ename": "TypeError",
     "evalue": "list expected at most 1 argument, got 3",
     "output_type": "error",
     "traceback": [
      "\u001b[1;31m---------------------------------------------------------------------------\u001b[0m",
      "\u001b[1;31mTypeError\u001b[0m                                 Traceback (most recent call last)",
      "\u001b[1;32m<ipython-input-35-a42c2c371947>\u001b[0m in \u001b[0;36m<module>\u001b[1;34m\u001b[0m\n\u001b[0;32m     17\u001b[0m     \u001b[0mgenerate\u001b[0m\u001b[1;33m(\u001b[0m\u001b[1;33m[\u001b[0m\u001b[1;33m]\u001b[0m\u001b[1;33m)\u001b[0m\u001b[1;33m\u001b[0m\u001b[1;33m\u001b[0m\u001b[0m\n\u001b[0;32m     18\u001b[0m \u001b[0mr\u001b[0m\u001b[1;33m,\u001b[0m \u001b[0mg\u001b[0m\u001b[1;33m,\u001b[0m \u001b[0mb\u001b[0m \u001b[1;33m=\u001b[0m \u001b[0mmap\u001b[0m\u001b[1;33m(\u001b[0m\u001b[0mint\u001b[0m\u001b[1;33m,\u001b[0m\u001b[0minput\u001b[0m\u001b[1;33m(\u001b[0m\u001b[1;33m)\u001b[0m\u001b[1;33m.\u001b[0m\u001b[0msplit\u001b[0m\u001b[1;33m(\u001b[0m\u001b[1;33m)\u001b[0m\u001b[1;33m)\u001b[0m\u001b[1;33m\u001b[0m\u001b[1;33m\u001b[0m\u001b[0m\n\u001b[1;32m---> 19\u001b[1;33m \u001b[0ma\u001b[0m \u001b[1;33m=\u001b[0m \u001b[0mlist\u001b[0m\u001b[1;33m(\u001b[0m\u001b[0mr\u001b[0m\u001b[1;33m,\u001b[0m \u001b[0mg\u001b[0m \u001b[1;33m,\u001b[0m \u001b[0mb\u001b[0m\u001b[1;33m)\u001b[0m\u001b[1;33m\u001b[0m\u001b[1;33m\u001b[0m\u001b[0m\n\u001b[0m\u001b[0;32m     20\u001b[0m \u001b[0mcombination\u001b[0m\u001b[1;33m(\u001b[0m\u001b[0ma\u001b[0m\u001b[1;33m)\u001b[0m\u001b[1;33m\u001b[0m\u001b[1;33m\u001b[0m\u001b[0m\n",
      "\u001b[1;31mTypeError\u001b[0m: list expected at most 1 argument, got 3"
     ]
    }
   ],
   "source": [
    "def combination(arr, r):\n",
    "    # 1.\n",
    "    arr = sorted(arr)\n",
    "\n",
    "    # 2.\n",
    "    def generate(chosen):\n",
    "        if len(chosen) == r:\n",
    "            print(chosen)\n",
    "            return\n",
    "\n",
    "    \t# 3.\n",
    "        start = arr.index(chosen[-1]) + 1 if chosen else 0\n",
    "        for nxt in range(start, len(arr)):\n",
    "            chosen.append(arr[nxt])\n",
    "            generate(chosen)\n",
    "            chosen.pop()\n",
    "    generate([])\n",
    "r, g, b = map(int,input().split())\n",
    "combination(a)"
   ]
  },
  {
   "cell_type": "code",
   "execution_count": 26,
   "metadata": {},
   "outputs": [
    {
     "data": {
      "text/plain": [
       "[(0, 0, 0),\n",
       " (0, 0, 1),\n",
       " (0, 1, 0),\n",
       " (0, 1, 1),\n",
       " (1, 0, 0),\n",
       " (1, 0, 1),\n",
       " (1, 1, 0),\n",
       " (1, 1, 1)]"
      ]
     },
     "execution_count": 26,
     "metadata": {},
     "output_type": "execute_result"
    }
   ],
   "source": [
    "a"
   ]
  },
  {
   "cell_type": "code",
   "execution_count": null,
   "metadata": {},
   "outputs": [],
   "source": []
  },
  {
   "cell_type": "code",
   "execution_count": 7,
   "metadata": {},
   "outputs": [
    {
     "name": "stdout",
     "output_type": "stream",
     "text": [
      "44100 16 2 10\n",
      "1.7 MB\n"
     ]
    }
   ],
   "source": [
    "# 6084\n",
    "h, b, c, s = map(int, input().split())\n",
    "print(round(h * b * c * s / 8 / 1024 / 1024,1),\"MB\",sep = ' ')"
   ]
  },
  {
   "cell_type": "code",
   "execution_count": 11,
   "metadata": {},
   "outputs": [
    {
     "name": "stdout",
     "output_type": "stream",
     "text": [
      "100 100 4\n",
      "0.00 MB\n"
     ]
    }
   ],
   "source": [
    "# 6085\n",
    "w, h, b = map(int, input().split())\n",
    "print('%.2f'%round(w*h*b/8/1024/1024,2), 'MB', sep = ' ')"
   ]
  },
  {
   "cell_type": "code",
   "execution_count": 14,
   "metadata": {},
   "outputs": [
    {
     "name": "stdout",
     "output_type": "stream",
     "text": [
      "57\n",
      "66\n"
     ]
    }
   ],
   "source": [
    "# 6086\n",
    "s = 0\n",
    "data = 0\n",
    "n = int(input())\n",
    "while True:\n",
    "    s += 1\n",
    "    data += s\n",
    "    if data >= n:\n",
    "        print(data)\n",
    "        break"
   ]
  },
  {
   "cell_type": "code",
   "execution_count": 12,
   "metadata": {},
   "outputs": [
    {
     "name": "stderr",
     "output_type": "stream",
     "text": [
      "ERROR: Could not find a version that satisfies the requirement itertools\n",
      "ERROR: No matching distribution found for itertools\n"
     ]
    }
   ],
   "source": [
    "!pip install itertools\n",
    "from itertools import combinations\n",
    "from itertools import product"
   ]
  },
  {
   "cell_type": "code",
   "execution_count": 15,
   "metadata": {},
   "outputs": [],
   "source": [
    "import itertools"
   ]
  },
  {
   "cell_type": "code",
   "execution_count": 13,
   "metadata": {},
   "outputs": [],
   "source": [
    "from itertools import product"
   ]
  },
  {
   "cell_type": "code",
   "execution_count": 67,
   "metadata": {},
   "outputs": [
    {
     "name": "stdout",
     "output_type": "stream",
     "text": [
      "0 0 0\n",
      "0 0 1\n",
      "0 1 0\n",
      "0 1 1\n",
      "1 0 0\n",
      "1 0 1\n",
      "1 1 0\n",
      "1 1 1\n",
      "8\n"
     ]
    }
   ],
   "source": [
    "chars = '01'\n",
    "count = 0\n",
    "to_attempt = product(chars, repeat = 3)\n",
    "for attempt in to_attempt:\n",
    "    brute = ' '.join(attempt)\n",
    "    print(brute)\n",
    "    count += 1\n",
    "print(count)"
   ]
  },
  {
   "cell_type": "code",
   "execution_count": 68,
   "metadata": {},
   "outputs": [
    {
     "name": "stdout",
     "output_type": "stream",
     "text": [
      "2 2 2\n",
      "0 0 0\n",
      "0 0 1\n",
      "0 1 0\n",
      "0 1 1\n",
      "1 0 0\n",
      "1 0 1\n",
      "1 1 0\n",
      "1 1 1\n",
      "8\n"
     ]
    }
   ],
   "source": [
    "# 6083\n",
    "r, g, b = map(int, input().split())\n",
    "for i in range(r):\n",
    "    for j in range(g):\n",
    "        for k in range(b):\n",
    "            print(i, j, k , sep= ' ')\n",
    "print(r*g*b)"
   ]
  },
  {
   "cell_type": "code",
   "execution_count": 69,
   "metadata": {},
   "outputs": [
    {
     "name": "stdout",
     "output_type": "stream",
     "text": [
      "10\n",
      "1 2 4 5 7 8 10 "
     ]
    }
   ],
   "source": [
    "# 6087\n",
    "n = int(input())\n",
    "for i in range(1,n+1):\n",
    "    if i % 3 == 0:\n",
    "        continue\n",
    "    else :\n",
    "        print(i , end= ' ')"
   ]
  },
  {
   "cell_type": "code",
   "execution_count": 71,
   "metadata": {},
   "outputs": [
    {
     "name": "stdout",
     "output_type": "stream",
     "text": [
      "1 3 5\n",
      "13\n"
     ]
    }
   ],
   "source": [
    "# 6088\n",
    "a, d, n = map(int,input().split())\n",
    "print(a + d * (n-1))"
   ]
  },
  {
   "cell_type": "code",
   "execution_count": 73,
   "metadata": {},
   "outputs": [
    {
     "name": "stdout",
     "output_type": "stream",
     "text": [
      "2 3 7\n",
      "1458\n"
     ]
    }
   ],
   "source": [
    "# 6089\n",
    "a, d, r = map(int,input().split())\n",
    "print(a*d**(r-1))"
   ]
  },
  {
   "cell_type": "code",
   "execution_count": 4,
   "metadata": {},
   "outputs": [
    {
     "name": "stdout",
     "output_type": "stream",
     "text": [
      "1 -2 1 8\n",
      "-85\n"
     ]
    }
   ],
   "source": [
    "# 6090\n",
    "\n",
    "a, m, d, n = map(int, input().split())\n",
    "result = 0\n",
    "for i in range(n):\n",
    "    if i == 0 :\n",
    "        result += a\n",
    "    else :\n",
    "        result = result*m + d\n",
    "print(result)"
   ]
  },
  {
   "cell_type": "code",
   "execution_count": 38,
   "metadata": {},
   "outputs": [
    {
     "name": "stdout",
     "output_type": "stream",
     "text": [
      "3 7 9\n",
      "63\n"
     ]
    }
   ],
   "source": [
    "# 6091\n",
    "a, b, c = map(int,input().split())\n",
    "i = 1\n",
    "while True:\n",
    "    if i % a == 0 and i % b == 0 and i % c == 0 :\n",
    "        print(i)\n",
    "        break\n",
    "    else :\n",
    "        i += 1"
   ]
  },
  {
   "cell_type": "code",
   "execution_count": 42,
   "metadata": {},
   "outputs": [
    {
     "name": "stdout",
     "output_type": "stream",
     "text": [
      "10 \n",
      "1 2 3 4 6 1 3 5 2 4 5 1 1\n"
     ]
    }
   ],
   "source": [
    "# 6092\n",
    "n = int(input())\n",
    "a = list(map(int,input().split()))\n"
   ]
  },
  {
   "cell_type": "code",
   "execution_count": 50,
   "metadata": {},
   "outputs": [
    {
     "name": "stdout",
     "output_type": "stream",
     "text": [
      "10\n",
      "1 3 2 2 5 6 7 4 5 9\n",
      "1 2 1 1 2 1 1 0 1 0 0 0 0 0 0 0 0 0 0 0 0 0 0 "
     ]
    }
   ],
   "source": [
    "# 6092\n",
    "n = int(input())\n",
    "a = list(map(int,input().split()))\n",
    "\n",
    "d = []\n",
    "for i in range(24):\n",
    "    d.append(0)\n",
    "for i in range(n):\n",
    "    d[a[i]] += 1\n",
    "for i in range(1,24):\n",
    "    print(d[i],end = ' ')"
   ]
  },
  {
   "cell_type": "code",
   "execution_count": 55,
   "metadata": {},
   "outputs": [
    {
     "name": "stdout",
     "output_type": "stream",
     "text": [
      "10\n",
      "10 4 2 3 6 6 7 9 8 5\n",
      "5 8 9 7 6 6 3 2 4 10 "
     ]
    }
   ],
   "source": [
    "# 6093\n",
    "n = int(input())\n",
    "a = list(input().split())\n",
    "for i in range(1, n+1):\n",
    "    print(a[-i], end = ' ')"
   ]
  },
  {
   "cell_type": "code",
   "execution_count": 56,
   "metadata": {},
   "outputs": [
    {
     "name": "stdout",
     "output_type": "stream",
     "text": [
      "10\n",
      "10 4 2 3 6 6 7 9 8 5\n",
      "2\n"
     ]
    }
   ],
   "source": [
    "# 6094\n",
    "n = int(input())\n",
    "a = list(map(int,input().split()))\n",
    "print(min(a))\n"
   ]
  },
  {
   "cell_type": "code",
   "execution_count": 71,
   "metadata": {},
   "outputs": [
    {
     "name": "stdout",
     "output_type": "stream",
     "text": [
      "5\n",
      "1 1\n",
      "2 2\n",
      "3 3\n",
      "4 4\n",
      "5 5\n",
      "1 0 0 0 0 0 0 0 0 0 0 0 0 0 0 0 0 0 0 \n",
      "0 1 0 0 0 0 0 0 0 0 0 0 0 0 0 0 0 0 0 \n",
      "0 0 1 0 0 0 0 0 0 0 0 0 0 0 0 0 0 0 0 \n",
      "0 0 0 1 0 0 0 0 0 0 0 0 0 0 0 0 0 0 0 \n",
      "0 0 0 0 1 0 0 0 0 0 0 0 0 0 0 0 0 0 0 \n",
      "0 0 0 0 0 0 0 0 0 0 0 0 0 0 0 0 0 0 0 \n",
      "0 0 0 0 0 0 0 0 0 0 0 0 0 0 0 0 0 0 0 \n",
      "0 0 0 0 0 0 0 0 0 0 0 0 0 0 0 0 0 0 0 \n",
      "0 0 0 0 0 0 0 0 0 0 0 0 0 0 0 0 0 0 0 \n",
      "0 0 0 0 0 0 0 0 0 0 0 0 0 0 0 0 0 0 0 \n",
      "0 0 0 0 0 0 0 0 0 0 0 0 0 0 0 0 0 0 0 \n",
      "0 0 0 0 0 0 0 0 0 0 0 0 0 0 0 0 0 0 0 \n",
      "0 0 0 0 0 0 0 0 0 0 0 0 0 0 0 0 0 0 0 \n",
      "0 0 0 0 0 0 0 0 0 0 0 0 0 0 0 0 0 0 0 \n",
      "0 0 0 0 0 0 0 0 0 0 0 0 0 0 0 0 0 0 0 \n",
      "0 0 0 0 0 0 0 0 0 0 0 0 0 0 0 0 0 0 0 \n",
      "0 0 0 0 0 0 0 0 0 0 0 0 0 0 0 0 0 0 0 \n",
      "0 0 0 0 0 0 0 0 0 0 0 0 0 0 0 0 0 0 0 \n",
      "0 0 0 0 0 0 0 0 0 0 0 0 0 0 0 0 0 0 0 \n"
     ]
    }
   ],
   "source": [
    "# 6095\n",
    "d = []\n",
    "for i in range(20):\n",
    "    d.append([])\n",
    "    for j in range(20):\n",
    "        d[i].append(0) # 빈 list 생성\n",
    "\n",
    "n = int(input())\n",
    "for i in range(n):\n",
    "    x, y = input().split()\n",
    "    d[int(x)][int(y)] = 1\n",
    "    \n",
    "for i in range(1,20):\n",
    "    for j in range(1,20):\n",
    "        print(d[i][j], end = ' ')\n",
    "    print()"
   ]
  },
  {
   "cell_type": "markdown",
   "metadata": {},
   "source": [
    "#### 쉬워보이지만 한 번에 맞히기 어려운 문제"
   ]
  },
  {
   "cell_type": "code",
   "execution_count": 8,
   "metadata": {},
   "outputs": [
    {
     "name": "stdout",
     "output_type": "stream",
     "text": [
      "10 10 10 \n",
      "-50.00+86.60i\n",
      "-50.00-86.60i\n"
     ]
    }
   ],
   "source": [
    "from cmath import sqrt\n",
    "a, b, c = map(int,input().split())\n",
    "real = '%.2f'%((-b + sqrt(b**2 - 4 * a * c))/2*a).real\n",
    "imag = '%.2f'%((-b + sqrt(b**2 - 4 * a * c))/2*a).imag\n",
    "x = real + '+' + imag + 'i'\n",
    "y = real + '-' + imag + 'i'\n",
    "print(x,y, sep = '\\n')"
   ]
  },
  {
   "cell_type": "code",
   "execution_count": 9,
   "metadata": {},
   "outputs": [
    {
     "data": {
      "text/plain": [
       "3"
      ]
     },
     "execution_count": 9,
     "metadata": {},
     "output_type": "execute_result"
    }
   ],
   "source": [
    "a = int(input())\n",
    "b = 1\n",
    "count = 0\n",
    "c = a**2 + b**2\n",
    "\n",
    "if sqrt(c) == int :\n",
    "    count += 1"
   ]
  },
  {
   "cell_type": "code",
   "execution_count": null,
   "metadata": {},
   "outputs": [],
   "source": []
  }
 ],
 "metadata": {
  "kernelspec": {
   "display_name": "Python 3",
   "language": "python",
   "name": "python3"
  },
  "language_info": {
   "codemirror_mode": {
    "name": "ipython",
    "version": 3
   },
   "file_extension": ".py",
   "mimetype": "text/x-python",
   "name": "python",
   "nbconvert_exporter": "python",
   "pygments_lexer": "ipython3",
   "version": "3.8.5"
  }
 },
 "nbformat": 4,
 "nbformat_minor": 4
}
