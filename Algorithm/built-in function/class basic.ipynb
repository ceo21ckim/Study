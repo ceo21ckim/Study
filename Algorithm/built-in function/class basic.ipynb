{
 "cells": [
  {
   "cell_type": "code",
   "execution_count": 1,
   "source": [
    "def myfunction(m):\r\n",
    "    n = 1\r\n",
    "    for i in range(1, m):\r\n",
    "        n *= i\r\n",
    "    print(n)"
   ],
   "outputs": [],
   "metadata": {}
  },
  {
   "cell_type": "code",
   "execution_count": 2,
   "source": [
    "myfunction(10)\r\n",
    "myfunction(20)\r\n",
    "myfunction(30)"
   ],
   "outputs": [
    {
     "output_type": "stream",
     "name": "stdout",
     "text": [
      "362880\n",
      "121645100408832000\n",
      "8841761993739701954543616000000\n"
     ]
    }
   ],
   "metadata": {}
  },
  {
   "cell_type": "markdown",
   "source": [
    "함수의 이름을 설정할 때에는 협업때 도움되도록 누구나 이해할 수 있도록 만드는 것이 중요하다."
   ],
   "metadata": {}
  },
  {
   "cell_type": "code",
   "execution_count": 3,
   "source": [
    "def multiplyupto(m):\r\n",
    "    n = 1\r\n",
    "    for i in range(1,m):\r\n",
    "        n *= i\r\n",
    "    return n"
   ],
   "outputs": [],
   "metadata": {}
  },
  {
   "cell_type": "code",
   "execution_count": 4,
   "source": [
    "a = multiplyupto(10)"
   ],
   "outputs": [],
   "metadata": {}
  },
  {
   "cell_type": "code",
   "execution_count": 5,
   "source": [
    "a"
   ],
   "outputs": [
    {
     "output_type": "execute_result",
     "data": {
      "text/plain": [
       "362880"
      ]
     },
     "metadata": {},
     "execution_count": 5
    }
   ],
   "metadata": {}
  },
  {
   "cell_type": "markdown",
   "source": [
    "재귀함수"
   ],
   "metadata": {}
  },
  {
   "cell_type": "code",
   "execution_count": 7,
   "source": [
    "def factorial(n):\r\n",
    "    if n == 1 : return 1\r\n",
    "    return n * factorial(n-1)"
   ],
   "outputs": [],
   "metadata": {}
  },
  {
   "cell_type": "code",
   "execution_count": 10,
   "source": [
    "# 알고리즘 공부할 때 많이 사용된다. \r\n",
    "# 모든 곳을 방문하는? 그런 가짓수를 할 때..\r\n",
    "def explore(path):\r\n",
    "    if path_is_terminal:\r\n",
    "        print('this is terminal')\r\n",
    "        return this_is_terminal\r\n",
    "    for next_path in path:\r\n",
    "        return explore(next_path)"
   ],
   "outputs": [],
   "metadata": {}
  },
  {
   "cell_type": "code",
   "execution_count": 11,
   "source": [
    "l = ['A6', 'B5', 'C4', 'D3']\r\n",
    "l.sort()\r\n",
    "l"
   ],
   "outputs": [],
   "metadata": {}
  },
  {
   "cell_type": "markdown",
   "source": [
    "default 는 알파벳 기준으로 한다.\r\n",
    "sortting하는 기능을 바꾸고싶다면? "
   ],
   "metadata": {}
  },
  {
   "cell_type": "code",
   "execution_count": 14,
   "source": [
    "l.sort(key = lambda x: x[1])\r\n",
    "l"
   ],
   "outputs": [],
   "metadata": {}
  },
  {
   "cell_type": "code",
   "execution_count": 21,
   "source": [
    "def takeTail(s):\r\n",
    "    a = int(s[-1])\r\n",
    "    return a\r\n",
    "takeTail(l[0])"
   ],
   "outputs": [
    {
     "output_type": "execute_result",
     "data": {
      "text/plain": [
       "3"
      ]
     },
     "metadata": {},
     "execution_count": 21
    }
   ],
   "metadata": {}
  },
  {
   "cell_type": "code",
   "execution_count": 23,
   "source": [
    "l.sort(key = takeTail)\r\n",
    "l"
   ],
   "outputs": [
    {
     "output_type": "execute_result",
     "data": {
      "text/plain": [
       "['D3', 'C4', 'B5', 'A6']"
      ]
     },
     "metadata": {},
     "execution_count": 23
    }
   ],
   "metadata": {}
  },
  {
   "cell_type": "code",
   "execution_count": 26,
   "source": [
    "l = ['A_123141', 'B_774', 'C_38353', 'D_1231']\r\n",
    "def takeTail(s):\r\n",
    "    prefix, suffix = s.split('_')\r\n",
    "    suffix = int(suffix)\r\n",
    "    return suffix\r\n",
    "l.sort(key = takeTail)"
   ],
   "outputs": [],
   "metadata": {}
  },
  {
   "cell_type": "markdown",
   "source": [
    "만약 split을 할 때 split을 제대로 못하는 경우에는 어떻게 처리할까?"
   ],
   "metadata": {}
  },
  {
   "cell_type": "code",
   "execution_count": 34,
   "source": [
    "l = ['A__123141', 'B____774', 'C___38353', 'D_1231']\r\n",
    "def takeTail(s):\r\n",
    "    prefix, suffix = s.split('_', maxsplit=1)\r\n",
    "    suffix = suffix.strip('_')\r\n",
    "    suffix = int(suffix)\r\n",
    "    return suffix\r\n",
    "l.sort(key = takeTail)\r\n",
    "l"
   ],
   "outputs": [
    {
     "output_type": "execute_result",
     "data": {
      "text/plain": [
       "['B____774', 'D_1231', 'C___38353', 'A__123141']"
      ]
     },
     "metadata": {},
     "execution_count": 34
    }
   ],
   "metadata": {}
  },
  {
   "cell_type": "code",
   "execution_count": 42,
   "source": [
    "_, suffix = l[0].split('_', maxsplit=1)\r\n",
    "suffix.strip('_')"
   ],
   "outputs": [
    {
     "output_type": "execute_result",
     "data": {
      "text/plain": [
       "'774'"
      ]
     },
     "metadata": {},
     "execution_count": 42
    }
   ],
   "metadata": {}
  },
  {
   "cell_type": "markdown",
   "source": [
    "여태 만든 함수들을 리스트에 저장해서 필요할 때 불러서 사용하는 것도 가능하다."
   ],
   "metadata": {}
  },
  {
   "cell_type": "code",
   "execution_count": 47,
   "source": [
    "# rsplit() : 뒤에서부터 쪼갠다. \r\n",
    "'fadf'.rsplit('f', maxsplit=1)"
   ],
   "outputs": [
    {
     "output_type": "execute_result",
     "data": {
      "text/plain": [
       "['fad', '']"
      ]
     },
     "metadata": {},
     "execution_count": 47
    }
   ],
   "metadata": {}
  },
  {
   "cell_type": "code",
   "execution_count": 50,
   "source": [
    "l.sort(key = lambda s: int(s.rsplit('_', maxsplit = 1)[-1]))"
   ],
   "outputs": [],
   "metadata": {}
  },
  {
   "cell_type": "code",
   "execution_count": 51,
   "source": [
    "def takeTail(s):\r\n",
    "    return int(s.rsplit('_', 1)[-1])"
   ],
   "outputs": [
    {
     "output_type": "execute_result",
     "data": {
      "text/plain": [
       "['B____774', 'D_1231', 'C___38353', 'A__123141']"
      ]
     },
     "metadata": {},
     "execution_count": 51
    }
   ],
   "metadata": {}
  },
  {
   "cell_type": "code",
   "execution_count": 56,
   "source": [
    "print(1.5.as_integer_ratio()) # 3 / 2 \r\n",
    "print(0.5.as_integer_ratio())"
   ],
   "outputs": [
    {
     "output_type": "stream",
     "name": "stdout",
     "text": [
      "(3, 2)\n",
      "(1, 2)\n"
     ]
    }
   ],
   "metadata": {}
  },
  {
   "cell_type": "code",
   "execution_count": 60,
   "source": [
    "a, b = 1.2.as_integer_ratio()\r\n",
    "a / b"
   ],
   "outputs": [
    {
     "output_type": "execute_result",
     "data": {
      "text/plain": [
       "1.2"
      ]
     },
     "metadata": {},
     "execution_count": 60
    }
   ],
   "metadata": {}
  },
  {
   "cell_type": "code",
   "execution_count": 62,
   "source": [
    "a = float(1)\r\n",
    "a"
   ],
   "outputs": [
    {
     "output_type": "execute_result",
     "data": {
      "text/plain": [
       "1.0"
      ]
     },
     "metadata": {},
     "execution_count": 62
    }
   ],
   "metadata": {}
  },
  {
   "cell_type": "code",
   "execution_count": 65,
   "source": [
    "# make instance of MyClass\r\n",
    "class MyClass:\r\n",
    "    pass\r\n",
    "\r\n",
    "myClass = MyClass()"
   ],
   "outputs": [],
   "metadata": {}
  },
  {
   "cell_type": "code",
   "execution_count": 70,
   "source": [
    "# __init__은 class가 처음 시작할 때 어떤 것을 초기값으로 가지고 할지에 대한 것을 설정해주는 것이다. \r\n",
    "class Cup:\r\n",
    "    def __init__(self, name, title = '_'): # 꼭 넣어줘야한다. \r\n",
    "        print('Initalizing the Cup', name, 'title = ', title)\r\n",
    "    pass\r\n",
    "\r\n",
    "a = Cup('1st cup', 'xx')\r\n",
    "b = Cup('2st cup')"
   ],
   "outputs": [
    {
     "output_type": "stream",
     "name": "stdout",
     "text": [
      "Initalizing the Cup 1st cup title =  xx\n",
      "Initalizing the Cup 2st cup title =  _\n"
     ]
    }
   ],
   "metadata": {}
  },
  {
   "cell_type": "code",
   "execution_count": 85,
   "source": [
    "class Cup:\r\n",
    "    def __init__(self, name, title = '_'): # 꼭 넣어줘야한다. \r\n",
    "        self.name = name\r\n",
    "        self.title = title\r\n",
    "        self.amount = 0.0\r\n",
    "        print('Initalizing the Cup', name, 'title = ', title)\r\n",
    "\r\n",
    "        super(Cup, self).__init__()\r\n",
    "        \r\n",
    "    def fill(self, amount):\r\n",
    "        print(self.name, self.title, 'filled=', amount)\r\n",
    "        self.isEverFilled = True\r\n",
    "\r\n",
    "a = Cup('1st cup', 'xx')\r\n",
    "a.fill(10)"
   ],
   "outputs": [
    {
     "output_type": "stream",
     "name": "stdout",
     "text": [
      "Initalizing the Cup 1st cup title =  xx\n",
      "1st cup xx filled= 10\n"
     ]
    }
   ],
   "metadata": {}
  },
  {
   "cell_type": "code",
   "execution_count": 76,
   "source": [
    "dir(a)"
   ],
   "outputs": [
    {
     "output_type": "execute_result",
     "data": {
      "text/plain": [
       "['__class__',\n",
       " '__delattr__',\n",
       " '__dict__',\n",
       " '__dir__',\n",
       " '__doc__',\n",
       " '__eq__',\n",
       " '__format__',\n",
       " '__ge__',\n",
       " '__getattribute__',\n",
       " '__gt__',\n",
       " '__hash__',\n",
       " '__init__',\n",
       " '__init_subclass__',\n",
       " '__le__',\n",
       " '__lt__',\n",
       " '__module__',\n",
       " '__ne__',\n",
       " '__new__',\n",
       " '__reduce__',\n",
       " '__reduce_ex__',\n",
       " '__repr__',\n",
       " '__setattr__',\n",
       " '__sizeof__',\n",
       " '__str__',\n",
       " '__subclasshook__',\n",
       " '__weakref__',\n",
       " 'fill',\n",
       " 'name',\n",
       " 'title']"
      ]
     },
     "metadata": {},
     "execution_count": 76
    }
   ],
   "metadata": {}
  },
  {
   "cell_type": "code",
   "execution_count": 87,
   "source": [
    "# 이런식으로 넣을 수 있다. \r\n",
    "a.isEverFilled = ('fdsaf', 'fadsfas')"
   ],
   "outputs": [],
   "metadata": {}
  },
  {
   "cell_type": "code",
   "execution_count": 88,
   "source": [
    "a.isEverFilled"
   ],
   "outputs": [
    {
     "output_type": "execute_result",
     "data": {
      "text/plain": [
       "('fdsaf', 'fadsfas')"
      ]
     },
     "metadata": {},
     "execution_count": 88
    }
   ],
   "metadata": {}
  },
  {
   "cell_type": "code",
   "execution_count": 90,
   "source": [
    "class UserInfo:\r\n",
    "    def __init__(self, familyName, name, birthdate, year):\r\n",
    "        self.familyName = familyName\r\n",
    "        self.name = name \r\n",
    "        \r\n",
    "\r\n",
    "    def getFullName(self, isNameFirst=False):\r\n",
    "        if isNameFirst: return self.name + ' ' + self.familyName\r\n",
    "        return self.familyName.upper() + ', ' + self.name\r\n",
    "\r\n",
    "ui = UserInfo('Kim', 'Ara', '0101', '1999')\r\n"
   ],
   "outputs": [],
   "metadata": {}
  },
  {
   "cell_type": "markdown",
   "source": [
    "만약 Class 두개를 합치고 싶을때에는 해당 코드를 붙혀서 넣는 그런것이 아니라 클래스를 상속해서 사용하는것이 좋다"
   ],
   "metadata": {}
  },
  {
   "cell_type": "code",
   "execution_count": 93,
   "source": [
    "class SpecialuserInfo(UserInfo):\r\n",
    "    def special(self):\r\n",
    "        pass\r\n",
    "\r\n",
    "sui = SpecialuserInfo('S', 'P', 'dkfas', '2283')"
   ],
   "outputs": [],
   "metadata": {}
  },
  {
   "cell_type": "code",
   "execution_count": 98,
   "source": [
    "sui.special()"
   ],
   "outputs": [],
   "metadata": {}
  },
  {
   "cell_type": "code",
   "execution_count": 99,
   "source": [
    "# 전부 위 Class에 있는 것을 확인할 수 있다. \r\n",
    "dir(sui)"
   ],
   "outputs": [
    {
     "output_type": "execute_result",
     "data": {
      "text/plain": [
       "['__class__',\n",
       " '__delattr__',\n",
       " '__dict__',\n",
       " '__dir__',\n",
       " '__doc__',\n",
       " '__eq__',\n",
       " '__format__',\n",
       " '__ge__',\n",
       " '__getattribute__',\n",
       " '__gt__',\n",
       " '__hash__',\n",
       " '__init__',\n",
       " '__init_subclass__',\n",
       " '__le__',\n",
       " '__lt__',\n",
       " '__module__',\n",
       " '__ne__',\n",
       " '__new__',\n",
       " '__reduce__',\n",
       " '__reduce_ex__',\n",
       " '__repr__',\n",
       " '__setattr__',\n",
       " '__sizeof__',\n",
       " '__str__',\n",
       " '__subclasshook__',\n",
       " '__weakref__',\n",
       " 'familyName',\n",
       " 'getFullName',\n",
       " 'name',\n",
       " 'special']"
      ]
     },
     "metadata": {},
     "execution_count": 99
    }
   ],
   "metadata": {}
  },
  {
   "cell_type": "code",
   "execution_count": null,
   "source": [],
   "outputs": [],
   "metadata": {}
  }
 ],
 "metadata": {
  "orig_nbformat": 4,
  "language_info": {
   "name": "python",
   "version": "3.9.2",
   "mimetype": "text/x-python",
   "codemirror_mode": {
    "name": "ipython",
    "version": 3
   },
   "pygments_lexer": "ipython3",
   "nbconvert_exporter": "python",
   "file_extension": ".py"
  },
  "kernelspec": {
   "name": "python3",
   "display_name": "Python 3.9.2 64-bit ('geo': conda)"
  },
  "interpreter": {
   "hash": "9a957a1fea41707a244f264f295721eb09ec21d5be06b513cdb5f37b29d60cc5"
  }
 },
 "nbformat": 4,
 "nbformat_minor": 2
}