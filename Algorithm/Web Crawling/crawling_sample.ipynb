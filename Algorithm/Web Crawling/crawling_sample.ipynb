{
 "cells": [
  {
   "cell_type": "code",
   "execution_count": null,
   "metadata": {},
   "outputs": [],
   "source": [
    "# !pip install selenium"
   ]
  },
  {
   "cell_type": "code",
   "execution_count": 4,
   "metadata": {},
   "outputs": [],
   "source": [
    "import os, sys, glob\n",
    "import warnings\n",
    "from selenium import webdriver \n",
    "from bs4 import BeautifulSoup\n",
    "import requests, time \n",
    "from tqdm import tqdm \n",
    "import pandas as pd \n",
    "\n",
    "warnings.filterwarnings('ignore')"
   ]
  },
  {
   "cell_type": "code",
   "execution_count": 5,
   "metadata": {},
   "outputs": [
    {
     "name": "stderr",
     "output_type": "stream",
     "text": [
      "  0%|          | 0/19 [00:48<?, ?it/s]\n"
     ]
    }
   ],
   "source": [
    "driver_path = os.path.join(os.getcwd(), 'chromedriver.exe')\n",
    "headers = {'user-agent' : 'Mozilla/5.0 (Windows NT 10.0; Win64; x64) AppleWebKit/537.36 (KHTML, like Gecko) Chrome/100.0.4896.127 Safari/537.36'}\n",
    "keywords = 'software'\n",
    "\n",
    "titles, abstracts = [], []\n",
    "try:\n",
    "    for i in tqdm(range(2, 21)):\n",
    "        url = f'https://patft.uspto.gov/netacgi/nph-Parser?Sect1=PTO2&Sect2=HITOFF&p={i}&u=%2Fnetahtml%2FPTO%2Fsearch-bool.html&r=0&f=S&l=50&TERM1={keywords}&FIELD1=&co1=AND&TERM2=&FIELD2=&d=PTXT'\n",
    "        driver = webdriver.Chrome(driver_path)\n",
    "        driver.get(url)\n",
    "        for j in range(2, 51):\n",
    "            driver.find_element_by_css_selector(f'body > table > tbody > tr:nth-child({j}) > td:nth-child(4) > a').click()\n",
    "            time.sleep(1)\n",
    "            \n",
    "            # get title\n",
    "            title = driver.find_element_by_css_selector(f'body > font').text\n",
    "            titles.append(title)\n",
    "            \n",
    "            # get abstract\n",
    "            abst = driver.find_element_by_css_selector(f'body > center:nth-child(10)').text\n",
    "            if abst == 'Abstract':\n",
    "                abstract = driver.find_element_by_css_selector(f'body > p:nth-child(11)').text\n",
    "                abstracts.append(abstract)\n",
    "                \n",
    "            elif len(titles) != len(abstracts):\n",
    "                titles.pop(-1)\n",
    "                \n",
    "            else: pass\n",
    "            \n",
    "            driver.back()\n",
    "            time.sleep(2)\n",
    "    driver.quit()\n",
    "    \n",
    "except:\n",
    "    driver.quit()\n",
    "    \n",
    "finally:       \n",
    "    result = pd.DataFrame({'title': titles, 'abstract': abstracts})\n",
    "    save_path = os.path.join(os.path.dirname(driver_path), 'result.csv')\n",
    "    result.to_csv(save_path, encoding='utf-8-sig')"
   ]
  },
  {
   "cell_type": "code",
   "execution_count": 7,
   "metadata": {},
   "outputs": [
    {
     "data": {
      "text/html": [
       "<div>\n",
       "<style scoped>\n",
       "    .dataframe tbody tr th:only-of-type {\n",
       "        vertical-align: middle;\n",
       "    }\n",
       "\n",
       "    .dataframe tbody tr th {\n",
       "        vertical-align: top;\n",
       "    }\n",
       "\n",
       "    .dataframe thead th {\n",
       "        text-align: right;\n",
       "    }\n",
       "</style>\n",
       "<table border=\"1\" class=\"dataframe\">\n",
       "  <thead>\n",
       "    <tr style=\"text-align: right;\">\n",
       "      <th></th>\n",
       "      <th>title</th>\n",
       "      <th>abstract</th>\n",
       "    </tr>\n",
       "  </thead>\n",
       "  <tbody>\n",
       "    <tr>\n",
       "      <th>0</th>\n",
       "      <td>Telecommunications addressing system and method</td>\n",
       "      <td>A telecommunications addressing system/method ...</td>\n",
       "    </tr>\n",
       "    <tr>\n",
       "      <th>1</th>\n",
       "      <td>System and method for an adaptive TCP SYN cook...</td>\n",
       "      <td>Provided is a method and system for TCP SYN co...</td>\n",
       "    </tr>\n",
       "    <tr>\n",
       "      <th>2</th>\n",
       "      <td>System and method for scaling up an image of a...</td>\n",
       "      <td>Method and arrangement for scale-up of an imag...</td>\n",
       "    </tr>\n",
       "    <tr>\n",
       "      <th>3</th>\n",
       "      <td>Display screen or portion thereof with a trans...</td>\n",
       "      <td>Current U.S. Class: D14/485\\nCurrent Internati...</td>\n",
       "    </tr>\n",
       "    <tr>\n",
       "      <th>4</th>\n",
       "      <td>Component mounting machine and retry method fo...</td>\n",
       "      <td>A component mounting machine including a compo...</td>\n",
       "    </tr>\n",
       "    <tr>\n",
       "      <th>...</th>\n",
       "      <td>...</td>\n",
       "      <td>...</td>\n",
       "    </tr>\n",
       "    <tr>\n",
       "      <th>995</th>\n",
       "      <td>System and method for extended spectrum ultras...</td>\n",
       "      <td>A system and method for extended spectrum ultr...</td>\n",
       "    </tr>\n",
       "    <tr>\n",
       "      <th>996</th>\n",
       "      <td>Surgical training systems and methods</td>\n",
       "      <td>Systems and methods for surgical training are ...</td>\n",
       "    </tr>\n",
       "    <tr>\n",
       "      <th>997</th>\n",
       "      <td>Nutrition management and kitchen appliance</td>\n",
       "      <td>A nutrition management system including a pati...</td>\n",
       "    </tr>\n",
       "    <tr>\n",
       "      <th>998</th>\n",
       "      <td>Method and system for automatically providing ...</td>\n",
       "      <td>A system and method for providing graphical us...</td>\n",
       "    </tr>\n",
       "    <tr>\n",
       "      <th>999</th>\n",
       "      <td>Verbal expression system</td>\n",
       "      <td>Systems and methods for verbal expression are ...</td>\n",
       "    </tr>\n",
       "  </tbody>\n",
       "</table>\n",
       "<p>1000 rows × 2 columns</p>\n",
       "</div>"
      ],
      "text/plain": [
       "                                                 title  \\\n",
       "0      Telecommunications addressing system and method   \n",
       "1    System and method for an adaptive TCP SYN cook...   \n",
       "2    System and method for scaling up an image of a...   \n",
       "3    Display screen or portion thereof with a trans...   \n",
       "4    Component mounting machine and retry method fo...   \n",
       "..                                                 ...   \n",
       "995  System and method for extended spectrum ultras...   \n",
       "996              Surgical training systems and methods   \n",
       "997         Nutrition management and kitchen appliance   \n",
       "998  Method and system for automatically providing ...   \n",
       "999                           Verbal expression system   \n",
       "\n",
       "                                              abstract  \n",
       "0    A telecommunications addressing system/method ...  \n",
       "1    Provided is a method and system for TCP SYN co...  \n",
       "2    Method and arrangement for scale-up of an imag...  \n",
       "3    Current U.S. Class: D14/485\\nCurrent Internati...  \n",
       "4    A component mounting machine including a compo...  \n",
       "..                                                 ...  \n",
       "995  A system and method for extended spectrum ultr...  \n",
       "996  Systems and methods for surgical training are ...  \n",
       "997  A nutrition management system including a pati...  \n",
       "998  A system and method for providing graphical us...  \n",
       "999  Systems and methods for verbal expression are ...  \n",
       "\n",
       "[1000 rows x 2 columns]"
      ]
     },
     "execution_count": 7,
     "metadata": {},
     "output_type": "execute_result"
    }
   ],
   "source": [
    "result"
   ]
  },
  {
   "cell_type": "code",
   "execution_count": null,
   "metadata": {},
   "outputs": [],
   "source": []
  }
 ],
 "metadata": {
  "interpreter": {
   "hash": "96cf18f209edf6220e7043c3825950920f4c7ad96ff42ffae85e8b73f5a9541f"
  },
  "kernelspec": {
   "display_name": "Python 3.9.7 ('base')",
   "language": "python",
   "name": "python3"
  },
  "language_info": {
   "codemirror_mode": {
    "name": "ipython",
    "version": 3
   },
   "file_extension": ".py",
   "mimetype": "text/x-python",
   "name": "python",
   "nbconvert_exporter": "python",
   "pygments_lexer": "ipython3",
   "version": "3.9.7"
  },
  "orig_nbformat": 4
 },
 "nbformat": 4,
 "nbformat_minor": 2
}
