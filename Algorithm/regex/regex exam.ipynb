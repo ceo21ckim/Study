{
 "cells": [
  {
   "cell_type": "code",
   "execution_count": 1,
   "source": [
    "import re"
   ],
   "outputs": [],
   "metadata": {}
  },
  {
   "cell_type": "markdown",
   "source": [
    "- 이름이 전화번호 앞에 나올 수도 있다.\r\n",
    "- 이름 뒤에는 콜론(:)이 나올 수도 있다.\r\n",
    "- 콜론 앞/뒤로는 (탭을 포함한) 공백이 다수 존재할 수도 있다.\r\n",
    "- 전화번호는 국가번호를 포함할 수도 있다.\r\n",
    "- 국가번호는 최대 3자리다.\r\n",
    "- 국가번호의 앞에는 +가 붙을수도 있다.\r\n",
    "- 전화번호 사이에 -가 들어갈 수도 있다.\r\n",
    "- 전화번호는 빈칸 없이 표현된다.\r\n",
    "- 전화번호 맨 앞과 지역번호 (또는 010)의 다음에는 괄호가 들어갈 수도 있다.\r\n",
    "- 괄호는 한쪽만 나올 수도 있다.\r\n",
    "- 지역번호 자리의 맨 처음에 나오는 0은 빠질 수도 있다. 즉, 2자리가 될 수도 있다.\r\n",
    "- 지역번호 다음 번호 그룹은 3에서 4자리 숫자이다.\r\n",
    "- 마지막은 항상 4자리 숫자이다."
   ],
   "metadata": {}
  },
  {
   "cell_type": "code",
   "execution_count": 11,
   "source": [
    "regex = r'([\\w]+\\s*:?\\s*)?\\(?\\+?([\\d]{1,3})?\\-?[0-9]{2,3}(\\)|\\-)?[0-9]{3,4}\\-?[\\d]{4}'"
   ],
   "outputs": [],
   "metadata": {}
  },
  {
   "cell_type": "code",
   "execution_count": 12,
   "source": [
    "x =\"Ki: +82-10-1234-5678\"\r\n",
    "re.sub(regex, 'REMOVED', x)"
   ],
   "outputs": [
    {
     "output_type": "execute_result",
     "data": {
      "text/plain": [
       "'REMOVED'"
      ]
     },
     "metadata": {},
     "execution_count": 12
    }
   ],
   "metadata": {}
  },
  {
   "cell_type": "code",
   "execution_count": 13,
   "source": [
    "x = \"CONTENT jiu 02)1234-5678\"\r\n",
    "re.sub(regex, 'REMOVED', x)"
   ],
   "outputs": [
    {
     "output_type": "execute_result",
     "data": {
      "text/plain": [
       "'CONTENT REMOVED'"
      ]
     },
     "metadata": {},
     "execution_count": 13
    }
   ],
   "metadata": {}
  },
  {
   "cell_type": "code",
   "execution_count": 16,
   "source": [
    "regex = r'(([a-z])[\\d]+([a-z]))'\r\n",
    "x = 'a1bc2'\r\n",
    "re.sub(regex, '', x)"
   ],
   "outputs": [
    {
     "output_type": "execute_result",
     "data": {
      "text/plain": [
       "'c2'"
      ]
     },
     "metadata": {},
     "execution_count": 16
    }
   ],
   "metadata": {}
  },
  {
   "cell_type": "markdown",
   "source": [
    "괄호로 묶는 경우 \\1\\2를 통해서 grouping 해줄 수 있다. 해당 변수를 \\1\\2형태로 그룹 1, 그룹2로 지정해주면 해당 숫자만 삭제 가능하다."
   ],
   "metadata": {}
  },
  {
   "cell_type": "code",
   "execution_count": 28,
   "source": [
    "regex = r'([a-z])[\\d]+([a-z])'\r\n",
    "x = 'a1bc2'\r\n",
    "to =  r'\\1\\2'\r\n",
    "re.sub(regex, to, x)"
   ],
   "outputs": [
    {
     "output_type": "execute_result",
     "data": {
      "text/plain": [
       "'abc2'"
      ]
     },
     "metadata": {},
     "execution_count": 28
    }
   ],
   "metadata": {}
  },
  {
   "cell_type": "code",
   "execution_count": 30,
   "source": [
    "# 문장 단위 분절\r\n",
    "import sys, re\r\n",
    "from nltk.tokenize import sent_tokenize"
   ],
   "outputs": [],
   "metadata": {}
  },
  {
   "cell_type": "code",
   "execution_count": 42,
   "source": [
    "line = '자연어처리는 인공지능의 한 줄기 입니다. 시퀀스 투 시퀀스의 등장 이후로 딥러닝을 활용한 자연어처리는 새로운 전기를 맞이하게 되었습니다. 문장을 받아 단순히 수치로 나타내던 시절을 넘어, 원하는대로 문장을 만들어낼 수 있게 된 것입니다.'\r\n",
    "\r\n",
    "if __name__ == '__main__':\r\n",
    "    if line.strip() != '':\r\n",
    "        line = re.sub('([가-힣])\\.([가-힣])',r'\\1\\2', line.strip() )\r\n",
    "\r\n",
    "        sentences = sent_tokenize(line.strip())\r\n",
    "\r\n",
    "        for s in sentences:\r\n",
    "            sys.stdout.write(s + '\\n')\r\n"
   ],
   "outputs": [
    {
     "output_type": "stream",
     "name": "stdout",
     "text": [
      "자연어처리는 인공지능의 한 줄기 입니다. 시퀀스 투 시퀀스의 등장 이후로 딥러닝을 활용한 자연어처리는 새로운 전기를 맞이하게 되었습니다. 문장을 받아 단순히 수치로 나타내던 시절을 넘어, 원하는대로 문장을 만들어낼 수 있게 된 것입니다.\n",
      "\n",
      "['자연어처리는 인공지능의 한 줄기 입니다.', '시퀀스 투 시퀀스의 등장 이후로 딥러닝을 활용한 자연어처리는 새로운 전기를 맞이하게 되었습니다.', '문장을 받아 단순히 수치로 나타내던 시절을 넘어, 원하는대로 문장을 만들어낼 수 있게 된 것입니다.']\n",
      "자연어처리는 인공지능의 한 줄기 입니다.\n",
      "시퀀스 투 시퀀스의 등장 이후로 딥러닝을 활용한 자연어처리는 새로운 전기를 맞이하게 되었습니다.\n",
      "문장을 받아 단순히 수치로 나타내던 시절을 넘어, 원하는대로 문장을 만들어낼 수 있게 된 것입니다.\n"
     ]
    }
   ],
   "metadata": {}
  },
  {
   "cell_type": "code",
   "execution_count": 43,
   "source": [
    "line = '자연어처리는 인공지능의 한 줄기 입니다. 시퀀스 투 시퀀스의 등장 이후로 딥러닝을 활용한 자연어처리는 새로운 전기를 맞이하게 되었습니다. 문장을 받아 단순히 수치로 나타내던 시절을 넘어, 원하는대로 문장을 만들어낼 수 있게 된 것입니다.'\r\n",
    "if __name__ == \"__main__\":\r\n",
    "    line = line.strip()\r\n",
    "\r\n",
    "    sentences = sent_tokenize(line)\r\n",
    "\r\n",
    "    for s in sentences:\r\n",
    "        if s != \"\":\r\n",
    "            sys.stdout.write(s + '\\n')\r\n",
    "        "
   ],
   "outputs": [
    {
     "output_type": "stream",
     "name": "stdout",
     "text": [
      "자연어처리는 인공지능의 한 줄기 입니다.\n",
      "시퀀스 투 시퀀스의 등장 이후로 딥러닝을 활용한 자연어처리는 새로운 전기를 맞이하게 되었습니다.\n",
      "문장을 받아 단순히 수치로 나타내던 시절을 넘어, 원하는대로 문장을 만들어낼 수 있게 된 것입니다.\n"
     ]
    }
   ],
   "metadata": {}
  },
  {
   "cell_type": "code",
   "execution_count": 55,
   "source": [
    "line = \"\"\"\r\n",
    "자연어처리는 인공지능의 한 줄기 입니다.\r\n",
    "시퀀스 투 시퀀스의 등장 이후로 딥러닝을 활용한 자연어처리는 새로운 전기를 맞이하게 되었습니다.\r\n",
    "문장을 받아 단순히 수치로 나타내던 시절을 넘어, 원하는대로 문장을 만들어낼 수 있게 된 것입니다.\r\n",
    "\"\"\"\r\n",
    "\r\n",
    "if __name__ == \"__main__\":\r\n",
    "    buf = []\r\n",
    "\r\n",
    "    if line.strip() != '':\r\n",
    "        buf += [line.strip()]\r\n",
    "        sentences = sent_tokenize(' '.join(buf))\r\n",
    "\r\n",
    "        if len(sentences) > 1 :\r\n",
    "            buf = sentences[-1:]\r\n",
    "\r\n",
    "            sys.stdout.write('\\n'.join(sentences[:-1]) + '\\n')\r\n",
    "\r\n",
    "    sys.stdout.write(' '.join(buf) + '\\n')"
   ],
   "outputs": [
    {
     "output_type": "stream",
     "name": "stdout",
     "text": [
      "자연어처리는 인공지능의 한 줄기 입니다.\n",
      "시퀀스 투 시퀀스의 등장 이후로 딥러닝을 활용한 자연어처리는 새로운 전기를 맞이하게 되었습니다.\n",
      "문장을 받아 단순히 수치로 나타내던 시절을 넘어, 원하는대로 문장을 만들어낼 수 있게 된 것입니다.\n"
     ]
    }
   ],
   "metadata": {}
  },
  {
   "cell_type": "code",
   "execution_count": null,
   "source": [],
   "outputs": [],
   "metadata": {}
  }
 ],
 "metadata": {
  "orig_nbformat": 4,
  "language_info": {
   "name": "python",
   "version": "3.8.5",
   "mimetype": "text/x-python",
   "codemirror_mode": {
    "name": "ipython",
    "version": 3
   },
   "pygments_lexer": "ipython3",
   "nbconvert_exporter": "python",
   "file_extension": ".py"
  },
  "kernelspec": {
   "name": "python3",
   "display_name": "Python 3.8.5 64-bit ('base': conda)"
  },
  "interpreter": {
   "hash": "96cf18f209edf6220e7043c3825950920f4c7ad96ff42ffae85e8b73f5a9541f"
  }
 },
 "nbformat": 4,
 "nbformat_minor": 2
}